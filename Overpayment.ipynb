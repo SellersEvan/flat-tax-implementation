{
 "cells": [
  {
   "cell_type": "markdown",
   "id": "fcd5f57c-aa30-40c0-aba8-bb29d9596050",
   "metadata": {},
   "source": [
    "# Overpayment\n",
    "Looking at the relationship between overpayments and amount credited next year. \\\n",
    "Work on by Luke McMahon"
   ]
  },
  {
   "cell_type": "code",
   "execution_count": 1,
   "id": "b25d1f20",
   "metadata": {},
   "outputs": [],
   "source": [
    "import pandas as pd\n",
    "import numpy as np\n",
    "import matplotlib.pyplot as plt"
   ]
  },
  {
   "cell_type": "code",
   "execution_count": 2,
   "id": "fa039403",
   "metadata": {},
   "outputs": [
    {
     "name": "stdout",
     "output_type": "stream",
     "text": [
      "(166452, 165)\n"
     ]
    },
    {
     "data": {
      "text/html": [
       "<div>\n",
       "<style scoped>\n",
       "    .dataframe tbody tr th:only-of-type {\n",
       "        vertical-align: middle;\n",
       "    }\n",
       "\n",
       "    .dataframe tbody tr th {\n",
       "        vertical-align: top;\n",
       "    }\n",
       "\n",
       "    .dataframe thead th {\n",
       "        text-align: right;\n",
       "    }\n",
       "</style>\n",
       "<table border=\"1\" class=\"dataframe\">\n",
       "  <thead>\n",
       "    <tr style=\"text-align: right;\">\n",
       "      <th></th>\n",
       "      <th>STATEFIPS</th>\n",
       "      <th>STATE</th>\n",
       "      <th>zipcode</th>\n",
       "      <th>agi_stub</th>\n",
       "      <th>N1</th>\n",
       "      <th>mars1</th>\n",
       "      <th>MARS2</th>\n",
       "      <th>MARS4</th>\n",
       "      <th>ELF</th>\n",
       "      <th>CPREP</th>\n",
       "      <th>...</th>\n",
       "      <th>N85300</th>\n",
       "      <th>A85300</th>\n",
       "      <th>N11901</th>\n",
       "      <th>A11901</th>\n",
       "      <th>N11900</th>\n",
       "      <th>A11900</th>\n",
       "      <th>N11902</th>\n",
       "      <th>A11902</th>\n",
       "      <th>N12000</th>\n",
       "      <th>A12000</th>\n",
       "    </tr>\n",
       "  </thead>\n",
       "  <tbody>\n",
       "    <tr>\n",
       "      <th>0</th>\n",
       "      <td>1</td>\n",
       "      <td>AL</td>\n",
       "      <td>0</td>\n",
       "      <td>1</td>\n",
       "      <td>785000.0</td>\n",
       "      <td>519980.0</td>\n",
       "      <td>85690.0</td>\n",
       "      <td>165290.0</td>\n",
       "      <td>724170.0</td>\n",
       "      <td>22560.0</td>\n",
       "      <td>...</td>\n",
       "      <td>0.0</td>\n",
       "      <td>0.0</td>\n",
       "      <td>57720.0</td>\n",
       "      <td>46577.0</td>\n",
       "      <td>674840.0</td>\n",
       "      <td>1827202.0</td>\n",
       "      <td>672200.0</td>\n",
       "      <td>1818867.0</td>\n",
       "      <td>2900.0</td>\n",
       "      <td>6089.0</td>\n",
       "    </tr>\n",
       "    <tr>\n",
       "      <th>1</th>\n",
       "      <td>1</td>\n",
       "      <td>AL</td>\n",
       "      <td>0</td>\n",
       "      <td>2</td>\n",
       "      <td>554310.0</td>\n",
       "      <td>270870.0</td>\n",
       "      <td>121420.0</td>\n",
       "      <td>146470.0</td>\n",
       "      <td>515150.0</td>\n",
       "      <td>13260.0</td>\n",
       "      <td>...</td>\n",
       "      <td>0.0</td>\n",
       "      <td>0.0</td>\n",
       "      <td>81770.0</td>\n",
       "      <td>112540.0</td>\n",
       "      <td>470410.0</td>\n",
       "      <td>1445383.0</td>\n",
       "      <td>466960.0</td>\n",
       "      <td>1432458.0</td>\n",
       "      <td>4660.0</td>\n",
       "      <td>11648.0</td>\n",
       "    </tr>\n",
       "    <tr>\n",
       "      <th>2</th>\n",
       "      <td>1</td>\n",
       "      <td>AL</td>\n",
       "      <td>0</td>\n",
       "      <td>3</td>\n",
       "      <td>290630.0</td>\n",
       "      <td>113280.0</td>\n",
       "      <td>124770.0</td>\n",
       "      <td>44570.0</td>\n",
       "      <td>269700.0</td>\n",
       "      <td>6420.0</td>\n",
       "      <td>...</td>\n",
       "      <td>0.0</td>\n",
       "      <td>0.0</td>\n",
       "      <td>70360.0</td>\n",
       "      <td>144380.0</td>\n",
       "      <td>220710.0</td>\n",
       "      <td>626662.0</td>\n",
       "      <td>216530.0</td>\n",
       "      <td>610170.0</td>\n",
       "      <td>5760.0</td>\n",
       "      <td>16235.0</td>\n",
       "    </tr>\n",
       "  </tbody>\n",
       "</table>\n",
       "<p>3 rows × 165 columns</p>\n",
       "</div>"
      ],
      "text/plain": [
       "   STATEFIPS STATE  zipcode  agi_stub        N1     mars1     MARS2     MARS4  \\\n",
       "0          1    AL        0         1  785000.0  519980.0   85690.0  165290.0   \n",
       "1          1    AL        0         2  554310.0  270870.0  121420.0  146470.0   \n",
       "2          1    AL        0         3  290630.0  113280.0  124770.0   44570.0   \n",
       "\n",
       "        ELF    CPREP  ...  N85300  A85300   N11901    A11901    N11900  \\\n",
       "0  724170.0  22560.0  ...     0.0     0.0  57720.0   46577.0  674840.0   \n",
       "1  515150.0  13260.0  ...     0.0     0.0  81770.0  112540.0  470410.0   \n",
       "2  269700.0   6420.0  ...     0.0     0.0  70360.0  144380.0  220710.0   \n",
       "\n",
       "      A11900    N11902     A11902  N12000   A12000  \n",
       "0  1827202.0  672200.0  1818867.0  2900.0   6089.0  \n",
       "1  1445383.0  466960.0  1432458.0  4660.0  11648.0  \n",
       "2   626662.0  216530.0   610170.0  5760.0  16235.0  \n",
       "\n",
       "[3 rows x 165 columns]"
      ]
     },
     "execution_count": 2,
     "metadata": {},
     "output_type": "execute_result"
    }
   ],
   "source": [
    "df = pd.read_csv(\"./data/tax_data_2020.csv\")\n",
    "print(df.shape)\n",
    "df.head(3)"
   ]
  },
  {
   "cell_type": "code",
   "execution_count": 3,
   "id": "0ac9ad9f",
   "metadata": {},
   "outputs": [
    {
     "name": "stdout",
     "output_type": "stream",
     "text": [
      "(166146, 165)\n"
     ]
    }
   ],
   "source": [
    "df = df[df.zipcode != 0]\n",
    "print(df.shape)"
   ]
  },
  {
   "cell_type": "markdown",
   "id": "0cf6f343",
   "metadata": {},
   "source": [
    "## Relationship between overpayments and amount credited to next year"
   ]
  },
  {
   "cell_type": "markdown",
   "id": "47641593",
   "metadata": {},
   "source": [
    "#### Is it the same?"
   ]
  },
  {
   "cell_type": "code",
   "execution_count": 4,
   "id": "b2620c5d",
   "metadata": {},
   "outputs": [],
   "source": [
    "df2 = pd.DataFrame()\n",
    "df2['overpayments'] = df.A11900\n",
    "df2['amount_returned'] = df.A11902\n",
    "df2['amount_credited'] = df.A12000"
   ]
  },
  {
   "cell_type": "code",
   "execution_count": 5,
   "id": "1158550c",
   "metadata": {},
   "outputs": [
    {
     "data": {
      "text/html": [
       "<div>\n",
       "<style scoped>\n",
       "    .dataframe tbody tr th:only-of-type {\n",
       "        vertical-align: middle;\n",
       "    }\n",
       "\n",
       "    .dataframe tbody tr th {\n",
       "        vertical-align: top;\n",
       "    }\n",
       "\n",
       "    .dataframe thead th {\n",
       "        text-align: right;\n",
       "    }\n",
       "</style>\n",
       "<table border=\"1\" class=\"dataframe\">\n",
       "  <thead>\n",
       "    <tr style=\"text-align: right;\">\n",
       "      <th></th>\n",
       "      <th>overpayments</th>\n",
       "      <th>amount_returned</th>\n",
       "      <th>amount_credited</th>\n",
       "      <th>percent_overpayment_accounted_for</th>\n",
       "    </tr>\n",
       "  </thead>\n",
       "  <tbody>\n",
       "    <tr>\n",
       "      <th>6</th>\n",
       "      <td>2807.0</td>\n",
       "      <td>2795.0</td>\n",
       "      <td>0.0</td>\n",
       "      <td>99.572497</td>\n",
       "    </tr>\n",
       "    <tr>\n",
       "      <th>7</th>\n",
       "      <td>3378.0</td>\n",
       "      <td>3335.0</td>\n",
       "      <td>62.0</td>\n",
       "      <td>100.562463</td>\n",
       "    </tr>\n",
       "    <tr>\n",
       "      <th>8</th>\n",
       "      <td>2131.0</td>\n",
       "      <td>2119.0</td>\n",
       "      <td>0.0</td>\n",
       "      <td>99.436884</td>\n",
       "    </tr>\n",
       "    <tr>\n",
       "      <th>9</th>\n",
       "      <td>1282.0</td>\n",
       "      <td>1276.0</td>\n",
       "      <td>0.0</td>\n",
       "      <td>99.531981</td>\n",
       "    </tr>\n",
       "    <tr>\n",
       "      <th>10</th>\n",
       "      <td>1967.0</td>\n",
       "      <td>1925.0</td>\n",
       "      <td>139.0</td>\n",
       "      <td>104.931368</td>\n",
       "    </tr>\n",
       "  </tbody>\n",
       "</table>\n",
       "</div>"
      ],
      "text/plain": [
       "    overpayments  amount_returned  amount_credited  \\\n",
       "6         2807.0           2795.0              0.0   \n",
       "7         3378.0           3335.0             62.0   \n",
       "8         2131.0           2119.0              0.0   \n",
       "9         1282.0           1276.0              0.0   \n",
       "10        1967.0           1925.0            139.0   \n",
       "\n",
       "    percent_overpayment_accounted_for  \n",
       "6                           99.572497  \n",
       "7                          100.562463  \n",
       "8                           99.436884  \n",
       "9                           99.531981  \n",
       "10                         104.931368  "
      ]
     },
     "execution_count": 5,
     "metadata": {},
     "output_type": "execute_result"
    }
   ],
   "source": [
    "df2['percent_overpayment_accounted_for'] = ((df.A11902+df.A12000)/df.A11900)*100\n",
    "df2.head(5)"
   ]
  },
  {
   "cell_type": "code",
   "execution_count": 6,
   "id": "267591c1",
   "metadata": {},
   "outputs": [
    {
     "data": {
      "text/plain": [
       "count    1.464170e+05\n",
       "mean              inf\n",
       "std               NaN\n",
       "min      0.000000e+00\n",
       "25%      9.746377e+01\n",
       "50%      9.979695e+01\n",
       "75%      1.000000e+02\n",
       "max               inf\n",
       "Name: percent_overpayment_accounted_for, dtype: float64"
      ]
     },
     "execution_count": 6,
     "metadata": {},
     "output_type": "execute_result"
    }
   ],
   "source": [
    "df2.percent_overpayment_accounted_for.describe()"
   ]
  },
  {
   "cell_type": "code",
   "execution_count": 7,
   "id": "21fc3abb",
   "metadata": {},
   "outputs": [
    {
     "data": {
      "text/plain": [
       "<AxesSubplot: ylabel='Density'>"
      ]
     },
     "execution_count": 7,
     "metadata": {},
     "output_type": "execute_result"
    },
    {
     "data": {
      "image/png": "[encoded data removed]",
      "text/plain": [
       "<Figure size 640x480 with 1 Axes>"
      ]
     },
     "metadata": {},
     "output_type": "display_data"
    }
   ],
   "source": [
    "df2.percent_overpayment_accounted_for.replace([np.inf, -np.inf], np.nan, inplace=True)\n",
    "df2.percent_overpayment_accounted_for.dropna(inplace=True)\n",
    "df2.percent_overpayment_accounted_for.plot.density()"
   ]
  },
  {
   "cell_type": "markdown",
   "id": "e9fb5835",
   "metadata": {},
   "source": [
    "Seems more or less like overpayments have been accurately returned/credited. Errors in these values is probably due to rounding error."
   ]
  },
  {
   "cell_type": "markdown",
   "id": "3da9285d",
   "metadata": {},
   "source": [
    "### A07225 Child and other dependent credit amount"
   ]
  },
  {
   "cell_type": "markdown",
   "id": "3d09d707",
   "metadata": {},
   "source": [
    "### Curious if this is a flat rate, or if it varies across state, income brackets, etc."
   ]
  },
  {
   "cell_type": "code",
   "execution_count": 8,
   "id": "37c3ceb3",
   "metadata": {},
   "outputs": [
    {
     "data": {
      "text/plain": [
       "agi_stub\n",
       "1     40.285812\n",
       "2    539.883833\n",
       "3    594.606074\n",
       "4    502.079062\n",
       "5    983.926500\n",
       "6    348.890333\n",
       "Name: A07225, dtype: float64"
      ]
     },
     "execution_count": 8,
     "metadata": {},
     "output_type": "execute_result"
    }
   ],
   "source": [
    "gp = df.groupby(['agi_stub'])['A07225'].mean()\n",
    "gp"
   ]
  },
  {
   "cell_type": "markdown",
   "id": "fd8021bf",
   "metadata": {},
   "source": [
    "Initially, looks like higher income people get more dependent credit. But this could also be that they have more dependents."
   ]
  },
  {
   "cell_type": "code",
   "execution_count": 9,
   "id": "6f4132ba",
   "metadata": {},
   "outputs": [
    {
     "data": {
      "text/plain": [
       "(-1000.0, 2000.0)"
      ]
     },
     "execution_count": 9,
     "metadata": {},
     "output_type": "execute_result"
    },
    {
     "data": {
      "image/png": "[encoded data removed]",
      "text/plain": [
       "<Figure size 640x480 with 1 Axes>"
      ]
     },
     "metadata": {},
     "output_type": "display_data"
    }
   ],
   "source": [
    "df.A07225.plot.density()\n",
    "plt.xlim(-1000,2000)"
   ]
  },
  {
   "cell_type": "code",
   "execution_count": 10,
   "id": "bf74ee8d",
   "metadata": {},
   "outputs": [
    {
     "data": {
      "text/plain": [
       "(0, 165)"
      ]
     },
     "execution_count": 10,
     "metadata": {},
     "output_type": "execute_result"
    }
   ],
   "source": [
    "df[df.A07225 < 0].shape"
   ]
  },
  {
   "cell_type": "markdown",
   "id": "cc1f3569",
   "metadata": {},
   "source": [
    "From density plot, it looks like there are possibly values below 0 for this column, which would not make sense. But it looks like that is just a function of the plot and there are actually no rows with this value below 0."
   ]
  },
  {
   "cell_type": "code",
   "execution_count": 11,
   "id": "ac50be09",
   "metadata": {},
   "outputs": [
    {
     "data": {
      "text/plain": [
       "STATE\n",
       "AK     661.621212\n",
       "AL     321.024510\n",
       "AR     230.885246\n",
       "AZ    1014.001131\n",
       "CA    1146.134615\n",
       "CO     655.961263\n",
       "CT     572.045627\n",
       "DC     809.195652\n",
       "DE     724.648810\n",
       "FL     805.378804\n",
       "GA     637.883960\n",
       "HI    1030.378531\n",
       "IA     187.699231\n",
       "ID     439.884496\n",
       "IL     445.576021\n",
       "IN     455.989396\n",
       "KS     238.636884\n",
       "KY     273.467911\n",
       "LA     379.885160\n",
       "MA     620.982675\n",
       "MD     698.188531\n",
       "ME     139.922764\n",
       "MI     465.617471\n",
       "MN     365.991983\n",
       "MO     289.855753\n",
       "MS     287.690917\n",
       "MT     204.046338\n",
       "NC     576.447974\n",
       "ND     143.390529\n",
       "NE     210.506303\n",
       "NH     265.356522\n",
       "NJ     754.358669\n",
       "NM     359.807115\n",
       "NV     982.612821\n",
       "NY     481.346446\n",
       "OH     498.274323\n",
       "OK     299.714591\n",
       "OR     481.271709\n",
       "PA     395.737611\n",
       "RI     614.502381\n",
       "SC     535.303979\n",
       "SD     152.754303\n",
       "TN     460.525663\n",
       "TX     797.323020\n",
       "UT    1086.304653\n",
       "VA     484.698232\n",
       "VT     105.536723\n",
       "WA     717.242000\n",
       "WI     372.481273\n",
       "WV     125.482283\n",
       "WY     266.820755\n",
       "Name: A07225, dtype: float64"
      ]
     },
     "execution_count": 11,
     "metadata": {},
     "output_type": "execute_result"
    }
   ],
   "source": [
    "gp = df.groupby(['STATE'])['A07225'].mean()\n",
    "gp"
   ]
  },
  {
   "cell_type": "code",
   "execution_count": 12,
   "id": "33313178",
   "metadata": {},
   "outputs": [
    {
     "data": {
      "text/plain": [
       "<AxesSubplot: xlabel='STATE', ylabel='Mean dependent credit amount'>"
      ]
     },
     "execution_count": 12,
     "metadata": {},
     "output_type": "execute_result"
    },
    {
     "data": {
      "image/png": "[encoded data removed]",
      "text/plain": [
       "<Figure size 1000x1000 with 1 Axes>"
      ]
     },
     "metadata": {},
     "output_type": "display_data"
    }
   ],
   "source": [
    "plt.figure(figsize=(10, 10))\n",
    "plt.xlabel('State')\n",
    "plt.ylabel('Mean dependent credit amount')\n",
    "gp.plot.bar()"
   ]
  },
  {
   "cell_type": "markdown",
   "id": "1462ee77",
   "metadata": {},
   "source": [
    "Seems to be a lot of variation by state, but again this is hard to tell whether this is caused by the average amounts of dependents on these returns or if there are different rates."
   ]
  },
  {
   "cell_type": "markdown",
   "id": "c88ea2d3",
   "metadata": {},
   "source": [
    "My guess would be that there are different rates by state that correlate to the cost of living, but there really is no way to check this without knowing how many dependents were claimed on each return. Since we do not have this information, this is probably a dead end "
   ]
  },
  {
   "cell_type": "markdown",
   "id": "5546de7d",
   "metadata": {},
   "source": [
    "### Charitable donation credits"
   ]
  },
  {
   "cell_type": "code",
   "execution_count": 13,
   "id": "03de689e",
   "metadata": {},
   "outputs": [
    {
     "data": {
      "text/plain": [
       "agi_stub\n",
       "1      38.177879\n",
       "2     180.994186\n",
       "3     300.388979\n",
       "4     321.716329\n",
       "5    1179.735183\n",
       "6    4221.661792\n",
       "Name: A19700, dtype: float64"
      ]
     },
     "execution_count": 13,
     "metadata": {},
     "output_type": "execute_result"
    }
   ],
   "source": [
    "df.groupby(['agi_stub'])['A19700'].mean()"
   ]
  },
  {
   "cell_type": "markdown",
   "id": "4bf8456c",
   "metadata": {},
   "source": [
    "Seems to be as expected, people with more money have more to give to charities and can get more credit for these donations"
   ]
  },
  {
   "cell_type": "code",
   "execution_count": null,
   "id": "35226ffa",
   "metadata": {},
   "outputs": [],
   "source": []
  }
 ],
 "metadata": {
  "kernelspec": {
   "display_name": "Python 3 (ipykernel)",
   "language": "python",
   "name": "python3"
  },
  "language_info": {
   "codemirror_mode": {
    "name": "ipython",
    "version": 3
   },
   "file_extension": ".py",
   "mimetype": "text/x-python",
   "name": "python",
   "nbconvert_exporter": "python",
   "pygments_lexer": "ipython3",
   "version": "3.9.15"
  }
 },
 "nbformat": 4,
 "nbformat_minor": 5
}
