{
 "cells": [
  {
   "cell_type": "markdown",
   "id": "48d582e9-989d-46be-84ae-dd6732eaa03d",
   "metadata": {},
   "source": [
    "# Tax Returns Credit Breakdown\n",
    "comming soon... Talk to Evan if you want to work on this. I will explain the concept to you. \\\n",
    "(Look at Rebuild Income Revenue Tax Credit, but do breakdown) \\\n",
    "(Also Update that chart with each type of tax)"
   ]
  },
  {
   "cell_type": "code",
   "execution_count": null,
   "id": "0e778d32-81d3-443b-ba39-5b6dc623be2e",
   "metadata": {},
   "outputs": [],
   "source": []
  }
 ],
 "metadata": {
  "kernelspec": {
   "display_name": "Python 3 (ipykernel)",
   "language": "python",
   "name": "python3"
  },
  "language_info": {
   "codemirror_mode": {
    "name": "ipython",
    "version": 3
   },
   "file_extension": ".py",
   "mimetype": "text/x-python",
   "name": "python",
   "nbconvert_exporter": "python",
   "pygments_lexer": "ipython3",
   "version": "3.9.15"
  }
 },
 "nbformat": 4,
 "nbformat_minor": 5
}
