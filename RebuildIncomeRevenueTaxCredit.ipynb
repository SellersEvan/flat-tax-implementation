{
 "cells": [
  {
   "cell_type": "markdown",
   "id": "b94d8a6f-4c1b-48a5-8264-1de2eb0d6e56",
   "metadata": {},
   "source": [
    "# Rebuild Income Revenue w/ Tax Credits\n",
    "Evan Sellers + Michael Yager\n",
    "\n",
    "So we previously calculated that there was `$1667 Billion` in tax revenue, but the US congress reported `$1609 Billion` in tax revenue. This is very close but off by a bit. We will be trying to recalculate this value using the tax credit values. \\\n",
    "[Revenues in Fiscal Year 2020](https://www.cbo.gov/system/files/2020-11/56746-MBR.pdf)"
   ]
  },
  {
   "cell_type": "code",
   "execution_count": 1,
   "id": "2a77a050-3c3e-49c1-8415-0d69bd23ccbf",
   "metadata": {},
   "outputs": [],
   "source": [
    "import pandas as pd\n",
    "import matplotlib.pyplot as plt\n",
    "import seaborn as sns"
   ]
  },
  {
   "cell_type": "code",
   "execution_count": 2,
   "id": "cd27da98-a176-4035-bd64-efad9baf964a",
   "metadata": {},
   "outputs": [],
   "source": [
    "df = pd.read_csv(\"./data/tax_data_2020.csv\")\n",
    "df = df[df.zipcode != 0]"
   ]
  },
  {
   "cell_type": "code",
   "execution_count": 3,
   "id": "02f9a9bb-62ca-4a1a-8036-ebfbe4d6596d",
   "metadata": {},
   "outputs": [],
   "source": [
    "def sumColumns(dataframe, columns):\n",
    "    total = 0\n",
    "    for col in columns:\n",
    "        total += abs(dataframe[col].sum())\n",
    "    return total"
   ]
  },
  {
   "cell_type": "code",
   "execution_count": 4,
   "id": "521944c2-ea4c-470f-aa68-f7baa660657c",
   "metadata": {},
   "outputs": [],
   "source": [
    "def toMillion(amount):\n",
    "    return round(amount / 1000000, 2)\n",
    "\n",
    "def toBillion(amount):\n",
    "    return round(amount / 1000000000, 2)\n",
    "\n",
    "def toTrillion(amount):\n",
    "    return round(amount / 1000000000000, 10)"
   ]
  },
  {
   "cell_type": "markdown",
   "id": "a5158e11-76eb-44b0-9607-ec216de4b277",
   "metadata": {},
   "source": [
    "## Types of Tax Credits\n",
    "A tax credit takes the amount off the total final tax bill, instead of deducting it from your taxable income.\n",
    "\n",
    "| Number Filed (Col) | Amount Filed (Col) | Form | Type of Return | Description |\n",
    "| --- | --- | --- | --- | --- |\n",
    "| `N07230` | `A07230` | Schedule 3 | Education | $2,500 per student, used toward course materials and tuition |\n",
    "| `N07240` | `A07240` | Schedule 3 | Retirement Savings Contribution | 20% of contributions to a qualifying retirement plans |\n",
    "| `N85770` | `A85770` | 8962 | Insurence Premium | Monthly insurance payment when enrolled in specific plans |\n",
    "| `N07180` | `A07180` | Schedule 3 | Child/Dependent Care | Children under 13, or dependents who are unable to take care of them self |\n",
    "| `N07225` | `A07225` | 1040 | w/ Child/Dependent | Having any child under 18 or dependent |\n",
    "| `N07300` | `A07300` | Schedule 3 | w/ Foreign Tax | Having any taxes imposed on you by a foreign country |\n",
    "| `N11070` | `A11070` | 1040 | w/ Additional Child | Having 3 or more children |\n",
    "| `N07260` | `A07260` | Schedule 3 | w/ Residential Energy | Energy efficiency improvements |\n",
    "| `N09400` | `A09400` | Schedule 3 | w/ Self-Employment | Being self-employed |\n",
    "| `N10960` | `A10960` | 1040 | w/ Refundable Education | Having to cover the cost of higher education |\n",
    "| `N11450` | `A11450` | Schedule 3 | w/ Sick/Family Leave | Having to take leave from job for sickness or family reasons |\n",
    "| `N10970` | `A10970` | 1040 | w/ Recovery Rebate | Anyone one with income less than \\$75K for 2021  |\n",
    "\n"
   ]
  },
  {
   "cell_type": "code",
   "execution_count": 6,
   "id": "cc9a3bec-37aa-41db-9344-503fbffb430b",
   "metadata": {},
   "outputs": [],
   "source": [
    "TAX_CREDIT_AMT_1040  = [ \"A07225\", \"A11070\", \"A10960\", \"A10970\" ]\n",
    "TAX_CREDIT_NUM_1040  = [ \"N07225\", \"N11070\", \"N10960\", \"N10970\" ]\n",
    "TAX_CREDIT_AMT_SCH3  = [ \"A07230\", \"A07240\", \"A07180\", \"A07300\", \"A07260\", \"A09400\", \"A11450\", \"A11560\" ]\n",
    "TAX_CREDIT_NUM_SCH3  = [ \"N07230\", \"N07240\", \"N07180\", \"N07300\", \"N07260\", \"N09400\", \"N11450\", \"N11560\" ]"
   ]
  },
  {
   "cell_type": "markdown",
   "id": "e8747368-6a7b-43dc-947f-db03e143da51",
   "metadata": {},
   "source": [
    "## Rebuilding Tax Revenue\n",
    "So we previously calculated that there was `$1667 Billion` in tax revenue, but the US congress reported `$1609 Billion` in tax revenue. This is very close but off by a bit."
   ]
  },
  {
   "cell_type": "code",
   "execution_count": 19,
   "id": "61faa0e8-f257-4847-814d-d64f21fde058",
   "metadata": {},
   "outputs": [
    {
     "name": "stdout",
     "output_type": "stream",
     "text": [
      "$ 1667.77 Billion\n"
     ]
    }
   ],
   "source": [
    "# Calculated Tax Revenue\n",
    "revenue = toBillion(df[\"A06500\"].sum() * 1000)\n",
    "print(\"$\", revenue, \"Billion\")"
   ]
  },
  {
   "cell_type": "code",
   "execution_count": 20,
   "id": "e85c0368-94b0-4db4-8502-eeb8d7c3bebe",
   "metadata": {},
   "outputs": [
    {
     "name": "stdout",
     "output_type": "stream",
     "text": [
      "$ 58.77 Billion\n"
     ]
    }
   ],
   "source": [
    "# Difference in Calculated Tax Revenue and Reported Tax Revenue\n",
    "print(\"$\", round(toBillion(df[\"A06500\"].sum() * 1000) - 1609, 2), \"Billion\")"
   ]
  },
  {
   "cell_type": "markdown",
   "id": "10e72bc2-ec30-4d64-8a62-e8ce00610ab4",
   "metadata": {},
   "source": [
    "The difference is about `$58.76 Billion`, which can be accounted here. Using the 1040 tax forms we are able to account for the difference. To solve for the difference we will be comparing the reported \"total\" numbers with our own totals."
   ]
  },
  {
   "cell_type": "markdown",
   "id": "2265ecef-3e9c-4190-9784-7f71f5191cd6",
   "metadata": {},
   "source": [
    "### Number Breakdown"
   ]
  },
  {
   "cell_type": "code",
   "execution_count": 51,
   "id": "41dd19c5-4673-49d0-91b0-daabf804e1e9",
   "metadata": {},
   "outputs": [
    {
     "name": "stdout",
     "output_type": "stream",
     "text": [
      "$ 160.76 Billion\n"
     ]
    }
   ],
   "source": [
    "# Calculated Credit Amount (1040)\n",
    "credit1040 = toBillion(sumColumns(df, TAX_CREDIT_AMT_1040) * 1000)\n",
    "print(\"$\", credit1040, \"Billion\")"
   ]
  },
  {
   "cell_type": "code",
   "execution_count": 52,
   "id": "966b2529-a422-46bf-a77d-b786c2f4ccbf",
   "metadata": {},
   "outputs": [
    {
     "name": "stdout",
     "output_type": "stream",
     "text": [
      "$ 94.04 Billion\n"
     ]
    }
   ],
   "source": [
    "# Calculated Credit Amount (Schedule 3)\n",
    "creditSch3 = toBillion(sumColumns(df, TAX_CREDIT_AMT_SCH3) * 1000)\n",
    "print(\"$\", creditSch3, \"Billion\")"
   ]
  },
  {
   "cell_type": "code",
   "execution_count": 53,
   "id": "c4b7b149-3ff8-40fa-be36-6ba97df98d10",
   "metadata": {},
   "outputs": [
    {
     "name": "stdout",
     "output_type": "stream",
     "text": [
      "$ 79.05 Billion\n"
     ]
    }
   ],
   "source": [
    "# Credit Refunded Next Year\n",
    "creditNextYear = toBillion(df[\"A12000\"].sum() * 1000)\n",
    "print(\"$\", creditNextYear, \"Billion\")"
   ]
  },
  {
   "cell_type": "code",
   "execution_count": 54,
   "id": "0b63a8a0-190d-49d0-a5c4-e9fa493bb6c7",
   "metadata": {},
   "outputs": [
    {
     "name": "stdout",
     "output_type": "stream",
     "text": [
      "$ 117.94 Billion\n"
     ]
    }
   ],
   "source": [
    "# Reported Credit Amount (1040)\n",
    "reportedCredit1040 = toBillion((df[\"A07100\"].sum()) * 1000)\n",
    "print(\"$\", reportedCredit1040, \"Billion\")"
   ]
  },
  {
   "cell_type": "markdown",
   "id": "35bbd640-78d6-451c-a21a-c11d886df41e",
   "metadata": {},
   "source": [
    "### Calculation\n",
    "Add the reported credit back into the revenue number we got. This gets us the expected revenue before subtracting credits."
   ]
  },
  {
   "cell_type": "code",
   "execution_count": 55,
   "id": "87500cbd-0ced-4ef2-bd8d-f8a4fb944d0e",
   "metadata": {},
   "outputs": [],
   "source": [
    "revenueBeforeCredits = revenue + reportedCredit1040"
   ]
  },
  {
   "cell_type": "markdown",
   "id": "3ce83f5f-1c80-48f5-9d97-55cdd17d10fd",
   "metadata": {},
   "source": [
    "Add our new calculated credit values for both 1040 and Schedule 3."
   ]
  },
  {
   "cell_type": "code",
   "execution_count": 56,
   "id": "50852a27-a47e-405b-ae5f-f6666364265e",
   "metadata": {},
   "outputs": [],
   "source": [
    "totalCredits = credit1040 + creditSch3"
   ]
  },
  {
   "cell_type": "markdown",
   "id": "31b0793c-78ce-4545-8ee3-7cfea6c77436",
   "metadata": {},
   "source": [
    "Finally we have to remember that some credit roll over into the next year and are not paided during this tax year. We will add that back in."
   ]
  },
  {
   "cell_type": "code",
   "execution_count": 57,
   "id": "560c9993-c539-4c51-90e4-0922133e7b0b",
   "metadata": {},
   "outputs": [],
   "source": [
    "totalCreditsThisYear = totalCredits - creditNextYear"
   ]
  },
  {
   "cell_type": "markdown",
   "id": "178b0b76-072c-4848-baf3-048019ac3ed3",
   "metadata": {},
   "source": [
    "We will then substract this credit amount from our calculated tax revenue amount."
   ]
  },
  {
   "cell_type": "code",
   "execution_count": 60,
   "id": "b248fd64-df23-40ca-97af-02a8943cd5d3",
   "metadata": {},
   "outputs": [],
   "source": [
    "revenueAdjusted = revenueBeforeCredits - totalCreditsThisYear"
   ]
  },
  {
   "cell_type": "code",
   "execution_count": 62,
   "id": "4de4f7f0-1fa8-4158-a45e-1956dfd10db8",
   "metadata": {},
   "outputs": [
    {
     "name": "stdout",
     "output_type": "stream",
     "text": [
      "$ 1609.96 Billion\n"
     ]
    }
   ],
   "source": [
    "print(\"$\", revenueAdjusted, \"Billion\")"
   ]
  },
  {
   "cell_type": "markdown",
   "id": "e6248b91-9f1f-4646-908b-e18eaaff64e1",
   "metadata": {},
   "source": [
    "This is the exact value we were looking for! I am unsure why \"income tax after credits amount\" does not take this into consideration. But we are able to rebuild the value properly and get the exact number reported by congress."
   ]
  },
  {
   "cell_type": "markdown",
   "id": "e8fc5647-d3d1-431f-9ffe-f12a99bde009",
   "metadata": {},
   "source": [
    "## Conclusion\n",
    "Unsure why but the revenue after tax credit reported in the data is off by about `$58 Billion`, but we were able to account for this difference. We did so by calculating total tax credits granted and using that to recalculate revenue after tax credit. In the end we were able to calculate a income revenue of `$ 1609.96 Billion` and congress reported `$1609 Billion`."
   ]
  }
 ],
 "metadata": {
  "kernelspec": {
   "display_name": "Python 3 (ipykernel)",
   "language": "python",
   "name": "python3"
  },
  "language_info": {
   "codemirror_mode": {
    "name": "ipython",
    "version": 3
   },
   "file_extension": ".py",
   "mimetype": "text/x-python",
   "name": "python",
   "nbconvert_exporter": "python",
   "pygments_lexer": "ipython3",
   "version": "3.9.15"
  }
 },
 "nbformat": 4,
 "nbformat_minor": 5
}
