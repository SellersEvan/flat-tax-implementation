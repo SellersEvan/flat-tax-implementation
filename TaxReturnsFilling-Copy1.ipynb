{
 "cells": [
  {
   "cell_type": "markdown",
   "id": "ac627144-dd3b-4002-bc24-988aad7967ec",
   "metadata": {},
   "source": [
    "# Tax Returns Overall\n",
    "Exploring the total returns filled and per tax bracket; and the amount of returns and per tax bracket. \\\n",
    "Work by Josh Mestemacher and Luke McMahon"
   ]
  },
  {
   "cell_type": "code",
   "execution_count": 2,
   "id": "96b3c537-385f-4e64-ba5d-d2cd8d978116",
   "metadata": {},
   "outputs": [
    {
     "data": {
      "text/html": [
       "<div>\n",
       "<style scoped>\n",
       "    .dataframe tbody tr th:only-of-type {\n",
       "        vertical-align: middle;\n",
       "    }\n",
       "\n",
       "    .dataframe tbody tr th {\n",
       "        vertical-align: top;\n",
       "    }\n",
       "\n",
       "    .dataframe thead th {\n",
       "        text-align: right;\n",
       "    }\n",
       "</style>\n",
       "<table border=\"1\" class=\"dataframe\">\n",
       "  <thead>\n",
       "    <tr style=\"text-align: right;\">\n",
       "      <th></th>\n",
       "      <th>STATEFIPS</th>\n",
       "      <th>STATE</th>\n",
       "      <th>zipcode</th>\n",
       "      <th>agi_stub</th>\n",
       "      <th>N1</th>\n",
       "      <th>mars1</th>\n",
       "      <th>MARS2</th>\n",
       "      <th>MARS4</th>\n",
       "      <th>ELF</th>\n",
       "      <th>CPREP</th>\n",
       "      <th>...</th>\n",
       "      <th>N85300</th>\n",
       "      <th>A85300</th>\n",
       "      <th>N11901</th>\n",
       "      <th>A11901</th>\n",
       "      <th>N11900</th>\n",
       "      <th>A11900</th>\n",
       "      <th>N11902</th>\n",
       "      <th>A11902</th>\n",
       "      <th>N12000</th>\n",
       "      <th>A12000</th>\n",
       "    </tr>\n",
       "  </thead>\n",
       "  <tbody>\n",
       "    <tr>\n",
       "      <th>0</th>\n",
       "      <td>1</td>\n",
       "      <td>AL</td>\n",
       "      <td>0</td>\n",
       "      <td>1</td>\n",
       "      <td>785000.0</td>\n",
       "      <td>519980.0</td>\n",
       "      <td>85690.0</td>\n",
       "      <td>165290.0</td>\n",
       "      <td>724170.0</td>\n",
       "      <td>22560.0</td>\n",
       "      <td>...</td>\n",
       "      <td>0.0</td>\n",
       "      <td>0.0</td>\n",
       "      <td>57720.0</td>\n",
       "      <td>46577.0</td>\n",
       "      <td>674840.0</td>\n",
       "      <td>1827202.0</td>\n",
       "      <td>672200.0</td>\n",
       "      <td>1818867.0</td>\n",
       "      <td>2900.0</td>\n",
       "      <td>6089.0</td>\n",
       "    </tr>\n",
       "    <tr>\n",
       "      <th>1</th>\n",
       "      <td>1</td>\n",
       "      <td>AL</td>\n",
       "      <td>0</td>\n",
       "      <td>2</td>\n",
       "      <td>554310.0</td>\n",
       "      <td>270870.0</td>\n",
       "      <td>121420.0</td>\n",
       "      <td>146470.0</td>\n",
       "      <td>515150.0</td>\n",
       "      <td>13260.0</td>\n",
       "      <td>...</td>\n",
       "      <td>0.0</td>\n",
       "      <td>0.0</td>\n",
       "      <td>81770.0</td>\n",
       "      <td>112540.0</td>\n",
       "      <td>470410.0</td>\n",
       "      <td>1445383.0</td>\n",
       "      <td>466960.0</td>\n",
       "      <td>1432458.0</td>\n",
       "      <td>4660.0</td>\n",
       "      <td>11648.0</td>\n",
       "    </tr>\n",
       "    <tr>\n",
       "      <th>2</th>\n",
       "      <td>1</td>\n",
       "      <td>AL</td>\n",
       "      <td>0</td>\n",
       "      <td>3</td>\n",
       "      <td>290630.0</td>\n",
       "      <td>113280.0</td>\n",
       "      <td>124770.0</td>\n",
       "      <td>44570.0</td>\n",
       "      <td>269700.0</td>\n",
       "      <td>6420.0</td>\n",
       "      <td>...</td>\n",
       "      <td>0.0</td>\n",
       "      <td>0.0</td>\n",
       "      <td>70360.0</td>\n",
       "      <td>144380.0</td>\n",
       "      <td>220710.0</td>\n",
       "      <td>626662.0</td>\n",
       "      <td>216530.0</td>\n",
       "      <td>610170.0</td>\n",
       "      <td>5760.0</td>\n",
       "      <td>16235.0</td>\n",
       "    </tr>\n",
       "    <tr>\n",
       "      <th>3</th>\n",
       "      <td>1</td>\n",
       "      <td>AL</td>\n",
       "      <td>0</td>\n",
       "      <td>4</td>\n",
       "      <td>181010.0</td>\n",
       "      <td>42010.0</td>\n",
       "      <td>120820.0</td>\n",
       "      <td>14410.0</td>\n",
       "      <td>168830.0</td>\n",
       "      <td>2570.0</td>\n",
       "      <td>...</td>\n",
       "      <td>0.0</td>\n",
       "      <td>0.0</td>\n",
       "      <td>49500.0</td>\n",
       "      <td>135429.0</td>\n",
       "      <td>130670.0</td>\n",
       "      <td>437179.0</td>\n",
       "      <td>126790.0</td>\n",
       "      <td>419324.0</td>\n",
       "      <td>3730.0</td>\n",
       "      <td>14903.0</td>\n",
       "    </tr>\n",
       "    <tr>\n",
       "      <th>4</th>\n",
       "      <td>1</td>\n",
       "      <td>AL</td>\n",
       "      <td>0</td>\n",
       "      <td>5</td>\n",
       "      <td>269080.0</td>\n",
       "      <td>31310.0</td>\n",
       "      <td>224330.0</td>\n",
       "      <td>8270.0</td>\n",
       "      <td>252360.0</td>\n",
       "      <td>3250.0</td>\n",
       "      <td>...</td>\n",
       "      <td>100.0</td>\n",
       "      <td>20.0</td>\n",
       "      <td>103250.0</td>\n",
       "      <td>470206.0</td>\n",
       "      <td>165650.0</td>\n",
       "      <td>724529.0</td>\n",
       "      <td>156910.0</td>\n",
       "      <td>642895.0</td>\n",
       "      <td>11280.0</td>\n",
       "      <td>80064.0</td>\n",
       "    </tr>\n",
       "    <tr>\n",
       "      <th>5</th>\n",
       "      <td>1</td>\n",
       "      <td>AL</td>\n",
       "      <td>0</td>\n",
       "      <td>6</td>\n",
       "      <td>81340.0</td>\n",
       "      <td>5000.0</td>\n",
       "      <td>72270.0</td>\n",
       "      <td>630.0</td>\n",
       "      <td>76810.0</td>\n",
       "      <td>230.0</td>\n",
       "      <td>...</td>\n",
       "      <td>41750.0</td>\n",
       "      <td>164094.0</td>\n",
       "      <td>43960.0</td>\n",
       "      <td>1216690.0</td>\n",
       "      <td>34560.0</td>\n",
       "      <td>735671.0</td>\n",
       "      <td>24770.0</td>\n",
       "      <td>285560.0</td>\n",
       "      <td>9630.0</td>\n",
       "      <td>391783.0</td>\n",
       "    </tr>\n",
       "    <tr>\n",
       "      <th>6</th>\n",
       "      <td>1</td>\n",
       "      <td>AL</td>\n",
       "      <td>35004</td>\n",
       "      <td>1</td>\n",
       "      <td>1460.0</td>\n",
       "      <td>1010.0</td>\n",
       "      <td>200.0</td>\n",
       "      <td>210.0</td>\n",
       "      <td>1340.0</td>\n",
       "      <td>40.0</td>\n",
       "      <td>...</td>\n",
       "      <td>0.0</td>\n",
       "      <td>0.0</td>\n",
       "      <td>110.0</td>\n",
       "      <td>80.0</td>\n",
       "      <td>1210.0</td>\n",
       "      <td>2807.0</td>\n",
       "      <td>1210.0</td>\n",
       "      <td>2795.0</td>\n",
       "      <td>0.0</td>\n",
       "      <td>0.0</td>\n",
       "    </tr>\n",
       "    <tr>\n",
       "      <th>7</th>\n",
       "      <td>1</td>\n",
       "      <td>AL</td>\n",
       "      <td>35004</td>\n",
       "      <td>2</td>\n",
       "      <td>1400.0</td>\n",
       "      <td>760.0</td>\n",
       "      <td>280.0</td>\n",
       "      <td>310.0</td>\n",
       "      <td>1310.0</td>\n",
       "      <td>40.0</td>\n",
       "      <td>...</td>\n",
       "      <td>0.0</td>\n",
       "      <td>0.0</td>\n",
       "      <td>190.0</td>\n",
       "      <td>194.0</td>\n",
       "      <td>1210.0</td>\n",
       "      <td>3378.0</td>\n",
       "      <td>1200.0</td>\n",
       "      <td>3335.0</td>\n",
       "      <td>30.0</td>\n",
       "      <td>62.0</td>\n",
       "    </tr>\n",
       "    <tr>\n",
       "      <th>8</th>\n",
       "      <td>1</td>\n",
       "      <td>AL</td>\n",
       "      <td>35004</td>\n",
       "      <td>3</td>\n",
       "      <td>1020.0</td>\n",
       "      <td>460.0</td>\n",
       "      <td>350.0</td>\n",
       "      <td>190.0</td>\n",
       "      <td>970.0</td>\n",
       "      <td>30.0</td>\n",
       "      <td>...</td>\n",
       "      <td>0.0</td>\n",
       "      <td>0.0</td>\n",
       "      <td>230.0</td>\n",
       "      <td>357.0</td>\n",
       "      <td>800.0</td>\n",
       "      <td>2131.0</td>\n",
       "      <td>790.0</td>\n",
       "      <td>2119.0</td>\n",
       "      <td>0.0</td>\n",
       "      <td>0.0</td>\n",
       "    </tr>\n",
       "    <tr>\n",
       "      <th>9</th>\n",
       "      <td>1</td>\n",
       "      <td>AL</td>\n",
       "      <td>35004</td>\n",
       "      <td>4</td>\n",
       "      <td>630.0</td>\n",
       "      <td>140.0</td>\n",
       "      <td>420.0</td>\n",
       "      <td>60.0</td>\n",
       "      <td>590.0</td>\n",
       "      <td>0.0</td>\n",
       "      <td>...</td>\n",
       "      <td>0.0</td>\n",
       "      <td>0.0</td>\n",
       "      <td>180.0</td>\n",
       "      <td>386.0</td>\n",
       "      <td>450.0</td>\n",
       "      <td>1282.0</td>\n",
       "      <td>440.0</td>\n",
       "      <td>1276.0</td>\n",
       "      <td>0.0</td>\n",
       "      <td>0.0</td>\n",
       "    </tr>\n",
       "  </tbody>\n",
       "</table>\n",
       "<p>10 rows × 165 columns</p>\n",
       "</div>"
      ],
      "text/plain": [
       "   STATEFIPS STATE  zipcode  agi_stub        N1     mars1     MARS2     MARS4  \\\n",
       "0          1    AL        0         1  785000.0  519980.0   85690.0  165290.0   \n",
       "1          1    AL        0         2  554310.0  270870.0  121420.0  146470.0   \n",
       "2          1    AL        0         3  290630.0  113280.0  124770.0   44570.0   \n",
       "3          1    AL        0         4  181010.0   42010.0  120820.0   14410.0   \n",
       "4          1    AL        0         5  269080.0   31310.0  224330.0    8270.0   \n",
       "5          1    AL        0         6   81340.0    5000.0   72270.0     630.0   \n",
       "6          1    AL    35004         1    1460.0    1010.0     200.0     210.0   \n",
       "7          1    AL    35004         2    1400.0     760.0     280.0     310.0   \n",
       "8          1    AL    35004         3    1020.0     460.0     350.0     190.0   \n",
       "9          1    AL    35004         4     630.0     140.0     420.0      60.0   \n",
       "\n",
       "        ELF    CPREP  ...   N85300    A85300    N11901     A11901    N11900  \\\n",
       "0  724170.0  22560.0  ...      0.0       0.0   57720.0    46577.0  674840.0   \n",
       "1  515150.0  13260.0  ...      0.0       0.0   81770.0   112540.0  470410.0   \n",
       "2  269700.0   6420.0  ...      0.0       0.0   70360.0   144380.0  220710.0   \n",
       "3  168830.0   2570.0  ...      0.0       0.0   49500.0   135429.0  130670.0   \n",
       "4  252360.0   3250.0  ...    100.0      20.0  103250.0   470206.0  165650.0   \n",
       "5   76810.0    230.0  ...  41750.0  164094.0   43960.0  1216690.0   34560.0   \n",
       "6    1340.0     40.0  ...      0.0       0.0     110.0       80.0    1210.0   \n",
       "7    1310.0     40.0  ...      0.0       0.0     190.0      194.0    1210.0   \n",
       "8     970.0     30.0  ...      0.0       0.0     230.0      357.0     800.0   \n",
       "9     590.0      0.0  ...      0.0       0.0     180.0      386.0     450.0   \n",
       "\n",
       "      A11900    N11902     A11902   N12000    A12000  \n",
       "0  1827202.0  672200.0  1818867.0   2900.0    6089.0  \n",
       "1  1445383.0  466960.0  1432458.0   4660.0   11648.0  \n",
       "2   626662.0  216530.0   610170.0   5760.0   16235.0  \n",
       "3   437179.0  126790.0   419324.0   3730.0   14903.0  \n",
       "4   724529.0  156910.0   642895.0  11280.0   80064.0  \n",
       "5   735671.0   24770.0   285560.0   9630.0  391783.0  \n",
       "6     2807.0    1210.0     2795.0      0.0       0.0  \n",
       "7     3378.0    1200.0     3335.0     30.0      62.0  \n",
       "8     2131.0     790.0     2119.0      0.0       0.0  \n",
       "9     1282.0     440.0     1276.0      0.0       0.0  \n",
       "\n",
       "[10 rows x 165 columns]"
      ]
     },
     "execution_count": 2,
     "metadata": {},
     "output_type": "execute_result"
    }
   ],
   "source": [
    "import pandas as pd\n",
    "import matplotlib.pyplot as plt\n",
    "df = pd.read_csv(\"./data/tax_data_2020.csv\")\n",
    "df.head(10)"
   ]
  },
  {
   "cell_type": "code",
   "execution_count": 3,
   "id": "09f8903e-e7e0-4006-a098-017c9533f4b6",
   "metadata": {},
   "outputs": [],
   "source": [
    "df = df[df.zipcode!=0]"
   ]
  },
  {
   "cell_type": "markdown",
   "id": "41cc1bfe-40c7-4e5f-a040-0e4bbe408c52",
   "metadata": {},
   "source": [
    "## Total Returns Filed"
   ]
  },
  {
   "cell_type": "code",
   "execution_count": 4,
   "id": "dfb54d81-5251-456a-8036-b594c0bf2df4",
   "metadata": {},
   "outputs": [
    {
     "data": {
      "text/plain": [
       "157926400.0"
      ]
     },
     "execution_count": 4,
     "metadata": {},
     "output_type": "execute_result"
    }
   ],
   "source": [
    "#let's explore the total number of returns filed\n",
    "df['N1'].sum()"
   ]
  },
  {
   "cell_type": "code",
   "execution_count": 5,
   "id": "2de01157-be08-4d8a-8e1f-f5936a951c56",
   "metadata": {},
   "outputs": [
    {
     "data": {
      "text/plain": [
       "950.5278490002769"
      ]
     },
     "execution_count": 5,
     "metadata": {},
     "output_type": "execute_result"
    }
   ],
   "source": [
    "df['N1'].mean()"
   ]
  },
  {
   "cell_type": "code",
   "execution_count": 6,
   "id": "c5251085-cabe-4414-b8e9-611d8b57176e",
   "metadata": {},
   "outputs": [
    {
     "data": {
      "text/plain": [
       "270.0"
      ]
     },
     "execution_count": 6,
     "metadata": {},
     "output_type": "execute_result"
    }
   ],
   "source": [
    "df['N1'].median()"
   ]
  },
  {
   "cell_type": "markdown",
   "id": "f95e231e-bb80-4b1d-8d50-745aa0896c62",
   "metadata": {},
   "source": [
    "The mean number of returns filed and the median number of returns filed for each data record definitely vary by a noticable magnitude. Hence it seems that the data is skewed for the number of returns. This is not a suprising result as we have seen elsewhere that the data is skewed overall. It seems that overall people file a lot of returns for each data record in the data set. I was not expecting such a large amount of returns overall for each data record. This is definitely a surprising result to me."
   ]
  },
  {
   "cell_type": "markdown",
   "id": "4cac781f-82e3-498f-acee-37e61f41f254",
   "metadata": {},
   "source": [
    "Let's now explore the number of returns for different tax brackets."
   ]
  },
  {
   "cell_type": "markdown",
   "id": "38fee220-800f-402b-80ff-30181cc0ef32",
   "metadata": {},
   "source": [
    "## Total Number of Returns Filed for Different Tax Brackets"
   ]
  },
  {
   "cell_type": "code",
   "execution_count": 7,
   "id": "71108a36-c47d-424b-908e-1f15edae3a41",
   "metadata": {},
   "outputs": [],
   "source": [
    "brackets = df.groupby('agi_stub')"
   ]
  },
  {
   "cell_type": "code",
   "execution_count": 8,
   "id": "5c15c72a-beb0-40f4-9a70-89130b5501e5",
   "metadata": {},
   "outputs": [
    {
     "data": {
      "text/plain": [
       "agi_stub\n",
       "1    50434370.0\n",
       "2    38987940.0\n",
       "3    22584830.0\n",
       "4    14269770.0\n",
       "5    22379400.0\n",
       "6     9270090.0\n",
       "Name: N1, dtype: float64"
      ]
     },
     "execution_count": 8,
     "metadata": {},
     "output_type": "execute_result"
    }
   ],
   "source": [
    "bracketsReturns = brackets['N1'].sum()\n",
    "bracketsReturns"
   ]
  },
  {
   "cell_type": "code",
   "execution_count": 9,
   "id": "04619c72-9f0b-4427-bb28-a97211d65780",
   "metadata": {},
   "outputs": [
    {
     "data": {
      "text/plain": [
       "Text(0, 0.5, 'Total Number of Returns Filed')"
      ]
     },
     "execution_count": 9,
     "metadata": {},
     "output_type": "execute_result"
    },
    {
     "data": {
      "image/png": "[encoded data removed]",
      "text/plain": [
       "<Figure size 640x480 with 1 Axes>"
      ]
     },
     "metadata": {},
     "output_type": "display_data"
    }
   ],
   "source": [
    "bracketsReturns = bracketsReturns.rename(index={1:'<25k', 2:'[25k, 50k)', 3:'[50k, 75k)', 4:'[75k, 100k)', 5:'[100k, 200k)', 6:'>200k'})\n",
    "bracketsReturns.plot.bar()\n",
    "plt.xlabel('Income Bracket')\n",
    "plt.ylabel('Total Number of Returns Filed')"
   ]
  },
  {
   "cell_type": "markdown",
   "id": "23b0799d-ba99-46aa-964e-103baf241e74",
   "metadata": {},
   "source": [
    "It seems that very poor people file the largest amount of returns total overall, and that very rich people file the least amount of returns total overall. One possible reason this could be is that very poor people are not very good at filing tax returns and so end up having to file up a lot of future tax returns and that very rich people are very good at filing tax returns and so end up having to file a very small amount of tax returns. I will note that this is total speculation and that I could be very wrong about this."
   ]
  },
  {
   "cell_type": "code",
   "execution_count": 10,
   "id": "e9dadf5f-c1ca-47b5-a3cb-66cbd903131d",
   "metadata": {},
   "outputs": [
    {
     "data": {
      "text/plain": [
       "agi_stub\n",
       "<25k            50434370.0\n",
       "[25k, 50k)      38987940.0\n",
       "[50k, 75k)      22584830.0\n",
       "[75k, 100k)     14269770.0\n",
       "[100k, 200k)    22379400.0\n",
       ">200k            9270090.0\n",
       "Name: N1, dtype: float64"
      ]
     },
     "execution_count": 10,
     "metadata": {},
     "output_type": "execute_result"
    }
   ],
   "source": [
    "bracketsReturnsMean = brackets['N1'].mean()\n",
    "bracketsReturnsMean = bracketsReturns.rename(index={1:'<25k', 2:'[25k, 50k)', 3:'[50k, 75k)', 4:'[75k, 100k)', 5:'[100k, 200k)', 6:'>200k'})\n",
    "bracketsReturnsMean"
   ]
  },
  {
   "cell_type": "code",
   "execution_count": 11,
   "id": "9d4b32ff-d12c-497f-a1f7-75ac1d523b57",
   "metadata": {},
   "outputs": [
    {
     "data": {
      "text/plain": [
       "Text(0, 0.5, 'Mean Number of Returns Filed')"
      ]
     },
     "execution_count": 11,
     "metadata": {},
     "output_type": "execute_result"
    },
    {
     "data": {
      "image/png": "[encoded data removed]",
      "text/plain": [
       "<Figure size 640x480 with 1 Axes>"
      ]
     },
     "metadata": {},
     "output_type": "display_data"
    }
   ],
   "source": [
    "bracketsReturnsMean.plot.bar()\n",
    "plt.xlabel('Income Bracket')\n",
    "plt.ylabel('Mean Number of Returns Filed')"
   ]
  },
  {
   "cell_type": "markdown",
   "id": "156c6d8b-b42b-4586-8453-280d09b0de6b",
   "metadata": {},
   "source": [
    "The same story seems to apply for the mean number of returns filed for each tax bracket."
   ]
  },
  {
   "cell_type": "code",
   "execution_count": 12,
   "id": "70910620-6206-4863-a3f1-c6a0263d1bf3",
   "metadata": {},
   "outputs": [
    {
     "data": {
      "text/plain": [
       "agi_stub\n",
       "<25k            640.0\n",
       "[25k, 50k)      490.0\n",
       "[50k, 75k)      300.0\n",
       "[75k, 100k)     190.0\n",
       "[100k, 200k)    240.0\n",
       ">200k            50.0\n",
       "Name: N1, dtype: float64"
      ]
     },
     "execution_count": 12,
     "metadata": {},
     "output_type": "execute_result"
    }
   ],
   "source": [
    "bracketsReturnsMedian = brackets['N1'].median()\n",
    "bracketsReturnsMedian = bracketsReturnsMedian.rename(index={1:'<25k', 2:'[25k, 50k)', 3:'[50k, 75k)', 4:'[75k, 100k)', 5:'[100k, 200k)', 6:'>200k'})\n",
    "bracketsReturnsMedian"
   ]
  },
  {
   "cell_type": "code",
   "execution_count": 13,
   "id": "956299f5-3809-47b8-8152-195c462b9fbe",
   "metadata": {},
   "outputs": [
    {
     "data": {
      "text/plain": [
       "Text(0, 0.5, 'Median Number of Returns Filed')"
      ]
     },
     "execution_count": 13,
     "metadata": {},
     "output_type": "execute_result"
    },
    {
     "data": {
      "image/png": "[encoded data removed]",
      "text/plain": [
       "<Figure size 640x480 with 1 Axes>"
      ]
     },
     "metadata": {},
     "output_type": "display_data"
    }
   ],
   "source": [
    "bracketsReturnsMedian.plot.bar()\n",
    "plt.xlabel('Income Bracket')\n",
    "plt.ylabel('Median Number of Returns Filed')"
   ]
  },
  {
   "cell_type": "markdown",
   "id": "ad027a1f-c702-467a-8a6a-0909689a6c62",
   "metadata": {},
   "source": [
    "The same story seems to apply yet once more to median number of tax returns filed for each tax bracket. I will note that the magnitudes of median number of tax returns filed and mean number of tax returns filed definitely differ overall across tax brackets. This matches our finding earlier that the data is skewed for number of tax returns filed."
   ]
  },
  {
   "cell_type": "markdown",
   "id": "26721a30-65d2-4621-9dee-995badcbdcdc",
   "metadata": {},
   "source": [
    "I will now explore total number of returns filed for each state."
   ]
  },
  {
   "cell_type": "markdown",
   "id": "7bdc0dcc-8cf6-4e8a-a2a6-85bf0f427b89",
   "metadata": {},
   "source": [
    "## Total Number of Returns Filed for Different States"
   ]
  },
  {
   "cell_type": "code",
   "execution_count": 14,
   "id": "db0964d4-cd94-4217-88af-2e0afc1142df",
   "metadata": {},
   "outputs": [],
   "source": [
    "states = df.groupby('STATE')"
   ]
  },
  {
   "cell_type": "code",
   "execution_count": 15,
   "id": "a3ed44f1-f9b5-479a-bacf-95b03aa233cc",
   "metadata": {},
   "outputs": [
    {
     "data": {
      "text/plain": [
       "STATE\n",
       "AK      350020.0\n",
       "AL     2162740.0\n",
       "AR     1295320.0\n",
       "AZ     3323210.0\n",
       "CA    18882640.0\n",
       "CO     2851670.0\n",
       "CT     1806830.0\n",
       "DC      341400.0\n",
       "DE      497120.0\n",
       "FL    10802830.0\n",
       "GA     4899980.0\n",
       "HI      680970.0\n",
       "IA     1489040.0\n",
       "ID      840830.0\n",
       "IL     6118340.0\n",
       "IN     3237870.0\n",
       "KS     1364870.0\n",
       "KY     1993180.0\n",
       "LA     1997930.0\n",
       "MA     3564990.0\n",
       "MD     3056070.0\n",
       "ME      693080.0\n",
       "MI     4895520.0\n",
       "MN     2821940.0\n",
       "MO     2904440.0\n",
       "MS     1269740.0\n",
       "MT      531640.0\n",
       "NC     4909160.0\n",
       "ND      363220.0\n",
       "NE      921340.0\n",
       "NH      728090.0\n",
       "NJ     4584780.0\n",
       "NM      951010.0\n",
       "NV     1539500.0\n",
       "NY     9863060.0\n",
       "OH     5733480.0\n",
       "OK     1704500.0\n",
       "OR     2014240.0\n",
       "PA     6377080.0\n",
       "RI      561280.0\n",
       "SC     2431130.0\n",
       "SD      428510.0\n",
       "TN     3230910.0\n",
       "TX    13281750.0\n",
       "UT     1458000.0\n",
       "VA     4129400.0\n",
       "VT      334410.0\n",
       "WA     3730890.0\n",
       "WI     2918810.0\n",
       "WV      780760.0\n",
       "WY      276880.0\n",
       "Name: N1, dtype: float64"
      ]
     },
     "execution_count": 15,
     "metadata": {},
     "output_type": "execute_result"
    }
   ],
   "source": [
    "statesReturns = states['N1'].sum()\n",
    "statesReturns"
   ]
  },
  {
   "cell_type": "code",
   "execution_count": 16,
   "id": "f696474f-145c-4702-9a36-c891c3c1bdd3",
   "metadata": {},
   "outputs": [
    {
     "data": {
      "text/plain": [
       "<AxesSubplot: xlabel='STATE'>"
      ]
     },
     "execution_count": 16,
     "metadata": {},
     "output_type": "execute_result"
    },
    {
     "data": {
      "image/png": "[encoded data removed]",
      "text/plain": [
       "<Figure size 640x480 with 1 Axes>"
      ]
     },
     "metadata": {},
     "output_type": "display_data"
    }
   ],
   "source": [
    "statesReturns.plot.bar()"
   ]
  },
  {
   "cell_type": "markdown",
   "id": "340ef3d0-c995-4969-a7ec-28bdfe18b0ff",
   "metadata": {},
   "source": [
    "It seems that California, Florida, and Texas are the 3 states with the largest total number of tax returns filed. I do not know why this is. Perhaps future exploration could be done on this if time permits."
   ]
  },
  {
   "cell_type": "markdown",
   "id": "3fddaf50-2fad-489a-be4b-949bbba29b9b",
   "metadata": {},
   "source": [
    "Note: Now we know this makes a lot of sense considering the population of each of these states. there are 40 million people in California, 29 million people in Texas, and 22 million in Florida, and these rankings correlate reasonably with the population."
   ]
  },
  {
   "cell_type": "markdown",
   "id": "c25e6460-acf0-4f6d-92ef-76b90300b298",
   "metadata": {},
   "source": [
    "## Total returns amount (in general and by state)"
   ]
  },
  {
   "cell_type": "code",
   "execution_count": 17,
   "id": "3ae0ea10-a790-4818-a25e-42d1d36c4419",
   "metadata": {},
   "outputs": [
    {
     "data": {
      "text/plain": [
       "1667769483.0"
      ]
     },
     "execution_count": 17,
     "metadata": {},
     "output_type": "execute_result"
    }
   ],
   "source": [
    "df['A06500'].sum()"
   ]
  },
  {
   "cell_type": "markdown",
   "id": "e69bc6a1-f8bc-4f09-9093-801997589f31",
   "metadata": {},
   "source": [
    "Income tax after credits amount is found to be 1.7 trillion in general"
   ]
  },
  {
   "cell_type": "code",
   "execution_count": 19,
   "id": "39f9b3f2-178e-427c-b725-5a2464356190",
   "metadata": {},
   "outputs": [
    {
     "data": {
      "text/plain": [
       "2014412697.0"
      ]
     },
     "execution_count": 19,
     "metadata": {},
     "output_type": "execute_result"
    }
   ],
   "source": [
    "df['A10600'].sum()"
   ]
  },
  {
   "cell_type": "markdown",
   "id": "f588db22-07d6-4cba-9ae2-e2384264898b",
   "metadata": {},
   "source": [
    "Total tax payments amount is found to be 2 trillion in general"
   ]
  },
  {
   "cell_type": "code",
   "execution_count": 20,
   "id": "b857f2ca-fbbd-4238-b448-a598a584bca7",
   "metadata": {},
   "outputs": [
    {
     "name": "stdout",
     "output_type": "stream",
     "text": [
      "346643214.0\n"
     ]
    },
    {
     "data": {
      "text/plain": [
       "0.17208152754211914"
      ]
     },
     "execution_count": 20,
     "metadata": {},
     "output_type": "execute_result"
    }
   ],
   "source": [
    "print((df['A10600'].sum() - df['A06500'].sum()))\n",
    "(df['A10600'].sum() - df['A06500'].sum())/df['A10600'].sum()"
   ]
  },
  {
   "cell_type": "markdown",
   "id": "21af8f9b-9de6-478e-9157-b88e2e078c0d",
   "metadata": {},
   "source": [
    "346 billion is the amount differing between the total tax payments amount and income tax after credits amount, which means that there is a 17.2% decrease in tax payments amounts due to credits."
   ]
  },
  {
   "cell_type": "markdown",
   "id": "088902e6-926f-4060-8954-74017e162797",
   "metadata": {},
   "source": [
    "We can continue a look into this by looking at the state level"
   ]
  },
  {
   "cell_type": "code",
   "execution_count": 21,
   "id": "7a80ce30-9c52-4cdd-9c5b-e2d9b4d207d6",
   "metadata": {},
   "outputs": [
    {
     "data": {
      "text/plain": [
       "STATE\n",
       "AK      3937727.0\n",
       "AL     19469635.0\n",
       "AR     11700369.0\n",
       "AZ     35452165.0\n",
       "CA    304325196.0\n",
       "CO     39371224.0\n",
       "CT     35459662.0\n",
       "DC      7853119.0\n",
       "DE      5346319.0\n",
       "FL    152537975.0\n",
       "GA     52162831.0\n",
       "HI      6839919.0\n",
       "IA     14155465.0\n",
       "ID      8051254.0\n",
       "IL     82531016.0\n",
       "IN     29731860.0\n",
       "KS     14055933.0\n",
       "KY     17049114.0\n",
       "LA     18295747.0\n",
       "MA     65938573.0\n",
       "MD     41730147.0\n",
       "ME      6305721.0\n",
       "MI     50240519.0\n",
       "MN     33364592.0\n",
       "MO     28719838.0\n",
       "MS      9523507.0\n",
       "MT      4992509.0\n",
       "NC     49801587.0\n",
       "ND      3847528.0\n",
       "NE      9169192.0\n",
       "NH      9859181.0\n",
       "NJ     73989126.0\n",
       "NM      7743269.0\n",
       "NV     19534628.0\n",
       "NY    165326471.0\n",
       "OH     55931212.0\n",
       "OK     15057454.0\n",
       "OR     21325391.0\n",
       "PA     73858434.0\n",
       "RI      6323460.0\n",
       "SC     21999948.0\n",
       "SD      4362477.0\n",
       "TN     33828578.0\n",
       "TX    169620837.0\n",
       "UT     16519960.0\n",
       "VA     55297775.0\n",
       "VT      3227915.0\n",
       "WA     58881716.0\n",
       "WI     29370083.0\n",
       "WV      6005552.0\n",
       "WY      4388987.0\n",
       "Name: A10600, dtype: float64"
      ]
     },
     "execution_count": 21,
     "metadata": {},
     "output_type": "execute_result"
    }
   ],
   "source": [
    "total_tax = states['A10600'].sum()\n",
    "total_tax"
   ]
  },
  {
   "cell_type": "code",
   "execution_count": 22,
   "id": "88f53043-569d-41f4-a1bd-a82b88117fd0",
   "metadata": {},
   "outputs": [
    {
     "data": {
      "text/plain": [
       "<AxesSubplot: xlabel='STATE'>"
      ]
     },
     "execution_count": 22,
     "metadata": {},
     "output_type": "execute_result"
    },
    {
     "data": {
      "image/png": "[encoded data removed]",
      "text/plain": [
       "<Figure size 640x480 with 1 Axes>"
      ]
     },
     "metadata": {},
     "output_type": "display_data"
    }
   ],
   "source": [
    "total_tax.plot.bar()"
   ]
  },
  {
   "cell_type": "markdown",
   "id": "d4444ed0-7e67-4cad-ba19-69d18f411cc4",
   "metadata": {},
   "source": [
    "We see that states pay taxes at different levels, though in general this seems to be somewhat correlated to the population of the various states"
   ]
  },
  {
   "cell_type": "markdown",
   "id": "913c29c4-250f-4206-9377-926f19757f91",
   "metadata": {},
   "source": [
    "Even so it is clear that despite the population differences, some states have a lot more taxes per capita"
   ]
  },
  {
   "cell_type": "markdown",
   "id": "53bdaa57-a51d-413d-8be1-b416685ea208",
   "metadata": {},
   "source": [
    "## Total returns amount by group"
   ]
  },
  {
   "cell_type": "code",
   "execution_count": 23,
   "id": "00fb6589-494c-414f-ae8a-8ce4dc5fed6c",
   "metadata": {},
   "outputs": [
    {
     "data": {
      "text/plain": [
       "agi_stub\n",
       "1    1.095026e+08\n",
       "2    1.578145e+08\n",
       "3    1.424768e+08\n",
       "4    1.346116e+08\n",
       "5    3.861697e+08\n",
       "6    1.083838e+09\n",
       "Name: A10600, dtype: float64"
      ]
     },
     "execution_count": 23,
     "metadata": {},
     "output_type": "execute_result"
    }
   ],
   "source": [
    "total_by_bracket = df.groupby('agi_stub')['A10600'].sum()\n",
    "total_by_bracket"
   ]
  },
  {
   "cell_type": "code",
   "execution_count": 25,
   "id": "ef4d2bfb-11f4-4bd3-85d4-e38d03f783ad",
   "metadata": {},
   "outputs": [
    {
     "data": {
      "text/plain": [
       "<AxesSubplot: xlabel='agi_stub'>"
      ]
     },
     "execution_count": 25,
     "metadata": {},
     "output_type": "execute_result"
    },
    {
     "data": {
      "image/png": "[encoded data removed]",
      "text/plain": [
       "<Figure size 640x480 with 1 Axes>"
      ]
     },
     "metadata": {},
     "output_type": "display_data"
    }
   ],
   "source": [
    "total_by_bracket.plot.bar()"
   ]
  },
  {
   "cell_type": "markdown",
   "id": "3ca37816-4400-4db8-997a-cfa1734e6f5e",
   "metadata": {},
   "source": [
    "We can see from this data that the total amount paid on tax returns for each agi stub is pretty standard, with the last 2 groups being considerably higher than the rest."
   ]
  },
  {
   "cell_type": "markdown",
   "id": "759ddbe3-4a78-4440-a5f2-ad4fda97b816",
   "metadata": {},
   "source": [
    "Now we can look at what this looks like with the number of tax returns considered as well"
   ]
  },
  {
   "cell_type": "markdown",
   "id": "8911213e-5e66-464d-a208-ba19e6c3b221",
   "metadata": {},
   "source": [
    "## Average Total Returns by Bracket"
   ]
  },
  {
   "cell_type": "code",
   "execution_count": 30,
   "id": "00d79cc7-400b-4ddb-9df2-d536f5135878",
   "metadata": {},
   "outputs": [
    {
     "data": {
      "text/plain": [
       "agi_stub\n",
       "1      2.171191\n",
       "2      4.047776\n",
       "3      6.308520\n",
       "4      9.433337\n",
       "5     17.255586\n",
       "6    116.917694\n",
       "dtype: float64"
      ]
     },
     "execution_count": 30,
     "metadata": {},
     "output_type": "execute_result"
    }
   ],
   "source": [
    "average_returns_by_bracket = total_by_bracket.div(brackets['N1'].sum())\n",
    "average_returns_by_bracket"
   ]
  },
  {
   "cell_type": "markdown",
   "id": "495c983f-cbc6-46e7-9d1b-d09dd73b4950",
   "metadata": {},
   "source": [
    "As we can see the average returns are vastly different between the various brackets, which is not surprising as the top bracket consists of less people and with more income"
   ]
  },
  {
   "cell_type": "code",
   "execution_count": 32,
   "id": "6eae9e88-bfe6-43d9-a3e5-eaf3716b783d",
   "metadata": {},
   "outputs": [],
   "source": [
    "#More analysis on the relation between people and returns amount for different metrics will be good for the future"
   ]
  },
  {
   "cell_type": "code",
   "execution_count": null,
   "id": "836c6ac9-4069-4c40-897a-40f69cef3c99",
   "metadata": {},
   "outputs": [],
   "source": []
  }
 ],
 "metadata": {
  "kernelspec": {
   "display_name": "Python 3 (ipykernel)",
   "language": "python",
   "name": "python3"
  },
  "language_info": {
   "codemirror_mode": {
    "name": "ipython",
    "version": 3
   },
   "file_extension": ".py",
   "mimetype": "text/x-python",
   "name": "python",
   "nbconvert_exporter": "python",
   "pygments_lexer": "ipython3",
   "version": "3.9.15"
  }
 },
 "nbformat": 4,
 "nbformat_minor": 5
}
