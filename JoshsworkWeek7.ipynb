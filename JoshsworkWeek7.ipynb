{
 "cells": [
  {
   "cell_type": "code",
   "execution_count": 1,
   "id": "a888c1bd-6e4c-45c5-80b2-47766eaa7919",
   "metadata": {},
   "outputs": [
    {
     "data": {
      "text/html": [
       "<div>\n",
       "<style scoped>\n",
       "    .dataframe tbody tr th:only-of-type {\n",
       "        vertical-align: middle;\n",
       "    }\n",
       "\n",
       "    .dataframe tbody tr th {\n",
       "        vertical-align: top;\n",
       "    }\n",
       "\n",
       "    .dataframe thead th {\n",
       "        text-align: right;\n",
       "    }\n",
       "</style>\n",
       "<table border=\"1\" class=\"dataframe\">\n",
       "  <thead>\n",
       "    <tr style=\"text-align: right;\">\n",
       "      <th></th>\n",
       "      <th>STATEFIPS</th>\n",
       "      <th>STATE</th>\n",
       "      <th>zipcode</th>\n",
       "      <th>agi_stub</th>\n",
       "      <th>N1</th>\n",
       "      <th>mars1</th>\n",
       "      <th>MARS2</th>\n",
       "      <th>MARS4</th>\n",
       "      <th>ELF</th>\n",
       "      <th>CPREP</th>\n",
       "      <th>...</th>\n",
       "      <th>N85300</th>\n",
       "      <th>A85300</th>\n",
       "      <th>N11901</th>\n",
       "      <th>A11901</th>\n",
       "      <th>N11900</th>\n",
       "      <th>A11900</th>\n",
       "      <th>N11902</th>\n",
       "      <th>A11902</th>\n",
       "      <th>N12000</th>\n",
       "      <th>A12000</th>\n",
       "    </tr>\n",
       "  </thead>\n",
       "  <tbody>\n",
       "    <tr>\n",
       "      <th>0</th>\n",
       "      <td>1</td>\n",
       "      <td>AL</td>\n",
       "      <td>0</td>\n",
       "      <td>1</td>\n",
       "      <td>785000.0</td>\n",
       "      <td>519980.0</td>\n",
       "      <td>85690.0</td>\n",
       "      <td>165290.0</td>\n",
       "      <td>724170.0</td>\n",
       "      <td>22560.0</td>\n",
       "      <td>...</td>\n",
       "      <td>0.0</td>\n",
       "      <td>0.0</td>\n",
       "      <td>57720.0</td>\n",
       "      <td>46577.0</td>\n",
       "      <td>674840.0</td>\n",
       "      <td>1827202.0</td>\n",
       "      <td>672200.0</td>\n",
       "      <td>1818867.0</td>\n",
       "      <td>2900.0</td>\n",
       "      <td>6089.0</td>\n",
       "    </tr>\n",
       "    <tr>\n",
       "      <th>1</th>\n",
       "      <td>1</td>\n",
       "      <td>AL</td>\n",
       "      <td>0</td>\n",
       "      <td>2</td>\n",
       "      <td>554310.0</td>\n",
       "      <td>270870.0</td>\n",
       "      <td>121420.0</td>\n",
       "      <td>146470.0</td>\n",
       "      <td>515150.0</td>\n",
       "      <td>13260.0</td>\n",
       "      <td>...</td>\n",
       "      <td>0.0</td>\n",
       "      <td>0.0</td>\n",
       "      <td>81770.0</td>\n",
       "      <td>112540.0</td>\n",
       "      <td>470410.0</td>\n",
       "      <td>1445383.0</td>\n",
       "      <td>466960.0</td>\n",
       "      <td>1432458.0</td>\n",
       "      <td>4660.0</td>\n",
       "      <td>11648.0</td>\n",
       "    </tr>\n",
       "    <tr>\n",
       "      <th>2</th>\n",
       "      <td>1</td>\n",
       "      <td>AL</td>\n",
       "      <td>0</td>\n",
       "      <td>3</td>\n",
       "      <td>290630.0</td>\n",
       "      <td>113280.0</td>\n",
       "      <td>124770.0</td>\n",
       "      <td>44570.0</td>\n",
       "      <td>269700.0</td>\n",
       "      <td>6420.0</td>\n",
       "      <td>...</td>\n",
       "      <td>0.0</td>\n",
       "      <td>0.0</td>\n",
       "      <td>70360.0</td>\n",
       "      <td>144380.0</td>\n",
       "      <td>220710.0</td>\n",
       "      <td>626662.0</td>\n",
       "      <td>216530.0</td>\n",
       "      <td>610170.0</td>\n",
       "      <td>5760.0</td>\n",
       "      <td>16235.0</td>\n",
       "    </tr>\n",
       "    <tr>\n",
       "      <th>3</th>\n",
       "      <td>1</td>\n",
       "      <td>AL</td>\n",
       "      <td>0</td>\n",
       "      <td>4</td>\n",
       "      <td>181010.0</td>\n",
       "      <td>42010.0</td>\n",
       "      <td>120820.0</td>\n",
       "      <td>14410.0</td>\n",
       "      <td>168830.0</td>\n",
       "      <td>2570.0</td>\n",
       "      <td>...</td>\n",
       "      <td>0.0</td>\n",
       "      <td>0.0</td>\n",
       "      <td>49500.0</td>\n",
       "      <td>135429.0</td>\n",
       "      <td>130670.0</td>\n",
       "      <td>437179.0</td>\n",
       "      <td>126790.0</td>\n",
       "      <td>419324.0</td>\n",
       "      <td>3730.0</td>\n",
       "      <td>14903.0</td>\n",
       "    </tr>\n",
       "    <tr>\n",
       "      <th>4</th>\n",
       "      <td>1</td>\n",
       "      <td>AL</td>\n",
       "      <td>0</td>\n",
       "      <td>5</td>\n",
       "      <td>269080.0</td>\n",
       "      <td>31310.0</td>\n",
       "      <td>224330.0</td>\n",
       "      <td>8270.0</td>\n",
       "      <td>252360.0</td>\n",
       "      <td>3250.0</td>\n",
       "      <td>...</td>\n",
       "      <td>100.0</td>\n",
       "      <td>20.0</td>\n",
       "      <td>103250.0</td>\n",
       "      <td>470206.0</td>\n",
       "      <td>165650.0</td>\n",
       "      <td>724529.0</td>\n",
       "      <td>156910.0</td>\n",
       "      <td>642895.0</td>\n",
       "      <td>11280.0</td>\n",
       "      <td>80064.0</td>\n",
       "    </tr>\n",
       "    <tr>\n",
       "      <th>5</th>\n",
       "      <td>1</td>\n",
       "      <td>AL</td>\n",
       "      <td>0</td>\n",
       "      <td>6</td>\n",
       "      <td>81340.0</td>\n",
       "      <td>5000.0</td>\n",
       "      <td>72270.0</td>\n",
       "      <td>630.0</td>\n",
       "      <td>76810.0</td>\n",
       "      <td>230.0</td>\n",
       "      <td>...</td>\n",
       "      <td>41750.0</td>\n",
       "      <td>164094.0</td>\n",
       "      <td>43960.0</td>\n",
       "      <td>1216690.0</td>\n",
       "      <td>34560.0</td>\n",
       "      <td>735671.0</td>\n",
       "      <td>24770.0</td>\n",
       "      <td>285560.0</td>\n",
       "      <td>9630.0</td>\n",
       "      <td>391783.0</td>\n",
       "    </tr>\n",
       "    <tr>\n",
       "      <th>6</th>\n",
       "      <td>1</td>\n",
       "      <td>AL</td>\n",
       "      <td>35004</td>\n",
       "      <td>1</td>\n",
       "      <td>1460.0</td>\n",
       "      <td>1010.0</td>\n",
       "      <td>200.0</td>\n",
       "      <td>210.0</td>\n",
       "      <td>1340.0</td>\n",
       "      <td>40.0</td>\n",
       "      <td>...</td>\n",
       "      <td>0.0</td>\n",
       "      <td>0.0</td>\n",
       "      <td>110.0</td>\n",
       "      <td>80.0</td>\n",
       "      <td>1210.0</td>\n",
       "      <td>2807.0</td>\n",
       "      <td>1210.0</td>\n",
       "      <td>2795.0</td>\n",
       "      <td>0.0</td>\n",
       "      <td>0.0</td>\n",
       "    </tr>\n",
       "    <tr>\n",
       "      <th>7</th>\n",
       "      <td>1</td>\n",
       "      <td>AL</td>\n",
       "      <td>35004</td>\n",
       "      <td>2</td>\n",
       "      <td>1400.0</td>\n",
       "      <td>760.0</td>\n",
       "      <td>280.0</td>\n",
       "      <td>310.0</td>\n",
       "      <td>1310.0</td>\n",
       "      <td>40.0</td>\n",
       "      <td>...</td>\n",
       "      <td>0.0</td>\n",
       "      <td>0.0</td>\n",
       "      <td>190.0</td>\n",
       "      <td>194.0</td>\n",
       "      <td>1210.0</td>\n",
       "      <td>3378.0</td>\n",
       "      <td>1200.0</td>\n",
       "      <td>3335.0</td>\n",
       "      <td>30.0</td>\n",
       "      <td>62.0</td>\n",
       "    </tr>\n",
       "    <tr>\n",
       "      <th>8</th>\n",
       "      <td>1</td>\n",
       "      <td>AL</td>\n",
       "      <td>35004</td>\n",
       "      <td>3</td>\n",
       "      <td>1020.0</td>\n",
       "      <td>460.0</td>\n",
       "      <td>350.0</td>\n",
       "      <td>190.0</td>\n",
       "      <td>970.0</td>\n",
       "      <td>30.0</td>\n",
       "      <td>...</td>\n",
       "      <td>0.0</td>\n",
       "      <td>0.0</td>\n",
       "      <td>230.0</td>\n",
       "      <td>357.0</td>\n",
       "      <td>800.0</td>\n",
       "      <td>2131.0</td>\n",
       "      <td>790.0</td>\n",
       "      <td>2119.0</td>\n",
       "      <td>0.0</td>\n",
       "      <td>0.0</td>\n",
       "    </tr>\n",
       "    <tr>\n",
       "      <th>9</th>\n",
       "      <td>1</td>\n",
       "      <td>AL</td>\n",
       "      <td>35004</td>\n",
       "      <td>4</td>\n",
       "      <td>630.0</td>\n",
       "      <td>140.0</td>\n",
       "      <td>420.0</td>\n",
       "      <td>60.0</td>\n",
       "      <td>590.0</td>\n",
       "      <td>0.0</td>\n",
       "      <td>...</td>\n",
       "      <td>0.0</td>\n",
       "      <td>0.0</td>\n",
       "      <td>180.0</td>\n",
       "      <td>386.0</td>\n",
       "      <td>450.0</td>\n",
       "      <td>1282.0</td>\n",
       "      <td>440.0</td>\n",
       "      <td>1276.0</td>\n",
       "      <td>0.0</td>\n",
       "      <td>0.0</td>\n",
       "    </tr>\n",
       "  </tbody>\n",
       "</table>\n",
       "<p>10 rows × 165 columns</p>\n",
       "</div>"
      ],
      "text/plain": [
       "   STATEFIPS STATE  zipcode  agi_stub        N1     mars1     MARS2     MARS4  \\\n",
       "0          1    AL        0         1  785000.0  519980.0   85690.0  165290.0   \n",
       "1          1    AL        0         2  554310.0  270870.0  121420.0  146470.0   \n",
       "2          1    AL        0         3  290630.0  113280.0  124770.0   44570.0   \n",
       "3          1    AL        0         4  181010.0   42010.0  120820.0   14410.0   \n",
       "4          1    AL        0         5  269080.0   31310.0  224330.0    8270.0   \n",
       "5          1    AL        0         6   81340.0    5000.0   72270.0     630.0   \n",
       "6          1    AL    35004         1    1460.0    1010.0     200.0     210.0   \n",
       "7          1    AL    35004         2    1400.0     760.0     280.0     310.0   \n",
       "8          1    AL    35004         3    1020.0     460.0     350.0     190.0   \n",
       "9          1    AL    35004         4     630.0     140.0     420.0      60.0   \n",
       "\n",
       "        ELF    CPREP  ...   N85300    A85300    N11901     A11901    N11900  \\\n",
       "0  724170.0  22560.0  ...      0.0       0.0   57720.0    46577.0  674840.0   \n",
       "1  515150.0  13260.0  ...      0.0       0.0   81770.0   112540.0  470410.0   \n",
       "2  269700.0   6420.0  ...      0.0       0.0   70360.0   144380.0  220710.0   \n",
       "3  168830.0   2570.0  ...      0.0       0.0   49500.0   135429.0  130670.0   \n",
       "4  252360.0   3250.0  ...    100.0      20.0  103250.0   470206.0  165650.0   \n",
       "5   76810.0    230.0  ...  41750.0  164094.0   43960.0  1216690.0   34560.0   \n",
       "6    1340.0     40.0  ...      0.0       0.0     110.0       80.0    1210.0   \n",
       "7    1310.0     40.0  ...      0.0       0.0     190.0      194.0    1210.0   \n",
       "8     970.0     30.0  ...      0.0       0.0     230.0      357.0     800.0   \n",
       "9     590.0      0.0  ...      0.0       0.0     180.0      386.0     450.0   \n",
       "\n",
       "      A11900    N11902     A11902   N12000    A12000  \n",
       "0  1827202.0  672200.0  1818867.0   2900.0    6089.0  \n",
       "1  1445383.0  466960.0  1432458.0   4660.0   11648.0  \n",
       "2   626662.0  216530.0   610170.0   5760.0   16235.0  \n",
       "3   437179.0  126790.0   419324.0   3730.0   14903.0  \n",
       "4   724529.0  156910.0   642895.0  11280.0   80064.0  \n",
       "5   735671.0   24770.0   285560.0   9630.0  391783.0  \n",
       "6     2807.0    1210.0     2795.0      0.0       0.0  \n",
       "7     3378.0    1200.0     3335.0     30.0      62.0  \n",
       "8     2131.0     790.0     2119.0      0.0       0.0  \n",
       "9     1282.0     440.0     1276.0      0.0       0.0  \n",
       "\n",
       "[10 rows x 165 columns]"
      ]
     },
     "execution_count": 1,
     "metadata": {},
     "output_type": "execute_result"
    }
   ],
   "source": [
    "#all work below is Josh Mestemacher's\n",
    "import pandas as pd\n",
    "import matplotlib.pyplot as plt\n",
    "df = pd.read_csv('tax_data.csv')\n",
    "df.head(10)"
   ]
  },
  {
   "cell_type": "markdown",
   "id": "2e20e8ac-a855-46fc-88ef-13d8a2dcf753",
   "metadata": {},
   "source": [
    "I will filter out 0 zipcode records and redo my stuff from week 6 with that modification"
   ]
  },
  {
   "cell_type": "code",
   "execution_count": 2,
   "id": "d8b9ca47-d665-41c4-8eef-8128019b2a71",
   "metadata": {},
   "outputs": [],
   "source": [
    "df = df[df.zipcode!=0]"
   ]
  },
  {
   "cell_type": "markdown",
   "id": "d357aaf5-bbb1-4a05-bdc8-8a20e3f0b810",
   "metadata": {},
   "source": [
    "## Re-Reinspection of % of Wages and Salary That Is Taxed"
   ]
  },
  {
   "cell_type": "code",
   "execution_count": 3,
   "id": "ad244297-ea61-4b4e-9339-68263218773a",
   "metadata": {},
   "outputs": [
    {
     "data": {
      "text/plain": [
       "inf"
      ]
     },
     "execution_count": 3,
     "metadata": {},
     "output_type": "execute_result"
    }
   ],
   "source": [
    "df['%SalaryTaxed'] = df['A18300'] / df['A00200']\n",
    "df['%SalaryTaxed'].mean()"
   ]
  },
  {
   "cell_type": "code",
   "execution_count": 4,
   "id": "5cd1c301-3250-45dc-8b19-b5c4b4cedff5",
   "metadata": {},
   "outputs": [
    {
     "data": {
      "text/html": [
       "<div>\n",
       "<style scoped>\n",
       "    .dataframe tbody tr th:only-of-type {\n",
       "        vertical-align: middle;\n",
       "    }\n",
       "\n",
       "    .dataframe tbody tr th {\n",
       "        vertical-align: top;\n",
       "    }\n",
       "\n",
       "    .dataframe thead th {\n",
       "        text-align: right;\n",
       "    }\n",
       "</style>\n",
       "<table border=\"1\" class=\"dataframe\">\n",
       "  <thead>\n",
       "    <tr style=\"text-align: right;\">\n",
       "      <th></th>\n",
       "      <th>STATEFIPS</th>\n",
       "      <th>STATE</th>\n",
       "      <th>zipcode</th>\n",
       "      <th>agi_stub</th>\n",
       "      <th>N1</th>\n",
       "      <th>mars1</th>\n",
       "      <th>MARS2</th>\n",
       "      <th>MARS4</th>\n",
       "      <th>ELF</th>\n",
       "      <th>CPREP</th>\n",
       "      <th>...</th>\n",
       "      <th>A85300</th>\n",
       "      <th>N11901</th>\n",
       "      <th>A11901</th>\n",
       "      <th>N11900</th>\n",
       "      <th>A11900</th>\n",
       "      <th>N11902</th>\n",
       "      <th>A11902</th>\n",
       "      <th>N12000</th>\n",
       "      <th>A12000</th>\n",
       "      <th>%SalaryTaxed</th>\n",
       "    </tr>\n",
       "  </thead>\n",
       "  <tbody>\n",
       "    <tr>\n",
       "      <th>6</th>\n",
       "      <td>1</td>\n",
       "      <td>AL</td>\n",
       "      <td>35004</td>\n",
       "      <td>1</td>\n",
       "      <td>1460.0</td>\n",
       "      <td>1010.0</td>\n",
       "      <td>200.0</td>\n",
       "      <td>210.0</td>\n",
       "      <td>1340.0</td>\n",
       "      <td>40.0</td>\n",
       "      <td>...</td>\n",
       "      <td>0.0</td>\n",
       "      <td>110.0</td>\n",
       "      <td>80.0</td>\n",
       "      <td>1210.0</td>\n",
       "      <td>2807.0</td>\n",
       "      <td>1210.0</td>\n",
       "      <td>2795.0</td>\n",
       "      <td>0.0</td>\n",
       "      <td>0.0</td>\n",
       "      <td>0.002969</td>\n",
       "    </tr>\n",
       "    <tr>\n",
       "      <th>7</th>\n",
       "      <td>1</td>\n",
       "      <td>AL</td>\n",
       "      <td>35004</td>\n",
       "      <td>2</td>\n",
       "      <td>1400.0</td>\n",
       "      <td>760.0</td>\n",
       "      <td>280.0</td>\n",
       "      <td>310.0</td>\n",
       "      <td>1310.0</td>\n",
       "      <td>40.0</td>\n",
       "      <td>...</td>\n",
       "      <td>0.0</td>\n",
       "      <td>190.0</td>\n",
       "      <td>194.0</td>\n",
       "      <td>1210.0</td>\n",
       "      <td>3378.0</td>\n",
       "      <td>1200.0</td>\n",
       "      <td>3335.0</td>\n",
       "      <td>30.0</td>\n",
       "      <td>62.0</td>\n",
       "      <td>0.001851</td>\n",
       "    </tr>\n",
       "    <tr>\n",
       "      <th>8</th>\n",
       "      <td>1</td>\n",
       "      <td>AL</td>\n",
       "      <td>35004</td>\n",
       "      <td>3</td>\n",
       "      <td>1020.0</td>\n",
       "      <td>460.0</td>\n",
       "      <td>350.0</td>\n",
       "      <td>190.0</td>\n",
       "      <td>970.0</td>\n",
       "      <td>30.0</td>\n",
       "      <td>...</td>\n",
       "      <td>0.0</td>\n",
       "      <td>230.0</td>\n",
       "      <td>357.0</td>\n",
       "      <td>800.0</td>\n",
       "      <td>2131.0</td>\n",
       "      <td>790.0</td>\n",
       "      <td>2119.0</td>\n",
       "      <td>0.0</td>\n",
       "      <td>0.0</td>\n",
       "      <td>0.005370</td>\n",
       "    </tr>\n",
       "    <tr>\n",
       "      <th>9</th>\n",
       "      <td>1</td>\n",
       "      <td>AL</td>\n",
       "      <td>35004</td>\n",
       "      <td>4</td>\n",
       "      <td>630.0</td>\n",
       "      <td>140.0</td>\n",
       "      <td>420.0</td>\n",
       "      <td>60.0</td>\n",
       "      <td>590.0</td>\n",
       "      <td>0.0</td>\n",
       "      <td>...</td>\n",
       "      <td>0.0</td>\n",
       "      <td>180.0</td>\n",
       "      <td>386.0</td>\n",
       "      <td>450.0</td>\n",
       "      <td>1282.0</td>\n",
       "      <td>440.0</td>\n",
       "      <td>1276.0</td>\n",
       "      <td>0.0</td>\n",
       "      <td>0.0</td>\n",
       "      <td>0.006408</td>\n",
       "    </tr>\n",
       "    <tr>\n",
       "      <th>10</th>\n",
       "      <td>1</td>\n",
       "      <td>AL</td>\n",
       "      <td>35004</td>\n",
       "      <td>5</td>\n",
       "      <td>810.0</td>\n",
       "      <td>80.0</td>\n",
       "      <td>710.0</td>\n",
       "      <td>20.0</td>\n",
       "      <td>760.0</td>\n",
       "      <td>20.0</td>\n",
       "      <td>...</td>\n",
       "      <td>0.0</td>\n",
       "      <td>290.0</td>\n",
       "      <td>1124.0</td>\n",
       "      <td>530.0</td>\n",
       "      <td>1967.0</td>\n",
       "      <td>510.0</td>\n",
       "      <td>1925.0</td>\n",
       "      <td>20.0</td>\n",
       "      <td>139.0</td>\n",
       "      <td>0.009181</td>\n",
       "    </tr>\n",
       "  </tbody>\n",
       "</table>\n",
       "<p>5 rows × 166 columns</p>\n",
       "</div>"
      ],
      "text/plain": [
       "    STATEFIPS STATE  zipcode  agi_stub      N1   mars1  MARS2  MARS4     ELF  \\\n",
       "6           1    AL    35004         1  1460.0  1010.0  200.0  210.0  1340.0   \n",
       "7           1    AL    35004         2  1400.0   760.0  280.0  310.0  1310.0   \n",
       "8           1    AL    35004         3  1020.0   460.0  350.0  190.0   970.0   \n",
       "9           1    AL    35004         4   630.0   140.0  420.0   60.0   590.0   \n",
       "10          1    AL    35004         5   810.0    80.0  710.0   20.0   760.0   \n",
       "\n",
       "    CPREP  ...  A85300  N11901  A11901  N11900  A11900  N11902  A11902  \\\n",
       "6    40.0  ...     0.0   110.0    80.0  1210.0  2807.0  1210.0  2795.0   \n",
       "7    40.0  ...     0.0   190.0   194.0  1210.0  3378.0  1200.0  3335.0   \n",
       "8    30.0  ...     0.0   230.0   357.0   800.0  2131.0   790.0  2119.0   \n",
       "9     0.0  ...     0.0   180.0   386.0   450.0  1282.0   440.0  1276.0   \n",
       "10   20.0  ...     0.0   290.0  1124.0   530.0  1967.0   510.0  1925.0   \n",
       "\n",
       "    N12000  A12000  %SalaryTaxed  \n",
       "6      0.0     0.0      0.002969  \n",
       "7     30.0    62.0      0.001851  \n",
       "8      0.0     0.0      0.005370  \n",
       "9      0.0     0.0      0.006408  \n",
       "10    20.0   139.0      0.009181  \n",
       "\n",
       "[5 rows x 166 columns]"
      ]
     },
     "execution_count": 4,
     "metadata": {},
     "output_type": "execute_result"
    }
   ],
   "source": [
    "salaryFilters = df[df['A00200'] != 0]\n",
    "salaryFilters.head(5)"
   ]
  },
  {
   "cell_type": "markdown",
   "id": "dcc0a1bf-b7b9-4e9a-ae68-1a70d9e0c280",
   "metadata": {},
   "source": [
    "We still get weird values for % of salary and wages that is taxed (no visible improvement here)"
   ]
  },
  {
   "cell_type": "code",
   "execution_count": 5,
   "id": "7582e5c1-a244-4325-95c1-22113a53635a",
   "metadata": {},
   "outputs": [
    {
     "data": {
      "text/plain": [
       "0.00957510538310133"
      ]
     },
     "execution_count": 5,
     "metadata": {},
     "output_type": "execute_result"
    }
   ],
   "source": [
    "df['%SalaryTaxed'] = salaryFilters['A18300'] / salaryFilters['A00200']\n",
    "df['%SalaryTaxed'].mean()"
   ]
  },
  {
   "cell_type": "markdown",
   "id": "3917ae8c-aba8-4d7b-9502-07cb2eb3111b",
   "metadata": {},
   "source": [
    "At least our average % of salary and wages that is taxed is not infinity, so that is an improvement marginally"
   ]
  },
  {
   "cell_type": "code",
   "execution_count": 6,
   "id": "5e7db479-57a7-484b-9b04-f0c3c5f2eaa5",
   "metadata": {},
   "outputs": [
    {
     "data": {
      "text/html": [
       "<div>\n",
       "<style scoped>\n",
       "    .dataframe tbody tr th:only-of-type {\n",
       "        vertical-align: middle;\n",
       "    }\n",
       "\n",
       "    .dataframe tbody tr th {\n",
       "        vertical-align: top;\n",
       "    }\n",
       "\n",
       "    .dataframe thead th {\n",
       "        text-align: right;\n",
       "    }\n",
       "</style>\n",
       "<table border=\"1\" class=\"dataframe\">\n",
       "  <thead>\n",
       "    <tr style=\"text-align: right;\">\n",
       "      <th></th>\n",
       "      <th>A18300</th>\n",
       "      <th>A00200</th>\n",
       "      <th>%SalaryTaxed</th>\n",
       "    </tr>\n",
       "  </thead>\n",
       "  <tbody>\n",
       "    <tr>\n",
       "      <th>96934</th>\n",
       "      <td>474.0</td>\n",
       "      <td>167.0</td>\n",
       "      <td>2.838323</td>\n",
       "    </tr>\n",
       "    <tr>\n",
       "      <th>96935</th>\n",
       "      <td>762.0</td>\n",
       "      <td>689.0</td>\n",
       "      <td>1.105951</td>\n",
       "    </tr>\n",
       "    <tr>\n",
       "      <th>96936</th>\n",
       "      <td>947.0</td>\n",
       "      <td>1445.0</td>\n",
       "      <td>0.655363</td>\n",
       "    </tr>\n",
       "    <tr>\n",
       "      <th>94013</th>\n",
       "      <td>179.0</td>\n",
       "      <td>396.0</td>\n",
       "      <td>0.452020</td>\n",
       "    </tr>\n",
       "    <tr>\n",
       "      <th>12353</th>\n",
       "      <td>157.0</td>\n",
       "      <td>351.0</td>\n",
       "      <td>0.447293</td>\n",
       "    </tr>\n",
       "    <tr>\n",
       "      <th>...</th>\n",
       "      <td>...</td>\n",
       "      <td>...</td>\n",
       "      <td>...</td>\n",
       "    </tr>\n",
       "    <tr>\n",
       "      <th>113985</th>\n",
       "      <td>0.0</td>\n",
       "      <td>4861.0</td>\n",
       "      <td>0.000000</td>\n",
       "    </tr>\n",
       "    <tr>\n",
       "      <th>113986</th>\n",
       "      <td>0.0</td>\n",
       "      <td>18224.0</td>\n",
       "      <td>0.000000</td>\n",
       "    </tr>\n",
       "    <tr>\n",
       "      <th>113987</th>\n",
       "      <td>0.0</td>\n",
       "      <td>42913.0</td>\n",
       "      <td>0.000000</td>\n",
       "    </tr>\n",
       "    <tr>\n",
       "      <th>56982</th>\n",
       "      <td>0.0</td>\n",
       "      <td>10315.0</td>\n",
       "      <td>0.000000</td>\n",
       "    </tr>\n",
       "    <tr>\n",
       "      <th>83027</th>\n",
       "      <td>0.0</td>\n",
       "      <td>2007.0</td>\n",
       "      <td>0.000000</td>\n",
       "    </tr>\n",
       "  </tbody>\n",
       "</table>\n",
       "<p>151013 rows × 3 columns</p>\n",
       "</div>"
      ],
      "text/plain": [
       "        A18300   A00200  %SalaryTaxed\n",
       "96934    474.0    167.0      2.838323\n",
       "96935    762.0    689.0      1.105951\n",
       "96936    947.0   1445.0      0.655363\n",
       "94013    179.0    396.0      0.452020\n",
       "12353    157.0    351.0      0.447293\n",
       "...        ...      ...           ...\n",
       "113985     0.0   4861.0      0.000000\n",
       "113986     0.0  18224.0      0.000000\n",
       "113987     0.0  42913.0      0.000000\n",
       "56982      0.0  10315.0      0.000000\n",
       "83027      0.0   2007.0      0.000000\n",
       "\n",
       "[151013 rows x 3 columns]"
      ]
     },
     "execution_count": 6,
     "metadata": {},
     "output_type": "execute_result"
    }
   ],
   "source": [
    "salaryFilters[['A18300', 'A00200', '%SalaryTaxed']].sort_values('%SalaryTaxed', ascending=False)"
   ]
  },
  {
   "cell_type": "markdown",
   "id": "48449bc4-cabe-401d-b20f-d0aa4ff3f861",
   "metadata": {},
   "source": [
    "After looking at the above, I still don't think we will get anything from exploring\n",
    "Total taxes paid / wages and salary.\n",
    "Let's again go check out total tax liability amounts for different economic classes"
   ]
  },
  {
   "cell_type": "markdown",
   "id": "05ccd341-1bb7-4e6b-a614-24c69974dfee",
   "metadata": {},
   "source": [
    "## Total Tax Liability Re-exploration"
   ]
  },
  {
   "cell_type": "code",
   "execution_count": 7,
   "id": "4a1f0f85-21a2-43dc-84e0-598e6e1ffd8b",
   "metadata": {},
   "outputs": [
    {
     "data": {
      "text/plain": [
       "agi_stub\n",
       "1     204.0\n",
       "2     889.0\n",
       "3    1266.0\n",
       "4    1329.0\n",
       "5    3599.0\n",
       "6    3414.0\n",
       "Name: A10300, dtype: float64"
      ]
     },
     "execution_count": 7,
     "metadata": {},
     "output_type": "execute_result"
    }
   ],
   "source": [
    "df.groupby('agi_stub')['A10300'].median() #median to deal with skewed data"
   ]
  },
  {
   "cell_type": "markdown",
   "id": "a1d86c51-4750-48b8-8891-3dda1d23d75d",
   "metadata": {},
   "source": [
    "Conclusions here seem to not change from before"
   ]
  },
  {
   "cell_type": "code",
   "execution_count": 8,
   "id": "c1b00e6d-f0ca-4883-9d1f-b02b451b0438",
   "metadata": {},
   "outputs": [
    {
     "data": {
      "text/plain": [
       "A10300    AxesSubplot(0.125,0.11;0.775x0.77)\n",
       "dtype: object"
      ]
     },
     "execution_count": 8,
     "metadata": {},
     "output_type": "execute_result"
    },
    {
     "data": {
      "image/png": "[encoded data removed]",
      "text/plain": [
       "<Figure size 640x480 with 1 Axes>"
      ]
     },
     "metadata": {},
     "output_type": "display_data"
    }
   ],
   "source": [
    "df.plot.box(column='A10300', by='agi_stub', logy=True) #log scaling to actually make\n",
    "#graph readable"
   ]
  },
  {
   "cell_type": "markdown",
   "id": "f74d5ea2-5e39-4483-b151-149f8c1b9d38",
   "metadata": {},
   "source": [
    "Conclusions here again seem to not change from before"
   ]
  },
  {
   "cell_type": "code",
   "execution_count": 9,
   "id": "c527f89c-bb7b-4d03-ae93-e237bb0b2643",
   "metadata": {},
   "outputs": [
    {
     "name": "stdout",
     "output_type": "stream",
     "text": [
      "total income 12811088898.060104\n",
      "total tax liability 1783106391.0\n"
     ]
    },
    {
     "data": {
      "text/plain": [
       "13.918460836455546"
      ]
     },
     "execution_count": 9,
     "metadata": {},
     "output_type": "execute_result"
    }
   ],
   "source": [
    "total_income_amount = df.A02650.sum()\n",
    "total_tax_liability_amount = df.A10300.sum()\n",
    "print('total income', total_income_amount)\n",
    "print('total tax liability', total_tax_liability_amount)\n",
    "(total_tax_liability_amount / total_income_amount)*100"
   ]
  },
  {
   "cell_type": "markdown",
   "id": "74f26897-d449-44bf-84e7-28b62f752455",
   "metadata": {},
   "source": [
    "Number here didn't change for some reason, perhaps because the 0 zipcodes just contained duplicate data that doesn't affect the number here if removed? Regardless our conclusions here don't change from before"
   ]
  },
  {
   "cell_type": "code",
   "execution_count": 12,
   "id": "a90b117f-241c-4bdd-a06c-5deb14cf3b67",
   "metadata": {},
   "outputs": [
    {
     "data": {
      "text/html": [
       "<div>\n",
       "<style scoped>\n",
       "    .dataframe tbody tr th:only-of-type {\n",
       "        vertical-align: middle;\n",
       "    }\n",
       "\n",
       "    .dataframe tbody tr th {\n",
       "        vertical-align: top;\n",
       "    }\n",
       "\n",
       "    .dataframe thead tr th {\n",
       "        text-align: left;\n",
       "    }\n",
       "\n",
       "    .dataframe thead tr:last-of-type th {\n",
       "        text-align: right;\n",
       "    }\n",
       "</style>\n",
       "<table border=\"1\" class=\"dataframe\">\n",
       "  <thead>\n",
       "    <tr>\n",
       "      <th></th>\n",
       "      <th colspan=\"6\" halign=\"left\">mean</th>\n",
       "    </tr>\n",
       "    <tr>\n",
       "      <th></th>\n",
       "      <th>Adjusted_Gross_Income</th>\n",
       "      <th>Total_Income_Amount</th>\n",
       "      <th>Total_Tax_Liability</th>\n",
       "      <th>Total_Overpayments</th>\n",
       "      <th>Tax_Due_At_Filing_Time</th>\n",
       "      <th>Total_Taxes_Paid_Amount</th>\n",
       "    </tr>\n",
       "    <tr>\n",
       "      <th>Adjusted Gross Income Level</th>\n",
       "      <th></th>\n",
       "      <th></th>\n",
       "      <th></th>\n",
       "      <th></th>\n",
       "      <th></th>\n",
       "      <th></th>\n",
       "    </tr>\n",
       "  </thead>\n",
       "  <tbody>\n",
       "    <tr>\n",
       "      <th>&lt;25k</th>\n",
       "      <td>22446.776406</td>\n",
       "      <td>22901.335036</td>\n",
       "      <td>655.885711</td>\n",
       "      <td>3438.865742</td>\n",
       "      <td>142.147980</td>\n",
       "      <td>107.818763</td>\n",
       "    </tr>\n",
       "    <tr>\n",
       "      <th>[25k, 50k)</th>\n",
       "      <td>51175.184234</td>\n",
       "      <td>51753.788652</td>\n",
       "      <td>2603.035569</td>\n",
       "      <td>3390.546745</td>\n",
       "      <td>297.092478</td>\n",
       "      <td>275.562453</td>\n",
       "    </tr>\n",
       "    <tr>\n",
       "      <th>[50k, 75k)</th>\n",
       "      <td>50100.815982</td>\n",
       "      <td>50641.619692</td>\n",
       "      <td>3719.622576</td>\n",
       "      <td>1793.161918</td>\n",
       "      <td>374.810927</td>\n",
       "      <td>493.590619</td>\n",
       "    </tr>\n",
       "    <tr>\n",
       "      <th>[75k, 100k)</th>\n",
       "      <td>44658.508506</td>\n",
       "      <td>45090.204473</td>\n",
       "      <td>3968.500777</td>\n",
       "      <td>1259.373822</td>\n",
       "      <td>365.625781</td>\n",
       "      <td>557.105537</td>\n",
       "    </tr>\n",
       "    <tr>\n",
       "      <th>[100k, 200k)</th>\n",
       "      <td>110693.815726</td>\n",
       "      <td>111853.684731</td>\n",
       "      <td>12978.862174</td>\n",
       "      <td>2275.448875</td>\n",
       "      <td>1315.537834</td>\n",
       "      <td>1554.225521</td>\n",
       "    </tr>\n",
       "    <tr>\n",
       "      <th>&gt;200k</th>\n",
       "      <td>178462.019969</td>\n",
       "      <td>180404.460450</td>\n",
       "      <td>40466.108331</td>\n",
       "      <td>3826.413606</td>\n",
       "      <td>5035.713032</td>\n",
       "      <td>1503.415340</td>\n",
       "    </tr>\n",
       "  </tbody>\n",
       "</table>\n",
       "</div>"
      ],
      "text/plain": [
       "                                             mean                      \\\n",
       "                            Adjusted_Gross_Income Total_Income_Amount   \n",
       "Adjusted Gross Income Level                                             \n",
       "<25k                                 22446.776406        22901.335036   \n",
       "[25k, 50k)                           51175.184234        51753.788652   \n",
       "[50k, 75k)                           50100.815982        50641.619692   \n",
       "[75k, 100k)                          44658.508506        45090.204473   \n",
       "[100k, 200k)                        110693.815726       111853.684731   \n",
       ">200k                               178462.019969       180404.460450   \n",
       "\n",
       "                                                                    \\\n",
       "                            Total_Tax_Liability Total_Overpayments   \n",
       "Adjusted Gross Income Level                                          \n",
       "<25k                                 655.885711        3438.865742   \n",
       "[25k, 50k)                          2603.035569        3390.546745   \n",
       "[50k, 75k)                          3719.622576        1793.161918   \n",
       "[75k, 100k)                         3968.500777        1259.373822   \n",
       "[100k, 200k)                       12978.862174        2275.448875   \n",
       ">200k                              40466.108331        3826.413606   \n",
       "\n",
       "                                                                            \n",
       "                            Tax_Due_At_Filing_Time Total_Taxes_Paid_Amount  \n",
       "Adjusted Gross Income Level                                                 \n",
       "<25k                                    142.147980              107.818763  \n",
       "[25k, 50k)                              297.092478              275.562453  \n",
       "[50k, 75k)                              374.810927              493.590619  \n",
       "[75k, 100k)                             365.625781              557.105537  \n",
       "[100k, 200k)                           1315.537834             1554.225521  \n",
       ">200k                                  5035.713032             1503.415340  "
      ]
     },
     "execution_count": 12,
     "metadata": {},
     "output_type": "execute_result"
    }
   ],
   "source": [
    "#NOTE: comments below are unchanged from before\n",
    "\n",
    "#I want to make a cross tab of the averages of different metrics for taxes paid\n",
    "#for different economic classes for reference use\n",
    "#we will use the metrics (copied and pasted from Michael's work):\n",
    "# A00100 - adjust gross income\n",
    "# A18300 - total taxes paid amount\n",
    "# A11901 - tax due at time of filing amount\n",
    "# A11900 - total overpayments amount\n",
    "# A10300 - total tax liability (my own thing here)\n",
    "#and also add the total income metric for comparison purposes\n",
    "#A02650 - total income amount\n",
    "\n",
    "taxMetricsTable = df.pivot_table(values=['A00100', 'A18300', 'A11901', 'A11900', 'A02650', 'A10300'], index=['agi_stub'], aggfunc=['mean'])\n",
    "taxMetricsTable = taxMetricsTable.rename(columns={'A00100': \"Adjusted_Gross_Income\", 'A18300': \"Total_Taxes_Paid_Amount\", 'A11901':\"Tax_Due_At_Filing_Time\", 'A11900':\"Total_Overpayments\", 'A02650':\"Total_Income_Amount\", 'A10300': 'Total_Tax_Liability'})\n",
    "#lets rename the agi stub levels to be more descriptive\n",
    "taxMetricsTable = taxMetricsTable.rename(index={1:'<25k', 2:'[25k, 50k)', 3:'[50k, 75k)', 4:'[75k, 100k)', 5:'[100k, 200k)', 6:'>200k'})\n",
    "taxMetricsTable.index.names = ['Adjusted Gross Income Level']\n",
    "#note that using median here gets me weird results so hence I use mean\n",
    "taxMetricsTable"
   ]
  },
  {
   "cell_type": "markdown",
   "id": "a73115d1-cc94-4fd7-912d-8956a42fdef8",
   "metadata": {},
   "source": [
    "Raw numbers here definitely changed from before, seem to be smaller now"
   ]
  },
  {
   "cell_type": "code",
   "execution_count": 13,
   "id": "bba802f5-20d5-4472-b548-2ba135da601b",
   "metadata": {},
   "outputs": [
    {
     "data": {
      "text/html": [
       "<div>\n",
       "<style scoped>\n",
       "    .dataframe tbody tr th:only-of-type {\n",
       "        vertical-align: middle;\n",
       "    }\n",
       "\n",
       "    .dataframe tbody tr th {\n",
       "        vertical-align: top;\n",
       "    }\n",
       "\n",
       "    .dataframe thead tr th {\n",
       "        text-align: left;\n",
       "    }\n",
       "\n",
       "    .dataframe thead tr:last-of-type th {\n",
       "        text-align: right;\n",
       "    }\n",
       "</style>\n",
       "<table border=\"1\" class=\"dataframe\">\n",
       "  <thead>\n",
       "    <tr>\n",
       "      <th></th>\n",
       "      <th colspan=\"6\" halign=\"left\">mean</th>\n",
       "    </tr>\n",
       "    <tr>\n",
       "      <th></th>\n",
       "      <th>Adjusted_Gross_Income</th>\n",
       "      <th>Total_Income_Amount</th>\n",
       "      <th>Total_Tax_Liability</th>\n",
       "      <th>Total_Overpayments</th>\n",
       "      <th>Tax_Due_At_Filing_Time</th>\n",
       "      <th>Total_Taxes_Paid_Amount</th>\n",
       "    </tr>\n",
       "    <tr>\n",
       "      <th>Adjusted Gross Income Level</th>\n",
       "      <th></th>\n",
       "      <th></th>\n",
       "      <th></th>\n",
       "      <th></th>\n",
       "      <th></th>\n",
       "      <th></th>\n",
       "    </tr>\n",
       "  </thead>\n",
       "  <tbody>\n",
       "    <tr>\n",
       "      <th>&lt;25k</th>\n",
       "      <td>0.980151</td>\n",
       "      <td>1.0</td>\n",
       "      <td>0.028640</td>\n",
       "      <td>0.150160</td>\n",
       "      <td>0.006207</td>\n",
       "      <td>0.004708</td>\n",
       "    </tr>\n",
       "    <tr>\n",
       "      <th>[25k, 50k)</th>\n",
       "      <td>0.988820</td>\n",
       "      <td>1.0</td>\n",
       "      <td>0.050297</td>\n",
       "      <td>0.065513</td>\n",
       "      <td>0.005740</td>\n",
       "      <td>0.005324</td>\n",
       "    </tr>\n",
       "    <tr>\n",
       "      <th>[50k, 75k)</th>\n",
       "      <td>0.989321</td>\n",
       "      <td>1.0</td>\n",
       "      <td>0.073450</td>\n",
       "      <td>0.035409</td>\n",
       "      <td>0.007401</td>\n",
       "      <td>0.009747</td>\n",
       "    </tr>\n",
       "    <tr>\n",
       "      <th>[75k, 100k)</th>\n",
       "      <td>0.990426</td>\n",
       "      <td>1.0</td>\n",
       "      <td>0.088012</td>\n",
       "      <td>0.027930</td>\n",
       "      <td>0.008109</td>\n",
       "      <td>0.012355</td>\n",
       "    </tr>\n",
       "    <tr>\n",
       "      <th>[100k, 200k)</th>\n",
       "      <td>0.989630</td>\n",
       "      <td>1.0</td>\n",
       "      <td>0.116034</td>\n",
       "      <td>0.020343</td>\n",
       "      <td>0.011761</td>\n",
       "      <td>0.013895</td>\n",
       "    </tr>\n",
       "    <tr>\n",
       "      <th>&gt;200k</th>\n",
       "      <td>0.989233</td>\n",
       "      <td>1.0</td>\n",
       "      <td>0.224308</td>\n",
       "      <td>0.021210</td>\n",
       "      <td>0.027913</td>\n",
       "      <td>0.008334</td>\n",
       "    </tr>\n",
       "  </tbody>\n",
       "</table>\n",
       "</div>"
      ],
      "text/plain": [
       "                                             mean                      \\\n",
       "                            Adjusted_Gross_Income Total_Income_Amount   \n",
       "Adjusted Gross Income Level                                             \n",
       "<25k                                     0.980151                 1.0   \n",
       "[25k, 50k)                               0.988820                 1.0   \n",
       "[50k, 75k)                               0.989321                 1.0   \n",
       "[75k, 100k)                              0.990426                 1.0   \n",
       "[100k, 200k)                             0.989630                 1.0   \n",
       ">200k                                    0.989233                 1.0   \n",
       "\n",
       "                                                                    \\\n",
       "                            Total_Tax_Liability Total_Overpayments   \n",
       "Adjusted Gross Income Level                                          \n",
       "<25k                                   0.028640           0.150160   \n",
       "[25k, 50k)                             0.050297           0.065513   \n",
       "[50k, 75k)                             0.073450           0.035409   \n",
       "[75k, 100k)                            0.088012           0.027930   \n",
       "[100k, 200k)                           0.116034           0.020343   \n",
       ">200k                                  0.224308           0.021210   \n",
       "\n",
       "                                                                            \n",
       "                            Tax_Due_At_Filing_Time Total_Taxes_Paid_Amount  \n",
       "Adjusted Gross Income Level                                                 \n",
       "<25k                                      0.006207                0.004708  \n",
       "[25k, 50k)                                0.005740                0.005324  \n",
       "[50k, 75k)                                0.007401                0.009747  \n",
       "[75k, 100k)                               0.008109                0.012355  \n",
       "[100k, 200k)                              0.011761                0.013895  \n",
       ">200k                                     0.027913                0.008334  "
      ]
     },
     "execution_count": 13,
     "metadata": {},
     "output_type": "execute_result"
    }
   ],
   "source": [
    "#NOTE again: comments below are unchanged from before\n",
    "\n",
    "\n",
    "#lets do the table again but this time with the tax metrics divided by the total income\n",
    "#for each respective agi stub level.\n",
    "taxMetricsTable.div(taxMetricsTable['mean']['Total_Income_Amount'], axis=0)"
   ]
  },
  {
   "cell_type": "markdown",
   "id": "12017514-6191-4c4f-8df5-fe861ee85b65",
   "metadata": {},
   "source": [
    "The numbers here however did not change from before suprisingly, it seems the duplicate data being removed did not affect these numbers. Regardless our conclusions here are the same as before"
   ]
  },
  {
   "cell_type": "markdown",
   "id": "3a22c2dc-d653-46de-b3d6-f75ed20c82c4",
   "metadata": {},
   "source": [
    "## Redo of Initial Exploration of Non-Tax Paying Tax Returns"
   ]
  },
  {
   "cell_type": "code",
   "execution_count": 14,
   "id": "e4607e7a-e156-4ddd-8c1e-04f76589b327",
   "metadata": {},
   "outputs": [
    {
     "name": "stdout",
     "output_type": "stream",
     "text": [
      "82944 166146\n",
      "49.92235744465711\n"
     ]
    }
   ],
   "source": [
    "#I am interested in finding out how many non-tax paying tax returns exist\n",
    "#to see if we can better improve our estimates of the income tax rate by filtering out \n",
    "#those returns. Let's explore this now\n",
    "print(df[df['A18300'] == 0].shape[0], df.shape[0])\n",
    "print(100*df[df['A18300'] == 0].shape[0] / df.shape[0])"
   ]
  },
  {
   "cell_type": "markdown",
   "id": "0403a993-8fed-44b5-81f8-59ec22a18bf7",
   "metadata": {},
   "source": [
    "Numbers here seem to be changed very little from before, so our conclusions here are the same as before"
   ]
  },
  {
   "cell_type": "markdown",
   "id": "12a57983-c72c-412e-9a60-8bb26b75785f",
   "metadata": {},
   "source": [
    "# Actual New Stuff This Week"
   ]
  },
  {
   "cell_type": "markdown",
   "id": "03a451f3-4668-4562-a2ba-34d14ded2040",
   "metadata": {},
   "source": [
    "I am curious about how real estate taxes differ among different economic classes. I will explore that now"
   ]
  },
  {
   "cell_type": "markdown",
   "id": "4cfc3180-59ea-4c8c-969d-91c39bf9dff1",
   "metadata": {},
   "source": [
    "## Initial Exploration of Real Estate Taxes"
   ]
  },
  {
   "cell_type": "code",
   "execution_count": 21,
   "id": "d01dbe31-a79c-4db8-85eb-44d952985b23",
   "metadata": {},
   "outputs": [
    {
     "data": {
      "text/plain": [
       "agi_stub\n",
       "1     2368437.0\n",
       "2     5108380.0\n",
       "3     8520427.0\n",
       "4     9227502.0\n",
       "5    27504843.0\n",
       "6    49055189.0\n",
       "Name: A18500, dtype: float64"
      ]
     },
     "execution_count": 21,
     "metadata": {},
     "output_type": "execute_result"
    }
   ],
   "source": [
    "classes = df.groupby('agi_stub')\n",
    "estateTaxes = classes['A18500'].sum()\n",
    "estateTaxes"
   ]
  },
  {
   "cell_type": "markdown",
   "id": "f2f9ab60-b586-482f-8ce8-b65fcd767f6b",
   "metadata": {},
   "source": [
    "It seems that very rich people pay a lot of taxes for real estate, this is probably because they own very expensive estates"
   ]
  },
  {
   "cell_type": "code",
   "execution_count": 23,
   "id": "2160b415-c289-44ac-be43-73b1ee3ae953",
   "metadata": {},
   "outputs": [
    {
     "data": {
      "text/plain": [
       "agi_stub\n",
       "1     2985825.0\n",
       "2     7631151.0\n",
       "3    13669005.0\n",
       "4    15424581.0\n",
       "5    43031842.0\n",
       "6    41634081.0\n",
       "Name: A18300, dtype: float64"
      ]
     },
     "execution_count": 23,
     "metadata": {},
     "output_type": "execute_result"
    }
   ],
   "source": [
    "#modifying luke's code here for my own purposes\n",
    "paidTaxesTotal = classes['A18300'].agg('sum')\n",
    "paidTaxesTotal"
   ]
  },
  {
   "cell_type": "code",
   "execution_count": 32,
   "id": "21c776ca-8ff7-4cf8-8dad-8ee2a883baeb",
   "metadata": {},
   "outputs": [
    {
     "data": {
      "text/plain": [
       "agi_stub\n",
       "1    0.793227\n",
       "2    0.669411\n",
       "3    0.623339\n",
       "4    0.598234\n",
       "5    0.639174\n",
       "6    1.178246\n",
       "dtype: float64"
      ]
     },
     "execution_count": 32,
     "metadata": {},
     "output_type": "execute_result"
    }
   ],
   "source": [
    "#let's get how much % of taxes paid is real estate tax for different economic classes\n",
    "percentageRealEstateTaxClasses = estateTaxes.div(paidTaxesTotal, axis=0)\n",
    "percentageRealEstateTaxClasses"
   ]
  },
  {
   "cell_type": "code",
   "execution_count": 38,
   "id": "6bfdb39f-866a-4eb5-8fb9-8a9edcc1c715",
   "metadata": {},
   "outputs": [
    {
     "data": {
      "text/plain": [
       "Text(0, 0.5, '% of Taxes Paid That is Real Estate Tax')"
      ]
     },
     "execution_count": 38,
     "metadata": {},
     "output_type": "execute_result"
    },
    {
     "data": {
      "image/png": "[encoded data removed]",
      "text/plain": [
       "<Figure size 640x480 with 1 Axes>"
      ]
     },
     "metadata": {},
     "output_type": "display_data"
    }
   ],
   "source": [
    "percentageRealEstateTaxClasses = percentageRealEstateTaxClasses.rename(index={1:'<25k', 2:'[25k, 50k)', 3:'[50k, 75k)', 4:'[75k, 100k)', 5:'[100k, 200k)', 6:'>200k'})\n",
    "percentageRealEstateTaxClasses.plot.bar()\n",
    "plt.xlabel('Income Bracket')\n",
    "plt.ylabel('% of Taxes Paid That is Real Estate Tax')"
   ]
  },
  {
   "cell_type": "markdown",
   "id": "7f419842-c344-44ab-a6b6-e84f833c10b3",
   "metadata": {},
   "source": [
    "It seems that very wealthy people (people who make over $\\$$200k) pay more in real estate taxes then they do in actual total amount of taxes paid. I think this means that very wealthy people likely have high amounts of tax credits relating to real estate. I may explore that more later. Also here I see that very poor people (people who make under $\\$$25000) have the second highest % of total taxes paid that is real estate tax. This is surprising to me, as I did not expect very poor people to have a large % of the taxes they pay being real estate taxes. That definitely deserves future exploration. I will note that the raw figures for total real estate taxes do show that very poor people pay the least total real estate taxes and the very rich pay the most, which are not suprising findings to me. Alll of this deserves future investigation."
   ]
  },
  {
   "cell_type": "code",
   "execution_count": 42,
   "id": "56a20890-9a21-4ae9-ac41-6e8152d87a69",
   "metadata": {},
   "outputs": [
    {
     "data": {
      "text/plain": [
       "STATE\n",
       "AK      124148.0\n",
       "AL      325232.0\n",
       "AR      193947.0\n",
       "AZ     1116941.0\n",
       "CA    23271014.0\n",
       "CO     1406334.0\n",
       "CT     2099251.0\n",
       "DC      366989.0\n",
       "DE      180646.0\n",
       "FL     5959274.0\n",
       "GA     2316539.0\n",
       "HI      244697.0\n",
       "IA      446887.0\n",
       "ID      269740.0\n",
       "IL     4886327.0\n",
       "IN      578581.0\n",
       "KS      454591.0\n",
       "KY      385774.0\n",
       "LA      313884.0\n",
       "MA     3547217.0\n",
       "MD     3122622.0\n",
       "ME      237336.0\n",
       "MI     1721317.0\n",
       "MN     1418326.0\n",
       "MO      800842.0\n",
       "MS      188355.0\n",
       "MT      177689.0\n",
       "NC     1615421.0\n",
       "ND       75645.0\n",
       "NE      320353.0\n",
       "NH      548997.0\n",
       "NJ     6899659.0\n",
       "NM      203628.0\n",
       "NV      568046.0\n",
       "NY    10411610.0\n",
       "OH     1760159.0\n",
       "OK      380785.0\n",
       "OR     1379086.0\n",
       "PA     2952078.0\n",
       "RI      313399.0\n",
       "SC      624644.0\n",
       "SD       94672.0\n",
       "TN      748617.0\n",
       "TX     8374174.0\n",
       "UT      679734.0\n",
       "VA     3184637.0\n",
       "VT      145730.0\n",
       "WA     3053338.0\n",
       "WI     1160556.0\n",
       "WV       54761.0\n",
       "WY       80549.0\n",
       "Name: A18500, dtype: float64"
      ]
     },
     "execution_count": 42,
     "metadata": {},
     "output_type": "execute_result"
    }
   ],
   "source": [
    "#let's look at which states have the highest real estate taxes\n",
    "states = df.groupby('STATE')\n",
    "stateEstate = states['A18500'].sum()\n",
    "stateEstate"
   ]
  },
  {
   "cell_type": "code",
   "execution_count": 49,
   "id": "321057c1-ef42-4afd-bdd5-a26b274b9e75",
   "metadata": {},
   "outputs": [
    {
     "data": {
      "text/plain": [
       "<Figure size 1000x1000 with 0 Axes>"
      ]
     },
     "execution_count": 49,
     "metadata": {},
     "output_type": "execute_result"
    },
    {
     "data": {
      "image/png": "[encoded data removed]",
      "text/plain": [
       "<Figure size 640x480 with 1 Axes>"
      ]
     },
     "metadata": {},
     "output_type": "display_data"
    },
    {
     "data": {
      "text/plain": [
       "<Figure size 1000x1000 with 0 Axes>"
      ]
     },
     "metadata": {},
     "output_type": "display_data"
    }
   ],
   "source": [
    "stateEstate.plot.bar()\n",
    "plt.figure(figsize=(10, 10))\n",
    "#note that the y axis ticks are scaled I think to 1*10^7"
   ]
  },
  {
   "cell_type": "markdown",
   "id": "7ccf7220-f761-4aef-bad8-6a4567941633",
   "metadata": {},
   "source": [
    "It seems that California, New York, and Texas are the states with the highest total real estate taxes. California in particular has massively high total real estate taxes. We could further investigate this possibly if time permits for our project."
   ]
  },
  {
   "cell_type": "markdown",
   "id": "e3f5d453-436e-4044-b8ea-af5d3eddf746",
   "metadata": {},
   "source": [
    "I want to investigate personal property taxes amount and compare that to estate taxes and see how the two metrics are compared to each other."
   ]
  },
  {
   "cell_type": "markdown",
   "id": "e8431437-6de7-4b99-99b0-5d0fa4efaa62",
   "metadata": {},
   "source": [
    "## Initial Exploration of Personal Property Taxes"
   ]
  },
  {
   "cell_type": "code",
   "execution_count": 53,
   "id": "c460943c-d6e9-42e2-8f50-33a33bf176d5",
   "metadata": {},
   "outputs": [
    {
     "data": {
      "text/plain": [
       "agi_stub\n",
       "1      71801.0\n",
       "2     407305.0\n",
       "3     567695.0\n",
       "4     491267.0\n",
       "5    1334164.0\n",
       "6    1286897.0\n",
       "Name: A18800, dtype: float64"
      ]
     },
     "execution_count": 53,
     "metadata": {},
     "output_type": "execute_result"
    }
   ],
   "source": [
    "#let's go by economic classes first\n",
    "perspropTaxes = classes['A18800'].sum()\n",
    "perspropTaxes"
   ]
  },
  {
   "cell_type": "code",
   "execution_count": 54,
   "id": "552d22b9-d98c-4652-96fe-97ce1f18cd76",
   "metadata": {},
   "outputs": [
    {
     "data": {
      "text/plain": [
       "<AxesSubplot: xlabel='agi_stub'>"
      ]
     },
     "execution_count": 54,
     "metadata": {},
     "output_type": "execute_result"
    },
    {
     "data": {
      "image/png": "[encoded data removed]",
      "text/plain": [
       "<Figure size 640x480 with 1 Axes>"
      ]
     },
     "metadata": {},
     "output_type": "display_data"
    }
   ],
   "source": [
    "perspropTaxes.plot.bar()"
   ]
  },
  {
   "cell_type": "markdown",
   "id": "1852ef2a-118b-4114-99d2-01153baa7242",
   "metadata": {},
   "source": [
    "Rich and very rich people pay lots of personal property taxes it seems"
   ]
  },
  {
   "cell_type": "code",
   "execution_count": 55,
   "id": "130f4bbb-6ea6-4075-9e33-13bc2b465f82",
   "metadata": {},
   "outputs": [
    {
     "data": {
      "text/plain": [
       "agi_stub\n",
       "1    0.024047\n",
       "2    0.053374\n",
       "3    0.041532\n",
       "4    0.031850\n",
       "5    0.031004\n",
       "6    0.030910\n",
       "dtype: float64"
      ]
     },
     "execution_count": 55,
     "metadata": {},
     "output_type": "execute_result"
    }
   ],
   "source": [
    "#let's get how much % of total taxes paid is personal property taxes for different economic classes\n",
    "percentagePersPropTaxesClasses = perspropTaxes.div(paidTaxesTotal, axis=0)\n",
    "percentagePersPropTaxesClasses"
   ]
  },
  {
   "cell_type": "code",
   "execution_count": 59,
   "id": "2cc8f008-2a62-423f-adf9-6ff3b1bb9c7f",
   "metadata": {},
   "outputs": [
    {
     "data": {
      "text/plain": [
       "Text(0, 0.5, '% of Taxes Paid That is Personal Property Taxes')"
      ]
     },
     "execution_count": 59,
     "metadata": {},
     "output_type": "execute_result"
    },
    {
     "data": {
      "image/png": "[encoded data removed]",
      "text/plain": [
       "<Figure size 640x480 with 1 Axes>"
      ]
     },
     "metadata": {},
     "output_type": "display_data"
    }
   ],
   "source": [
    "percentagePersPropTaxesClasses = percentagePersPropTaxesClasses.rename(index={1:'<25k', 2:'[25k, 50k)', 3:'[50k, 75k)', 4:'[75k, 100k)', 5:'[100k, 200k)', 6:'>200k'})\n",
    "percentagePersPropTaxesClasses.plot.bar()\n",
    "plt.xlabel('Income Bracket')\n",
    "plt.ylabel('% of Taxes Paid That is Personal Property Taxes')"
   ]
  },
  {
   "cell_type": "markdown",
   "id": "9f7111d1-af56-4962-82a7-3918a5dcb967",
   "metadata": {},
   "source": [
    "It seems that overall people who make between $\\$$25000 and $\\$$ 50000 dollars have the highest % of the total taxes they pay as personal property taxes. However the highest % shown is 0.05 and the percentages don't vary that much across income brackets\n",
    "in the graph above so overall I would say that personal property taxes don't play a huge role in how much taxes people pay."
   ]
  },
  {
   "cell_type": "code",
   "execution_count": 60,
   "id": "8691a2db-7ba3-47ae-ac7e-78b86c4249a1",
   "metadata": {},
   "outputs": [
    {
     "data": {
      "text/plain": [
       "STATE\n",
       "AK       1495.0\n",
       "AL      43884.0\n",
       "AR      26942.0\n",
       "AZ     140038.0\n",
       "CA    1269856.0\n",
       "CO     129104.0\n",
       "CT     100798.0\n",
       "DC       5803.0\n",
       "DE       4174.0\n",
       "FL     156666.0\n",
       "GA     141422.0\n",
       "HI      12111.0\n",
       "IA      35599.0\n",
       "ID       6597.0\n",
       "IL      62134.0\n",
       "IN      45248.0\n",
       "KS      43997.0\n",
       "KY      35159.0\n",
       "LA      33845.0\n",
       "MA     116892.0\n",
       "MD      62808.0\n",
       "ME      14617.0\n",
       "MI      82865.0\n",
       "MN      78280.0\n",
       "MO     105555.0\n",
       "MS      39602.0\n",
       "MT      10274.0\n",
       "NC     140316.0\n",
       "ND        879.0\n",
       "NE      27625.0\n",
       "NH      23495.0\n",
       "NJ      60405.0\n",
       "NM       6235.0\n",
       "NV      73077.0\n",
       "NY      61998.0\n",
       "OH      12726.0\n",
       "OK      11553.0\n",
       "OR      15707.0\n",
       "PA      40610.0\n",
       "RI      14401.0\n",
       "SC     109485.0\n",
       "SD       2658.0\n",
       "TN      21889.0\n",
       "TX     234345.0\n",
       "UT      23557.0\n",
       "VA     343720.0\n",
       "VT        517.0\n",
       "WA     100260.0\n",
       "WI      11484.0\n",
       "WV       7274.0\n",
       "WY       9148.0\n",
       "Name: A18800, dtype: float64"
      ]
     },
     "execution_count": 60,
     "metadata": {},
     "output_type": "execute_result"
    }
   ],
   "source": [
    "#let's look at which states have the highest total personal property taxes\n",
    "states = df.groupby('STATE')\n",
    "statePerProp = states['A18800'].sum()\n",
    "statePerProp"
   ]
  },
  {
   "cell_type": "code",
   "execution_count": 61,
   "id": "9b898f64-a019-481b-b93d-fd02fbd6e837",
   "metadata": {},
   "outputs": [
    {
     "data": {
      "text/plain": [
       "<AxesSubplot: xlabel='STATE'>"
      ]
     },
     "execution_count": 61,
     "metadata": {},
     "output_type": "execute_result"
    },
    {
     "data": {
      "image/png": "[encoded data removed]",
      "text/plain": [
       "<Figure size 640x480 with 1 Axes>"
      ]
     },
     "metadata": {},
     "output_type": "display_data"
    }
   ],
   "source": [
    "statePerProp.plot.bar()"
   ]
  },
  {
   "cell_type": "markdown",
   "id": "d2aeb028-0dfb-49e7-9e98-6cb5ce8de368",
   "metadata": {},
   "source": [
    "It seems here that California and Virginia have the highest total personal property taxes paid. I am surprised by the inclusion of Virginia here in the top two. I am curious to why that is. However that isn't a pressing issue here for\n",
    "our project, so I won't investigate that right now. Instead I will go check out the percentage of total taxes paid as real estate taxes for states (I only did totals before, and this idea just occured to me at the time of typing this)"
   ]
  },
  {
   "cell_type": "markdown",
   "id": "17c5c712-9bb3-4226-b1bd-a59441e92bb4",
   "metadata": {},
   "source": [
    "## Back to Real Estate Taxes"
   ]
  },
  {
   "cell_type": "code",
   "execution_count": 63,
   "id": "66bf3013-bf55-4d78-8a74-c404b85af368",
   "metadata": {},
   "outputs": [
    {
     "data": {
      "text/plain": [
       "STATE\n",
       "AK      121802.0\n",
       "AL      974903.0\n",
       "AR      510029.0\n",
       "AZ     2045265.0\n",
       "CA    25624551.0\n",
       "CO     2698560.0\n",
       "CT     2055155.0\n",
       "DC      597909.0\n",
       "DE      369939.0\n",
       "FL     5645871.0\n",
       "GA     4216005.0\n",
       "HI      633805.0\n",
       "IA      687066.0\n",
       "ID      529398.0\n",
       "IL     4849197.0\n",
       "IN     1241130.0\n",
       "KS      728404.0\n",
       "KY      832404.0\n",
       "LA      767640.0\n",
       "MA     4048656.0\n",
       "MD     5479722.0\n",
       "ME      339446.0\n",
       "MI     2362321.0\n",
       "MN     2244750.0\n",
       "MO     1386570.0\n",
       "MS      481234.0\n",
       "MT      317020.0\n",
       "NC     3077504.0\n",
       "ND       99383.0\n",
       "NE      460221.0\n",
       "NH      497716.0\n",
       "NJ     6004905.0\n",
       "NM      404808.0\n",
       "NV      776031.0\n",
       "NY     9305513.0\n",
       "OH     2361713.0\n",
       "OK      753037.0\n",
       "OR     2178332.0\n",
       "PA     3771413.0\n",
       "RI      426689.0\n",
       "SC     1428321.0\n",
       "SD      115490.0\n",
       "TN     1078617.0\n",
       "TX     7784672.0\n",
       "UT     1606048.0\n",
       "VA     5051676.0\n",
       "VT      161468.0\n",
       "WA     3391104.0\n",
       "WI     1582473.0\n",
       "WV      189409.0\n",
       "WY       81190.0\n",
       "Name: A18300, dtype: float64"
      ]
     },
     "execution_count": 63,
     "metadata": {},
     "output_type": "execute_result"
    }
   ],
   "source": [
    "#modifying luke's code here for my own purposes\n",
    "paidTaxesTotalStates = states['A18300'].agg('sum')\n",
    "paidTaxesTotalStates"
   ]
  },
  {
   "cell_type": "code",
   "execution_count": 65,
   "id": "797ecc29-ab01-429c-a01c-414ccc7563ec",
   "metadata": {},
   "outputs": [
    {
     "data": {
      "text/plain": [
       "STATE\n",
       "AK    1.019261\n",
       "AL    0.333604\n",
       "AR    0.380267\n",
       "AZ    0.546111\n",
       "CA    0.908153\n",
       "CO    0.521142\n",
       "CT    1.021456\n",
       "DC    0.613787\n",
       "DE    0.488313\n",
       "FL    1.055510\n",
       "GA    0.549463\n",
       "HI    0.386076\n",
       "IA    0.650428\n",
       "ID    0.509522\n",
       "IL    1.007657\n",
       "IN    0.466173\n",
       "KS    0.624092\n",
       "KY    0.463446\n",
       "LA    0.408895\n",
       "MA    0.876147\n",
       "MD    0.569850\n",
       "ME    0.699186\n",
       "MI    0.728655\n",
       "MN    0.631841\n",
       "MO    0.577571\n",
       "MS    0.391400\n",
       "MT    0.560498\n",
       "NC    0.524913\n",
       "ND    0.761146\n",
       "NE    0.696085\n",
       "NH    1.103033\n",
       "NJ    1.149004\n",
       "NM    0.503024\n",
       "NV    0.731989\n",
       "NY    1.118865\n",
       "OH    0.745289\n",
       "OK    0.505666\n",
       "OR    0.633093\n",
       "PA    0.782751\n",
       "RI    0.734490\n",
       "SC    0.437327\n",
       "SD    0.819742\n",
       "TN    0.694053\n",
       "TX    1.075726\n",
       "UT    0.423234\n",
       "VA    0.630412\n",
       "VT    0.902532\n",
       "WA    0.900396\n",
       "WI    0.733381\n",
       "WV    0.289115\n",
       "WY    0.992105\n",
       "dtype: float64"
      ]
     },
     "execution_count": 65,
     "metadata": {},
     "output_type": "execute_result"
    }
   ],
   "source": [
    "stateEstatePercentages = stateEstate.div(paidTaxesTotalStates, axis=0)\n",
    "stateEstatePercentages"
   ]
  },
  {
   "cell_type": "code",
   "execution_count": 67,
   "id": "58dca5f6-9eab-482e-84ca-b18b5596da40",
   "metadata": {},
   "outputs": [
    {
     "data": {
      "text/plain": [
       "<AxesSubplot: xlabel='STATE'>"
      ]
     },
     "execution_count": 67,
     "metadata": {},
     "output_type": "execute_result"
    },
    {
     "data": {
      "image/png": "[encoded data removed]",
      "text/plain": [
       "<Figure size 640x480 with 1 Axes>"
      ]
     },
     "metadata": {},
     "output_type": "display_data"
    }
   ],
   "source": [
    "stateEstatePercentages.plot.bar()"
   ]
  },
  {
   "cell_type": "markdown",
   "id": "d31b5cab-3882-416c-b56b-160e8a50ba80",
   "metadata": {},
   "source": [
    "Several states have more than 100% of their total taxes paid as real estate taxes. Clearly there must be a lot of real estate property tax credits involved here. I think I need to investigate tax credits in the data set and see if any are related to real\n",
    "estate. For now presently however I will do what I just did but with personal property taxes."
   ]
  },
  {
   "cell_type": "markdown",
   "id": "f9514631-e7c1-439b-8d24-c803fbb0422f",
   "metadata": {},
   "source": [
    "## Back to Personal Property Taxes"
   ]
  },
  {
   "cell_type": "code",
   "execution_count": 68,
   "id": "17338a3e-72c8-4c91-8b09-bc08cec80122",
   "metadata": {},
   "outputs": [
    {
     "data": {
      "text/plain": [
       "STATE\n",
       "AK    0.012274\n",
       "AL    0.045014\n",
       "AR    0.052824\n",
       "AZ    0.068469\n",
       "CA    0.049556\n",
       "CO    0.047842\n",
       "CT    0.049046\n",
       "DC    0.009705\n",
       "DE    0.011283\n",
       "FL    0.027749\n",
       "GA    0.033544\n",
       "HI    0.019108\n",
       "IA    0.051813\n",
       "ID    0.012461\n",
       "IL    0.012813\n",
       "IN    0.036457\n",
       "KS    0.060402\n",
       "KY    0.042238\n",
       "LA    0.044090\n",
       "MA    0.028872\n",
       "MD    0.011462\n",
       "ME    0.043061\n",
       "MI    0.035078\n",
       "MN    0.034872\n",
       "MO    0.076127\n",
       "MS    0.082293\n",
       "MT    0.032408\n",
       "NC    0.045594\n",
       "ND    0.008845\n",
       "NE    0.060026\n",
       "NH    0.047206\n",
       "NJ    0.010059\n",
       "NM    0.015402\n",
       "NV    0.094168\n",
       "NY    0.006663\n",
       "OH    0.005388\n",
       "OK    0.015342\n",
       "OR    0.007211\n",
       "PA    0.010768\n",
       "RI    0.033751\n",
       "SC    0.076653\n",
       "SD    0.023015\n",
       "TN    0.020294\n",
       "TX    0.030103\n",
       "UT    0.014668\n",
       "VA    0.068041\n",
       "VT    0.003202\n",
       "WA    0.029566\n",
       "WI    0.007257\n",
       "WV    0.038404\n",
       "WY    0.112674\n",
       "dtype: float64"
      ]
     },
     "execution_count": 68,
     "metadata": {},
     "output_type": "execute_result"
    }
   ],
   "source": [
    "statePerPropPercentages = statePerProp.div(paidTaxesTotalStates, axis=0)\n",
    "statePerPropPercentages"
   ]
  },
  {
   "cell_type": "code",
   "execution_count": 70,
   "id": "35f7e999-5b41-49fb-b5a1-c5ac52f15d7f",
   "metadata": {},
   "outputs": [
    {
     "data": {
      "text/plain": [
       "<AxesSubplot: xlabel='STATE'>"
      ]
     },
     "execution_count": 70,
     "metadata": {},
     "output_type": "execute_result"
    },
    {
     "data": {
      "image/png": "[encoded data removed]",
      "text/plain": [
       "<Figure size 640x480 with 1 Axes>"
      ]
     },
     "metadata": {},
     "output_type": "display_data"
    }
   ],
   "source": [
    "statePerPropPercentages.plot.bar()"
   ]
  },
  {
   "cell_type": "markdown",
   "id": "b8159a26-cdcc-4a55-899b-f6202b23f442",
   "metadata": {},
   "source": [
    "Overall it seems that the % of total taxes paid as personal property taxes across states varies somewhat, but doesn't end up comprising a major % of the total taxes paid for any state. The highest % here is 11.27% for Wyoming. I don't know Wyoming has the\n",
    "highest % here, but that is not an important question for me right now regarding the project. For now I wish to focus on different tax credits in the data set that could end up being related to real esatate. The graph above doesn't provide me much useful information overall."
   ]
  },
  {
   "cell_type": "code",
   "execution_count": null,
   "id": "20079e98-43d6-48ab-a74e-de3174f6dc8a",
   "metadata": {},
   "outputs": [],
   "source": []
  }
 ],
 "metadata": {
  "kernelspec": {
   "display_name": "Python 3 (ipykernel)",
   "language": "python",
   "name": "python3"
  },
  "language_info": {
   "codemirror_mode": {
    "name": "ipython",
    "version": 3
   },
   "file_extension": ".py",
   "mimetype": "text/x-python",
   "name": "python",
   "nbconvert_exporter": "python",
   "pygments_lexer": "ipython3",
   "version": "3.9.15"
  }
 },
 "nbformat": 4,
 "nbformat_minor": 5
}
