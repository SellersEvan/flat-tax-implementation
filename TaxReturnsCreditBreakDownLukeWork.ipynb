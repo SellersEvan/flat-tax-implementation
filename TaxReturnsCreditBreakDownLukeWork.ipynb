{
 "cells": [
  {
   "cell_type": "markdown",
   "id": "813988ab-ba94-4423-b47e-5a0412208146",
   "metadata": {},
   "source": [
    "### Tax Returns Credit Breakdown Luke Work"
   ]
  },
  {
   "cell_type": "code",
   "execution_count": 39,
   "id": "47f1bd29-9d7e-43f4-bc1b-23387e6782a2",
   "metadata": {},
   "outputs": [],
   "source": [
    "#gauss won't let me save in TaxReturnsCreditBreakDown, doing work here\n",
    "#note to self-try education tax credit possibly"
   ]
  },
  {
   "cell_type": "markdown",
   "id": "63481775-2d56-46a6-bb8d-8925be9a7d7c",
   "metadata": {},
   "source": [
    "## Types of Tax Credits\n",
    "A tax credit takes the amount off the total final tax bill, instead of deducting it from your taxable income.\n",
    "\n",
    "| Number Filed (Col) | Amount Filed (Col) | Form | Type of Return | Description |\n",
    "| --- | --- | --- | --- | --- |\n",
    "| `N07230` | `A07230` | Schedule 3 | Education | $2,500 per student, used toward course materials and tuition |\n",
    "| `N07240` | `A07240` | Schedule 3 | Retirement Savings Contribution | 20% of contributions to a qualifying retirement plans |\n",
    "| `N85770` | `A85770` | 8962 | Insurence Premium | Monthly insurance payment when enrolled in specific plans |\n",
    "| `N07180` | `A07180` | Schedule 3 | Child/Dependent Care | Children under 13, or dependents who are unable to take care of them self |\n",
    "| `N07225` | `A07225` | 1040 | w/ Child/Dependent | Having any child under 18 or dependent |\n",
    "| `N07300` | `A07300` | Schedule 3 | w/ Foreign Tax | Having any taxes imposed on you by a foreign country |\n",
    "| `N11070` | `A11070` | 1040 | w/ Additional Child | Having 3 or more children |\n",
    "| `N07260` | `A07260` | Schedule 3 | w/ Residential Energy | Energy efficiency improvements |\n",
    "| `N09400` | `A09400` | Schedule 3 | w/ Self-Employment | Being self-employed |\n",
    "| `N10960` | `A10960` | 1040 | w/ Refundable Education | Having to cover the cost of higher education |\n",
    "| `N11450` | `A11450` | Schedule 3 | w/ Sick/Family Leave | Having to take leave from job for sickness or family reasons |\n",
    "| `N10970` | `A10970` | 1040 | w/ Recovery Rebate | Anyone one with income less than \\$75K for 2021  |\n",
    "\n"
   ]
  },
  {
   "cell_type": "markdown",
   "id": "a591783d-2835-476c-9b17-1c1b9e07c3aa",
   "metadata": {},
   "source": [
    "## Info To Find\n",
    "And make some charts, and anything else you want to review\n",
    "(Delete these notes when complete)\n",
    " - total $ amount -DID SO by Josh\n",
    " \n",
    " - total $ amount, by credit type\n",
    " \n",
    " - total $ amount, by tax bracket -DID SO by Josh\n",
    " \n",
    " - total $ amount, by credit type, by tax bracket"
   ]
  },
  {
   "cell_type": "code",
   "execution_count": 40,
   "id": "38376c86-274d-4c12-a18c-3985d045d584",
   "metadata": {},
   "outputs": [],
   "source": [
    "TAX_CREDIT_AMT  = [ \"A07225\", \"A11070\", \"A10960\", \"A10970\", \"A07230\", \"A07240\", \"A85770\", \"A07180\", \"A07300\", \"A07260\", \"A09400\", \"A11450\", \"A11560\" ]\n",
    "TAX_CREDIT_NUM  = [ \"N07225\", \"N11070\", \"N10960\", \"N10970\", \"N07230\", \"N07240\",\"N85770\", \"N07180\", \"N07300\", \"N07260\", \"N09400\", \"N11450\", \"N11560\" ]"
   ]
  },
  {
   "cell_type": "code",
   "execution_count": 41,
   "id": "4afe9132-9641-4457-842c-ca6ce8395f3a",
   "metadata": {},
   "outputs": [],
   "source": [
    "import pandas as pd\n",
    "import matplotlib.pyplot as plt"
   ]
  },
  {
   "cell_type": "code",
   "execution_count": 42,
   "id": "be403830-02d1-43dc-a921-49cea6aa9a38",
   "metadata": {},
   "outputs": [],
   "source": [
    "df = pd.read_csv(\"./data/tax_data_2020.csv\")\n",
    "df = df[df.zipcode != 0]"
   ]
  },
  {
   "cell_type": "code",
   "execution_count": 43,
   "id": "2aa643bd-5205-469e-8bf7-8330570a3afe",
   "metadata": {},
   "outputs": [],
   "source": [
    "def toMillion(amount):\n",
    "    return round(amount / 1000000, 2)\n",
    "\n",
    "def toBillion(amount):\n",
    "    return round(amount / 1000000000, 2)\n",
    "\n",
    "def toTrillion(amount):\n",
    "    return round(amount / 1000000000000, 10)"
   ]
  },
  {
   "cell_type": "markdown",
   "id": "8fb44548-c599-4dec-bf12-6d9bc109eb79",
   "metadata": {},
   "source": [
    "### Initial Tax Credit Exploration"
   ]
  },
  {
   "cell_type": "code",
   "execution_count": 44,
   "id": "ccaaf4ef-f89d-45f1-bff0-4f254e9a1d3a",
   "metadata": {},
   "outputs": [
    {
     "data": {
      "text/html": [
       "<div>\n",
       "<style scoped>\n",
       "    .dataframe tbody tr th:only-of-type {\n",
       "        vertical-align: middle;\n",
       "    }\n",
       "\n",
       "    .dataframe tbody tr th {\n",
       "        vertical-align: top;\n",
       "    }\n",
       "\n",
       "    .dataframe thead th {\n",
       "        text-align: right;\n",
       "    }\n",
       "</style>\n",
       "<table border=\"1\" class=\"dataframe\">\n",
       "  <thead>\n",
       "    <tr style=\"text-align: right;\">\n",
       "      <th></th>\n",
       "      <th>A07225</th>\n",
       "      <th>A11070</th>\n",
       "      <th>A10960</th>\n",
       "      <th>A10970</th>\n",
       "      <th>A07230</th>\n",
       "      <th>A07240</th>\n",
       "      <th>A85770</th>\n",
       "      <th>A07180</th>\n",
       "      <th>A07300</th>\n",
       "      <th>A07260</th>\n",
       "      <th>A09400</th>\n",
       "      <th>A11450</th>\n",
       "      <th>A11560</th>\n",
       "    </tr>\n",
       "    <tr>\n",
       "      <th>agi_stub</th>\n",
       "      <th></th>\n",
       "      <th></th>\n",
       "      <th></th>\n",
       "      <th></th>\n",
       "      <th></th>\n",
       "      <th></th>\n",
       "      <th></th>\n",
       "      <th></th>\n",
       "      <th></th>\n",
       "      <th></th>\n",
       "      <th></th>\n",
       "      <th></th>\n",
       "      <th></th>\n",
       "    </tr>\n",
       "  </thead>\n",
       "  <tbody>\n",
       "    <tr>\n",
       "      <th>1</th>\n",
       "      <td>1115635.0</td>\n",
       "      <td>12440779.0</td>\n",
       "      <td>1911061.0</td>\n",
       "      <td>18575709.0</td>\n",
       "      <td>785537.0</td>\n",
       "      <td>344389.0</td>\n",
       "      <td>15077522.0</td>\n",
       "      <td>44731.0</td>\n",
       "      <td>9697.0</td>\n",
       "      <td>14497.0</td>\n",
       "      <td>9456899.0</td>\n",
       "      <td>602488.0</td>\n",
       "      <td>860478.0</td>\n",
       "    </tr>\n",
       "    <tr>\n",
       "      <th>2</th>\n",
       "      <td>14951003.0</td>\n",
       "      <td>15865479.0</td>\n",
       "      <td>1337258.0</td>\n",
       "      <td>8027248.0</td>\n",
       "      <td>2609167.0</td>\n",
       "      <td>1144185.0</td>\n",
       "      <td>11100566.0</td>\n",
       "      <td>664627.0</td>\n",
       "      <td>60143.0</td>\n",
       "      <td>306384.0</td>\n",
       "      <td>8878458.0</td>\n",
       "      <td>412745.0</td>\n",
       "      <td>662673.0</td>\n",
       "    </tr>\n",
       "    <tr>\n",
       "      <th>3</th>\n",
       "      <td>16466426.0</td>\n",
       "      <td>3433735.0</td>\n",
       "      <td>722944.0</td>\n",
       "      <td>4383574.0</td>\n",
       "      <td>1510657.0</td>\n",
       "      <td>246002.0</td>\n",
       "      <td>2546206.0</td>\n",
       "      <td>404364.0</td>\n",
       "      <td>115745.0</td>\n",
       "      <td>550610.0</td>\n",
       "      <td>6721324.0</td>\n",
       "      <td>175812.0</td>\n",
       "      <td>96287.0</td>\n",
       "    </tr>\n",
       "    <tr>\n",
       "      <th>4</th>\n",
       "      <td>13901063.0</td>\n",
       "      <td>518995.0</td>\n",
       "      <td>468202.0</td>\n",
       "      <td>2740478.0</td>\n",
       "      <td>1007249.0</td>\n",
       "      <td>0.0</td>\n",
       "      <td>170359.0</td>\n",
       "      <td>345300.0</td>\n",
       "      <td>137510.0</td>\n",
       "      <td>479735.0</td>\n",
       "      <td>5342967.0</td>\n",
       "      <td>72158.0</td>\n",
       "      <td>1183.0</td>\n",
       "    </tr>\n",
       "    <tr>\n",
       "      <th>5</th>\n",
       "      <td>27241973.0</td>\n",
       "      <td>50835.0</td>\n",
       "      <td>1030291.0</td>\n",
       "      <td>5900588.0</td>\n",
       "      <td>1803549.0</td>\n",
       "      <td>0.0</td>\n",
       "      <td>2152.0</td>\n",
       "      <td>875315.0</td>\n",
       "      <td>711611.0</td>\n",
       "      <td>1212207.0</td>\n",
       "      <td>13677333.0</td>\n",
       "      <td>153746.0</td>\n",
       "      <td>0.0</td>\n",
       "    </tr>\n",
       "    <tr>\n",
       "      <th>6</th>\n",
       "      <td>9661820.0</td>\n",
       "      <td>63.0</td>\n",
       "      <td>0.0</td>\n",
       "      <td>14003.0</td>\n",
       "      <td>0.0</td>\n",
       "      <td>0.0</td>\n",
       "      <td>0.0</td>\n",
       "      <td>397114.0</td>\n",
       "      <td>10092080.0</td>\n",
       "      <td>619033.0</td>\n",
       "      <td>20392362.0</td>\n",
       "      <td>46311.0</td>\n",
       "      <td>0.0</td>\n",
       "    </tr>\n",
       "  </tbody>\n",
       "</table>\n",
       "</div>"
      ],
      "text/plain": [
       "              A07225      A11070     A10960      A10970     A07230     A07240  \\\n",
       "agi_stub                                                                        \n",
       "1          1115635.0  12440779.0  1911061.0  18575709.0   785537.0   344389.0   \n",
       "2         14951003.0  15865479.0  1337258.0   8027248.0  2609167.0  1144185.0   \n",
       "3         16466426.0   3433735.0   722944.0   4383574.0  1510657.0   246002.0   \n",
       "4         13901063.0    518995.0   468202.0   2740478.0  1007249.0        0.0   \n",
       "5         27241973.0     50835.0  1030291.0   5900588.0  1803549.0        0.0   \n",
       "6          9661820.0        63.0        0.0     14003.0        0.0        0.0   \n",
       "\n",
       "              A85770    A07180      A07300     A07260      A09400    A11450  \\\n",
       "agi_stub                                                                      \n",
       "1         15077522.0   44731.0      9697.0    14497.0   9456899.0  602488.0   \n",
       "2         11100566.0  664627.0     60143.0   306384.0   8878458.0  412745.0   \n",
       "3          2546206.0  404364.0    115745.0   550610.0   6721324.0  175812.0   \n",
       "4           170359.0  345300.0    137510.0   479735.0   5342967.0   72158.0   \n",
       "5             2152.0  875315.0    711611.0  1212207.0  13677333.0  153746.0   \n",
       "6                0.0  397114.0  10092080.0   619033.0  20392362.0   46311.0   \n",
       "\n",
       "            A11560  \n",
       "agi_stub            \n",
       "1         860478.0  \n",
       "2         662673.0  \n",
       "3          96287.0  \n",
       "4           1183.0  \n",
       "5              0.0  \n",
       "6              0.0  "
      ]
     },
     "execution_count": 44,
     "metadata": {},
     "output_type": "execute_result"
    }
   ],
   "source": [
    "creditByTaxBracket = df.groupby('agi_stub')[TAX_CREDIT_AMT].sum()\n",
    "creditByTaxBracket"
   ]
  },
  {
   "cell_type": "code",
   "execution_count": 45,
   "id": "c29c2445-d16f-407e-bcf3-1da0d6ac7720",
   "metadata": {},
   "outputs": [
    {
     "data": {
      "text/plain": [
       "<AxesSubplot: xlabel='agi_stub'>"
      ]
     },
     "execution_count": 45,
     "metadata": {},
     "output_type": "execute_result"
    },
    {
     "data": {
      "image/png": "[encoded data removed]",
      "text/plain": [
       "<Figure size 640x480 with 1 Axes>"
      ]
     },
     "metadata": {},
     "output_type": "display_data"
    }
   ],
   "source": [
    "creditByTaxBracket.sum(axis=1).plot.bar()"
   ]
  },
  {
   "cell_type": "code",
   "execution_count": 46,
   "id": "eec63435-fbdc-40ad-9359-be905c7bbfcc",
   "metadata": {},
   "outputs": [
    {
     "data": {
      "text/plain": [
       "agi_stub\n",
       "1    61.24\n",
       "2    66.02\n",
       "3    37.37\n",
       "4    25.19\n",
       "5    52.66\n",
       "6    41.22\n",
       "dtype: float64"
      ]
     },
     "execution_count": 46,
     "metadata": {},
     "output_type": "execute_result"
    }
   ],
   "source": [
    "toBillion(creditByTaxBracket.sum(axis=1)*1000)"
   ]
  },
  {
   "cell_type": "markdown",
   "id": "fd151342-8a1f-4f5d-be5b-d1a68ac277a0",
   "metadata": {},
   "source": [
    "It seems that the two lowest income brackets have both the highest amounts of $ from tax credits, and the two highet income brackets have the most amount of money from tax credits. These are important considerations for desigining a new tax code. The poorest get around 127 billion dollars in tax credits while rich people get around 94 billion dollars in tax credits."
   ]
  },
  {
   "cell_type": "code",
   "execution_count": 47,
   "id": "0152a341-a1e4-4856-8f02-83cf341dab10",
   "metadata": {},
   "outputs": [
    {
     "data": {
      "text/plain": [
       "<AxesSubplot: xlabel='agi_stub'>"
      ]
     },
     "execution_count": 47,
     "metadata": {},
     "output_type": "execute_result"
    },
    {
     "data": {
      "image/png": "[encoded data removed]",
      "text/plain": [
       "<Figure size 640x480 with 1 Axes>"
      ]
     },
     "metadata": {},
     "output_type": "display_data"
    }
   ],
   "source": [
    "creditByTaxBracket.plot.bar()"
   ]
  },
  {
   "cell_type": "markdown",
   "id": "79e3aee5-f8d9-405b-a251-add7bfd95eb1",
   "metadata": {},
   "source": [
    "From an initial look at the data, it looks like the top income bracket (people with >$200,000 annual income) has a relatively great amount of money from self employed tax credits compared to their other tax credits since that is the tax credit they have the most money from. Perhaps this is from top income bracket setting up their own buisnesses with their greater wealth from the larger income. I can't tell what tax credit the very big purple bar for 5 is referring to, so I will try to guess what that is and focus on that next."
   ]
  },
  {
   "cell_type": "markdown",
   "id": "3b5fe961-2020-4150-9eca-1416ed86e58b",
   "metadata": {},
   "source": [
    "Luke Note: The reason the highest income bracket has so much from the self employed tax credit is due to the fact that the people who are self employed, generally make a lot more moneey than any other average person. A business requires money, however it is not the same as being self employed, which generally doesn't cost too much (anyone can make a company). Also it appears that insurance premiums have a disproportionately large affect on the lower tax brackets compared to the upper ones, meaning insurance premiums likely happen much more to the lower tax bracket people."
   ]
  },
  {
   "cell_type": "markdown",
   "id": "003c8270-2d3d-4eed-8159-f9618ab25b01",
   "metadata": {},
   "source": [
    "### Child Dependent Tax Credit Exploration"
   ]
  },
  {
   "cell_type": "code",
   "execution_count": 48,
   "id": "d8006c8f-7756-4b2b-bdf4-66d9d4b54574",
   "metadata": {},
   "outputs": [
    {
     "data": {
      "text/plain": [
       "agi_stub\n",
       "1     1.12\n",
       "2    14.95\n",
       "3    16.47\n",
       "4    13.90\n",
       "5    27.24\n",
       "6     9.66\n",
       "Name: A07225, dtype: float64"
      ]
     },
     "execution_count": 48,
     "metadata": {},
     "output_type": "execute_result"
    }
   ],
   "source": [
    "toBillion(creditByTaxBracket['A07225']*1000)"
   ]
  },
  {
   "cell_type": "markdown",
   "id": "49a03de5-87ef-4766-ab3f-43b264fa1cac",
   "metadata": {},
   "source": [
    "The upper tax brackets makes relatively massive amounts of money from child dependent tax credits compared to the other tax brackets. Surpisingly, the lowest bracket and less so the top tax bracket have an extremely low amount of money from child dependent tax credits. I am more surpised by the lowest tax bracket result. Perhaps this indicates they don't have lots of kids?"
   ]
  },
  {
   "cell_type": "markdown",
   "id": "48249935-6b3a-4137-8e9b-068c9a62a921",
   "metadata": {},
   "source": [
    "Luke Note: I believe it is true that lower income people generally do not have as many kids since being in that range makes raising children quite difficult. However you must realize that generally speaking these, lower income individuals might not even be in their 30s or late 20s which is generally when kids happen. If they were they probably would have gotten raises even if their job had little pay."
   ]
  },
  {
   "cell_type": "code",
   "execution_count": 49,
   "id": "1a986bed-bd92-4771-9a94-59d1a5999b25",
   "metadata": {},
   "outputs": [
    {
     "data": {
      "text/plain": [
       "<AxesSubplot: xlabel='agi_stub'>"
      ]
     },
     "execution_count": 49,
     "metadata": {},
     "output_type": "execute_result"
    },
    {
     "data": {
      "image/png": "[encoded data removed]",
      "text/plain": [
       "<Figure size 640x480 with 1 Axes>"
      ]
     },
     "metadata": {},
     "output_type": "display_data"
    }
   ],
   "source": [
    "toBillion(creditByTaxBracket['A07225']*1000).plot.bar()"
   ]
  },
  {
   "cell_type": "markdown",
   "id": "518ee74e-ca7a-4ad9-abfc-6837fbc53159",
   "metadata": {},
   "source": [
    "graph for visual reference"
   ]
  },
  {
   "cell_type": "markdown",
   "id": "93d5c93d-5577-4038-9104-505cb27c29fb",
   "metadata": {},
   "source": [
    "Let's focus on the second lowest tax bracket's credits next"
   ]
  },
  {
   "cell_type": "markdown",
   "id": "92d62d8d-d1c1-43a4-9150-0ce95549a36a",
   "metadata": {},
   "source": [
    "## Second Lowest Bracket Tax Credits"
   ]
  },
  {
   "cell_type": "code",
   "execution_count": 50,
   "id": "0e2ecfb5-117a-40e1-ac9a-34ffcc17e8e7",
   "metadata": {},
   "outputs": [
    {
     "data": {
      "text/html": [
       "<div>\n",
       "<style scoped>\n",
       "    .dataframe tbody tr th:only-of-type {\n",
       "        vertical-align: middle;\n",
       "    }\n",
       "\n",
       "    .dataframe tbody tr th {\n",
       "        vertical-align: top;\n",
       "    }\n",
       "\n",
       "    .dataframe thead th {\n",
       "        text-align: right;\n",
       "    }\n",
       "</style>\n",
       "<table border=\"1\" class=\"dataframe\">\n",
       "  <thead>\n",
       "    <tr style=\"text-align: right;\">\n",
       "      <th></th>\n",
       "      <th>A07225</th>\n",
       "      <th>A11070</th>\n",
       "      <th>A10960</th>\n",
       "      <th>A10970</th>\n",
       "      <th>A07230</th>\n",
       "      <th>A07240</th>\n",
       "      <th>A85770</th>\n",
       "      <th>A07180</th>\n",
       "      <th>A07300</th>\n",
       "      <th>A07260</th>\n",
       "      <th>A09400</th>\n",
       "      <th>A11450</th>\n",
       "      <th>A11560</th>\n",
       "    </tr>\n",
       "    <tr>\n",
       "      <th>agi_stub</th>\n",
       "      <th></th>\n",
       "      <th></th>\n",
       "      <th></th>\n",
       "      <th></th>\n",
       "      <th></th>\n",
       "      <th></th>\n",
       "      <th></th>\n",
       "      <th></th>\n",
       "      <th></th>\n",
       "      <th></th>\n",
       "      <th></th>\n",
       "      <th></th>\n",
       "      <th></th>\n",
       "    </tr>\n",
       "  </thead>\n",
       "  <tbody>\n",
       "    <tr>\n",
       "      <th>2</th>\n",
       "      <td>1.495100e+10</td>\n",
       "      <td>1.586548e+10</td>\n",
       "      <td>1.337258e+09</td>\n",
       "      <td>8.027248e+09</td>\n",
       "      <td>2.609167e+09</td>\n",
       "      <td>1.144185e+09</td>\n",
       "      <td>1.110057e+10</td>\n",
       "      <td>664627000.0</td>\n",
       "      <td>60143000.0</td>\n",
       "      <td>306384000.0</td>\n",
       "      <td>8.878458e+09</td>\n",
       "      <td>412745000.0</td>\n",
       "      <td>662673000.0</td>\n",
       "    </tr>\n",
       "  </tbody>\n",
       "</table>\n",
       "</div>"
      ],
      "text/plain": [
       "                A07225        A11070        A10960        A10970  \\\n",
       "agi_stub                                                           \n",
       "2         1.495100e+10  1.586548e+10  1.337258e+09  8.027248e+09   \n",
       "\n",
       "                A07230        A07240        A85770       A07180      A07300  \\\n",
       "agi_stub                                                                      \n",
       "2         2.609167e+09  1.144185e+09  1.110057e+10  664627000.0  60143000.0   \n",
       "\n",
       "               A07260        A09400       A11450       A11560  \n",
       "agi_stub                                                       \n",
       "2         306384000.0  8.878458e+09  412745000.0  662673000.0  "
      ]
     },
     "execution_count": 50,
     "metadata": {},
     "output_type": "execute_result"
    }
   ],
   "source": [
    "poorTaxCredits = creditByTaxBracket.loc[[2]]\n",
    "poorTaxCredits*1000"
   ]
  },
  {
   "cell_type": "code",
   "execution_count": 51,
   "id": "3c17de19-a674-4cb5-96f9-6700caa17444",
   "metadata": {},
   "outputs": [
    {
     "data": {
      "text/html": [
       "<div>\n",
       "<style scoped>\n",
       "    .dataframe tbody tr th:only-of-type {\n",
       "        vertical-align: middle;\n",
       "    }\n",
       "\n",
       "    .dataframe tbody tr th {\n",
       "        vertical-align: top;\n",
       "    }\n",
       "\n",
       "    .dataframe thead th {\n",
       "        text-align: right;\n",
       "    }\n",
       "</style>\n",
       "<table border=\"1\" class=\"dataframe\">\n",
       "  <thead>\n",
       "    <tr style=\"text-align: right;\">\n",
       "      <th></th>\n",
       "      <th>A07225</th>\n",
       "      <th>A11070</th>\n",
       "      <th>A10960</th>\n",
       "      <th>A10970</th>\n",
       "      <th>A07230</th>\n",
       "      <th>A07240</th>\n",
       "      <th>A85770</th>\n",
       "      <th>A07180</th>\n",
       "      <th>A07300</th>\n",
       "      <th>A07260</th>\n",
       "      <th>A09400</th>\n",
       "      <th>A11450</th>\n",
       "      <th>A11560</th>\n",
       "    </tr>\n",
       "    <tr>\n",
       "      <th>agi_stub</th>\n",
       "      <th></th>\n",
       "      <th></th>\n",
       "      <th></th>\n",
       "      <th></th>\n",
       "      <th></th>\n",
       "      <th></th>\n",
       "      <th></th>\n",
       "      <th></th>\n",
       "      <th></th>\n",
       "      <th></th>\n",
       "      <th></th>\n",
       "      <th></th>\n",
       "      <th></th>\n",
       "    </tr>\n",
       "  </thead>\n",
       "  <tbody>\n",
       "    <tr>\n",
       "      <th>2</th>\n",
       "      <td>14.95</td>\n",
       "      <td>15.87</td>\n",
       "      <td>1.34</td>\n",
       "      <td>8.03</td>\n",
       "      <td>2.61</td>\n",
       "      <td>1.14</td>\n",
       "      <td>11.1</td>\n",
       "      <td>0.66</td>\n",
       "      <td>0.06</td>\n",
       "      <td>0.31</td>\n",
       "      <td>8.88</td>\n",
       "      <td>0.41</td>\n",
       "      <td>0.66</td>\n",
       "    </tr>\n",
       "  </tbody>\n",
       "</table>\n",
       "</div>"
      ],
      "text/plain": [
       "          A07225  A11070  A10960  A10970  A07230  A07240  A85770  A07180  \\\n",
       "agi_stub                                                                   \n",
       "2          14.95   15.87    1.34    8.03    2.61    1.14    11.1    0.66   \n",
       "\n",
       "          A07300  A07260  A09400  A11450  A11560  \n",
       "agi_stub                                          \n",
       "2           0.06    0.31    8.88    0.41    0.66  "
      ]
     },
     "execution_count": 51,
     "metadata": {},
     "output_type": "execute_result"
    }
   ],
   "source": [
    "toBillion(poorTaxCredits*1000)"
   ]
  },
  {
   "cell_type": "markdown",
   "id": "b8896d43-4036-46f0-bd96-6647834f418c",
   "metadata": {},
   "source": [
    "The second lowest bracket gets over 15.87 billion dollars from the additional child tax credit, the tax credit they have the most money from, while having only 60 million dollars from foreign tax credits. Also, they make over 14.95 billion dollars from child dependent tax credits. It seems that poor people have a bunch more children per household then 3 and very few poor households pay foreign taxes. When designing a new tax code Congress should not get rid of the child dependent or additional child tax credits it seems to avoid severly hurting these people."
   ]
  },
  {
   "cell_type": "code",
   "execution_count": 52,
   "id": "ea89f47b-a68b-4a31-9006-bbb2b7f8d56c",
   "metadata": {},
   "outputs": [
    {
     "data": {
      "text/plain": [
       "<AxesSubplot: xlabel='agi_stub'>"
      ]
     },
     "execution_count": 52,
     "metadata": {},
     "output_type": "execute_result"
    },
    {
     "data": {
      "image/png": "[encoded data removed]",
      "text/plain": [
       "<Figure size 640x480 with 1 Axes>"
      ]
     },
     "metadata": {},
     "output_type": "display_data"
    }
   ],
   "source": [
    "toBillion(poorTaxCredits*1000).plot.bar()"
   ]
  },
  {
   "cell_type": "markdown",
   "id": "5fc9bd05-f92a-4d67-b77a-3c9972e2b9c5",
   "metadata": {},
   "source": [
    "graph for visual reference"
   ]
  },
  {
   "cell_type": "markdown",
   "id": "9c263287-b7d4-40b4-958b-5e47659a73c4",
   "metadata": {},
   "source": [
    "Let's focus on very poor people next."
   ]
  },
  {
   "cell_type": "markdown",
   "id": "115a0ecc-ae14-4c5c-b9a9-9c9d88a70280",
   "metadata": {},
   "source": [
    "## Lowest Tax Bracket Tax Credits"
   ]
  },
  {
   "cell_type": "code",
   "execution_count": 53,
   "id": "13be7b00-06ff-4d93-aca5-9a8571ab7c9c",
   "metadata": {},
   "outputs": [
    {
     "data": {
      "text/html": [
       "<div>\n",
       "<style scoped>\n",
       "    .dataframe tbody tr th:only-of-type {\n",
       "        vertical-align: middle;\n",
       "    }\n",
       "\n",
       "    .dataframe tbody tr th {\n",
       "        vertical-align: top;\n",
       "    }\n",
       "\n",
       "    .dataframe thead th {\n",
       "        text-align: right;\n",
       "    }\n",
       "</style>\n",
       "<table border=\"1\" class=\"dataframe\">\n",
       "  <thead>\n",
       "    <tr style=\"text-align: right;\">\n",
       "      <th></th>\n",
       "      <th>A07225</th>\n",
       "      <th>A11070</th>\n",
       "      <th>A10960</th>\n",
       "      <th>A10970</th>\n",
       "      <th>A07230</th>\n",
       "      <th>A07240</th>\n",
       "      <th>A85770</th>\n",
       "      <th>A07180</th>\n",
       "      <th>A07300</th>\n",
       "      <th>A07260</th>\n",
       "      <th>A09400</th>\n",
       "      <th>A11450</th>\n",
       "      <th>A11560</th>\n",
       "    </tr>\n",
       "    <tr>\n",
       "      <th>agi_stub</th>\n",
       "      <th></th>\n",
       "      <th></th>\n",
       "      <th></th>\n",
       "      <th></th>\n",
       "      <th></th>\n",
       "      <th></th>\n",
       "      <th></th>\n",
       "      <th></th>\n",
       "      <th></th>\n",
       "      <th></th>\n",
       "      <th></th>\n",
       "      <th></th>\n",
       "      <th></th>\n",
       "    </tr>\n",
       "  </thead>\n",
       "  <tbody>\n",
       "    <tr>\n",
       "      <th>1</th>\n",
       "      <td>1.115635e+09</td>\n",
       "      <td>1.244078e+10</td>\n",
       "      <td>1.911061e+09</td>\n",
       "      <td>1.857571e+10</td>\n",
       "      <td>785537000.0</td>\n",
       "      <td>344389000.0</td>\n",
       "      <td>1.507752e+10</td>\n",
       "      <td>44731000.0</td>\n",
       "      <td>9697000.0</td>\n",
       "      <td>14497000.0</td>\n",
       "      <td>9.456899e+09</td>\n",
       "      <td>602488000.0</td>\n",
       "      <td>860478000.0</td>\n",
       "    </tr>\n",
       "  </tbody>\n",
       "</table>\n",
       "</div>"
      ],
      "text/plain": [
       "                A07225        A11070        A10960        A10970       A07230  \\\n",
       "agi_stub                                                                        \n",
       "1         1.115635e+09  1.244078e+10  1.911061e+09  1.857571e+10  785537000.0   \n",
       "\n",
       "               A07240        A85770      A07180     A07300      A07260  \\\n",
       "agi_stub                                                                 \n",
       "1         344389000.0  1.507752e+10  44731000.0  9697000.0  14497000.0   \n",
       "\n",
       "                A09400       A11450       A11560  \n",
       "agi_stub                                          \n",
       "1         9.456899e+09  602488000.0  860478000.0  "
      ]
     },
     "execution_count": 53,
     "metadata": {},
     "output_type": "execute_result"
    }
   ],
   "source": [
    "veryPoorTaxCredits = creditByTaxBracket.loc[[1]]\n",
    "veryPoorTaxCredits*1000"
   ]
  },
  {
   "cell_type": "code",
   "execution_count": 54,
   "id": "77177d90-4377-43f3-a266-58833e02da76",
   "metadata": {},
   "outputs": [
    {
     "data": {
      "text/html": [
       "<div>\n",
       "<style scoped>\n",
       "    .dataframe tbody tr th:only-of-type {\n",
       "        vertical-align: middle;\n",
       "    }\n",
       "\n",
       "    .dataframe tbody tr th {\n",
       "        vertical-align: top;\n",
       "    }\n",
       "\n",
       "    .dataframe thead th {\n",
       "        text-align: right;\n",
       "    }\n",
       "</style>\n",
       "<table border=\"1\" class=\"dataframe\">\n",
       "  <thead>\n",
       "    <tr style=\"text-align: right;\">\n",
       "      <th></th>\n",
       "      <th>A07225</th>\n",
       "      <th>A11070</th>\n",
       "      <th>A10960</th>\n",
       "      <th>A10970</th>\n",
       "      <th>A07230</th>\n",
       "      <th>A07240</th>\n",
       "      <th>A85770</th>\n",
       "      <th>A07180</th>\n",
       "      <th>A07300</th>\n",
       "      <th>A07260</th>\n",
       "      <th>A09400</th>\n",
       "      <th>A11450</th>\n",
       "      <th>A11560</th>\n",
       "    </tr>\n",
       "    <tr>\n",
       "      <th>agi_stub</th>\n",
       "      <th></th>\n",
       "      <th></th>\n",
       "      <th></th>\n",
       "      <th></th>\n",
       "      <th></th>\n",
       "      <th></th>\n",
       "      <th></th>\n",
       "      <th></th>\n",
       "      <th></th>\n",
       "      <th></th>\n",
       "      <th></th>\n",
       "      <th></th>\n",
       "      <th></th>\n",
       "    </tr>\n",
       "  </thead>\n",
       "  <tbody>\n",
       "    <tr>\n",
       "      <th>1</th>\n",
       "      <td>1.12</td>\n",
       "      <td>12.44</td>\n",
       "      <td>1.91</td>\n",
       "      <td>18.58</td>\n",
       "      <td>0.79</td>\n",
       "      <td>0.34</td>\n",
       "      <td>15.08</td>\n",
       "      <td>0.04</td>\n",
       "      <td>0.01</td>\n",
       "      <td>0.01</td>\n",
       "      <td>9.46</td>\n",
       "      <td>0.6</td>\n",
       "      <td>0.86</td>\n",
       "    </tr>\n",
       "  </tbody>\n",
       "</table>\n",
       "</div>"
      ],
      "text/plain": [
       "          A07225  A11070  A10960  A10970  A07230  A07240  A85770  A07180  \\\n",
       "agi_stub                                                                   \n",
       "1           1.12   12.44    1.91   18.58    0.79    0.34   15.08    0.04   \n",
       "\n",
       "          A07300  A07260  A09400  A11450  A11560  \n",
       "agi_stub                                          \n",
       "1           0.01    0.01    9.46     0.6    0.86  "
      ]
     },
     "execution_count": 54,
     "metadata": {},
     "output_type": "execute_result"
    }
   ],
   "source": [
    "toBillion(veryPoorTaxCredits*1000)"
   ]
  },
  {
   "cell_type": "markdown",
   "id": "6476b663-674c-4a6e-b4dd-fa730f5c02fa",
   "metadata": {},
   "source": [
    "The lowest bracket gets over 18.58 billion dollars from recovery rebate tax credits. This does make sense given the definition of the recovery rebate tax credit. They also do not have much retirement savings it seems and apparently do not get much foreign tax paid credits or education tax credits or residental energy tax credits. They make 15.08 billion from the insurance premium tax credits, making it appear they deal with insurance premiums a lot. They do make over 12.44 billion dollars from the additional child tax credit. This is surprising given that they apparently make relatively little money from the child dependent tax credit. It seems that they actually have a bunch of children over 3 in their households. It looks like that Congress should not abolish the additional children tax credit when designing a new tax code to avoid severely hurting them. "
   ]
  },
  {
   "cell_type": "markdown",
   "id": "de8a316a-c241-4bcc-a614-7fdf11743825",
   "metadata": {},
   "source": [
    "Luke Note: I'm no expert but I've heard that there is a lot of fradulent tax credit claims regarding additional child tax credits which could account for the great amount coming from the additional children tax credit."
   ]
  },
  {
   "cell_type": "code",
   "execution_count": 55,
   "id": "cde6f985-4095-4365-b22b-4e7e97fe784e",
   "metadata": {},
   "outputs": [
    {
     "data": {
      "text/plain": [
       "<AxesSubplot: xlabel='agi_stub'>"
      ]
     },
     "execution_count": 55,
     "metadata": {},
     "output_type": "execute_result"
    },
    {
     "data": {
      "image/png": "[encoded data removed]",
      "text/plain": [
       "<Figure size 640x480 with 1 Axes>"
      ]
     },
     "metadata": {},
     "output_type": "display_data"
    }
   ],
   "source": [
    "toBillion(veryPoorTaxCredits*1000).plot.bar()"
   ]
  },
  {
   "cell_type": "markdown",
   "id": "bff05135-b315-4871-8cc0-e2b8621c8203",
   "metadata": {},
   "source": [
    "graph for visual reference"
   ]
  },
  {
   "cell_type": "markdown",
   "id": "21d6641f-7e6c-416d-8b0d-858b6f6cf245",
   "metadata": {},
   "source": [
    "Let's focus on the top bracket next"
   ]
  },
  {
   "cell_type": "markdown",
   "id": "cea85bce-badd-41bb-8983-128d4b7bd444",
   "metadata": {},
   "source": [
    "## Highest Bracket Tax Credits"
   ]
  },
  {
   "cell_type": "code",
   "execution_count": 56,
   "id": "fc726200-78fa-44af-9ef3-3e69eb5e2da5",
   "metadata": {},
   "outputs": [
    {
     "data": {
      "text/html": [
       "<div>\n",
       "<style scoped>\n",
       "    .dataframe tbody tr th:only-of-type {\n",
       "        vertical-align: middle;\n",
       "    }\n",
       "\n",
       "    .dataframe tbody tr th {\n",
       "        vertical-align: top;\n",
       "    }\n",
       "\n",
       "    .dataframe thead th {\n",
       "        text-align: right;\n",
       "    }\n",
       "</style>\n",
       "<table border=\"1\" class=\"dataframe\">\n",
       "  <thead>\n",
       "    <tr style=\"text-align: right;\">\n",
       "      <th></th>\n",
       "      <th>A07225</th>\n",
       "      <th>A11070</th>\n",
       "      <th>A10960</th>\n",
       "      <th>A10970</th>\n",
       "      <th>A07230</th>\n",
       "      <th>A07240</th>\n",
       "      <th>A85770</th>\n",
       "      <th>A07180</th>\n",
       "      <th>A07300</th>\n",
       "      <th>A07260</th>\n",
       "      <th>A09400</th>\n",
       "      <th>A11450</th>\n",
       "      <th>A11560</th>\n",
       "    </tr>\n",
       "    <tr>\n",
       "      <th>agi_stub</th>\n",
       "      <th></th>\n",
       "      <th></th>\n",
       "      <th></th>\n",
       "      <th></th>\n",
       "      <th></th>\n",
       "      <th></th>\n",
       "      <th></th>\n",
       "      <th></th>\n",
       "      <th></th>\n",
       "      <th></th>\n",
       "      <th></th>\n",
       "      <th></th>\n",
       "      <th></th>\n",
       "    </tr>\n",
       "  </thead>\n",
       "  <tbody>\n",
       "    <tr>\n",
       "      <th>6</th>\n",
       "      <td>9.661820e+09</td>\n",
       "      <td>63000.0</td>\n",
       "      <td>0.0</td>\n",
       "      <td>14003000.0</td>\n",
       "      <td>0.0</td>\n",
       "      <td>0.0</td>\n",
       "      <td>0.0</td>\n",
       "      <td>397114000.0</td>\n",
       "      <td>1.009208e+10</td>\n",
       "      <td>619033000.0</td>\n",
       "      <td>2.039236e+10</td>\n",
       "      <td>46311000.0</td>\n",
       "      <td>0.0</td>\n",
       "    </tr>\n",
       "  </tbody>\n",
       "</table>\n",
       "</div>"
      ],
      "text/plain": [
       "                A07225   A11070  A10960      A10970  A07230  A07240  A85770  \\\n",
       "agi_stub                                                                      \n",
       "6         9.661820e+09  63000.0     0.0  14003000.0     0.0     0.0     0.0   \n",
       "\n",
       "               A07180        A07300       A07260        A09400      A11450  \\\n",
       "agi_stub                                                                     \n",
       "6         397114000.0  1.009208e+10  619033000.0  2.039236e+10  46311000.0   \n",
       "\n",
       "          A11560  \n",
       "agi_stub          \n",
       "6            0.0  "
      ]
     },
     "execution_count": 56,
     "metadata": {},
     "output_type": "execute_result"
    }
   ],
   "source": [
    "veryRichTaxCredits = creditByTaxBracket.loc[[6]]\n",
    "veryRichTaxCredits*1000"
   ]
  },
  {
   "cell_type": "code",
   "execution_count": 57,
   "id": "bdbf72e7-27a3-4456-8fab-700b949ed899",
   "metadata": {},
   "outputs": [
    {
     "data": {
      "text/html": [
       "<div>\n",
       "<style scoped>\n",
       "    .dataframe tbody tr th:only-of-type {\n",
       "        vertical-align: middle;\n",
       "    }\n",
       "\n",
       "    .dataframe tbody tr th {\n",
       "        vertical-align: top;\n",
       "    }\n",
       "\n",
       "    .dataframe thead th {\n",
       "        text-align: right;\n",
       "    }\n",
       "</style>\n",
       "<table border=\"1\" class=\"dataframe\">\n",
       "  <thead>\n",
       "    <tr style=\"text-align: right;\">\n",
       "      <th></th>\n",
       "      <th>A07225</th>\n",
       "      <th>A11070</th>\n",
       "      <th>A10960</th>\n",
       "      <th>A10970</th>\n",
       "      <th>A07230</th>\n",
       "      <th>A07240</th>\n",
       "      <th>A85770</th>\n",
       "      <th>A07180</th>\n",
       "      <th>A07300</th>\n",
       "      <th>A07260</th>\n",
       "      <th>A09400</th>\n",
       "      <th>A11450</th>\n",
       "      <th>A11560</th>\n",
       "    </tr>\n",
       "    <tr>\n",
       "      <th>agi_stub</th>\n",
       "      <th></th>\n",
       "      <th></th>\n",
       "      <th></th>\n",
       "      <th></th>\n",
       "      <th></th>\n",
       "      <th></th>\n",
       "      <th></th>\n",
       "      <th></th>\n",
       "      <th></th>\n",
       "      <th></th>\n",
       "      <th></th>\n",
       "      <th></th>\n",
       "      <th></th>\n",
       "    </tr>\n",
       "  </thead>\n",
       "  <tbody>\n",
       "    <tr>\n",
       "      <th>6</th>\n",
       "      <td>9.66</td>\n",
       "      <td>0.0</td>\n",
       "      <td>0.0</td>\n",
       "      <td>0.01</td>\n",
       "      <td>0.0</td>\n",
       "      <td>0.0</td>\n",
       "      <td>0.0</td>\n",
       "      <td>0.4</td>\n",
       "      <td>10.09</td>\n",
       "      <td>0.62</td>\n",
       "      <td>20.39</td>\n",
       "      <td>0.05</td>\n",
       "      <td>0.0</td>\n",
       "    </tr>\n",
       "  </tbody>\n",
       "</table>\n",
       "</div>"
      ],
      "text/plain": [
       "          A07225  A11070  A10960  A10970  A07230  A07240  A85770  A07180  \\\n",
       "agi_stub                                                                   \n",
       "6           9.66     0.0     0.0    0.01     0.0     0.0     0.0     0.4   \n",
       "\n",
       "          A07300  A07260  A09400  A11450  A11560  \n",
       "agi_stub                                          \n",
       "6          10.09    0.62   20.39    0.05     0.0  "
      ]
     },
     "execution_count": 57,
     "metadata": {},
     "output_type": "execute_result"
    }
   ],
   "source": [
    "toBillion(veryRichTaxCredits*1000)"
   ]
  },
  {
   "cell_type": "markdown",
   "id": "3b1b91dc-14ff-4edc-ba5f-f6e36b7e9db7",
   "metadata": {},
   "source": [
    "The top bracket makes over 20.39 billion dollars from the self employed tax credit as explained above. They also make over 10.09 billion dollars from the foreign tax paid credit (probably from lots of them probably also being foreign nationals or something similar) and 9.66 billion dollars from the child dependent tax credit. They make relatively very little money from the other tax credits, however. It seems that if Congress wants to not hurt them when designing a new tax code, they should not get rid of the self-employed tax credit or the foreign tax paid credit or the child dependent tax credit."
   ]
  },
  {
   "cell_type": "code",
   "execution_count": 58,
   "id": "07d26be4-34cf-4606-81eb-e0f967c26670",
   "metadata": {},
   "outputs": [
    {
     "data": {
      "text/plain": [
       "<AxesSubplot: xlabel='agi_stub'>"
      ]
     },
     "execution_count": 58,
     "metadata": {},
     "output_type": "execute_result"
    },
    {
     "data": {
      "image/png": "[encoded data removed]",
      "text/plain": [
       "<Figure size 640x480 with 1 Axes>"
      ]
     },
     "metadata": {},
     "output_type": "display_data"
    }
   ],
   "source": [
    "toBillion(veryRichTaxCredits*1000).plot.bar()"
   ]
  },
  {
   "cell_type": "markdown",
   "id": "bed639d7-852a-47d0-88b3-91e580fca1f5",
   "metadata": {},
   "source": [
    "graph for visual reference"
   ]
  },
  {
   "cell_type": "markdown",
   "id": "f0ceff7d-6149-4e54-aaf7-d9cb1c9addb8",
   "metadata": {},
   "source": [
    "Let's focus on the second highest tax bracket next"
   ]
  },
  {
   "cell_type": "markdown",
   "id": "892ec0ac-9ae8-4dc9-9aca-8a60b887dedb",
   "metadata": {},
   "source": [
    "## Second Highest Tax Bracket Tax Credits"
   ]
  },
  {
   "cell_type": "code",
   "execution_count": 59,
   "id": "fa8e2820-d9f0-4d37-ba89-bbec82be068d",
   "metadata": {},
   "outputs": [
    {
     "data": {
      "text/html": [
       "<div>\n",
       "<style scoped>\n",
       "    .dataframe tbody tr th:only-of-type {\n",
       "        vertical-align: middle;\n",
       "    }\n",
       "\n",
       "    .dataframe tbody tr th {\n",
       "        vertical-align: top;\n",
       "    }\n",
       "\n",
       "    .dataframe thead th {\n",
       "        text-align: right;\n",
       "    }\n",
       "</style>\n",
       "<table border=\"1\" class=\"dataframe\">\n",
       "  <thead>\n",
       "    <tr style=\"text-align: right;\">\n",
       "      <th></th>\n",
       "      <th>A07225</th>\n",
       "      <th>A11070</th>\n",
       "      <th>A10960</th>\n",
       "      <th>A10970</th>\n",
       "      <th>A07230</th>\n",
       "      <th>A07240</th>\n",
       "      <th>A85770</th>\n",
       "      <th>A07180</th>\n",
       "      <th>A07300</th>\n",
       "      <th>A07260</th>\n",
       "      <th>A09400</th>\n",
       "      <th>A11450</th>\n",
       "      <th>A11560</th>\n",
       "    </tr>\n",
       "    <tr>\n",
       "      <th>agi_stub</th>\n",
       "      <th></th>\n",
       "      <th></th>\n",
       "      <th></th>\n",
       "      <th></th>\n",
       "      <th></th>\n",
       "      <th></th>\n",
       "      <th></th>\n",
       "      <th></th>\n",
       "      <th></th>\n",
       "      <th></th>\n",
       "      <th></th>\n",
       "      <th></th>\n",
       "      <th></th>\n",
       "    </tr>\n",
       "  </thead>\n",
       "  <tbody>\n",
       "    <tr>\n",
       "      <th>5</th>\n",
       "      <td>2.724197e+10</td>\n",
       "      <td>50835000.0</td>\n",
       "      <td>1.030291e+09</td>\n",
       "      <td>5.900588e+09</td>\n",
       "      <td>1.803549e+09</td>\n",
       "      <td>0.0</td>\n",
       "      <td>2152000.0</td>\n",
       "      <td>875315000.0</td>\n",
       "      <td>711611000.0</td>\n",
       "      <td>1.212207e+09</td>\n",
       "      <td>1.367733e+10</td>\n",
       "      <td>153746000.0</td>\n",
       "      <td>0.0</td>\n",
       "    </tr>\n",
       "  </tbody>\n",
       "</table>\n",
       "</div>"
      ],
      "text/plain": [
       "                A07225      A11070        A10960        A10970        A07230  \\\n",
       "agi_stub                                                                       \n",
       "5         2.724197e+10  50835000.0  1.030291e+09  5.900588e+09  1.803549e+09   \n",
       "\n",
       "          A07240     A85770       A07180       A07300        A07260  \\\n",
       "agi_stub                                                              \n",
       "5            0.0  2152000.0  875315000.0  711611000.0  1.212207e+09   \n",
       "\n",
       "                A09400       A11450  A11560  \n",
       "agi_stub                                     \n",
       "5         1.367733e+10  153746000.0     0.0  "
      ]
     },
     "execution_count": 59,
     "metadata": {},
     "output_type": "execute_result"
    }
   ],
   "source": [
    "richTaxCredits = creditByTaxBracket.loc[[5]]\n",
    "richTaxCredits*1000"
   ]
  },
  {
   "cell_type": "code",
   "execution_count": 60,
   "id": "0c90a650-4661-4388-a7b6-93556c831dce",
   "metadata": {},
   "outputs": [
    {
     "data": {
      "text/html": [
       "<div>\n",
       "<style scoped>\n",
       "    .dataframe tbody tr th:only-of-type {\n",
       "        vertical-align: middle;\n",
       "    }\n",
       "\n",
       "    .dataframe tbody tr th {\n",
       "        vertical-align: top;\n",
       "    }\n",
       "\n",
       "    .dataframe thead th {\n",
       "        text-align: right;\n",
       "    }\n",
       "</style>\n",
       "<table border=\"1\" class=\"dataframe\">\n",
       "  <thead>\n",
       "    <tr style=\"text-align: right;\">\n",
       "      <th></th>\n",
       "      <th>A07225</th>\n",
       "      <th>A11070</th>\n",
       "      <th>A10960</th>\n",
       "      <th>A10970</th>\n",
       "      <th>A07230</th>\n",
       "      <th>A07240</th>\n",
       "      <th>A85770</th>\n",
       "      <th>A07180</th>\n",
       "      <th>A07300</th>\n",
       "      <th>A07260</th>\n",
       "      <th>A09400</th>\n",
       "      <th>A11450</th>\n",
       "      <th>A11560</th>\n",
       "    </tr>\n",
       "    <tr>\n",
       "      <th>agi_stub</th>\n",
       "      <th></th>\n",
       "      <th></th>\n",
       "      <th></th>\n",
       "      <th></th>\n",
       "      <th></th>\n",
       "      <th></th>\n",
       "      <th></th>\n",
       "      <th></th>\n",
       "      <th></th>\n",
       "      <th></th>\n",
       "      <th></th>\n",
       "      <th></th>\n",
       "      <th></th>\n",
       "    </tr>\n",
       "  </thead>\n",
       "  <tbody>\n",
       "    <tr>\n",
       "      <th>5</th>\n",
       "      <td>27.24</td>\n",
       "      <td>0.05</td>\n",
       "      <td>1.03</td>\n",
       "      <td>5.9</td>\n",
       "      <td>1.8</td>\n",
       "      <td>0.0</td>\n",
       "      <td>0.0</td>\n",
       "      <td>0.88</td>\n",
       "      <td>0.71</td>\n",
       "      <td>1.21</td>\n",
       "      <td>13.68</td>\n",
       "      <td>0.15</td>\n",
       "      <td>0.0</td>\n",
       "    </tr>\n",
       "  </tbody>\n",
       "</table>\n",
       "</div>"
      ],
      "text/plain": [
       "          A07225  A11070  A10960  A10970  A07230  A07240  A85770  A07180  \\\n",
       "agi_stub                                                                   \n",
       "5          27.24    0.05    1.03     5.9     1.8     0.0     0.0    0.88   \n",
       "\n",
       "          A07300  A07260  A09400  A11450  A11560  \n",
       "agi_stub                                          \n",
       "5           0.71    1.21   13.68    0.15     0.0  "
      ]
     },
     "execution_count": 60,
     "metadata": {},
     "output_type": "execute_result"
    }
   ],
   "source": [
    "toBillion(richTaxCredits*1000)"
   ]
  },
  {
   "cell_type": "markdown",
   "id": "1b4b7d61-fc5a-4b86-ae9a-a13e84e8ca1e",
   "metadata": {},
   "source": [
    "The second highest tax bracket makes over 27.24 billion dollars from the child dependent tax credit and over 13.68 billion dollars from the self-employed tax credit and around 5.9 billion dollars from the recovery rebate tax credit. The recovery rebate finding is surprising, as these people are supposed to make 100,000 to 200,000 annual income according to the data documentation. Covid-19 probably accounts for this, however. They also make relatively little money from the other tax credits. It seems that if Congress wants to not hurt them when designing a new tax code, they should not get rid of the child-dependent tax credit or the self-employed tax credit or the recovery rebate tax credit. "
   ]
  },
  {
   "cell_type": "code",
   "execution_count": 61,
   "id": "ecf9762d-f73c-4e57-81e3-836a6ce42207",
   "metadata": {},
   "outputs": [
    {
     "data": {
      "text/plain": [
       "<AxesSubplot: xlabel='agi_stub'>"
      ]
     },
     "execution_count": 61,
     "metadata": {},
     "output_type": "execute_result"
    },
    {
     "data": {
      "image/png": "[encoded data removed]",
      "text/plain": [
       "<Figure size 640x480 with 1 Axes>"
      ]
     },
     "metadata": {},
     "output_type": "display_data"
    }
   ],
   "source": [
    "toBillion(richTaxCredits*1000).plot.bar()"
   ]
  },
  {
   "cell_type": "markdown",
   "id": "5d5dfc4f-575c-4499-ac3b-c60e503f7811",
   "metadata": {},
   "source": [
    "graph for visual reference"
   ]
  },
  {
   "cell_type": "markdown",
   "id": "ba55bebd-865e-4854-8204-cc27e0711615",
   "metadata": {},
   "source": [
    "Let's focus on somewhat-rich people (people with 75k to 100k dollar annual incomes) next."
   ]
  },
  {
   "cell_type": "markdown",
   "id": "6f3bafb8-ee94-405b-930c-338fc1b18102",
   "metadata": {},
   "source": [
    "## Third Highest Tax Bracket Tax Credits"
   ]
  },
  {
   "cell_type": "code",
   "execution_count": 62,
   "id": "7878825c-fcd7-48a5-9d53-ab1e77ba0499",
   "metadata": {},
   "outputs": [
    {
     "data": {
      "text/html": [
       "<div>\n",
       "<style scoped>\n",
       "    .dataframe tbody tr th:only-of-type {\n",
       "        vertical-align: middle;\n",
       "    }\n",
       "\n",
       "    .dataframe tbody tr th {\n",
       "        vertical-align: top;\n",
       "    }\n",
       "\n",
       "    .dataframe thead th {\n",
       "        text-align: right;\n",
       "    }\n",
       "</style>\n",
       "<table border=\"1\" class=\"dataframe\">\n",
       "  <thead>\n",
       "    <tr style=\"text-align: right;\">\n",
       "      <th></th>\n",
       "      <th>A07225</th>\n",
       "      <th>A11070</th>\n",
       "      <th>A10960</th>\n",
       "      <th>A10970</th>\n",
       "      <th>A07230</th>\n",
       "      <th>A07240</th>\n",
       "      <th>A85770</th>\n",
       "      <th>A07180</th>\n",
       "      <th>A07300</th>\n",
       "      <th>A07260</th>\n",
       "      <th>A09400</th>\n",
       "      <th>A11450</th>\n",
       "      <th>A11560</th>\n",
       "    </tr>\n",
       "    <tr>\n",
       "      <th>agi_stub</th>\n",
       "      <th></th>\n",
       "      <th></th>\n",
       "      <th></th>\n",
       "      <th></th>\n",
       "      <th></th>\n",
       "      <th></th>\n",
       "      <th></th>\n",
       "      <th></th>\n",
       "      <th></th>\n",
       "      <th></th>\n",
       "      <th></th>\n",
       "      <th></th>\n",
       "      <th></th>\n",
       "    </tr>\n",
       "  </thead>\n",
       "  <tbody>\n",
       "    <tr>\n",
       "      <th>4</th>\n",
       "      <td>1.390106e+10</td>\n",
       "      <td>518995000.0</td>\n",
       "      <td>468202000.0</td>\n",
       "      <td>2.740478e+09</td>\n",
       "      <td>1.007249e+09</td>\n",
       "      <td>0.0</td>\n",
       "      <td>170359000.0</td>\n",
       "      <td>345300000.0</td>\n",
       "      <td>137510000.0</td>\n",
       "      <td>479735000.0</td>\n",
       "      <td>5.342967e+09</td>\n",
       "      <td>72158000.0</td>\n",
       "      <td>1183000.0</td>\n",
       "    </tr>\n",
       "  </tbody>\n",
       "</table>\n",
       "</div>"
      ],
      "text/plain": [
       "                A07225       A11070       A10960        A10970        A07230  \\\n",
       "agi_stub                                                                       \n",
       "4         1.390106e+10  518995000.0  468202000.0  2.740478e+09  1.007249e+09   \n",
       "\n",
       "          A07240       A85770       A07180       A07300       A07260  \\\n",
       "agi_stub                                                               \n",
       "4            0.0  170359000.0  345300000.0  137510000.0  479735000.0   \n",
       "\n",
       "                A09400      A11450     A11560  \n",
       "agi_stub                                       \n",
       "4         5.342967e+09  72158000.0  1183000.0  "
      ]
     },
     "execution_count": 62,
     "metadata": {},
     "output_type": "execute_result"
    }
   ],
   "source": [
    "somewhatRichTaxCredits = creditByTaxBracket.loc[[4]]\n",
    "somewhatRichTaxCredits*1000"
   ]
  },
  {
   "cell_type": "code",
   "execution_count": 63,
   "id": "7e9887ca-a914-471b-a017-fac96beba4e0",
   "metadata": {},
   "outputs": [
    {
     "data": {
      "text/html": [
       "<div>\n",
       "<style scoped>\n",
       "    .dataframe tbody tr th:only-of-type {\n",
       "        vertical-align: middle;\n",
       "    }\n",
       "\n",
       "    .dataframe tbody tr th {\n",
       "        vertical-align: top;\n",
       "    }\n",
       "\n",
       "    .dataframe thead th {\n",
       "        text-align: right;\n",
       "    }\n",
       "</style>\n",
       "<table border=\"1\" class=\"dataframe\">\n",
       "  <thead>\n",
       "    <tr style=\"text-align: right;\">\n",
       "      <th></th>\n",
       "      <th>A07225</th>\n",
       "      <th>A11070</th>\n",
       "      <th>A10960</th>\n",
       "      <th>A10970</th>\n",
       "      <th>A07230</th>\n",
       "      <th>A07240</th>\n",
       "      <th>A85770</th>\n",
       "      <th>A07180</th>\n",
       "      <th>A07300</th>\n",
       "      <th>A07260</th>\n",
       "      <th>A09400</th>\n",
       "      <th>A11450</th>\n",
       "      <th>A11560</th>\n",
       "    </tr>\n",
       "    <tr>\n",
       "      <th>agi_stub</th>\n",
       "      <th></th>\n",
       "      <th></th>\n",
       "      <th></th>\n",
       "      <th></th>\n",
       "      <th></th>\n",
       "      <th></th>\n",
       "      <th></th>\n",
       "      <th></th>\n",
       "      <th></th>\n",
       "      <th></th>\n",
       "      <th></th>\n",
       "      <th></th>\n",
       "      <th></th>\n",
       "    </tr>\n",
       "  </thead>\n",
       "  <tbody>\n",
       "    <tr>\n",
       "      <th>4</th>\n",
       "      <td>13.9</td>\n",
       "      <td>0.52</td>\n",
       "      <td>0.47</td>\n",
       "      <td>2.74</td>\n",
       "      <td>1.01</td>\n",
       "      <td>0.0</td>\n",
       "      <td>0.17</td>\n",
       "      <td>0.35</td>\n",
       "      <td>0.14</td>\n",
       "      <td>0.48</td>\n",
       "      <td>5.34</td>\n",
       "      <td>0.07</td>\n",
       "      <td>0.0</td>\n",
       "    </tr>\n",
       "  </tbody>\n",
       "</table>\n",
       "</div>"
      ],
      "text/plain": [
       "          A07225  A11070  A10960  A10970  A07230  A07240  A85770  A07180  \\\n",
       "agi_stub                                                                   \n",
       "4           13.9    0.52    0.47    2.74    1.01     0.0    0.17    0.35   \n",
       "\n",
       "          A07300  A07260  A09400  A11450  A11560  \n",
       "agi_stub                                          \n",
       "4           0.14    0.48    5.34    0.07     0.0  "
      ]
     },
     "execution_count": 63,
     "metadata": {},
     "output_type": "execute_result"
    }
   ],
   "source": [
    "toBillion(somewhatRichTaxCredits*1000)"
   ]
  },
  {
   "cell_type": "markdown",
   "id": "036d5e77-6c74-4950-98a3-0372a90a6cf6",
   "metadata": {},
   "source": [
    "The third highest tax bracket people make over 13.9 billion dollars from the child dependent tax credit. They make around 5.34 billion dollars from the self-employed tax credit. They make around 2.74 billion dollars from the recovery rebate tax credit. They make relatively little money from the other tax credits. It seems that if Congress wants to not hurt these people when designing a new tax code, they should not get rid of the child dependent tax credit or the self-employed tax credit or the recovery rebate tax credit, htough the most important one is by far the self-employed tax credit."
   ]
  },
  {
   "cell_type": "code",
   "execution_count": 64,
   "id": "a4917753-e963-4d26-ab07-bb076d7131cf",
   "metadata": {},
   "outputs": [
    {
     "data": {
      "text/plain": [
       "<AxesSubplot: xlabel='agi_stub'>"
      ]
     },
     "execution_count": 64,
     "metadata": {},
     "output_type": "execute_result"
    },
    {
     "data": {
      "image/png": "[encoded data removed]",
      "text/plain": [
       "<Figure size 640x480 with 1 Axes>"
      ]
     },
     "metadata": {},
     "output_type": "display_data"
    }
   ],
   "source": [
    "toBillion(somewhatRichTaxCredits*1000).plot.bar()"
   ]
  },
  {
   "cell_type": "markdown",
   "id": "4e8fe89c-82a5-478c-8bf2-1dce8bb995eb",
   "metadata": {},
   "source": [
    "graph for visual reference"
   ]
  },
  {
   "cell_type": "markdown",
   "id": "5287419c-f024-4db3-bcb7-6166b7cd94ac",
   "metadata": {},
   "source": [
    "Let's focus on the third lowest bracket (people with 50k to 75k dollar annual incomes) next."
   ]
  },
  {
   "cell_type": "markdown",
   "id": "de6bd90b-8602-4d43-beb5-d18d4d02bfe2",
   "metadata": {},
   "source": [
    "## Third Lowest Bracket Tax Credits"
   ]
  },
  {
   "cell_type": "code",
   "execution_count": 65,
   "id": "1f86734e-be40-4c03-a9f8-a135f1c00296",
   "metadata": {},
   "outputs": [
    {
     "data": {
      "text/html": [
       "<div>\n",
       "<style scoped>\n",
       "    .dataframe tbody tr th:only-of-type {\n",
       "        vertical-align: middle;\n",
       "    }\n",
       "\n",
       "    .dataframe tbody tr th {\n",
       "        vertical-align: top;\n",
       "    }\n",
       "\n",
       "    .dataframe thead th {\n",
       "        text-align: right;\n",
       "    }\n",
       "</style>\n",
       "<table border=\"1\" class=\"dataframe\">\n",
       "  <thead>\n",
       "    <tr style=\"text-align: right;\">\n",
       "      <th></th>\n",
       "      <th>A07225</th>\n",
       "      <th>A11070</th>\n",
       "      <th>A10960</th>\n",
       "      <th>A10970</th>\n",
       "      <th>A07230</th>\n",
       "      <th>A07240</th>\n",
       "      <th>A85770</th>\n",
       "      <th>A07180</th>\n",
       "      <th>A07300</th>\n",
       "      <th>A07260</th>\n",
       "      <th>A09400</th>\n",
       "      <th>A11450</th>\n",
       "      <th>A11560</th>\n",
       "    </tr>\n",
       "    <tr>\n",
       "      <th>agi_stub</th>\n",
       "      <th></th>\n",
       "      <th></th>\n",
       "      <th></th>\n",
       "      <th></th>\n",
       "      <th></th>\n",
       "      <th></th>\n",
       "      <th></th>\n",
       "      <th></th>\n",
       "      <th></th>\n",
       "      <th></th>\n",
       "      <th></th>\n",
       "      <th></th>\n",
       "      <th></th>\n",
       "    </tr>\n",
       "  </thead>\n",
       "  <tbody>\n",
       "    <tr>\n",
       "      <th>3</th>\n",
       "      <td>1.646643e+10</td>\n",
       "      <td>3.433735e+09</td>\n",
       "      <td>722944000.0</td>\n",
       "      <td>4.383574e+09</td>\n",
       "      <td>1.510657e+09</td>\n",
       "      <td>246002000.0</td>\n",
       "      <td>2.546206e+09</td>\n",
       "      <td>404364000.0</td>\n",
       "      <td>115745000.0</td>\n",
       "      <td>550610000.0</td>\n",
       "      <td>6.721324e+09</td>\n",
       "      <td>175812000.0</td>\n",
       "      <td>96287000.0</td>\n",
       "    </tr>\n",
       "  </tbody>\n",
       "</table>\n",
       "</div>"
      ],
      "text/plain": [
       "                A07225        A11070       A10960        A10970        A07230  \\\n",
       "agi_stub                                                                        \n",
       "3         1.646643e+10  3.433735e+09  722944000.0  4.383574e+09  1.510657e+09   \n",
       "\n",
       "               A07240        A85770       A07180       A07300       A07260  \\\n",
       "agi_stub                                                                     \n",
       "3         246002000.0  2.546206e+09  404364000.0  115745000.0  550610000.0   \n",
       "\n",
       "                A09400       A11450      A11560  \n",
       "agi_stub                                         \n",
       "3         6.721324e+09  175812000.0  96287000.0  "
      ]
     },
     "execution_count": 65,
     "metadata": {},
     "output_type": "execute_result"
    }
   ],
   "source": [
    "mediumPeopleTaxCredits = creditByTaxBracket.loc[[3]]\n",
    "mediumPeopleTaxCredits*1000"
   ]
  },
  {
   "cell_type": "code",
   "execution_count": 66,
   "id": "93f9244b-236b-42dd-8900-92cccda53f83",
   "metadata": {},
   "outputs": [
    {
     "data": {
      "text/html": [
       "<div>\n",
       "<style scoped>\n",
       "    .dataframe tbody tr th:only-of-type {\n",
       "        vertical-align: middle;\n",
       "    }\n",
       "\n",
       "    .dataframe tbody tr th {\n",
       "        vertical-align: top;\n",
       "    }\n",
       "\n",
       "    .dataframe thead th {\n",
       "        text-align: right;\n",
       "    }\n",
       "</style>\n",
       "<table border=\"1\" class=\"dataframe\">\n",
       "  <thead>\n",
       "    <tr style=\"text-align: right;\">\n",
       "      <th></th>\n",
       "      <th>A07225</th>\n",
       "      <th>A11070</th>\n",
       "      <th>A10960</th>\n",
       "      <th>A10970</th>\n",
       "      <th>A07230</th>\n",
       "      <th>A07240</th>\n",
       "      <th>A85770</th>\n",
       "      <th>A07180</th>\n",
       "      <th>A07300</th>\n",
       "      <th>A07260</th>\n",
       "      <th>A09400</th>\n",
       "      <th>A11450</th>\n",
       "      <th>A11560</th>\n",
       "    </tr>\n",
       "    <tr>\n",
       "      <th>agi_stub</th>\n",
       "      <th></th>\n",
       "      <th></th>\n",
       "      <th></th>\n",
       "      <th></th>\n",
       "      <th></th>\n",
       "      <th></th>\n",
       "      <th></th>\n",
       "      <th></th>\n",
       "      <th></th>\n",
       "      <th></th>\n",
       "      <th></th>\n",
       "      <th></th>\n",
       "      <th></th>\n",
       "    </tr>\n",
       "  </thead>\n",
       "  <tbody>\n",
       "    <tr>\n",
       "      <th>3</th>\n",
       "      <td>16.47</td>\n",
       "      <td>3.43</td>\n",
       "      <td>0.72</td>\n",
       "      <td>4.38</td>\n",
       "      <td>1.51</td>\n",
       "      <td>0.25</td>\n",
       "      <td>2.55</td>\n",
       "      <td>0.4</td>\n",
       "      <td>0.12</td>\n",
       "      <td>0.55</td>\n",
       "      <td>6.72</td>\n",
       "      <td>0.18</td>\n",
       "      <td>0.1</td>\n",
       "    </tr>\n",
       "  </tbody>\n",
       "</table>\n",
       "</div>"
      ],
      "text/plain": [
       "          A07225  A11070  A10960  A10970  A07230  A07240  A85770  A07180  \\\n",
       "agi_stub                                                                   \n",
       "3          16.47    3.43    0.72    4.38    1.51    0.25    2.55     0.4   \n",
       "\n",
       "          A07300  A07260  A09400  A11450  A11560  \n",
       "agi_stub                                          \n",
       "3           0.12    0.55    6.72    0.18     0.1  "
      ]
     },
     "execution_count": 66,
     "metadata": {},
     "output_type": "execute_result"
    }
   ],
   "source": [
    "toBillion(mediumPeopleTaxCredits*1000)"
   ]
  },
  {
   "cell_type": "markdown",
   "id": "f0bd0331-75ea-4b97-bc25-3c71148806cb",
   "metadata": {},
   "source": [
    "The third lowest tax bracket makes over 16.47 billion dollars from the child dependent tax credit, around 6.72 billion dollars from the self-employed tax credit, around 4.38 billion dollars from the recovery rebate tax credit, around 3.43 billion dollars from the additional child tax credit, and around 2.55 billion dollars from the insurance premium tax credit. They make relatively little money from the other tax credits. It seems that if Congress wants to not hurt these people when making a new tax code, they should not get rid of the child dependent tax credit, the self-employed tax credit, the recovery rebate tax credit, the additional child tax credit, or the insurance premium tax credit. However, once again, the self-employment tax credit is by far the most important."
   ]
  },
  {
   "cell_type": "code",
   "execution_count": 67,
   "id": "9c243622-ccf5-41d8-9c9e-6af9d075e743",
   "metadata": {},
   "outputs": [
    {
     "data": {
      "text/plain": [
       "<AxesSubplot: xlabel='agi_stub'>"
      ]
     },
     "execution_count": 67,
     "metadata": {},
     "output_type": "execute_result"
    },
    {
     "data": {
      "image/png": "[encoded data removed]",
      "text/plain": [
       "<Figure size 640x480 with 1 Axes>"
      ]
     },
     "metadata": {},
     "output_type": "display_data"
    }
   ],
   "source": [
    "toBillion(mediumPeopleTaxCredits*1000).plot.bar()"
   ]
  },
  {
   "cell_type": "markdown",
   "id": "d9041d2e-500d-4693-97e7-9e69a37049de",
   "metadata": {},
   "source": [
    "graph for visual reference"
   ]
  },
  {
   "cell_type": "markdown",
   "id": "2fea8e93-e479-48c7-9690-cecb50662b84",
   "metadata": {},
   "source": [
    "## Overall Observations So Far"
   ]
  },
  {
   "cell_type": "markdown",
   "id": "da3ba170-676d-4c5d-913f-d865f01c1abb",
   "metadata": {},
   "source": [
    "Overall, it seems that so far that most of the income tax brackets make a lot of money from the child dependent tax credit and recovery rebate tax credit. The top 4 brackets make a lot of money from the self-employed tax credit. The bottom two make a lot of money from the additional child tax credit. All of these are important considerations to take into consideration when designing a new tax code."
   ]
  },
  {
   "cell_type": "markdown",
   "id": "ec0cd5ef-f542-422f-b1e4-1749f14f7ec5",
   "metadata": {},
   "source": [
    "Let's go quickly get the total amount of money made from tax credits overall."
   ]
  },
  {
   "cell_type": "markdown",
   "id": "f3325d80-2d7e-4760-9159-0aa55cb5e299",
   "metadata": {},
   "source": [
    "## Total Amount of Money Made From Tax Credits Overall"
   ]
  },
  {
   "cell_type": "code",
   "execution_count": 68,
   "id": "341ecd6f-e434-481a-8ec9-96d3dbe930af",
   "metadata": {},
   "outputs": [
    {
     "data": {
      "text/plain": [
       "283.7"
      ]
     },
     "execution_count": 68,
     "metadata": {},
     "output_type": "execute_result"
    }
   ],
   "source": [
    "toBillion(df[TAX_CREDIT_AMT].sum().sum()*1000)"
   ]
  },
  {
   "cell_type": "markdown",
   "id": "e31d37fd-37c0-4bd2-83b8-afbaea5048ca",
   "metadata": {},
   "source": [
    "A total of around 254.8 billion dollars has been made overall from tax credits. This is certainly a large amount of money, though the total tax income for the U.S. (for 2020 at least) is around 1.6 trillion dollars which dwarfs this amount I will note, but this still is about 15% of it."
   ]
  },
  {
   "cell_type": "markdown",
   "id": "3db061cd-893a-453e-b311-f72f0b35750a",
   "metadata": {},
   "source": [
    "Let's now go focus on various tax credits and how much money is made from them for different tax brackets. We will explore the education tax credit first, as I think that is important to explore."
   ]
  },
  {
   "cell_type": "markdown",
   "id": "a32c1cee-1b44-47be-a135-7c2ecdc33fda",
   "metadata": {},
   "source": [
    "## Exploration of Education Tax Credit"
   ]
  },
  {
   "cell_type": "code",
   "execution_count": 76,
   "id": "8ad9b3e6-083c-4968-b62a-97bb87f5f338",
   "metadata": {},
   "outputs": [
    {
     "data": {
      "text/plain": [
       "7.72"
      ]
     },
     "execution_count": 76,
     "metadata": {},
     "output_type": "execute_result"
    }
   ],
   "source": [
    "toBillion(df['A07230'].sum()*1000)"
   ]
  },
  {
   "cell_type": "markdown",
   "id": "375e100a-f023-46d7-8596-f31aa0559873",
   "metadata": {},
   "source": [
    "A total of around 7.72 billion dollars has been made from the education tax credit. Let's check the education tax credit for different tax brackets."
   ]
  },
  {
   "cell_type": "code",
   "execution_count": 77,
   "id": "05420856-e68b-4b75-8eb2-5b75f903084f",
   "metadata": {},
   "outputs": [
    {
     "data": {
      "text/plain": [
       "agi_stub\n",
       "1    0.79\n",
       "2    2.61\n",
       "3    1.51\n",
       "4    1.01\n",
       "5    1.80\n",
       "6    0.00\n",
       "Name: A07230, dtype: float64"
      ]
     },
     "execution_count": 77,
     "metadata": {},
     "output_type": "execute_result"
    }
   ],
   "source": [
    "toBillion(creditByTaxBracket['A07230']*1000)"
   ]
  },
  {
   "cell_type": "markdown",
   "id": "015eeb43-c29d-497b-92ec-d53fb0d28d40",
   "metadata": {},
   "source": [
    "The second lowest bracket makes the most amount of money from the education tax credit, making 2.61 billion dollars, while the highest bracket makes no money whatsover. these people making no money from the education tax credit is surprising, as one would expect that even they would at least use somewhat the education tax credit, as they have to educate their kids just like everyone else. Perhaps this indicates that they very heavily use private schools? The second highest bracket makes around 1.80 billion dollars from the education tax credit, the second highest amount. It seems that the second lowest bracket people probably have lots of government assistance for getting education, which is not surprising. However, I don't know why the second highest bracket people make lots of money from the education tax credit. Perhaps that should be investigated further. The lowest tax bracket makse 0.79 billion dollars from the education tax credit, the 2nd lowest amount, which is also surprising. Perhaps that too should be investigated further. Overall though it seems that for designing a new tax code Congress should not get rid of the education tax credit or else poor people will be hurt a lot, especially education-wise."
   ]
  },
  {
   "cell_type": "markdown",
   "id": "5e8cfbec-8874-4dba-8e72-253b6064b0ef",
   "metadata": {},
   "source": [
    "Luke Note: The reason rich people don't take advantage of the child tax credit is they legally can't since they make more than 150k. I'm pretty sure a lot of these 0's for the upper brackets is because they cannot legally do it."
   ]
  },
  {
   "cell_type": "code",
   "execution_count": 71,
   "id": "309f4ba2-cd43-4d9d-a2cb-e42fb2e18f31",
   "metadata": {},
   "outputs": [
    {
     "data": {
      "text/plain": [
       "<AxesSubplot: xlabel='agi_stub'>"
      ]
     },
     "execution_count": 71,
     "metadata": {},
     "output_type": "execute_result"
    },
    {
     "data": {
      "image/png": "[encoded data removed]",
      "text/plain": [
       "<Figure size 640x480 with 1 Axes>"
      ]
     },
     "metadata": {},
     "output_type": "display_data"
    }
   ],
   "source": [
    "toBillion(creditByTaxBracket['A07230']*1000).plot.bar()"
   ]
  },
  {
   "cell_type": "markdown",
   "id": "91911114-c860-44bc-be52-8bcce22d41ed",
   "metadata": {},
   "source": [
    "graph for visual reference"
   ]
  },
  {
   "cell_type": "markdown",
   "id": "0a5d5fa2-3d0a-43a8-97d1-e076be02b3fb",
   "metadata": {},
   "source": [
    "Let's move onto exploring the retirement savings contribution tax credit, which I think may have important insights to uncover."
   ]
  },
  {
   "cell_type": "markdown",
   "id": "a2cad782-d82a-410c-8867-f89c7e88910d",
   "metadata": {},
   "source": [
    "## Exploration of Retirement Savings Contribution Tax Credit"
   ]
  },
  {
   "cell_type": "code",
   "execution_count": 72,
   "id": "e6200712-f992-46b4-9306-9a8b3e89c255",
   "metadata": {},
   "outputs": [
    {
     "data": {
      "text/plain": [
       "1.73"
      ]
     },
     "execution_count": 72,
     "metadata": {},
     "output_type": "execute_result"
    }
   ],
   "source": [
    "toBillion(df['A07240'].sum()*1000)"
   ]
  },
  {
   "cell_type": "markdown",
   "id": "84ce681f-fffe-4805-b0c4-a9ce5a739050",
   "metadata": {},
   "source": [
    "Around 1.73 billion dollars total has been made from the retirement savings contribution tax credit. Let's check the tax credit for different tax brackets."
   ]
  },
  {
   "cell_type": "code",
   "execution_count": 84,
   "id": "121dcd42-0fba-4f41-9ff7-d3e3b440cf39",
   "metadata": {},
   "outputs": [
    {
     "data": {
      "text/plain": [
       "agi_stub\n",
       "1    0.34\n",
       "2    1.14\n",
       "3    0.25\n",
       "4    0.00\n",
       "5    0.00\n",
       "6    0.00\n",
       "Name: A07240, dtype: float64"
      ]
     },
     "execution_count": 84,
     "metadata": {},
     "output_type": "execute_result"
    },
    {
     "data": {
      "image/png": "[encoded data removed]",
      "text/plain": [
       "<Figure size 640x480 with 1 Axes>"
      ]
     },
     "metadata": {},
     "output_type": "display_data"
    }
   ],
   "source": [
    "toBillion(creditByTaxBracket['A07240']*1000).plot.bar()\n",
    "toBillion(creditByTaxBracket['A07240']*1000)"
   ]
  },
  {
   "cell_type": "markdown",
   "id": "9c5f2187-0c6c-4793-bc72-2b2b4e965578",
   "metadata": {},
   "source": [
    "The second lowest bracket makes around 1.14 billion dollars from the retirement savings contribution tax credit, while the top 3 brackets make no money whatsover. The lowest bracket makes around 0.34 billion dollars and the third lowest makes around 0.25 billion dollars. Research by me on this tax credit indicates that these results indicate to me that somewhat rich to very rich people make too much money to be eligible for this tax credit. The lowest tax bracket people surprisingly make relatively little money from this tax credit. Perhaps their very small income makes them unable to spare money to contribute to retirement savings? Perhaps that should be investigated further if possible. The lowest bracket it seems do have the income to spare to make retirement savings contributions. Overall, it seems that for designing a new tax code Congress should not get rid of the retirement savings contribution tax credit to avoid hurting lower income people a lot."
   ]
  },
  {
   "cell_type": "markdown",
   "id": "c746aac4-e1df-45dc-bd8b-a94b2fde7030",
   "metadata": {},
   "source": [
    "## Exploration of Insurance Premium Tax Credit"
   ]
  },
  {
   "cell_type": "code",
   "execution_count": 74,
   "id": "419e7b03-3bfa-4aaf-824a-9e85c5ae31b6",
   "metadata": {},
   "outputs": [
    {
     "data": {
      "text/plain": [
       "28.9"
      ]
     },
     "execution_count": 74,
     "metadata": {},
     "output_type": "execute_result"
    }
   ],
   "source": [
    "toBillion(df['A85770'].sum()*1000)"
   ]
  },
  {
   "cell_type": "markdown",
   "id": "cfbd0908-0f05-4632-b907-27f748a9134d",
   "metadata": {},
   "source": [
    "Around 28.9 billion dollars has been made from the retirement savings contribution tax credit. let's check the tax credit for the various brackets."
   ]
  },
  {
   "cell_type": "code",
   "execution_count": 83,
   "id": "2765d99d-c95c-41d6-9d15-d13e75e08e8c",
   "metadata": {},
   "outputs": [
    {
     "data": {
      "text/plain": [
       "agi_stub\n",
       "1    15.08\n",
       "2    11.10\n",
       "3     2.55\n",
       "4     0.17\n",
       "5     0.00\n",
       "6     0.00\n",
       "Name: A85770, dtype: float64"
      ]
     },
     "execution_count": 83,
     "metadata": {},
     "output_type": "execute_result"
    },
    {
     "data": {
      "image/png": "[encoded data removed]",
      "text/plain": [
       "<Figure size 640x480 with 1 Axes>"
      ]
     },
     "metadata": {},
     "output_type": "display_data"
    }
   ],
   "source": [
    "toBillion(creditByTaxBracket['A85770']*1000).plot.bar()\n",
    "toBillion(creditByTaxBracket['A85770']*1000)"
   ]
  },
  {
   "cell_type": "markdown",
   "id": "97d44cec-6dc5-46a6-ac0a-cc192ba62576",
   "metadata": {},
   "source": [
    "The second lowest bracket makes around 11.1 billion dollars from the Insurance Premium Tax Credit and the lowest bracket makes 15.08 billions dollars from the Insurance Premium Tax Credit. The third lowest makes around 2.55 billion dollars and the third highest makes around 170 million dollars. The other tax brackets make no money as they are above the amount of income allowed to take advantage of this. It definitely makes sense as to why the lower brackets make so much off of this since they make less, so the government gives them a lot ot purchase health insurance. This is definitely one of the bigger tax credits and Congress should consider the potentially detrimental impact on the lower tax brackets of removing this tax."
   ]
  },
  {
   "cell_type": "markdown",
   "id": "f0c1a519-f83b-4402-be60-159f5b12ea36",
   "metadata": {},
   "source": [
    "## Child/Dependent Care Tax Credit"
   ]
  },
  {
   "cell_type": "code",
   "execution_count": 78,
   "id": "75fd4189-6592-42ef-845b-a176203a426f",
   "metadata": {},
   "outputs": [
    {
     "data": {
      "text/plain": [
       "2.73"
      ]
     },
     "execution_count": 78,
     "metadata": {},
     "output_type": "execute_result"
    }
   ],
   "source": [
    "toBillion(df['A07180'].sum()*1000)"
   ]
  },
  {
   "cell_type": "code",
   "execution_count": 85,
   "id": "d8e8759f-851a-4292-aba4-7c313c1de28b",
   "metadata": {},
   "outputs": [
    {
     "data": {
      "text/plain": [
       "agi_stub\n",
       "1    0.04\n",
       "2    0.66\n",
       "3    0.40\n",
       "4    0.35\n",
       "5    0.88\n",
       "6    0.40\n",
       "Name: A07180, dtype: float64"
      ]
     },
     "execution_count": 85,
     "metadata": {},
     "output_type": "execute_result"
    },
    {
     "data": {
      "image/png": "[encoded data removed]",
      "text/plain": [
       "<Figure size 640x480 with 1 Axes>"
      ]
     },
     "metadata": {},
     "output_type": "display_data"
    }
   ],
   "source": [
    "toBillion(creditByTaxBracket['A07180']*1000).plot.bar()\n",
    "toBillion(creditByTaxBracket['A07180']*1000)"
   ]
  },
  {
   "cell_type": "markdown",
   "id": "6be7d8b7-0d4f-4f73-8e5f-4d705e33b3ad",
   "metadata": {},
   "source": [
    "The second lowest bracket makes around 660 million dollars from the Child/Dependent Tax Credit and the lowest bracket makes 40 million dollars from it. The third lowest makes around 400 million dollars and the third highest makes around 350 million dollars. The second highest makes 880 million amd the highest makes 400 million.It definitely makes sense as to why everyone makes money off of this, namely that pretty much every bracket has children/dependents and it seems that the higher income people also are able to take advantage of this credit. It is interesting that the lowest bracket makes little off of this, though since they typically cannot afford children it makes sense. While this is useful, it is one of the smaller tax credits meaning aside from the purpose of promoting having children, this would be a credit that could be removed at little cost."
   ]
  },
  {
   "cell_type": "markdown",
   "id": "65958852-ebd3-4148-85a7-aed6a81e6cd4",
   "metadata": {},
   "source": [
    "## Foreign Tax Credit"
   ]
  },
  {
   "cell_type": "code",
   "execution_count": 86,
   "id": "a3d68379-d0e7-45c7-a2f4-fd93b774878c",
   "metadata": {},
   "outputs": [
    {
     "data": {
      "text/plain": [
       "11.13"
      ]
     },
     "execution_count": 86,
     "metadata": {},
     "output_type": "execute_result"
    }
   ],
   "source": [
    "toBillion(df['A07300'].sum()*1000)"
   ]
  },
  {
   "cell_type": "code",
   "execution_count": 87,
   "id": "96bad02d-b08c-4f4c-a037-54f1a70078aa",
   "metadata": {},
   "outputs": [
    {
     "data": {
      "text/plain": [
       "agi_stub\n",
       "1     0.01\n",
       "2     0.06\n",
       "3     0.12\n",
       "4     0.14\n",
       "5     0.71\n",
       "6    10.09\n",
       "Name: A07300, dtype: float64"
      ]
     },
     "execution_count": 87,
     "metadata": {},
     "output_type": "execute_result"
    },
    {
     "data": {
      "image/png": "[encoded data removed]",
      "text/plain": [
       "<Figure size 640x480 with 1 Axes>"
      ]
     },
     "metadata": {},
     "output_type": "display_data"
    }
   ],
   "source": [
    "toBillion(creditByTaxBracket['A07300']*1000).plot.bar()\n",
    "toBillion(creditByTaxBracket['A07300']*1000)"
   ]
  },
  {
   "cell_type": "markdown",
   "id": "2d199144-e467-49cd-ac7a-8449d61b7cbe",
   "metadata": {},
   "source": [
    "The second lowest bracket makes around 60 million dollars from the Foreign Tax Credit and the lowest bracket makes 10 million dollars from it. The third lowest makes around 120 million dollars and the third highest makes around 140 million dollars. The second highest makes 710 million amd the highest makes 10.09 billion. It definitely makes sense as to why all groups benefit from this, namely that there are internation people from each bracket, however the great difference in credit between the top bracket and the rest is quite astounding. It is true that the top tax bracket has the most to lose on foreign taxes, but with this big of a difference, it must be that they can come to the country more, since they can afford more than the other brackets. It is interesting that the lowest bracket makes so little off of this, because there is no lack of poor immigrants, but they also don't make anywhere near the same amount so this makes sense. This tax credit is very small for most groups, but for the sake of the highest tax bracket, it might be wise for this type of tax to not be overhauled."
   ]
  },
  {
   "cell_type": "markdown",
   "id": "4c17a2fe-94a1-4c35-86c2-4e9294dc1c70",
   "metadata": {},
   "source": [
    "## Additional Child Tax Credit"
   ]
  },
  {
   "cell_type": "code",
   "execution_count": 88,
   "id": "f95f44e3-a97c-4d7c-aa72-17d517eddbb1",
   "metadata": {},
   "outputs": [
    {
     "data": {
      "text/plain": [
       "32.31"
      ]
     },
     "execution_count": 88,
     "metadata": {},
     "output_type": "execute_result"
    }
   ],
   "source": [
    "toBillion(df['A11070'].sum()*1000)"
   ]
  },
  {
   "cell_type": "code",
   "execution_count": 89,
   "id": "868a36b3-f2fa-40bb-9e57-893aa4c471d8",
   "metadata": {},
   "outputs": [
    {
     "data": {
      "text/plain": [
       "agi_stub\n",
       "1    12.44\n",
       "2    15.87\n",
       "3     3.43\n",
       "4     0.52\n",
       "5     0.05\n",
       "6     0.00\n",
       "Name: A11070, dtype: float64"
      ]
     },
     "execution_count": 89,
     "metadata": {},
     "output_type": "execute_result"
    },
    {
     "data": {
      "image/png": "[encoded data removed]",
      "text/plain": [
       "<Figure size 640x480 with 1 Axes>"
      ]
     },
     "metadata": {},
     "output_type": "display_data"
    }
   ],
   "source": [
    "toBillion(creditByTaxBracket['A11070']*1000).plot.bar()\n",
    "toBillion(creditByTaxBracket['A11070']*1000)"
   ]
  },
  {
   "cell_type": "markdown",
   "id": "7c08dd1a-d679-44a2-99df-b5c2e8c6c331",
   "metadata": {},
   "source": [
    "The second lowest bracket makes around 15.87 billion dollars from the Additional Child Tax Credit and the lowest bracket makes 12.44 billion dollars from it. The third lowest makes around 3.43 billion dollars and the third highest makes around 520 million dollars. The second highest makes 50 million amd the highest makes nothing from it. It is very interesting how much the bottom two brackets make from this tax credit compared to others, especially considering the lack of Child/Dependent Care in the lowest bracket. I think that a lot of this is due to fraud, as I have heard it is common for lower income individuals to claim they have additional dependents. Also, for the upper brackets, it makes sens that they get little out of this since they are actually excluded from the benefits of this, though it is also interesting to see the great different between the upper that barely qualify and the lower ones. I think that a lot of this of course has to do with large lower income families. This is one of the larger tax credits making it seem like a bad idea to do away with, however with the amoutn of fraud Congress at the very least has a reason to get rid of it."
   ]
  },
  {
   "cell_type": "markdown",
   "id": "7d994e71-8416-4bd2-8a09-35c4a3c3e32c",
   "metadata": {},
   "source": [
    "## Residential Energy Tax Credit"
   ]
  },
  {
   "cell_type": "code",
   "execution_count": 90,
   "id": "5ed31db9-43f5-4256-beb8-edcc06771c6d",
   "metadata": {},
   "outputs": [
    {
     "data": {
      "text/plain": [
       "3.18"
      ]
     },
     "execution_count": 90,
     "metadata": {},
     "output_type": "execute_result"
    }
   ],
   "source": [
    "toBillion(df['A07260'].sum()*1000)"
   ]
  },
  {
   "cell_type": "code",
   "execution_count": 91,
   "id": "09660595-108f-4139-a0f6-1d82c1df3917",
   "metadata": {},
   "outputs": [
    {
     "data": {
      "text/plain": [
       "agi_stub\n",
       "1    0.01\n",
       "2    0.31\n",
       "3    0.55\n",
       "4    0.48\n",
       "5    1.21\n",
       "6    0.62\n",
       "Name: A07260, dtype: float64"
      ]
     },
     "execution_count": 91,
     "metadata": {},
     "output_type": "execute_result"
    },
    {
     "data": {
      "image/png": "[encoded data removed]",
      "text/plain": [
       "<Figure size 640x480 with 1 Axes>"
      ]
     },
     "metadata": {},
     "output_type": "display_data"
    }
   ],
   "source": [
    "toBillion(creditByTaxBracket['A07260']*1000).plot.bar()\n",
    "toBillion(creditByTaxBracket['A07260']*1000)"
   ]
  },
  {
   "cell_type": "markdown",
   "id": "344d829c-bb71-41ed-ab85-879a2f6fb936",
   "metadata": {},
   "source": [
    "The second lowest bracket makes around 310 million dollars from the Residential Energy Tax Credit and the lowest bracket makes 10 million dollars from it. The third lowest makes around 510 million dollars and the third highest makes around 480 million dollars. The second highest makes 1.21 billion dollars and the highest makes 620 million dollars from it.  These numbers are unsuprising since the higher income individuals tend to be able to afford houses first of all, and also efficient energy. In the case of the lowest bracket, it is unsurprising that there is so little since they generally cannot afford houses to the extent of the higher brackets. It was also very interesting that the second highest bracket was so much higher than the other brackets, but maybe the highest bracket people are indifferent to this small tax credit while the people below them can both afford it and could use that extra money. Overall this, isn't a particularly large form of tax credit meaning that if Congress really wants to, they can get rid of this tax credit."
   ]
  },
  {
   "cell_type": "markdown",
   "id": "e897b7cf-0990-4289-a5f8-cadbf230a7f5",
   "metadata": {},
   "source": [
    "## Self Employment Tax Credit"
   ]
  },
  {
   "cell_type": "code",
   "execution_count": 92,
   "id": "4577c0dd-3fbb-438c-82dc-b30f42f3854e",
   "metadata": {},
   "outputs": [
    {
     "data": {
      "text/plain": [
       "64.47"
      ]
     },
     "execution_count": 92,
     "metadata": {},
     "output_type": "execute_result"
    }
   ],
   "source": [
    "toBillion(df['A09400'].sum()*1000)"
   ]
  },
  {
   "cell_type": "code",
   "execution_count": 93,
   "id": "4b3640c7-4d22-4c23-9912-211c3325361c",
   "metadata": {},
   "outputs": [
    {
     "data": {
      "text/plain": [
       "agi_stub\n",
       "1     9.46\n",
       "2     8.88\n",
       "3     6.72\n",
       "4     5.34\n",
       "5    13.68\n",
       "6    20.39\n",
       "Name: A09400, dtype: float64"
      ]
     },
     "execution_count": 93,
     "metadata": {},
     "output_type": "execute_result"
    },
    {
     "data": {
      "image/png": "[encoded data removed]",
      "text/plain": [
       "<Figure size 640x480 with 1 Axes>"
      ]
     },
     "metadata": {},
     "output_type": "display_data"
    }
   ],
   "source": [
    "toBillion(creditByTaxBracket['A09400']*1000).plot.bar()\n",
    "toBillion(creditByTaxBracket['A09400']*1000)"
   ]
  },
  {
   "cell_type": "markdown",
   "id": "f092163b-56a1-43b5-9707-5ef4023e06b9",
   "metadata": {},
   "source": [
    "The second lowest bracket makes around 8.88 billion dollars from the Self Employment Tax Credit and the lowest bracket makes 9.46 billion dollars from it. The third lowest makes around 6.72 billion dollars and the third highest makes around 5.34 billion dollars. The second highest makes 13.68 billion dollars and the highest makes 20.39 billion dollars from it.  These numbers are very intersting since they do not have a generic trend that is followed, instead it goes high to low to very high. It makes sense that the higher income individuals get more from this tax credit since self employed people can easily make more than their counterparts as well owning businesses. In the case of the lower brackets it is interesting to see faairly high numbers. Self employed people do not make a salary though, so there is no gurantee that they will make money doing what they are doing which is why I think the lower brackets have so many self employed people. I think congress should definitely consider keeping this since it affects pretty much all people greatly."
   ]
  },
  {
   "cell_type": "markdown",
   "id": "f43559e0-b04e-40cb-ac69-122935e04af8",
   "metadata": {},
   "source": [
    "## Refundable Education Tax Credit"
   ]
  },
  {
   "cell_type": "code",
   "execution_count": 94,
   "id": "373488d3-0509-4bfe-b1b4-48b483aa1e0d",
   "metadata": {},
   "outputs": [
    {
     "data": {
      "text/plain": [
       "5.47"
      ]
     },
     "execution_count": 94,
     "metadata": {},
     "output_type": "execute_result"
    }
   ],
   "source": [
    "toBillion(df['A10960'].sum()*1000)"
   ]
  },
  {
   "cell_type": "code",
   "execution_count": 96,
   "id": "6cb2d441-e6a3-4cbc-bb28-dbd458819e01",
   "metadata": {},
   "outputs": [
    {
     "data": {
      "text/plain": [
       "agi_stub\n",
       "1    1.91\n",
       "2    1.34\n",
       "3    0.72\n",
       "4    0.47\n",
       "5    1.03\n",
       "6    0.00\n",
       "Name: A10960, dtype: float64"
      ]
     },
     "execution_count": 96,
     "metadata": {},
     "output_type": "execute_result"
    },
    {
     "data": {
      "image/png": "[encoded data removed]",
      "text/plain": [
       "<Figure size 640x480 with 1 Axes>"
      ]
     },
     "metadata": {},
     "output_type": "display_data"
    }
   ],
   "source": [
    "toBillion(creditByTaxBracket['A10960']*1000).plot.bar()\n",
    "toBillion(creditByTaxBracket['A10960']*1000)"
   ]
  },
  {
   "cell_type": "markdown",
   "id": "b94cd819-a2bc-4de5-8b8d-a360bd9f250b",
   "metadata": {},
   "source": [
    "The second lowest bracket makes around 1.34 billion dollars from the Refundable Eduction Tax Credit and the lowest bracket makes 1.91 billion dollars from it. The third lowest makes around 720 million dollars and the third highest makes around 470 million dollars. The second highest makes 1.03 billion dollars and the highest makes nothing from it.  These numbers are very interesting since they do not have a generic trend that is followed, instead it goes very high to low to high. It makes sense that these numbers are as they are since college students do not make all that much money and will likely be in some of the lower brackets. It is definitely interesting that there are so many in the second highest bracket, though this might mean there are some people who make a lot of money while going to college. it also makes sense that noone in the highest bracket makes money since they cannot from this tax credit. Overal this is a reasonably important tax credit though, it does not have much money behind it meaning it could theoretically be removed, but since it hurts the lower income people a lot, it probably shouldn't be."
   ]
  },
  {
   "cell_type": "markdown",
   "id": "1dd74092-edf2-4f86-a261-821301edf070",
   "metadata": {},
   "source": [
    "## Sick/Family Leave Tax Credit"
   ]
  },
  {
   "cell_type": "code",
   "execution_count": 97,
   "id": "bf0776e5-595d-4613-9f08-e118c52f05bb",
   "metadata": {},
   "outputs": [
    {
     "data": {
      "text/plain": [
       "1.46"
      ]
     },
     "execution_count": 97,
     "metadata": {},
     "output_type": "execute_result"
    }
   ],
   "source": [
    "toBillion(df['A11450'].sum()*1000)"
   ]
  },
  {
   "cell_type": "code",
   "execution_count": 98,
   "id": "dc42b88b-5093-41b4-8bef-5ac5caba74d7",
   "metadata": {},
   "outputs": [
    {
     "data": {
      "text/plain": [
       "agi_stub\n",
       "1    0.60\n",
       "2    0.41\n",
       "3    0.18\n",
       "4    0.07\n",
       "5    0.15\n",
       "6    0.05\n",
       "Name: A11450, dtype: float64"
      ]
     },
     "execution_count": 98,
     "metadata": {},
     "output_type": "execute_result"
    },
    {
     "data": {
      "image/png": "[encoded data removed]",
      "text/plain": [
       "<Figure size 640x480 with 1 Axes>"
      ]
     },
     "metadata": {},
     "output_type": "display_data"
    }
   ],
   "source": [
    "toBillion(creditByTaxBracket['A11450']*1000).plot.bar()\n",
    "toBillion(creditByTaxBracket['A11450']*1000)"
   ]
  },
  {
   "cell_type": "markdown",
   "id": "c0da10dd-ea85-43d3-8b33-d9a5670a55be",
   "metadata": {},
   "source": [
    "The second lowest bracket makes around 410 million dollars from the Sick/Parental Leave Tax Credit and the lowest bracket makes 600 million dollars from it. The third lowest makes around 180 million dollars and the third highest makes around 70 million dollars. The second highest makes 150 million dollars and the highest makes 50 million dollars.  These numbers show that lower income individuals make more from this tax credit. It is interesting to me that low income individuals are so greatly affected by sick/parental leave especially with regard to their higher income counterparts. Overal this is not a very important tax credit as it does not have much money behind it meaning it could theoretically be removed, but since it hurts the lower income people a lot when on parental leave, it probably shouldn't be."
   ]
  },
  {
   "cell_type": "markdown",
   "id": "3f810e9c-2ecc-4561-bb4c-0ad24e3a137d",
   "metadata": {},
   "source": [
    "## Recovery Rebate Tax Credit"
   ]
  },
  {
   "cell_type": "code",
   "execution_count": 99,
   "id": "cd4ca8eb-cb65-4ec2-bcb1-daa72e9cfffe",
   "metadata": {},
   "outputs": [
    {
     "data": {
      "text/plain": [
       "39.64"
      ]
     },
     "execution_count": 99,
     "metadata": {},
     "output_type": "execute_result"
    }
   ],
   "source": [
    "toBillion(df['A10970'].sum()*1000)"
   ]
  },
  {
   "cell_type": "code",
   "execution_count": 100,
   "id": "7309e1fd-4b2d-4043-84c2-d59a756c9269",
   "metadata": {},
   "outputs": [
    {
     "data": {
      "text/plain": [
       "agi_stub\n",
       "1    18.58\n",
       "2     8.03\n",
       "3     4.38\n",
       "4     2.74\n",
       "5     5.90\n",
       "6     0.01\n",
       "Name: A10970, dtype: float64"
      ]
     },
     "execution_count": 100,
     "metadata": {},
     "output_type": "execute_result"
    },
    {
     "data": {
      "image/png": "[encoded data removed]",
      "text/plain": [
       "<Figure size 640x480 with 1 Axes>"
      ]
     },
     "metadata": {},
     "output_type": "display_data"
    }
   ],
   "source": [
    "toBillion(creditByTaxBracket['A10970']*1000).plot.bar()\n",
    "toBillion(creditByTaxBracket['A10970']*1000)"
   ]
  },
  {
   "cell_type": "markdown",
   "id": "b63c42b6-7661-4238-bf0f-437d6328b13a",
   "metadata": {},
   "source": [
    "The second lowest bracket makes around 8.03 billion dollars from the Recovery Rebate Tax Credit and the lowest bracket makes 18.58 billion dollars from it. The third lowest makes around 4.38 billion dollars and the third highest makes around 2.74 billion dollars. The second highest makes 5.9 billion dollars and the highest makes 10 million dollars.  These numbers show that lower income individuals make more from this tax credit. It is interesting to me that low income individuals got so much money as compensation for covid with regards to their higher income counterparts since I thought this was aimed at all adults. Even so, there was a limit on how much higher income people could get from it, so the trend at the very least makes sense. Overall this is not a very important tax credit since covid isn't as problematic as it used to be (this also wasn't made to be repeated) so there is no reason for this tax credit to remain."
   ]
  },
  {
   "cell_type": "code",
   "execution_count": null,
   "id": "587ce5e8-7fc6-48e5-8e2b-220407f03dd7",
   "metadata": {},
   "outputs": [],
   "source": []
  }
 ],
 "metadata": {
  "kernelspec": {
   "display_name": "Python 3 (ipykernel)",
   "language": "python",
   "name": "python3"
  },
  "language_info": {
   "codemirror_mode": {
    "name": "ipython",
    "version": 3
   },
   "file_extension": ".py",
   "mimetype": "text/x-python",
   "name": "python",
   "nbconvert_exporter": "python",
   "pygments_lexer": "ipython3",
   "version": "3.9.15"
  }
 },
 "nbformat": 4,
 "nbformat_minor": 5
}
