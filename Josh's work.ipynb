{
 "cells": [
  {
   "cell_type": "code",
   "execution_count": 1,
   "id": "9b22cf45-2da7-4dbe-a4a4-d75ce8a8603a",
   "metadata": {},
   "outputs": [],
   "source": [
    "import pandas as pd"
   ]
  },
  {
   "cell_type": "code",
   "execution_count": 2,
   "id": "39a0b3dd-ed45-44bf-a455-08da24c5b002",
   "metadata": {},
   "outputs": [
    {
     "name": "stdout",
     "output_type": "stream",
     "text": [
      "(166452, 165)\n"
     ]
    },
    {
     "data": {
      "text/html": [
       "<div>\n",
       "<style scoped>\n",
       "    .dataframe tbody tr th:only-of-type {\n",
       "        vertical-align: middle;\n",
       "    }\n",
       "\n",
       "    .dataframe tbody tr th {\n",
       "        vertical-align: top;\n",
       "    }\n",
       "\n",
       "    .dataframe thead th {\n",
       "        text-align: right;\n",
       "    }\n",
       "</style>\n",
       "<table border=\"1\" class=\"dataframe\">\n",
       "  <thead>\n",
       "    <tr style=\"text-align: right;\">\n",
       "      <th></th>\n",
       "      <th>STATEFIPS</th>\n",
       "      <th>STATE</th>\n",
       "      <th>zipcode</th>\n",
       "      <th>agi_stub</th>\n",
       "      <th>N1</th>\n",
       "      <th>mars1</th>\n",
       "      <th>MARS2</th>\n",
       "      <th>MARS4</th>\n",
       "      <th>ELF</th>\n",
       "      <th>CPREP</th>\n",
       "      <th>...</th>\n",
       "      <th>N85300</th>\n",
       "      <th>A85300</th>\n",
       "      <th>N11901</th>\n",
       "      <th>A11901</th>\n",
       "      <th>N11900</th>\n",
       "      <th>A11900</th>\n",
       "      <th>N11902</th>\n",
       "      <th>A11902</th>\n",
       "      <th>N12000</th>\n",
       "      <th>A12000</th>\n",
       "    </tr>\n",
       "  </thead>\n",
       "  <tbody>\n",
       "    <tr>\n",
       "      <th>0</th>\n",
       "      <td>1</td>\n",
       "      <td>AL</td>\n",
       "      <td>0</td>\n",
       "      <td>1</td>\n",
       "      <td>785000.0</td>\n",
       "      <td>519980.0</td>\n",
       "      <td>85690.0</td>\n",
       "      <td>165290.0</td>\n",
       "      <td>724170.0</td>\n",
       "      <td>22560.0</td>\n",
       "      <td>...</td>\n",
       "      <td>0.0</td>\n",
       "      <td>0.0</td>\n",
       "      <td>57720.0</td>\n",
       "      <td>46577.0</td>\n",
       "      <td>674840.0</td>\n",
       "      <td>1827202.0</td>\n",
       "      <td>672200.0</td>\n",
       "      <td>1818867.0</td>\n",
       "      <td>2900.0</td>\n",
       "      <td>6089.0</td>\n",
       "    </tr>\n",
       "    <tr>\n",
       "      <th>1</th>\n",
       "      <td>1</td>\n",
       "      <td>AL</td>\n",
       "      <td>0</td>\n",
       "      <td>2</td>\n",
       "      <td>554310.0</td>\n",
       "      <td>270870.0</td>\n",
       "      <td>121420.0</td>\n",
       "      <td>146470.0</td>\n",
       "      <td>515150.0</td>\n",
       "      <td>13260.0</td>\n",
       "      <td>...</td>\n",
       "      <td>0.0</td>\n",
       "      <td>0.0</td>\n",
       "      <td>81770.0</td>\n",
       "      <td>112540.0</td>\n",
       "      <td>470410.0</td>\n",
       "      <td>1445383.0</td>\n",
       "      <td>466960.0</td>\n",
       "      <td>1432458.0</td>\n",
       "      <td>4660.0</td>\n",
       "      <td>11648.0</td>\n",
       "    </tr>\n",
       "    <tr>\n",
       "      <th>2</th>\n",
       "      <td>1</td>\n",
       "      <td>AL</td>\n",
       "      <td>0</td>\n",
       "      <td>3</td>\n",
       "      <td>290630.0</td>\n",
       "      <td>113280.0</td>\n",
       "      <td>124770.0</td>\n",
       "      <td>44570.0</td>\n",
       "      <td>269700.0</td>\n",
       "      <td>6420.0</td>\n",
       "      <td>...</td>\n",
       "      <td>0.0</td>\n",
       "      <td>0.0</td>\n",
       "      <td>70360.0</td>\n",
       "      <td>144380.0</td>\n",
       "      <td>220710.0</td>\n",
       "      <td>626662.0</td>\n",
       "      <td>216530.0</td>\n",
       "      <td>610170.0</td>\n",
       "      <td>5760.0</td>\n",
       "      <td>16235.0</td>\n",
       "    </tr>\n",
       "    <tr>\n",
       "      <th>3</th>\n",
       "      <td>1</td>\n",
       "      <td>AL</td>\n",
       "      <td>0</td>\n",
       "      <td>4</td>\n",
       "      <td>181010.0</td>\n",
       "      <td>42010.0</td>\n",
       "      <td>120820.0</td>\n",
       "      <td>14410.0</td>\n",
       "      <td>168830.0</td>\n",
       "      <td>2570.0</td>\n",
       "      <td>...</td>\n",
       "      <td>0.0</td>\n",
       "      <td>0.0</td>\n",
       "      <td>49500.0</td>\n",
       "      <td>135429.0</td>\n",
       "      <td>130670.0</td>\n",
       "      <td>437179.0</td>\n",
       "      <td>126790.0</td>\n",
       "      <td>419324.0</td>\n",
       "      <td>3730.0</td>\n",
       "      <td>14903.0</td>\n",
       "    </tr>\n",
       "    <tr>\n",
       "      <th>4</th>\n",
       "      <td>1</td>\n",
       "      <td>AL</td>\n",
       "      <td>0</td>\n",
       "      <td>5</td>\n",
       "      <td>269080.0</td>\n",
       "      <td>31310.0</td>\n",
       "      <td>224330.0</td>\n",
       "      <td>8270.0</td>\n",
       "      <td>252360.0</td>\n",
       "      <td>3250.0</td>\n",
       "      <td>...</td>\n",
       "      <td>100.0</td>\n",
       "      <td>20.0</td>\n",
       "      <td>103250.0</td>\n",
       "      <td>470206.0</td>\n",
       "      <td>165650.0</td>\n",
       "      <td>724529.0</td>\n",
       "      <td>156910.0</td>\n",
       "      <td>642895.0</td>\n",
       "      <td>11280.0</td>\n",
       "      <td>80064.0</td>\n",
       "    </tr>\n",
       "    <tr>\n",
       "      <th>5</th>\n",
       "      <td>1</td>\n",
       "      <td>AL</td>\n",
       "      <td>0</td>\n",
       "      <td>6</td>\n",
       "      <td>81340.0</td>\n",
       "      <td>5000.0</td>\n",
       "      <td>72270.0</td>\n",
       "      <td>630.0</td>\n",
       "      <td>76810.0</td>\n",
       "      <td>230.0</td>\n",
       "      <td>...</td>\n",
       "      <td>41750.0</td>\n",
       "      <td>164094.0</td>\n",
       "      <td>43960.0</td>\n",
       "      <td>1216690.0</td>\n",
       "      <td>34560.0</td>\n",
       "      <td>735671.0</td>\n",
       "      <td>24770.0</td>\n",
       "      <td>285560.0</td>\n",
       "      <td>9630.0</td>\n",
       "      <td>391783.0</td>\n",
       "    </tr>\n",
       "    <tr>\n",
       "      <th>6</th>\n",
       "      <td>1</td>\n",
       "      <td>AL</td>\n",
       "      <td>35004</td>\n",
       "      <td>1</td>\n",
       "      <td>1460.0</td>\n",
       "      <td>1010.0</td>\n",
       "      <td>200.0</td>\n",
       "      <td>210.0</td>\n",
       "      <td>1340.0</td>\n",
       "      <td>40.0</td>\n",
       "      <td>...</td>\n",
       "      <td>0.0</td>\n",
       "      <td>0.0</td>\n",
       "      <td>110.0</td>\n",
       "      <td>80.0</td>\n",
       "      <td>1210.0</td>\n",
       "      <td>2807.0</td>\n",
       "      <td>1210.0</td>\n",
       "      <td>2795.0</td>\n",
       "      <td>0.0</td>\n",
       "      <td>0.0</td>\n",
       "    </tr>\n",
       "    <tr>\n",
       "      <th>7</th>\n",
       "      <td>1</td>\n",
       "      <td>AL</td>\n",
       "      <td>35004</td>\n",
       "      <td>2</td>\n",
       "      <td>1400.0</td>\n",
       "      <td>760.0</td>\n",
       "      <td>280.0</td>\n",
       "      <td>310.0</td>\n",
       "      <td>1310.0</td>\n",
       "      <td>40.0</td>\n",
       "      <td>...</td>\n",
       "      <td>0.0</td>\n",
       "      <td>0.0</td>\n",
       "      <td>190.0</td>\n",
       "      <td>194.0</td>\n",
       "      <td>1210.0</td>\n",
       "      <td>3378.0</td>\n",
       "      <td>1200.0</td>\n",
       "      <td>3335.0</td>\n",
       "      <td>30.0</td>\n",
       "      <td>62.0</td>\n",
       "    </tr>\n",
       "    <tr>\n",
       "      <th>8</th>\n",
       "      <td>1</td>\n",
       "      <td>AL</td>\n",
       "      <td>35004</td>\n",
       "      <td>3</td>\n",
       "      <td>1020.0</td>\n",
       "      <td>460.0</td>\n",
       "      <td>350.0</td>\n",
       "      <td>190.0</td>\n",
       "      <td>970.0</td>\n",
       "      <td>30.0</td>\n",
       "      <td>...</td>\n",
       "      <td>0.0</td>\n",
       "      <td>0.0</td>\n",
       "      <td>230.0</td>\n",
       "      <td>357.0</td>\n",
       "      <td>800.0</td>\n",
       "      <td>2131.0</td>\n",
       "      <td>790.0</td>\n",
       "      <td>2119.0</td>\n",
       "      <td>0.0</td>\n",
       "      <td>0.0</td>\n",
       "    </tr>\n",
       "    <tr>\n",
       "      <th>9</th>\n",
       "      <td>1</td>\n",
       "      <td>AL</td>\n",
       "      <td>35004</td>\n",
       "      <td>4</td>\n",
       "      <td>630.0</td>\n",
       "      <td>140.0</td>\n",
       "      <td>420.0</td>\n",
       "      <td>60.0</td>\n",
       "      <td>590.0</td>\n",
       "      <td>0.0</td>\n",
       "      <td>...</td>\n",
       "      <td>0.0</td>\n",
       "      <td>0.0</td>\n",
       "      <td>180.0</td>\n",
       "      <td>386.0</td>\n",
       "      <td>450.0</td>\n",
       "      <td>1282.0</td>\n",
       "      <td>440.0</td>\n",
       "      <td>1276.0</td>\n",
       "      <td>0.0</td>\n",
       "      <td>0.0</td>\n",
       "    </tr>\n",
       "  </tbody>\n",
       "</table>\n",
       "<p>10 rows × 165 columns</p>\n",
       "</div>"
      ],
      "text/plain": [
       "   STATEFIPS STATE  zipcode  agi_stub        N1     mars1     MARS2     MARS4  \\\n",
       "0          1    AL        0         1  785000.0  519980.0   85690.0  165290.0   \n",
       "1          1    AL        0         2  554310.0  270870.0  121420.0  146470.0   \n",
       "2          1    AL        0         3  290630.0  113280.0  124770.0   44570.0   \n",
       "3          1    AL        0         4  181010.0   42010.0  120820.0   14410.0   \n",
       "4          1    AL        0         5  269080.0   31310.0  224330.0    8270.0   \n",
       "5          1    AL        0         6   81340.0    5000.0   72270.0     630.0   \n",
       "6          1    AL    35004         1    1460.0    1010.0     200.0     210.0   \n",
       "7          1    AL    35004         2    1400.0     760.0     280.0     310.0   \n",
       "8          1    AL    35004         3    1020.0     460.0     350.0     190.0   \n",
       "9          1    AL    35004         4     630.0     140.0     420.0      60.0   \n",
       "\n",
       "        ELF    CPREP  ...   N85300    A85300    N11901     A11901    N11900  \\\n",
       "0  724170.0  22560.0  ...      0.0       0.0   57720.0    46577.0  674840.0   \n",
       "1  515150.0  13260.0  ...      0.0       0.0   81770.0   112540.0  470410.0   \n",
       "2  269700.0   6420.0  ...      0.0       0.0   70360.0   144380.0  220710.0   \n",
       "3  168830.0   2570.0  ...      0.0       0.0   49500.0   135429.0  130670.0   \n",
       "4  252360.0   3250.0  ...    100.0      20.0  103250.0   470206.0  165650.0   \n",
       "5   76810.0    230.0  ...  41750.0  164094.0   43960.0  1216690.0   34560.0   \n",
       "6    1340.0     40.0  ...      0.0       0.0     110.0       80.0    1210.0   \n",
       "7    1310.0     40.0  ...      0.0       0.0     190.0      194.0    1210.0   \n",
       "8     970.0     30.0  ...      0.0       0.0     230.0      357.0     800.0   \n",
       "9     590.0      0.0  ...      0.0       0.0     180.0      386.0     450.0   \n",
       "\n",
       "      A11900    N11902     A11902   N12000    A12000  \n",
       "0  1827202.0  672200.0  1818867.0   2900.0    6089.0  \n",
       "1  1445383.0  466960.0  1432458.0   4660.0   11648.0  \n",
       "2   626662.0  216530.0   610170.0   5760.0   16235.0  \n",
       "3   437179.0  126790.0   419324.0   3730.0   14903.0  \n",
       "4   724529.0  156910.0   642895.0  11280.0   80064.0  \n",
       "5   735671.0   24770.0   285560.0   9630.0  391783.0  \n",
       "6     2807.0    1210.0     2795.0      0.0       0.0  \n",
       "7     3378.0    1200.0     3335.0     30.0      62.0  \n",
       "8     2131.0     790.0     2119.0      0.0       0.0  \n",
       "9     1282.0     440.0     1276.0      0.0       0.0  \n",
       "\n",
       "[10 rows x 165 columns]"
      ]
     },
     "execution_count": 2,
     "metadata": {},
     "output_type": "execute_result"
    }
   ],
   "source": [
    "df = pd.read_csv('tax_data.csv')\n",
    "print(df.shape)\n",
    "df.head(10)"
   ]
  },
  {
   "cell_type": "code",
   "execution_count": 3,
   "id": "ba235617-075e-4db7-a082-152f8fc797d8",
   "metadata": {},
   "outputs": [
    {
     "data": {
      "text/plain": [
       "TX    9702\n",
       "NY    9234\n",
       "CA    8898\n",
       "PA    8219\n",
       "IL    7379\n",
       "OH    5988\n",
       "FL    5526\n",
       "MI    5352\n",
       "MO    5351\n",
       "IA    4950\n",
       "Name: STATE, dtype: int64"
      ]
     },
     "execution_count": 3,
     "metadata": {},
     "output_type": "execute_result"
    }
   ],
   "source": [
    "df.STATE.value_counts().head(10)"
   ]
  },
  {
   "cell_type": "code",
   "execution_count": 4,
   "id": "87228318-ecab-4cbf-a294-f9f757b31d3c",
   "metadata": {},
   "outputs": [],
   "source": [
    "#my stuff here"
   ]
  },
  {
   "cell_type": "code",
   "execution_count": 5,
   "id": "316d618a-bed3-4a1b-be58-e538351524ae",
   "metadata": {},
   "outputs": [
    {
     "data": {
      "text/plain": [
       "0"
      ]
     },
     "execution_count": 5,
     "metadata": {},
     "output_type": "execute_result"
    }
   ],
   "source": [
    "#count missing values\n",
    "df.isna().sum().sum()"
   ]
  },
  {
   "cell_type": "code",
   "execution_count": 6,
   "id": "8f5f0bfd-e624-49f5-899e-58581ac7da47",
   "metadata": {},
   "outputs": [
    {
     "data": {
      "text/plain": [
       "306"
      ]
     },
     "execution_count": 6,
     "metadata": {},
     "output_type": "execute_result"
    }
   ],
   "source": [
    "#we have no missing values, let's look at the number of zipcodes that are 00000 or 99999\n",
    "len(df[df.zipcode == 00000])"
   ]
  },
  {
   "cell_type": "code",
   "execution_count": 7,
   "id": "d9c08bd8-52e8-40bb-86af-5b421fd9567a",
   "metadata": {},
   "outputs": [
    {
     "data": {
      "text/plain": [
       "306"
      ]
     },
     "execution_count": 7,
     "metadata": {},
     "output_type": "execute_result"
    }
   ],
   "source": [
    "len(df[df.zipcode == 99999])"
   ]
  },
  {
   "cell_type": "code",
   "execution_count": 8,
   "id": "67a984de-e2b1-4d10-89ea-5474ad36e6ba",
   "metadata": {},
   "outputs": [],
   "source": [
    "#So the number of zip codes that are 00000 = the number of zipcodes that are 99999\n",
    "#I will read the documentation to find out why these zip codes exist.\n",
    "#documentation says that 'ZIP codes with less than 100 returns and those identified as a single building or nonresidential ZIP code were categorized as “other” (99999)'.\n"
   ]
  },
  {
   "cell_type": "code",
   "execution_count": 9,
   "id": "0d5aab0e-458c-4662-b21f-8f7e7b613d18",
   "metadata": {},
   "outputs": [
    {
     "data": {
      "text/plain": [
       "STATEFIPS      int64\n",
       "STATE         object\n",
       "zipcode        int64\n",
       "agi_stub       int64\n",
       "N1           float64\n",
       "              ...   \n",
       "A11900       float64\n",
       "N11902       float64\n",
       "A11902       float64\n",
       "N12000       float64\n",
       "A12000       float64\n",
       "Length: 165, dtype: object"
      ]
     },
     "execution_count": 9,
     "metadata": {},
     "output_type": "execute_result"
    }
   ],
   "source": [
    "#idea: do correct zip code, correct data types conversions\n",
    "df.dtypes"
   ]
  },
  {
   "cell_type": "code",
   "execution_count": null,
   "id": "6dfb3b06-3a74-4d9b-9e8b-74c8d5478ca7",
   "metadata": {},
   "outputs": [],
   "source": []
  },
  {
   "cell_type": "code",
   "execution_count": 10,
   "id": "c51dcb54-c1a0-458e-a131-8cefaaf1ce98",
   "metadata": {},
   "outputs": [],
   "source": [
    "df['Total_Income_Tax_Difference'] = df['A02650'] - df['A04800']"
   ]
  },
  {
   "cell_type": "code",
   "execution_count": 11,
   "id": "22b3a3a8-227c-45b2-ad2e-913610c9c491",
   "metadata": {},
   "outputs": [
    {
     "data": {
      "text/plain": [
       "count    1.664520e+05\n",
       "mean     3.797395e+04\n",
       "std      7.053047e+05\n",
       "min     -3.269980e+05\n",
       "25%      1.719000e+03\n",
       "50%      5.768500e+03\n",
       "75%      2.307500e+04\n",
       "max      9.843056e+07\n",
       "Name: Total_Income_Tax_Difference, dtype: float64"
      ]
     },
     "execution_count": 11,
     "metadata": {},
     "output_type": "execute_result"
    }
   ],
   "source": [
    "df['Total_Income_Tax_Difference'].describe()"
   ]
  },
  {
   "cell_type": "markdown",
   "id": "80afde5c-6815-4f52-bfbe-6525c0a14c77",
   "metadata": {},
   "source": [
    "37,739,000 dollars is the average difference between total income and taxable income. 5,768,000 dollars is the median difference between total income and taxable income.\n",
    "\n",
    "This tells me the data set is really skewed."
   ]
  },
  {
   "cell_type": "code",
   "execution_count": 12,
   "id": "2509551e-faea-45ae-899b-675c0f85eda3",
   "metadata": {},
   "outputs": [],
   "source": [
    "#ideas: box plots for rich, poor people, middle class.\n",
    "#segreate data 3 ways with qcut.\n",
    "\n",
    "df['Economic Class'] = pd.qcut(df.Total_Income_Tax_Difference, q=3, labels=['poor', 'middle class', 'rich'])"
   ]
  },
  {
   "cell_type": "code",
   "execution_count": 13,
   "id": "000bfe1d-8df6-4397-9923-e0ae81f13162",
   "metadata": {},
   "outputs": [
    {
     "data": {
      "text/html": [
       "<div>\n",
       "<style scoped>\n",
       "    .dataframe tbody tr th:only-of-type {\n",
       "        vertical-align: middle;\n",
       "    }\n",
       "\n",
       "    .dataframe tbody tr th {\n",
       "        vertical-align: top;\n",
       "    }\n",
       "\n",
       "    .dataframe thead th {\n",
       "        text-align: right;\n",
       "    }\n",
       "</style>\n",
       "<table border=\"1\" class=\"dataframe\">\n",
       "  <thead>\n",
       "    <tr style=\"text-align: right;\">\n",
       "      <th></th>\n",
       "      <th>STATEFIPS</th>\n",
       "      <th>STATE</th>\n",
       "      <th>zipcode</th>\n",
       "      <th>agi_stub</th>\n",
       "      <th>N1</th>\n",
       "      <th>mars1</th>\n",
       "      <th>MARS2</th>\n",
       "      <th>MARS4</th>\n",
       "      <th>ELF</th>\n",
       "      <th>CPREP</th>\n",
       "      <th>...</th>\n",
       "      <th>N11901</th>\n",
       "      <th>A11901</th>\n",
       "      <th>N11900</th>\n",
       "      <th>A11900</th>\n",
       "      <th>N11902</th>\n",
       "      <th>A11902</th>\n",
       "      <th>N12000</th>\n",
       "      <th>A12000</th>\n",
       "      <th>Total_Income_Tax_Difference</th>\n",
       "      <th>Economic Class</th>\n",
       "    </tr>\n",
       "  </thead>\n",
       "  <tbody>\n",
       "    <tr>\n",
       "      <th>0</th>\n",
       "      <td>1</td>\n",
       "      <td>AL</td>\n",
       "      <td>0</td>\n",
       "      <td>1</td>\n",
       "      <td>785000.0</td>\n",
       "      <td>519980.0</td>\n",
       "      <td>85690.0</td>\n",
       "      <td>165290.0</td>\n",
       "      <td>724170.0</td>\n",
       "      <td>22560.0</td>\n",
       "      <td>...</td>\n",
       "      <td>57720.0</td>\n",
       "      <td>46577.0</td>\n",
       "      <td>674840.0</td>\n",
       "      <td>1827202.0</td>\n",
       "      <td>672200.0</td>\n",
       "      <td>1818867.0</td>\n",
       "      <td>2900.0</td>\n",
       "      <td>6089.0</td>\n",
       "      <td>8575147.0</td>\n",
       "      <td>rich</td>\n",
       "    </tr>\n",
       "    <tr>\n",
       "      <th>1</th>\n",
       "      <td>1</td>\n",
       "      <td>AL</td>\n",
       "      <td>0</td>\n",
       "      <td>2</td>\n",
       "      <td>554310.0</td>\n",
       "      <td>270870.0</td>\n",
       "      <td>121420.0</td>\n",
       "      <td>146470.0</td>\n",
       "      <td>515150.0</td>\n",
       "      <td>13260.0</td>\n",
       "      <td>...</td>\n",
       "      <td>81770.0</td>\n",
       "      <td>112540.0</td>\n",
       "      <td>470410.0</td>\n",
       "      <td>1445383.0</td>\n",
       "      <td>466960.0</td>\n",
       "      <td>1432458.0</td>\n",
       "      <td>4660.0</td>\n",
       "      <td>11648.0</td>\n",
       "      <td>9831169.0</td>\n",
       "      <td>rich</td>\n",
       "    </tr>\n",
       "    <tr>\n",
       "      <th>2</th>\n",
       "      <td>1</td>\n",
       "      <td>AL</td>\n",
       "      <td>0</td>\n",
       "      <td>3</td>\n",
       "      <td>290630.0</td>\n",
       "      <td>113280.0</td>\n",
       "      <td>124770.0</td>\n",
       "      <td>44570.0</td>\n",
       "      <td>269700.0</td>\n",
       "      <td>6420.0</td>\n",
       "      <td>...</td>\n",
       "      <td>70360.0</td>\n",
       "      <td>144380.0</td>\n",
       "      <td>220710.0</td>\n",
       "      <td>626662.0</td>\n",
       "      <td>216530.0</td>\n",
       "      <td>610170.0</td>\n",
       "      <td>5760.0</td>\n",
       "      <td>16235.0</td>\n",
       "      <td>5964512.0</td>\n",
       "      <td>rich</td>\n",
       "    </tr>\n",
       "    <tr>\n",
       "      <th>3</th>\n",
       "      <td>1</td>\n",
       "      <td>AL</td>\n",
       "      <td>0</td>\n",
       "      <td>4</td>\n",
       "      <td>181010.0</td>\n",
       "      <td>42010.0</td>\n",
       "      <td>120820.0</td>\n",
       "      <td>14410.0</td>\n",
       "      <td>168830.0</td>\n",
       "      <td>2570.0</td>\n",
       "      <td>...</td>\n",
       "      <td>49500.0</td>\n",
       "      <td>135429.0</td>\n",
       "      <td>130670.0</td>\n",
       "      <td>437179.0</td>\n",
       "      <td>126790.0</td>\n",
       "      <td>419324.0</td>\n",
       "      <td>3730.0</td>\n",
       "      <td>14903.0</td>\n",
       "      <td>4327994.0</td>\n",
       "      <td>rich</td>\n",
       "    </tr>\n",
       "    <tr>\n",
       "      <th>4</th>\n",
       "      <td>1</td>\n",
       "      <td>AL</td>\n",
       "      <td>0</td>\n",
       "      <td>5</td>\n",
       "      <td>269080.0</td>\n",
       "      <td>31310.0</td>\n",
       "      <td>224330.0</td>\n",
       "      <td>8270.0</td>\n",
       "      <td>252360.0</td>\n",
       "      <td>3250.0</td>\n",
       "      <td>...</td>\n",
       "      <td>103250.0</td>\n",
       "      <td>470206.0</td>\n",
       "      <td>165650.0</td>\n",
       "      <td>724529.0</td>\n",
       "      <td>156910.0</td>\n",
       "      <td>642895.0</td>\n",
       "      <td>11280.0</td>\n",
       "      <td>80064.0</td>\n",
       "      <td>7550433.0</td>\n",
       "      <td>rich</td>\n",
       "    </tr>\n",
       "  </tbody>\n",
       "</table>\n",
       "<p>5 rows × 167 columns</p>\n",
       "</div>"
      ],
      "text/plain": [
       "   STATEFIPS STATE  zipcode  agi_stub        N1     mars1     MARS2     MARS4  \\\n",
       "0          1    AL        0         1  785000.0  519980.0   85690.0  165290.0   \n",
       "1          1    AL        0         2  554310.0  270870.0  121420.0  146470.0   \n",
       "2          1    AL        0         3  290630.0  113280.0  124770.0   44570.0   \n",
       "3          1    AL        0         4  181010.0   42010.0  120820.0   14410.0   \n",
       "4          1    AL        0         5  269080.0   31310.0  224330.0    8270.0   \n",
       "\n",
       "        ELF    CPREP  ...    N11901    A11901    N11900     A11900    N11902  \\\n",
       "0  724170.0  22560.0  ...   57720.0   46577.0  674840.0  1827202.0  672200.0   \n",
       "1  515150.0  13260.0  ...   81770.0  112540.0  470410.0  1445383.0  466960.0   \n",
       "2  269700.0   6420.0  ...   70360.0  144380.0  220710.0   626662.0  216530.0   \n",
       "3  168830.0   2570.0  ...   49500.0  135429.0  130670.0   437179.0  126790.0   \n",
       "4  252360.0   3250.0  ...  103250.0  470206.0  165650.0   724529.0  156910.0   \n",
       "\n",
       "      A11902   N12000   A12000  Total_Income_Tax_Difference  Economic Class  \n",
       "0  1818867.0   2900.0   6089.0                    8575147.0            rich  \n",
       "1  1432458.0   4660.0  11648.0                    9831169.0            rich  \n",
       "2   610170.0   5760.0  16235.0                    5964512.0            rich  \n",
       "3   419324.0   3730.0  14903.0                    4327994.0            rich  \n",
       "4   642895.0  11280.0  80064.0                    7550433.0            rich  \n",
       "\n",
       "[5 rows x 167 columns]"
      ]
     },
     "execution_count": 13,
     "metadata": {},
     "output_type": "execute_result"
    }
   ],
   "source": [
    "df.head()"
   ]
  },
  {
   "cell_type": "code",
   "execution_count": 14,
   "id": "eb1624fb-56ff-4263-afec-3f62d82aae81",
   "metadata": {},
   "outputs": [
    {
     "data": {
      "text/html": [
       "<div>\n",
       "<style scoped>\n",
       "    .dataframe tbody tr th:only-of-type {\n",
       "        vertical-align: middle;\n",
       "    }\n",
       "\n",
       "    .dataframe tbody tr th {\n",
       "        vertical-align: top;\n",
       "    }\n",
       "\n",
       "    .dataframe thead th {\n",
       "        text-align: right;\n",
       "    }\n",
       "</style>\n",
       "<table border=\"1\" class=\"dataframe\">\n",
       "  <thead>\n",
       "    <tr style=\"text-align: right;\">\n",
       "      <th>Economic Class</th>\n",
       "      <th>poor</th>\n",
       "      <th>middle class</th>\n",
       "      <th>rich</th>\n",
       "    </tr>\n",
       "    <tr>\n",
       "      <th>Total_Income_Tax_Difference</th>\n",
       "      <th></th>\n",
       "      <th></th>\n",
       "      <th></th>\n",
       "    </tr>\n",
       "  </thead>\n",
       "  <tbody>\n",
       "    <tr>\n",
       "      <th>-326998.0</th>\n",
       "      <td>1</td>\n",
       "      <td>0</td>\n",
       "      <td>0</td>\n",
       "    </tr>\n",
       "    <tr>\n",
       "      <th>-139463.0</th>\n",
       "      <td>1</td>\n",
       "      <td>0</td>\n",
       "      <td>0</td>\n",
       "    </tr>\n",
       "    <tr>\n",
       "      <th>-101969.0</th>\n",
       "      <td>1</td>\n",
       "      <td>0</td>\n",
       "      <td>0</td>\n",
       "    </tr>\n",
       "    <tr>\n",
       "      <th>-86712.0</th>\n",
       "      <td>1</td>\n",
       "      <td>0</td>\n",
       "      <td>0</td>\n",
       "    </tr>\n",
       "    <tr>\n",
       "      <th>-72029.0</th>\n",
       "      <td>1</td>\n",
       "      <td>0</td>\n",
       "      <td>0</td>\n",
       "    </tr>\n",
       "    <tr>\n",
       "      <th>...</th>\n",
       "      <td>...</td>\n",
       "      <td>...</td>\n",
       "      <td>...</td>\n",
       "    </tr>\n",
       "    <tr>\n",
       "      <th>59223891.0</th>\n",
       "      <td>0</td>\n",
       "      <td>0</td>\n",
       "      <td>1</td>\n",
       "    </tr>\n",
       "    <tr>\n",
       "      <th>59644171.0</th>\n",
       "      <td>0</td>\n",
       "      <td>0</td>\n",
       "      <td>1</td>\n",
       "    </tr>\n",
       "    <tr>\n",
       "      <th>78102234.0</th>\n",
       "      <td>0</td>\n",
       "      <td>0</td>\n",
       "      <td>1</td>\n",
       "    </tr>\n",
       "    <tr>\n",
       "      <th>79937139.0</th>\n",
       "      <td>0</td>\n",
       "      <td>0</td>\n",
       "      <td>1</td>\n",
       "    </tr>\n",
       "    <tr>\n",
       "      <th>98430558.0</th>\n",
       "      <td>0</td>\n",
       "      <td>0</td>\n",
       "      <td>1</td>\n",
       "    </tr>\n",
       "  </tbody>\n",
       "</table>\n",
       "<p>55102 rows × 3 columns</p>\n",
       "</div>"
      ],
      "text/plain": [
       "Economic Class               poor  middle class  rich\n",
       "Total_Income_Tax_Difference                          \n",
       "-326998.0                       1             0     0\n",
       "-139463.0                       1             0     0\n",
       "-101969.0                       1             0     0\n",
       "-86712.0                        1             0     0\n",
       "-72029.0                        1             0     0\n",
       "...                           ...           ...   ...\n",
       " 59223891.0                     0             0     1\n",
       " 59644171.0                     0             0     1\n",
       " 78102234.0                     0             0     1\n",
       " 79937139.0                     0             0     1\n",
       " 98430558.0                     0             0     1\n",
       "\n",
       "[55102 rows x 3 columns]"
      ]
     },
     "execution_count": 14,
     "metadata": {},
     "output_type": "execute_result"
    }
   ],
   "source": [
    "classTaxDiff = pd.crosstab(df['Total_Income_Tax_Difference'], df['Economic Class'])\n",
    "classTaxDiff"
   ]
  },
  {
   "cell_type": "code",
   "execution_count": 15,
   "id": "c95783bb-ff5e-40b5-88d7-1b89bbfc7543",
   "metadata": {},
   "outputs": [
    {
     "data": {
      "text/plain": [
       "STATE\n",
       "AK     1290970.0\n",
       "AL     8248810.0\n",
       "AR     5044920.0\n",
       "AZ    12465060.0\n",
       "CA    70327820.0\n",
       "CO    10269910.0\n",
       "CT     6368170.0\n",
       "DC     1050600.0\n",
       "DE     1787140.0\n",
       "FL    38268970.0\n",
       "GA    18570220.0\n",
       "HI     2468860.0\n",
       "IA     5628980.0\n",
       "ID     3376360.0\n",
       "IL    22379750.0\n",
       "IN    12086450.0\n",
       "KS     5210880.0\n",
       "KY     7535510.0\n",
       "LA     7556830.0\n",
       "MA    12236390.0\n",
       "MD    11031940.0\n",
       "ME     2406290.0\n",
       "MI    17575450.0\n",
       "MN    10349480.0\n",
       "MO    10779160.0\n",
       "MS     4880680.0\n",
       "MT     1920500.0\n",
       "NC    18358960.0\n",
       "ND     1352110.0\n",
       "NE     3526960.0\n",
       "NH     2519130.0\n",
       "NJ    16689580.0\n",
       "NM     3502000.0\n",
       "NV     5552730.0\n",
       "NY    34307320.0\n",
       "OH    20423250.0\n",
       "OK     6700120.0\n",
       "OR     7262310.0\n",
       "PA    22640220.0\n",
       "RI     1878540.0\n",
       "SC     9002200.0\n",
       "SD     1610700.0\n",
       "TN    12082120.0\n",
       "TX    52176780.0\n",
       "UT     6070030.0\n",
       "VA    15325230.0\n",
       "VT     1138750.0\n",
       "WA    13810770.0\n",
       "WI    10555060.0\n",
       "WV     2923000.0\n",
       "WY     1047090.0\n",
       "Name: N2, dtype: float64"
      ]
     },
     "execution_count": 15,
     "metadata": {},
     "output_type": "execute_result"
    }
   ],
   "source": [
    "#Idea: check total number of individuals for all tax returns in each state\n",
    "df.groupby('STATE')['N2'].sum()"
   ]
  },
  {
   "cell_type": "code",
   "execution_count": 16,
   "id": "c40c643b-0b98-4c23-97d8-4ae9fa63c1b1",
   "metadata": {
    "tags": []
   },
   "outputs": [
    {
     "data": {
      "text/plain": [
       "<AxesSubplot: >"
      ]
     },
     "execution_count": 16,
     "metadata": {},
     "output_type": "execute_result"
    },
    {
     "data": {
      "image/png": "[encoded data removed]",
      "text/plain": [
       "<Figure size 640x480 with 1 Axes>"
      ]
     },
     "metadata": {},
     "output_type": "display_data"
    }
   ],
   "source": [
    "classTaxDiff.plot.box()"
   ]
  },
  {
   "cell_type": "code",
   "execution_count": null,
   "id": "e1650358-5ec6-4dc5-a6a7-8285f20c985a",
   "metadata": {},
   "outputs": [],
   "source": []
  },
  {
   "cell_type": "code",
   "execution_count": 17,
   "id": "a4aa0407-1e79-4dc9-9229-4b64f75b529c",
   "metadata": {},
   "outputs": [
    {
     "data": {
      "image/png": "[encoded data removed]",
      "text/plain": [
       "<Figure size 640x480 with 1 Axes>"
      ]
     },
     "metadata": {},
     "output_type": "display_data"
    }
   ],
   "source": [
    "ax = df.plot.box(column='Total_Income_Tax_Difference', by=\"Economic Class\")"
   ]
  },
  {
   "cell_type": "code",
   "execution_count": 18,
   "id": "2dc75a52-86ff-44e9-b7dd-73eed7ebe768",
   "metadata": {},
   "outputs": [
    {
     "data": {
      "image/png": "[encoded data removed]",
      "text/plain": [
       "<Figure size 1000x800 with 1 Axes>"
      ]
     },
     "metadata": {},
     "output_type": "display_data"
    }
   ],
   "source": [
    "#clearly the way we split the data above for economic classes did not work. Luke just informed me that AGI\n",
    "#stub is a good way to figure out economic classes. Smart idea by him\n",
    "#let's make a box plot with that grouping\n",
    "ax = df.plot.box(column='Total_Income_Tax_Difference', by=\"agi_stub\", figsize=(10, 8))"
   ]
  },
  {
   "cell_type": "code",
   "execution_count": 19,
   "id": "3eda1306-6784-4da8-a60c-0670a81eea0d",
   "metadata": {},
   "outputs": [],
   "source": [
    "#Column values are weird for some reason, regardless it seems that the raw total income-taxable income difference doesn't seem to \n",
    "#at first to appear to be different between economic groups\n"
   ]
  },
  {
   "cell_type": "code",
   "execution_count": 20,
   "id": "3652e4eb-7375-427a-abe0-426daf3c83fc",
   "metadata": {},
   "outputs": [
    {
     "data": {
      "text/plain": [
       "0.8019842884896472"
      ]
     },
     "execution_count": 20,
     "metadata": {},
     "output_type": "execute_result"
    }
   ],
   "source": [
    "#I am curious about the number of returns that do have\n",
    "#taxable stuff vs the total number of returns\n",
    "Total_taxable_income_returns = df['N04800'].sum()\n",
    "Total_returns = df['N1'].sum()\n",
    "Total_taxable_income_returns / Total_returns"
   ]
  },
  {
   "cell_type": "markdown",
   "id": "550c88aa-3905-4367-8dbc-ba45be729b9b",
   "metadata": {},
   "source": [
    "It seems that 80% of all individual income tax returns have taxable income stuff on them. Don't know if this really matters, but will keep here in case it does."
   ]
  },
  {
   "cell_type": "code",
   "execution_count": 21,
   "id": "1fdba59b-ef36-4ed1-8677-8430d9dead81",
   "metadata": {},
   "outputs": [
    {
     "data": {
      "text/plain": [
       "<pandas.core.groupby.generic.SeriesGroupBy object at 0x7f17e96a7550>"
      ]
     },
     "execution_count": 21,
     "metadata": {},
     "output_type": "execute_result"
    }
   ],
   "source": [
    "#let's get that for by state (mean for by state)\n",
    "df['Percentage_Returns_Taxable'] = df['N04800'] / df['N1']\n",
    "\n",
    "df.groupby('STATE')['Percentage_Returns_Taxable']\n",
    "#I didn't use median here or we would get 1 everywhere"
   ]
  },
  {
   "cell_type": "code",
   "execution_count": 22,
   "id": "84a743df-9009-4e21-a0a4-39d4cc7efcd9",
   "metadata": {},
   "outputs": [
    {
     "data": {
      "text/plain": [
       "0.41330285687561746"
      ]
     },
     "execution_count": 22,
     "metadata": {},
     "output_type": "execute_result"
    }
   ],
   "source": [
    "#let's get the total % of wages and salary that is taxed\n",
    "df['%SalaryTaxed'] = df['A18300'] / df['A00200']\n",
    "100*df['%SalaryTaxed'].median() #mean gets us infinity here for some reason"
   ]
  },
  {
   "cell_type": "code",
   "execution_count": 23,
   "id": "6a8150c4-00a1-482f-989a-d79e82e9890f",
   "metadata": {},
   "outputs": [],
   "source": [
    "#this is a weird result, says that median % of salary and wages paid in taxes is 0.41"
   ]
  },
  {
   "cell_type": "code",
   "execution_count": 24,
   "id": "9b163105-d22b-4d9c-a2ca-17bc20407084",
   "metadata": {},
   "outputs": [
    {
     "data": {
      "text/plain": [
       "STATE\n",
       "AK    0.002343\n",
       "AL    0.001436\n",
       "AR    0.000000\n",
       "AZ    0.008517\n",
       "CA    0.020929\n",
       "CO    0.008646\n",
       "CT    0.016878\n",
       "DC    0.019502\n",
       "DE    0.012263\n",
       "FL    0.008552\n",
       "GA    0.010241\n",
       "HI    0.016592\n",
       "IA    0.000000\n",
       "ID    0.000000\n",
       "IL    0.000000\n",
       "IN    0.000000\n",
       "KS    0.000000\n",
       "KY    0.000000\n",
       "LA    0.001564\n",
       "MA    0.016754\n",
       "MD    0.024012\n",
       "ME    0.000000\n",
       "MI    0.003898\n",
       "MN    0.000000\n",
       "MO    0.000000\n",
       "MS    0.000000\n",
       "MT    0.000000\n",
       "NC    0.005986\n",
       "ND    0.000000\n",
       "NE    0.000000\n",
       "NH    0.007293\n",
       "NJ    0.023743\n",
       "NM    0.000000\n",
       "NV    0.008101\n",
       "NY    0.008376\n",
       "OH    0.000809\n",
       "OK    0.000000\n",
       "OR    0.014613\n",
       "PA    0.000000\n",
       "RI    0.014998\n",
       "SC    0.005346\n",
       "SD    0.000000\n",
       "TN    0.000000\n",
       "TX    0.005472\n",
       "UT    0.009097\n",
       "VA    0.006963\n",
       "VT    0.000000\n",
       "WA    0.009198\n",
       "WI    0.003244\n",
       "WV    0.000000\n",
       "WY    0.000000\n",
       "Name: %SalaryTaxed, dtype: float64"
      ]
     },
     "execution_count": 24,
     "metadata": {},
     "output_type": "execute_result"
    }
   ],
   "source": [
    "#will quickly check this by state\n",
    "df.groupby('STATE')['%SalaryTaxed'].median()"
   ]
  },
  {
   "cell_type": "code",
   "execution_count": 25,
   "id": "50d0c82f-c3db-44f4-8d68-c8466fbf5cd4",
   "metadata": {},
   "outputs": [],
   "source": [
    "#same result for states as for total."
   ]
  },
  {
   "cell_type": "code",
   "execution_count": 2,
   "id": "f751a32b-bbbb-45d5-93ae-a14048d1d90d",
   "metadata": {},
   "outputs": [],
   "source": [
    "#test edit by josh to test if permissons are working"
   ]
  },
  {
   "cell_type": "code",
   "execution_count": null,
   "id": "16c59fee-be20-4d9f-954b-a9dcc108be96",
   "metadata": {},
   "outputs": [],
   "source": []
  }
 ],
 "metadata": {
  "kernelspec": {
   "display_name": "Python 3 (ipykernel)",
   "language": "python",
   "name": "python3"
  },
  "language_info": {
   "codemirror_mode": {
    "name": "ipython",
    "version": 3
   },
   "file_extension": ".py",
   "mimetype": "text/x-python",
   "name": "python",
   "nbconvert_exporter": "python",
   "pygments_lexer": "ipython3",
   "version": "3.9.15"
  }
 },
 "nbformat": 4,
 "nbformat_minor": 5
}
