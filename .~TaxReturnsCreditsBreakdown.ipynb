{
 "cells": [
  {
   "cell_type": "markdown",
   "id": "48d582e9-989d-46be-84ae-dd6732eaa03d",
   "metadata": {},
   "source": [
    "# Tax Returns Credit Breakdown\n",
    "comming soon... Talk to Evan if you want to work on this. I will explain the concept to you. \\\n",
    "(Look at Rebuild Income Revenue Tax Credit, but do breakdown) \\\n",
    "(Also Update that chart with each type of tax)"
   ]
  },
  {
   "cell_type": "markdown",
   "id": "27babe0f-3d9f-4bb7-b309-ef9d5d934772",
   "metadata": {},
   "source": [
    "## Types of Tax Credits\n",
    "A tax credit takes the amount off the total final tax bill, instead of deducting it from your taxable income.\n",
    "\n",
    "| Number Filed (Col) | Amount Filed (Col) | Form | Type of Return | Description |\n",
    "| --- | --- | --- | --- | --- |\n",
    "| `N07230` | `A07230` | Schedule 3 | Education | $2,500 per student, used toward course materials and tuition |\n",
    "| `N07240` | `A07240` | Schedule 3 | Retirement Savings Contribution | 20% of contributions to a qualifying retirement plans |\n",
    "| `N85770` | `A85770` | 8962 | Insurence Premium | Monthly insurance payment when enrolled in specific plans |\n",
    "| `N07180` | `A07180` | Schedule 3 | Child/Dependent Care | Children under 13, or dependents who are unable to take care of them self |\n",
    "| `N07225` | `A07225` | 1040 | w/ Child/Dependent | Having any child under 18 or dependent |\n",
    "| `N07300` | `A07300` | Schedule 3 | w/ Foreign Tax | Having any taxes imposed on you by a foreign country |\n",
    "| `N11070` | `A11070` | 1040 | w/ Additional Child | Having 3 or more children |\n",
    "| `N07260` | `A07260` | Schedule 3 | w/ Residential Energy | Energy efficiency improvements |\n",
    "| `N09400` | `A09400` | Schedule 3 | w/ Self-Employment | Being self-employed |\n",
    "| `N10960` | `A10960` | 1040 | w/ Refundable Education | Having to cover the cost of higher education |\n",
    "| `N11450` | `A11450` | Schedule 3 | w/ Sick/Family Leave | Having to take leave from job for sickness or family reasons |\n",
    "| `N10970` | `A10970` | 1040 | w/ Recovery Rebate | Anyone one with income less than \\$75K for 2021  |\n",
    "\n"
   ]
  },
  {
   "cell_type": "code",
   "execution_count": 2,
   "id": "88aa1939-0ece-4309-9ea5-2c520ebe28f4",
   "metadata": {},
   "outputs": [],
   "source": [
    "TAX_CREDIT_AMT  = [ \"A07225\", \"A11070\", \"A10960\", \"A10970\", \"A07230\", \"A07240\", \"A07180\", \"A07300\", \"A07260\", \"A09400\", \"A11450\", \"A11560\" ]\n",
    "TAX_CREDIT_NUM  = [ \"N07225\", \"N11070\", \"N10960\", \"N10970\", \"N07230\", \"N07240\", \"N07180\", \"N07300\", \"N07260\", \"N09400\", \"N11450\", \"N11560\" ]"
   ]
  },
  {
   "cell_type": "code",
   "execution_count": 3,
   "id": "5ea1d0d7-aa8c-44d2-ada8-cf20dcae4b78",
   "metadata": {},
   "outputs": [],
   "source": [
    "import pandas as pd\n",
    "import matplotlib.pyplot as plt"
   ]
  },
  {
   "cell_type": "code",
   "execution_count": 4,
   "id": "b81ca69d-14dd-4681-8886-a2277849ec80",
   "metadata": {},
   "outputs": [],
   "source": [
    "df = pd.read_csv(\"./data/tax_data_2020.csv\")\n",
    "df = df[df.zipcode != 0]"
   ]
  },
  {
   "cell_type": "code",
   "execution_count": 5,
   "id": "1a119ae6-7f22-4df9-9024-74c5b770e81f",
   "metadata": {},
   "outputs": [],
   "source": [
    "def toMillion(amount):\n",
    "    return round(amount / 1000000, 2)\n",
    "\n",
    "def toBillion(amount):\n",
    "    return round(amount / 1000000000, 2)\n",
    "\n",
    "def toTrillion(amount):\n",
    "    return round(amount / 1000000000000, 10)"
   ]
  },
  {
   "cell_type": "markdown",
   "id": "2b58fb31-1b37-4b1d-9c72-32aa1ec05c69",
   "metadata": {},
   "source": [
    "## Info To Find\n",
    "And make some charts, and anything else you want to review\n",
    "(Delete these notes when complete)\n",
    " - total $ amount\n",
    " \n",
    " - total $ amount, by credit type\n",
    " \n",
    " - total $ amount, by tax bracket\n",
    " \n",
    " - total $ amount, by credit type, by tax bracket"
   ]
  },
  {
   "cell_type": "code",
   "execution_count": null,
   "id": "dde7cc40-63fb-4241-be60-24e3873ba5d6",
   "metadata": {},
   "outputs": [],
   "source": []
  }
 ],
 "metadata": {
  "kernelspec": {
   "display_name": "Python 3 (ipykernel)",
   "language": "python",
   "name": "python3"
  },
  "language_info": {
   "codemirror_mode": {
    "name": "ipython",
    "version": 3
   },
   "file_extension": ".py",
   "mimetype": "text/x-python",
   "name": "python",
   "nbconvert_exporter": "python",
   "pygments_lexer": "ipython3",
   "version": "3.9.15"
  }
 },
 "nbformat": 4,
 "nbformat_minor": 5
}
