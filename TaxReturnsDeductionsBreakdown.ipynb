{
 "cells": [
  {
   "cell_type": "markdown",
   "id": "f9fbc5c7-923e-4c42-ba0e-ac2d6957b2c0",
   "metadata": {},
   "source": [
    "# Tax Returns Deductions Breakdown\n",
    "comming soon... Talk to Evan if you want to work on this. I will explain the concept to you."
   ]
  },
  {
   "cell_type": "markdown",
   "id": "a0ddfe05-9eb5-4e43-96ab-35ea572d33a0",
   "metadata": {},
   "source": [
    "**Which of these need included?** \\\n",
    "N04475 - Number of returns with Qualified business income deduction \\\n",
    "N20950 - Number of returns with Other non-limited miscellaneous deductions \\\n",
    "N19700 - Number of returns with Total charitable contributions \\\n",
    "N19570 - Number of returns with Investment interest paid \\\n",
    "N19550 - Number of returns with Qualified mortgage insurance \\\n",
    "N19530 - Number of returns with Deductible points \\\n",
    "N19500 - Number of returns with Home mortgage from personal seller \\\n",
    "N19300 - Number of returns with Home mortgage interest paid \\\n",
    "N18300 - Number of returns with Total taxes paid \\\n",
    "N18460 - Number of returns with Limited state and local taxes \\\n",
    "N18800 - Number of returns with Personal property taxes \\\n",
    "N18500 - Number of returns with real estate taxes \\\n",
    "N18450 - Number of returns with State and local general sales tax \\\n",
    "N18425 - Number of returns with State and local income taxes \\\n",
    "N17000 - Number of returns with Total medical and dental expense deduction \\\n",
    "N02910 - Number of returns with charitable contributions if took standard deduction \\\n",
    "N03210 - Number of returns with student loan interest deduction \\\n",
    "N03150 - Number of returns with Individual retirement arrangement payments \\\n",
    "N03270 - Number of returns with Self-employed health insurance deduction \\\n",
    "N03300 - Number of returns with Self-employed (Keogh) retirement plans \\\n",
    "N03220 - Number of returns with educator expenses \\\n",
    "N02900 - Number of returns with total statutory adjustments \\\n",
    "N26270 - Number of returns with partnership/S-corp net income (less loss) \\\n",
    "N02500 - Number of returns with taxable Social Security benefits \\\n",
    "N02300 - Number of returns with unemployment compensation \\\n",
    "N01700 - Number of returns with taxable pensions and annuities \\\n",
    "N01400 - Number of returns with taxable individual retirement arrangements distributions \\\n",
    "N01000 - Number of returns with net capital gain (less loss) \\\n",
    "N00900 - Number of returns with business or professional net income (less loss) \\\n",
    "N00700 - Number of returns with state and local income tax refunds \\\n",
    "N00650 - Number of returns with qualified dividends \\\n",
    "N00600 - Number of returns with ordinary dividends \\\n",
    "N00300 - Number of returns with taxable interest \\\n",
    "N00200 - Number of returns with salaries and wages"
   ]
  },
  {
   "cell_type": "code",
   "execution_count": 1,
   "id": "7330bb47-9427-444e-908c-cc7609ef78d5",
   "metadata": {},
   "outputs": [],
   "source": [
    "import pandas as pd"
   ]
  },
  {
   "cell_type": "code",
   "execution_count": 4,
   "id": "d0b59501-4ef7-48ed-a8e9-f929c589cbe0",
   "metadata": {},
   "outputs": [],
   "source": [
    "df = pd.read_csv(\"./data/tax_data_2020.csv\")\n",
    "df = df[df.zipcode != 0]"
   ]
  },
  {
   "cell_type": "code",
   "execution_count": 5,
   "id": "532b1fec-97b6-4b1b-a6f1-502c0b64cb1f",
   "metadata": {},
   "outputs": [],
   "source": [
    "def sumColumns(dataframe, columns):\n",
    "    total = 0\n",
    "    for col in columns:\n",
    "        total += abs(dataframe[col].sum())\n",
    "    return total"
   ]
  },
  {
   "cell_type": "code",
   "execution_count": 6,
   "id": "40be8e15-2ddb-4bfb-a17c-a6b002549bc4",
   "metadata": {},
   "outputs": [],
   "source": [
    "def toMillion(amount):\n",
    "    return round(amount / 1000000, 2)\n",
    "\n",
    "def toBillion(amount):\n",
    "    return round(amount / 1000000000, 2)\n",
    "\n",
    "def toTrillion(amount):\n",
    "    return round(amount / 1000000000000, 10)"
   ]
  },
  {
   "cell_type": "code",
   "execution_count": 47,
   "id": "fc9772f7-2908-4859-821a-09c897f6c71f",
   "metadata": {},
   "outputs": [],
   "source": [
    "TAX_RETURN_AMT = [ \"A04475\", \"A02910\", \"A02500\", \"A01700\", \"A01400\", \"A01000\", \"A00650\", \"A00600\", \"A00300\", \"A00200\"]\n",
    "# TAX_RETURN_NUM = [ \"N04475\", \"N20950\", \"N19700\", \"N19570\", \"N19550\", \"N19530\", \"N19500\", \"N19300\", \"N18300\", \"N18460\", \"N18800\", \"N18500\", \"N18450\", \"N18425\", \"N17000\", \"N02910\", \"N03210\", \"N03150\", \"N03270\", \"N03300\", \"N03220\", \"N02900\", \"N26270\", \"N02500\", \"N02300\", \"N01700\", \"N01400\", \"N01000\", \"N00900\", \"N00700\", \"N00650\", \"N00600\", \"N00300\", \"N00200\"]"
   ]
  },
  {
   "cell_type": "code",
   "execution_count": 51,
   "id": "08ebfff5-2a9d-48d4-bb4b-ba3db53724e5",
   "metadata": {},
   "outputs": [
    {
     "data": {
      "text/plain": [
       "11487.43"
      ]
     },
     "execution_count": 51,
     "metadata": {},
     "output_type": "execute_result"
    }
   ],
   "source": [
    "toBillion(sumColumns(df, TAX_RETURN_AMT) * 1000)"
   ]
  },
  {
   "cell_type": "code",
   "execution_count": 54,
   "id": "d935ffd0-0115-4d39-8831-412ffd809241",
   "metadata": {},
   "outputs": [
    {
     "data": {
      "text/plain": [
       "572.84"
      ]
     },
     "execution_count": 54,
     "metadata": {},
     "output_type": "execute_result"
    }
   ],
   "source": [
    "toBillion(df[\"A04470\"].sum() * 1000)"
   ]
  },
  {
   "cell_type": "code",
   "execution_count": 55,
   "id": "c5dc9d06-b7f0-4ef8-bb2d-07e32e05025c",
   "metadata": {},
   "outputs": [
    {
     "data": {
      "text/plain": [
       "12669.64"
      ]
     },
     "execution_count": 55,
     "metadata": {},
     "output_type": "execute_result"
    }
   ],
   "source": [
    "toBillion(df[\"A00100\"].sum() * 1000)"
   ]
  },
  {
   "cell_type": "code",
   "execution_count": 56,
   "id": "73bad21b-9d33-44a4-84a5-829bfa3287ff",
   "metadata": {},
   "outputs": [
    {
     "data": {
      "text/plain": [
       "12811.09"
      ]
     },
     "execution_count": 56,
     "metadata": {},
     "output_type": "execute_result"
    }
   ],
   "source": [
    "toBillion(df[\"A02650\"].sum() * 1000)"
   ]
  },
  {
   "cell_type": "code",
   "execution_count": 57,
   "id": "6a1e7f26-5a36-400e-b1aa-0d843aea6427",
   "metadata": {},
   "outputs": [
    {
     "data": {
      "text/plain": [
       "8291.89"
      ]
     },
     "execution_count": 57,
     "metadata": {},
     "output_type": "execute_result"
    }
   ],
   "source": [
    "toBillion(df[\"A00200\"].sum() * 1000)"
   ]
  },
  {
   "cell_type": "code",
   "execution_count": null,
   "id": "f78b8889-120e-4b73-a121-8f4e6268aa0a",
   "metadata": {},
   "outputs": [],
   "source": []
  }
 ],
 "metadata": {
  "kernelspec": {
   "display_name": "Python 3 (ipykernel)",
   "language": "python",
   "name": "python3"
  },
  "language_info": {
   "codemirror_mode": {
    "name": "ipython",
    "version": 3
   },
   "file_extension": ".py",
   "mimetype": "text/x-python",
   "name": "python",
   "nbconvert_exporter": "python",
   "pygments_lexer": "ipython3",
   "version": "3.9.15"
  }
 },
 "nbformat": 4,
 "nbformat_minor": 5
}
