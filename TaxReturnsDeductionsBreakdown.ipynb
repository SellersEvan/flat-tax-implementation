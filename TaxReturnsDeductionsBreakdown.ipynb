{
 "cells": [
  {
   "cell_type": "markdown",
   "id": "f9fbc5c7-923e-4c42-ba0e-ac2d6957b2c0",
   "metadata": {},
   "source": [
    "# Tax Returns Deductions Breakdown\n",
    "comming soon... Talk to Evan if you want to work on this. I will explain the concept to you."
   ]
  },
  {
   "cell_type": "markdown",
   "id": "a0ddfe05-9eb5-4e43-96ab-35ea572d33a0",
   "metadata": {},
   "source": [
    "**Which of these need included?** \\\n",
    "N04475 - Number of returns with Qualified business income deduction \\\n",
    "N20950 - Number of returns with Other non-limited miscellaneous deductions \\\n",
    "N19700 - Number of returns with Total charitable contributions \\\n",
    "N19570 - Number of returns with Investment interest paid \\\n",
    "N19550 - Number of returns with Qualified mortgage insurance \\\n",
    "N19530 - Number of returns with Deductible points \\\n",
    "N19500 - Number of returns with Home mortgage from personal seller \\\n",
    "N19300 - Number of returns with Home mortgage interest paid \\\n",
    "N18300 - Number of returns with Total taxes paid \\\n",
    "N18460 - Number of returns with Limited state and local taxes \\\n",
    "N18800 - Number of returns with Personal property taxes \\\n",
    "N18500 - Number of returns with real estate taxes \\\n",
    "N18450 - Number of returns with State and local general sales tax \\\n",
    "N18425 - Number of returns with State and local income taxes \\\n",
    "N17000 - Number of returns with Total medical and dental expense deduction \\\n",
    "N02910 - Number of returns with charitable contributions if took standard deduction \\\n",
    "N03210 - Number of returns with student loan interest deduction \\\n",
    "N03150 - Number of returns with Individual retirement arrangement payments \\\n",
    "N03270 - Number of returns with Self-employed health insurance deduction \\\n",
    "N03300 - Number of returns with Self-employed (Keogh) retirement plans \\\n",
    "N03220 - Number of returns with educator expenses \\\n",
    "N02900 - Number of returns with total statutory adjustments \\\n",
    "N26270 - Number of returns with partnership/S-corp net income (less loss) \\\n",
    "N02500 - Number of returns with taxable Social Security benefits \\\n",
    "N02300 - Number of returns with unemployment compensation \\\n",
    "N01700 - Number of returns with taxable pensions and annuities \\\n",
    "N01400 - Number of returns with taxable individual retirement arrangements distributions \\\n",
    "N01000 - Number of returns with net capital gain (less loss) \\\n",
    "N00900 - Number of returns with business or professional net income (less loss) \\\n",
    "N00700 - Number of returns with state and local income tax refunds \\\n",
    "N00650 - Number of returns with qualified dividends \\\n",
    "N00600 - Number of returns with ordinary dividends \\\n",
    "N00300 - Number of returns with taxable interest \\\n",
    "N00200 - Number of returns with salaries and wages"
   ]
  }
 ],
 "metadata": {
  "kernelspec": {
   "display_name": "Python 3 (ipykernel)",
   "language": "python",
   "name": "python3"
  },
  "language_info": {
   "codemirror_mode": {
    "name": "ipython",
    "version": 3
   },
   "file_extension": ".py",
   "mimetype": "text/x-python",
   "name": "python",
   "nbconvert_exporter": "python",
   "pygments_lexer": "ipython3",
   "version": "3.9.15"
  }
 },
 "nbformat": 4,
 "nbformat_minor": 5
}
