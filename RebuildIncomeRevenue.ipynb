{
 "cells": [
  {
   "cell_type": "markdown",
   "id": "9181a354-f7b9-4cf9-b038-c8d5229c7c62",
   "metadata": {},
   "source": [
    "# Rebuild Income Revenue as Reported by Congress\n",
    "Evan Sellers + Michael Yager\n",
    "\n",
    "We are attempting to rebuild the congressional revenue generated from income tax in 2020, to verify our dataset properly.\n",
    "\n",
    "In 2020 the US governemnt made **$1.6 trillon** in revenue from income tax\n",
    "\n",
    "In 2019 the US governemnt made **$1.7 trillon** in revenue from income tax \\\n",
    "[Revenues in Fiscal Year 2020](https://www.cbo.gov/system/files/2020-11/56746-MBR.pdf)"
   ]
  },
  {
   "cell_type": "markdown",
   "id": "989709c5-556d-4f14-9091-0c5d0bd9578b",
   "metadata": {},
   "source": [
    "## Data Setup\n",
    "As noted by the documentation all money amounts are in thousands"
   ]
  },
  {
   "cell_type": "code",
   "execution_count": 1,
   "id": "fe634e9d-8b3a-432a-88cd-54e3203655c4",
   "metadata": {},
   "outputs": [],
   "source": [
    "import pandas as pd"
   ]
  },
  {
   "cell_type": "code",
   "execution_count": 2,
   "id": "543296f6-7a06-4284-a3eb-d86da8756ffe",
   "metadata": {},
   "outputs": [],
   "source": [
    "df = pd.read_csv(\"tax_data.csv\")\n",
    "df[\"agi_stub\"] = df[\"agi_stub\"].astype(\"category\") "
   ]
  },
  {
   "cell_type": "code",
   "execution_count": 3,
   "id": "28073211-888c-4432-9c9c-0810757287ed",
   "metadata": {},
   "outputs": [],
   "source": [
    "def toMillon(amount):\n",
    "    return round(amount / 1000000, 2)\n",
    "\n",
    "def toBillon(amount):\n",
    "    return round(amount / 1000000000, 2)\n",
    "\n",
    "def toTrillon(amount):\n",
    "    return round(amount / 1000000000000, 10)"
   ]
  },
  {
   "cell_type": "markdown",
   "id": "1add67b7-4617-47c7-8a86-fc9e8dac048e",
   "metadata": {},
   "source": [
    "## Rebuild 2020s\n",
    "Based on the data documentation we should be using column `A06500`, which is income tax after credits amount"
   ]
  },
  {
   "cell_type": "code",
   "execution_count": 4,
   "id": "c2d29ac1-f482-459b-a805-729a7e4d4cc1",
   "metadata": {},
   "outputs": [
    {
     "data": {
      "text/plain": [
       "3.335538966"
      ]
     },
     "execution_count": 4,
     "metadata": {},
     "output_type": "execute_result"
    }
   ],
   "source": [
    "# Income tax after credits amount\n",
    "toTrillon(df[\"A06500\"].sum() * 1000)"
   ]
  },
  {
   "cell_type": "markdown",
   "id": "af08e854-06cf-4f93-b905-3030c8127e7a",
   "metadata": {},
   "source": [
    "We got `$3.33 Trillion` this is not correct the number should be close to `$1.6 Trillon`"
   ]
  },
  {
   "cell_type": "markdown",
   "id": "88dc6936-be43-4888-bc8b-1e04dc57e043",
   "metadata": {},
   "source": [
    "## Rebuild 2019s"
   ]
  },
  {
   "cell_type": "code",
   "execution_count": 5,
   "id": "c6fe6b03-fa2d-4048-874b-2d7bf4bd0d68",
   "metadata": {},
   "outputs": [],
   "source": [
    "df2019 = pd.read_csv(\"tax_data_2019.csv\")"
   ]
  },
  {
   "cell_type": "code",
   "execution_count": 6,
   "id": "dd980dbf-a27a-4405-8794-7e81957f1e6d",
   "metadata": {},
   "outputs": [
    {
     "data": {
      "text/plain": [
       "3.069631654"
      ]
     },
     "execution_count": 6,
     "metadata": {},
     "output_type": "execute_result"
    }
   ],
   "source": [
    "# Income tax after credits amount\n",
    "toTrillon(df2019[\"A06500\"].sum() * 1000)"
   ]
  },
  {
   "cell_type": "markdown",
   "id": "f69c63cf-fb12-4900-b29b-d3a792005c8f",
   "metadata": {},
   "source": [
    "We got `$3.07 Trillion` which is not correct the number should be close to `$1.7 Trillon`"
   ]
  },
  {
   "cell_type": "markdown",
   "id": "c03eca93-db7e-45b5-84b6-97aa29fba3cb",
   "metadata": {},
   "source": [
    "## Why is are the numbers so far off?"
   ]
  },
  {
   "cell_type": "code",
   "execution_count": 7,
   "id": "4c078e45-5604-4c9b-9761-d1f82efd2e41",
   "metadata": {},
   "outputs": [
    {
     "data": {
      "text/html": [
       "<div>\n",
       "<style scoped>\n",
       "    .dataframe tbody tr th:only-of-type {\n",
       "        vertical-align: middle;\n",
       "    }\n",
       "\n",
       "    .dataframe tbody tr th {\n",
       "        vertical-align: top;\n",
       "    }\n",
       "\n",
       "    .dataframe thead th {\n",
       "        text-align: right;\n",
       "    }\n",
       "</style>\n",
       "<table border=\"1\" class=\"dataframe\">\n",
       "  <thead>\n",
       "    <tr style=\"text-align: right;\">\n",
       "      <th></th>\n",
       "      <th>STATEFIPS</th>\n",
       "      <th>STATE</th>\n",
       "      <th>zipcode</th>\n",
       "      <th>agi_stub</th>\n",
       "      <th>N1</th>\n",
       "      <th>mars1</th>\n",
       "      <th>MARS2</th>\n",
       "      <th>MARS4</th>\n",
       "      <th>ELF</th>\n",
       "      <th>CPREP</th>\n",
       "      <th>...</th>\n",
       "      <th>N85300</th>\n",
       "      <th>A85300</th>\n",
       "      <th>N11901</th>\n",
       "      <th>A11901</th>\n",
       "      <th>N11900</th>\n",
       "      <th>A11900</th>\n",
       "      <th>N11902</th>\n",
       "      <th>A11902</th>\n",
       "      <th>N12000</th>\n",
       "      <th>A12000</th>\n",
       "    </tr>\n",
       "  </thead>\n",
       "  <tbody>\n",
       "    <tr>\n",
       "      <th>0</th>\n",
       "      <td>1</td>\n",
       "      <td>AL</td>\n",
       "      <td>0</td>\n",
       "      <td>1</td>\n",
       "      <td>785000.0</td>\n",
       "      <td>519980.0</td>\n",
       "      <td>85690.0</td>\n",
       "      <td>165290.0</td>\n",
       "      <td>724170.0</td>\n",
       "      <td>22560.0</td>\n",
       "      <td>...</td>\n",
       "      <td>0.0</td>\n",
       "      <td>0.0</td>\n",
       "      <td>57720.0</td>\n",
       "      <td>46577.0</td>\n",
       "      <td>674840.0</td>\n",
       "      <td>1827202.0</td>\n",
       "      <td>672200.0</td>\n",
       "      <td>1818867.0</td>\n",
       "      <td>2900.0</td>\n",
       "      <td>6089.0</td>\n",
       "    </tr>\n",
       "    <tr>\n",
       "      <th>1</th>\n",
       "      <td>1</td>\n",
       "      <td>AL</td>\n",
       "      <td>0</td>\n",
       "      <td>2</td>\n",
       "      <td>554310.0</td>\n",
       "      <td>270870.0</td>\n",
       "      <td>121420.0</td>\n",
       "      <td>146470.0</td>\n",
       "      <td>515150.0</td>\n",
       "      <td>13260.0</td>\n",
       "      <td>...</td>\n",
       "      <td>0.0</td>\n",
       "      <td>0.0</td>\n",
       "      <td>81770.0</td>\n",
       "      <td>112540.0</td>\n",
       "      <td>470410.0</td>\n",
       "      <td>1445383.0</td>\n",
       "      <td>466960.0</td>\n",
       "      <td>1432458.0</td>\n",
       "      <td>4660.0</td>\n",
       "      <td>11648.0</td>\n",
       "    </tr>\n",
       "    <tr>\n",
       "      <th>2</th>\n",
       "      <td>1</td>\n",
       "      <td>AL</td>\n",
       "      <td>0</td>\n",
       "      <td>3</td>\n",
       "      <td>290630.0</td>\n",
       "      <td>113280.0</td>\n",
       "      <td>124770.0</td>\n",
       "      <td>44570.0</td>\n",
       "      <td>269700.0</td>\n",
       "      <td>6420.0</td>\n",
       "      <td>...</td>\n",
       "      <td>0.0</td>\n",
       "      <td>0.0</td>\n",
       "      <td>70360.0</td>\n",
       "      <td>144380.0</td>\n",
       "      <td>220710.0</td>\n",
       "      <td>626662.0</td>\n",
       "      <td>216530.0</td>\n",
       "      <td>610170.0</td>\n",
       "      <td>5760.0</td>\n",
       "      <td>16235.0</td>\n",
       "    </tr>\n",
       "    <tr>\n",
       "      <th>3</th>\n",
       "      <td>1</td>\n",
       "      <td>AL</td>\n",
       "      <td>0</td>\n",
       "      <td>4</td>\n",
       "      <td>181010.0</td>\n",
       "      <td>42010.0</td>\n",
       "      <td>120820.0</td>\n",
       "      <td>14410.0</td>\n",
       "      <td>168830.0</td>\n",
       "      <td>2570.0</td>\n",
       "      <td>...</td>\n",
       "      <td>0.0</td>\n",
       "      <td>0.0</td>\n",
       "      <td>49500.0</td>\n",
       "      <td>135429.0</td>\n",
       "      <td>130670.0</td>\n",
       "      <td>437179.0</td>\n",
       "      <td>126790.0</td>\n",
       "      <td>419324.0</td>\n",
       "      <td>3730.0</td>\n",
       "      <td>14903.0</td>\n",
       "    </tr>\n",
       "    <tr>\n",
       "      <th>4</th>\n",
       "      <td>1</td>\n",
       "      <td>AL</td>\n",
       "      <td>0</td>\n",
       "      <td>5</td>\n",
       "      <td>269080.0</td>\n",
       "      <td>31310.0</td>\n",
       "      <td>224330.0</td>\n",
       "      <td>8270.0</td>\n",
       "      <td>252360.0</td>\n",
       "      <td>3250.0</td>\n",
       "      <td>...</td>\n",
       "      <td>100.0</td>\n",
       "      <td>20.0</td>\n",
       "      <td>103250.0</td>\n",
       "      <td>470206.0</td>\n",
       "      <td>165650.0</td>\n",
       "      <td>724529.0</td>\n",
       "      <td>156910.0</td>\n",
       "      <td>642895.0</td>\n",
       "      <td>11280.0</td>\n",
       "      <td>80064.0</td>\n",
       "    </tr>\n",
       "  </tbody>\n",
       "</table>\n",
       "<p>5 rows × 165 columns</p>\n",
       "</div>"
      ],
      "text/plain": [
       "   STATEFIPS STATE  zipcode agi_stub        N1     mars1     MARS2     MARS4  \\\n",
       "0          1    AL        0        1  785000.0  519980.0   85690.0  165290.0   \n",
       "1          1    AL        0        2  554310.0  270870.0  121420.0  146470.0   \n",
       "2          1    AL        0        3  290630.0  113280.0  124770.0   44570.0   \n",
       "3          1    AL        0        4  181010.0   42010.0  120820.0   14410.0   \n",
       "4          1    AL        0        5  269080.0   31310.0  224330.0    8270.0   \n",
       "\n",
       "        ELF    CPREP  ...  N85300  A85300    N11901    A11901    N11900  \\\n",
       "0  724170.0  22560.0  ...     0.0     0.0   57720.0   46577.0  674840.0   \n",
       "1  515150.0  13260.0  ...     0.0     0.0   81770.0  112540.0  470410.0   \n",
       "2  269700.0   6420.0  ...     0.0     0.0   70360.0  144380.0  220710.0   \n",
       "3  168830.0   2570.0  ...     0.0     0.0   49500.0  135429.0  130670.0   \n",
       "4  252360.0   3250.0  ...   100.0    20.0  103250.0  470206.0  165650.0   \n",
       "\n",
       "      A11900    N11902     A11902   N12000   A12000  \n",
       "0  1827202.0  672200.0  1818867.0   2900.0   6089.0  \n",
       "1  1445383.0  466960.0  1432458.0   4660.0  11648.0  \n",
       "2   626662.0  216530.0   610170.0   5760.0  16235.0  \n",
       "3   437179.0  126790.0   419324.0   3730.0  14903.0  \n",
       "4   724529.0  156910.0   642895.0  11280.0  80064.0  \n",
       "\n",
       "[5 rows x 165 columns]"
      ]
     },
     "execution_count": 7,
     "metadata": {},
     "output_type": "execute_result"
    }
   ],
   "source": [
    "df.head()"
   ]
  },
  {
   "cell_type": "markdown",
   "id": "4837ddf5-91c5-40c9-8a43-f41875375a71",
   "metadata": {},
   "source": [
    "I notice we have zipcodes labeled `0` which seems very odd. The documentation says private zipcode will be labeled as `99999`, but nothing about the zipcode `0`."
   ]
  },
  {
   "cell_type": "code",
   "execution_count": 8,
   "id": "967ff3a4-fad0-43fe-83ea-c8603ab3ae29",
   "metadata": {},
   "outputs": [
    {
     "data": {
      "text/plain": [
       "306"
      ]
     },
     "execution_count": 8,
     "metadata": {},
     "output_type": "execute_result"
    }
   ],
   "source": [
    "len(df[df.zipcode == 0])"
   ]
  },
  {
   "cell_type": "code",
   "execution_count": 9,
   "id": "efa19d22-37d7-4a64-9280-f921c9ba6217",
   "metadata": {},
   "outputs": [
    {
     "data": {
      "text/plain": [
       "1.667769483"
      ]
     },
     "execution_count": 9,
     "metadata": {},
     "output_type": "execute_result"
    }
   ],
   "source": [
    "toTrillon(df[df.zipcode == 0][\"A06500\"].sum()*1000)"
   ]
  },
  {
   "cell_type": "markdown",
   "id": "71f8c56d-7eee-4352-bb6b-ab63b86a81ab",
   "metadata": {},
   "source": [
    "Thats odd, for some reason that is about `50%` of the value we want."
   ]
  },
  {
   "cell_type": "code",
   "execution_count": 10,
   "id": "03e0e316-1a36-4f18-9576-850ada05692f",
   "metadata": {},
   "outputs": [
    {
     "data": {
      "text/plain": [
       "1667769483.0"
      ]
     },
     "execution_count": 10,
     "metadata": {},
     "output_type": "execute_result"
    }
   ],
   "source": [
    "df[df.zipcode == 0][\"A06500\"].sum()"
   ]
  },
  {
   "cell_type": "code",
   "execution_count": 11,
   "id": "0abbf276-d8e7-4919-9732-f3ce71e51488",
   "metadata": {},
   "outputs": [
    {
     "data": {
      "text/plain": [
       "1667769483.0"
      ]
     },
     "execution_count": 11,
     "metadata": {},
     "output_type": "execute_result"
    }
   ],
   "source": [
    "df[df.zipcode != 0][\"A06500\"].sum()"
   ]
  },
  {
   "cell_type": "code",
   "execution_count": 12,
   "id": "88e13c48-4e7d-4669-97ab-b5851b1aaed2",
   "metadata": {},
   "outputs": [
    {
     "data": {
      "text/plain": [
       "1534815827.0"
      ]
     },
     "execution_count": 12,
     "metadata": {},
     "output_type": "execute_result"
    }
   ],
   "source": [
    "df2019[df2019.zipcode == 0][\"A06500\"].sum()"
   ]
  },
  {
   "cell_type": "code",
   "execution_count": 13,
   "id": "25f56d66-76d7-446f-9647-bac617392b9d",
   "metadata": {},
   "outputs": [
    {
     "data": {
      "text/plain": [
       "1534815827.0"
      ]
     },
     "execution_count": 13,
     "metadata": {},
     "output_type": "execute_result"
    }
   ],
   "source": [
    "df2019[df2019.zipcode != 0][\"A06500\"].sum()"
   ]
  },
  {
   "cell_type": "markdown",
   "id": "4356fbe1-371d-4312-aa41-2c0533f1ae0d",
   "metadata": {},
   "source": [
    "They are the exact same amount! Why is all the data duplicated with a zero zipcode?"
   ]
  },
  {
   "cell_type": "markdown",
   "id": "98b41094-3727-490a-b974-e1736423c82b",
   "metadata": {},
   "source": [
    "## Verify Duplicated Zero Zipcode"
   ]
  },
  {
   "cell_type": "code",
   "execution_count": 14,
   "id": "a34863c8-d712-4912-b020-23a0a69b5482",
   "metadata": {},
   "outputs": [],
   "source": [
    "nonzerozips = df[df.zipcode != 0]\n",
    "del nonzerozips[\"STATEFIPS\"]\n",
    "del nonzerozips[\"STATE\"]\n",
    "del nonzerozips[\"agi_stub\"]\n",
    "del nonzerozips[\"zipcode\"]\n",
    "nonzerozips = nonzerozips.sum()\n",
    "\n",
    "zerozips = df[df.zipcode != 0]\n",
    "del zerozips[\"STATEFIPS\"]\n",
    "del zerozips[\"STATE\"]\n",
    "del zerozips[\"agi_stub\"]\n",
    "del zerozips[\"zipcode\"]\n",
    "zerozips = zerozips.sum()"
   ]
  },
  {
   "cell_type": "code",
   "execution_count": 15,
   "id": "a975639f-88ee-4ce0-a520-eaac2341f2f2",
   "metadata": {},
   "outputs": [
    {
     "name": "stdout",
     "output_type": "stream",
     "text": [
      "True, Array are Equal\n"
     ]
    }
   ],
   "source": [
    "isEqual = True\n",
    "for column in nonzerozips == zerozips:\n",
    "    if column != True: isEqual = False\n",
    "print(\"True, Array are Equal\") if isEqual else print(\"False, Array are NOT Equal\")"
   ]
  },
  {
   "cell_type": "code",
   "execution_count": 16,
   "id": "aa749f47-06e6-43bd-8fa9-5978bca160cd",
   "metadata": {},
   "outputs": [],
   "source": [
    "nonzerozips = df2019[df2019.zipcode != 0]\n",
    "del nonzerozips[\"STATEFIPS\"]\n",
    "del nonzerozips[\"STATE\"]\n",
    "del nonzerozips[\"agi_stub\"]\n",
    "del nonzerozips[\"zipcode\"]\n",
    "nonzerozips = nonzerozips.sum()\n",
    "\n",
    "zerozips = df2019[df2019.zipcode != 0]\n",
    "del zerozips[\"STATEFIPS\"]\n",
    "del zerozips[\"STATE\"]\n",
    "del zerozips[\"agi_stub\"]\n",
    "del zerozips[\"zipcode\"]\n",
    "zerozips = zerozips.sum()"
   ]
  },
  {
   "cell_type": "code",
   "execution_count": 17,
   "id": "0bd8b940-c775-4292-8ede-f0a42b20b0be",
   "metadata": {},
   "outputs": [
    {
     "name": "stdout",
     "output_type": "stream",
     "text": [
      "True, Array are Equal\n"
     ]
    }
   ],
   "source": [
    "isEqual = True\n",
    "for column in nonzerozips == zerozips:\n",
    "    if column != True: isEqual = False\n",
    "print(\"True, Array are Equal\") if isEqual else print(\"False, Array are NOT Equal\")"
   ]
  },
  {
   "cell_type": "markdown",
   "id": "7bea886e-1d3c-4d6e-bb2d-c124df15c4ec",
   "metadata": {},
   "source": [
    "This means there is duplicated data, unsure why this is the case. Most likly to add up zip code regions in some way."
   ]
  },
  {
   "cell_type": "markdown",
   "id": "95aa63c7-db05-47ca-ac02-f05c158a9a8c",
   "metadata": {},
   "source": [
    "## Rebuild 2020"
   ]
  },
  {
   "cell_type": "code",
   "execution_count": 18,
   "id": "f71da4ee-b1c8-436d-afc2-229964d0ba8a",
   "metadata": {},
   "outputs": [
    {
     "data": {
      "text/plain": [
       "1.667769483"
      ]
     },
     "execution_count": 18,
     "metadata": {},
     "output_type": "execute_result"
    }
   ],
   "source": [
    "# Income tax after credits amount\n",
    "toTrillon(df[df.zipcode != 0][\"A06500\"].sum() * 1000)"
   ]
  },
  {
   "cell_type": "markdown",
   "id": "5b8edc04-10be-4bbc-b972-49507cc03113",
   "metadata": {},
   "source": [
    "We got `$1.66 trillion` which is the number reported by congress in 2020."
   ]
  },
  {
   "cell_type": "markdown",
   "id": "583debcf-f621-486b-9c6f-a73b93858976",
   "metadata": {},
   "source": [
    "## Rebuild 2019"
   ]
  },
  {
   "cell_type": "code",
   "execution_count": 19,
   "id": "bb2c0f85-6a48-4ffe-8053-580049334d8c",
   "metadata": {},
   "outputs": [
    {
     "data": {
      "text/plain": [
       "1.534815827"
      ]
     },
     "execution_count": 19,
     "metadata": {},
     "output_type": "execute_result"
    }
   ],
   "source": [
    "# Income tax after credits amount\n",
    "toTrillon(df2019[df2019.zipcode != 0][\"A06500\"].sum() * 1000)"
   ]
  },
  {
   "cell_type": "markdown",
   "id": "0ca922a7-a768-4d14-b32f-47b75235b84e",
   "metadata": {},
   "source": [
    "We got `$1.53 trillion` which isn't the number exact number reported by congress in 2019, but decently close, and we don't plan on using the 2019 dataset, so we will call this close enough."
   ]
  },
  {
   "cell_type": "markdown",
   "id": "4f38010a-0a72-4c40-bca5-7f1136214ae8",
   "metadata": {},
   "source": [
    "## Conclusion"
   ]
  },
  {
   "cell_type": "markdown",
   "id": "2f77ebf7-454d-44d1-8c5f-326146435a10",
   "metadata": {},
   "source": [
    "Unsure why there was duplicated data for based on the zipcode 0. But we have proved that the data was duplicated. This means when you import the data use the following method to clean the data...\n",
    "```python\n",
    "# Import + Preprocess Data\n",
    "df = pd.read_csv(\"tax_data.csv\")\n",
    "df             = df[df.zipcode != 0]\n",
    "df[\"agi_stub\"] = df[\"agi_stub\"].astype(\"category\") \n",
    "df[\"STATE\"]    = df[\"STATE\"].astype(\"category\")\n",
    "```\n",
    "\n",
    "Use column `A06500` to represent the amount paid in taxes after all duductions. \\\n",
    "Additionally remember all money amounts are represented in thousands of dollars."
   ]
  }
 ],
 "metadata": {
  "kernelspec": {
   "display_name": "Python 3 (ipykernel)",
   "language": "python",
   "name": "python3"
  },
  "language_info": {
   "codemirror_mode": {
    "name": "ipython",
    "version": 3
   },
   "file_extension": ".py",
   "mimetype": "text/x-python",
   "name": "python",
   "nbconvert_exporter": "python",
   "pygments_lexer": "ipython3",
   "version": "3.9.15"
  }
 },
 "nbformat": 4,
 "nbformat_minor": 5
}
