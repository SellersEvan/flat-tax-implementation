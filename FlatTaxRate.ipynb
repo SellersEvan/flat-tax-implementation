{
 "cells": [
  {
   "cell_type": "markdown",
   "id": "2fbc92fa-4fcf-4da2-8043-5e0ad6a279f9",
   "metadata": {},
   "source": [
    "# Implementing Flat Tax Rate\n",
    "We will be looking at what individuals actually pay in income tax, and what they are expected to pay (before returns and credtis). We will then being using this data to generate the best flat tax rate system. The flat tax rate system will remove all returns and credits from income tax and be a flat rate on your income, but our goals is to ensure that no-one pays more than they are currently paying (expecially low income families). Because of the complications in 2020 and the COVID-19 virus the US goverment provided many tax credits to assist with the burden of the market changes. This in-turn means the tax revenue varies slightly so we will be using 2019 tax records to create an ideal flat tax system, instead of the outlier low revenue of 2020. \\\n",
    "Evan Sellers + Michael Yager"
   ]
  },
  {
   "cell_type": "code",
   "execution_count": 1,
   "id": "d71475cc-47eb-47eb-a516-c9d67652e15d",
   "metadata": {},
   "outputs": [],
   "source": [
    "import pandas as pd\n",
    "import numpy as np\n",
    "import seaborn as sns"
   ]
  },
  {
   "cell_type": "code",
   "execution_count": 2,
   "id": "c5afdb28-3b7c-4ed7-bbb8-e3815d8b0fbf",
   "metadata": {},
   "outputs": [],
   "source": [
    "df = pd.read_csv(\"./data/tax_data_2019.csv\")\n",
    "df = df[df.zipcode != 0]"
   ]
  },
  {
   "cell_type": "code",
   "execution_count": 3,
   "id": "f6d8a286-a904-466a-8ca0-9ae4a4f2abdd",
   "metadata": {},
   "outputs": [],
   "source": [
    "def toMillion(amount):\n",
    "    return round(amount / 1000000, 2)\n",
    "\n",
    "def toBillion(amount):\n",
    "    return round(amount / 1000000000, 2)\n",
    "\n",
    "def toTrillion(amount):\n",
    "    return round(amount / 1000000000000, 10)"
   ]
  },
  {
   "cell_type": "code",
   "execution_count": 4,
   "id": "3079b34b-565f-4d91-b4e6-d42bda9a2e22",
   "metadata": {},
   "outputs": [],
   "source": [
    "def sumColumns(dataframe, columns):\n",
    "    total = 0\n",
    "    for col in columns:\n",
    "        total += abs(dataframe[col].sum())\n",
    "    return total"
   ]
  },
  {
   "cell_type": "code",
   "execution_count": 5,
   "id": "53bfb145-2829-4a64-9632-5641f9417d72",
   "metadata": {},
   "outputs": [],
   "source": [
    "def sumRows(row, columns):\n",
    "    total = 0\n",
    "    for col in columns:\n",
    "        total += abs(row[col])\n",
    "    return total"
   ]
  },
  {
   "cell_type": "markdown",
   "id": "be4003fa-09cf-4d0e-8dda-07390ba18d7a",
   "metadata": {},
   "source": [
    "## Flat Tax Rate Basic (w/o Credits & Returns)\n",
    "According to the report by congres the revenue made from income tax in 2019 was `$1,718 Billion`. So what flat tax rate can we set to ensure we reach this number? This practice is a massive over simplification, which we will explore later. \\\n",
    "[Revenues in Fiscal Year 2019](https://www.cbo.gov/system/files/2020-11/56746-MBR.pdf)"
   ]
  },
  {
   "cell_type": "code",
   "execution_count": 6,
   "id": "d2234643-8190-4c28-8ea8-215fecc6d33f",
   "metadata": {},
   "outputs": [
    {
     "data": {
      "text/plain": [
       "0.1410956181515653"
      ]
     },
     "execution_count": 6,
     "metadata": {},
     "output_type": "execute_result"
    }
   ],
   "source": [
    "1718/toBillion(df[\"A02650\"].sum()*1000)"
   ]
  },
  {
   "cell_type": "markdown",
   "id": "2e45cf20-238a-4834-89cf-de1be90fcad0",
   "metadata": {},
   "source": [
    "This means citizens would have to pay only `~15%` of their annual income for taxes. Why is this number so low, the progressive tax system brackets start at `10%` and go upto `30%`, so why is this number so low? This is because this doesn't account for returns and credits. Additionally, this doesn't reflect that `15%` is much more than many low-income families pay at the momement. So how much do actually pay in tax and would this more or less than people actually pay now?"
   ]
  },
  {
   "cell_type": "markdown",
   "id": "aa18e591-6436-4421-b2f4-f967a3b4a84c",
   "metadata": {},
   "source": [
    "## Income Tax Actual vs Expected\n",
    "The actual income tax is how much individual paid in income tax after credits and returns. While the expected is how much the individual would of paid before returns and credits. These values will be put in relation to the total income of the individual. This estimates the \"tax bracket\" or overall percentage of their income they pay in income tax. This is not reflective of the tax bracket a group of individuals are in because the US tax bracket is progressive."
   ]
  },
  {
   "cell_type": "code",
   "execution_count": 7,
   "id": "1383c515-4824-4022-a27e-7df5579b8860",
   "metadata": {},
   "outputs": [],
   "source": [
    "# Remove Rows w/ Zero Income - prevents divide by zero errors\n",
    "df = df[df[\"A02650\"] != 0]"
   ]
  },
  {
   "cell_type": "markdown",
   "id": "3364fdf7-3da8-48db-9e54-7db0a01692fb",
   "metadata": {},
   "source": [
    "### Actual"
   ]
  },
  {
   "cell_type": "code",
   "execution_count": 8,
   "id": "94b25b52-5c8d-400c-a848-7b412a143bac",
   "metadata": {},
   "outputs": [],
   "source": [
    "df[\"actPctPaid\"] = df.apply(lambda row: row[\"A06500\"] / row[\"A00100\"], axis=1)"
   ]
  },
  {
   "cell_type": "code",
   "execution_count": 9,
   "id": "2a4a6208-0479-438b-b1ef-894b65a19715",
   "metadata": {},
   "outputs": [
    {
     "data": {
      "text/plain": [
       "agi_stub\n",
       "1    0.012476\n",
       "2    0.044632\n",
       "3    0.065787\n",
       "4    0.078476\n",
       "5    0.110182\n",
       "6    0.186672\n",
       "Name: actPctPaid, dtype: float64"
      ]
     },
     "execution_count": 9,
     "metadata": {},
     "output_type": "execute_result"
    }
   ],
   "source": [
    "actPctPaid = df.groupby([\"agi_stub\"])[\"actPctPaid\"].mean()\n",
    "actPctPaid"
   ]
  },
  {
   "cell_type": "markdown",
   "id": "ba9e19d6-72ff-4eea-936d-82c89861dffd",
   "metadata": {},
   "source": [
    "### Expected"
   ]
  },
  {
   "cell_type": "code",
   "execution_count": 10,
   "id": "bc59395f-2814-4803-a0fa-4f9d6cd2650c",
   "metadata": {},
   "outputs": [],
   "source": [
    "TAX_CREDITS = [ \"A07230\", \"A07240\", \"A07180\", \"A07300\", \"A07260\", \"A09400\", \"A11560\", \"A07225\", \"A11070\", \"A10960\" ]"
   ]
  },
  {
   "cell_type": "code",
   "execution_count": 11,
   "id": "d5c6f165-014f-4746-bd30-8c20a05f758f",
   "metadata": {},
   "outputs": [],
   "source": [
    "df[\"taxPctReturns\"] = df.apply(lambda row: 1 - (row[\"A00100\"] / row[\"A02650\"]), axis=1)\n",
    "df[\"taxPctCredits\"] = df.apply(lambda row: (sumRows(row, TAX_CREDITS) / row[\"A00100\"]), axis=1)\n",
    "df[\"expPctPaid\"]    = df.apply(lambda row: row[\"taxPctReturns\"] + row[\"taxPctCredits\"] + row[\"actPctPaid\"], axis=1)"
   ]
  },
  {
   "cell_type": "code",
   "execution_count": 12,
   "id": "e4f2ffaa-468a-482f-95ae-e7bd6d09117f",
   "metadata": {},
   "outputs": [
    {
     "data": {
      "text/plain": [
       "agi_stub\n",
       "1    0.072357\n",
       "2    0.089968\n",
       "3    0.100669\n",
       "4    0.106225\n",
       "5    0.134201\n",
       "6    0.202190\n",
       "Name: expPctPaid, dtype: float64"
      ]
     },
     "execution_count": 12,
     "metadata": {},
     "output_type": "execute_result"
    }
   ],
   "source": [
    "expPctPaid = df.groupby([\"agi_stub\"])[\"expPctPaid\"].mean()\n",
    "expPctPaid"
   ]
  },
  {
   "cell_type": "markdown",
   "id": "23a1b11d-b92c-4273-9130-e2e00358052d",
   "metadata": {},
   "source": [
    "### Delta Between Actual & Expected"
   ]
  },
  {
   "cell_type": "code",
   "execution_count": 13,
   "id": "3dadda71-8596-4586-9006-62c662f4b13e",
   "metadata": {},
   "outputs": [
    {
     "data": {
      "text/plain": [
       "agi_stub\n",
       "1   -0.059882\n",
       "2   -0.045336\n",
       "3   -0.034882\n",
       "4   -0.027749\n",
       "5   -0.024018\n",
       "6   -0.015518\n",
       "dtype: float64"
      ]
     },
     "execution_count": 13,
     "metadata": {},
     "output_type": "execute_result"
    }
   ],
   "source": [
    "dltPctPaid = actPctPaid - expPctPaid\n",
    "dltPctPaid"
   ]
  },
  {
   "cell_type": "markdown",
   "id": "c36c8c9f-8b41-474e-89aa-f60400f9df44",
   "metadata": {},
   "source": [
    "This result is surprising. Most people feel that the wealthy are not paying there fair share. But this shows that it's actually the lower-class that are not paying their \"fair share\" according to the US's Progressive tax bracket. But that is not as much of a consern beacuase this is relative to yearly income, so lower income families not paying their \"fair share\" is a wash, what this actually means is lower-income families are taking advange of tax returns and credits."
   ]
  },
  {
   "cell_type": "markdown",
   "id": "4270e4c4-04dd-4abc-b2d5-98b5321298e7",
   "metadata": {},
   "source": [
    "## Flat Tax Rate Basic (w/ Credits & Returns)\n",
    "If we keep tax credits and returns so individuals can take advantage of those, what would the flat tax rate have to be?"
   ]
  },
  {
   "cell_type": "code",
   "execution_count": 14,
   "id": "380a874c-e4ad-40d9-82b2-1c9c2a9ced1d",
   "metadata": {},
   "outputs": [
    {
     "data": {
      "text/plain": [
       "0.14536445610594176"
      ]
     },
     "execution_count": 14,
     "metadata": {},
     "output_type": "execute_result"
    }
   ],
   "source": [
    "# Note we are using \"Adjust gross income\" here instead of \"income\"\n",
    "1718/toBillion((df[\"A00100\"].sum() - sumColumns(df, TAX_CREDITS))*1000)"
   ]
  },
  {
   "cell_type": "markdown",
   "id": "a1c53c8d-2477-4dcd-a0dd-64b8d31c609b",
   "metadata": {},
   "source": [
    "This means citizens would have to pay only `~15%` of their annual income for taxes. So this is very similar to if credits and returns were not included. But this is much more than many families are pay now or even how much they are expected pay. How can we account for this? We account for this by adding a minimum taxable amount. Meaning the first X amount is not taxed."
   ]
  },
  {
   "cell_type": "markdown",
   "id": "a5ba3db0-377f-4ff8-a42c-7a5ddb2e9936",
   "metadata": {},
   "source": [
    "## Flat Tax Rate Advanced\n",
    "To simplifly this tax system we will not be including the possible of credits & returns, as they do not impact the overall results. We be looking for a percentage and a minable taxable amount that has everyone (expecailly low-income families as changes in tax rate impact them the most) similar rate to what they are currently actually paying. We will be doing this by searching a range of values and scoring each result."
   ]
  },
  {
   "cell_type": "markdown",
   "id": "c8db0b54-6c85-42a0-9e47-b8560a0ae485",
   "metadata": {},
   "source": [
    "### System Setup"
   ]
  },
  {
   "cell_type": "code",
   "execution_count": 15,
   "id": "9e66ee76-00c1-45af-b182-a4c6fe1a49ea",
   "metadata": {},
   "outputs": [],
   "source": [
    "# note: minTaxable is a factor of 1000\n",
    "def simTaxSystem(dataframe, minTaxable, rate):\n",
    "    brackets    = dataframe.groupby(\"agi_stub\")\n",
    "    income      = brackets[\"A02650\"].sum()\n",
    "    individuals = brackets[\"N1\"].sum()\n",
    "    oldTax      = (brackets[\"A06500\"].sum() / income)\n",
    "    newTaxed    = (income - (individuals * minTaxable)) * rate\n",
    "    newTaxed[newTaxed < 0] = 0\n",
    "    newTax      = newTaxed / income\n",
    "    dltTax      = newTax - oldTax\n",
    "    return oldTax.round(3), newTax.round(3), dltTax.round(3), toBillion(newTaxed.sum()*1000)"
   ]
  },
  {
   "cell_type": "code",
   "execution_count": 16,
   "id": "43d26dd0-5983-4404-bdf8-073f33bf73ad",
   "metadata": {},
   "outputs": [],
   "source": [
    "def scoreTaxSystem(dltTax, revenue, goalRevenue):\n",
    "    if revenue < goalRevenue:\n",
    "        return None\n",
    "    return dltTax.copy().abs().sum()"
   ]
  },
  {
   "cell_type": "code",
   "execution_count": 17,
   "id": "d85e3813-14c8-4841-9542-4076aab11ec3",
   "metadata": {},
   "outputs": [],
   "source": [
    "def searchTaxSystem(dataframe, goalRevenue):\n",
    "    columns = [\"Tax Rate\", \"Taxable Min\", \"Revenue\", \"Score\", \"OTR1\", \"OTR2\", \"OTR3\", \"OTR4\", \"OTR5\", \"OTR6\", \"NTR1\", \"NTR2\", \"NTR3\", \"NTR4\", \"NTR5\", \"NTR6\", \"DTR1\", \"DTR2\", \"DTR3\", \"DTR4\", \"DTR5\", \"DTR6\" ]\n",
    "    grid    = pd.DataFrame(columns=columns)\n",
    "    total   = len(TAX_RATE) * len(MIN_TAXABLE)\n",
    "    done    = 0\n",
    "\n",
    "    for rate in TAX_RATE:\n",
    "        for minTax in MIN_TAXABLE:\n",
    "            oldTax, newTax, dltTax, revenue = simTaxSystem(dataframe, minTax, rate)\n",
    "            score = scoreTaxSystem(dltTax, revenue, goalRevenue)\n",
    "            row = [rate, minTax, revenue, score] + oldTax.values.tolist() + newTax.values.tolist() + dltTax.values.tolist()\n",
    "            grid = pd.concat([grid, pd.DataFrame([row], columns=columns)], ignore_index=True)\n",
    "            done += 1\n",
    "            print('\\r' + str(done) + \" of \" + str(total), end=\"\\r\")\n",
    "            \n",
    "    return grid"
   ]
  },
  {
   "cell_type": "code",
   "execution_count": 18,
   "id": "e19cc689-9d38-4c8c-9022-c28295890892",
   "metadata": {},
   "outputs": [],
   "source": [
    "MIN_TAXABLE = list(range(0, 100, 5))                                 # $0 - $100,000 by 5000s\n",
    "TAX_RATE    = list(map(lambda x: round(x * 0.01, 2), range(1, 31))) # 0.01% - 0.30% by 0.01"
   ]
  },
  {
   "cell_type": "markdown",
   "id": "5376e175-6eef-4b9b-9b1f-88ff782b5def",
   "metadata": {},
   "source": [
    "### Perform Search"
   ]
  },
  {
   "cell_type": "code",
   "execution_count": 19,
   "id": "b5c91f0a-24d9-4670-b7f0-92a9e6bda69c",
   "metadata": {},
   "outputs": [
    {
     "name": "stdout",
     "output_type": "stream",
     "text": [
      "600 of 600\r"
     ]
    }
   ],
   "source": [
    "grid = searchTaxSystem(df, 1718)"
   ]
  },
  {
   "cell_type": "code",
   "execution_count": 20,
   "id": "e7f347fe-87c9-4bef-99a3-19d299f97de0",
   "metadata": {},
   "outputs": [
    {
     "data": {
      "text/html": [
       "<div>\n",
       "<style scoped>\n",
       "    .dataframe tbody tr th:only-of-type {\n",
       "        vertical-align: middle;\n",
       "    }\n",
       "\n",
       "    .dataframe tbody tr th {\n",
       "        vertical-align: top;\n",
       "    }\n",
       "\n",
       "    .dataframe thead th {\n",
       "        text-align: right;\n",
       "    }\n",
       "</style>\n",
       "<table border=\"1\" class=\"dataframe\">\n",
       "  <thead>\n",
       "    <tr style=\"text-align: right;\">\n",
       "      <th></th>\n",
       "      <th>Tax Rate</th>\n",
       "      <th>Taxable Min</th>\n",
       "      <th>Revenue</th>\n",
       "      <th>Score</th>\n",
       "      <th>OTR1</th>\n",
       "      <th>OTR2</th>\n",
       "      <th>OTR3</th>\n",
       "      <th>OTR4</th>\n",
       "      <th>OTR5</th>\n",
       "      <th>OTR6</th>\n",
       "      <th>...</th>\n",
       "      <th>NTR3</th>\n",
       "      <th>NTR4</th>\n",
       "      <th>NTR5</th>\n",
       "      <th>NTR6</th>\n",
       "      <th>DTR1</th>\n",
       "      <th>DTR2</th>\n",
       "      <th>DTR3</th>\n",
       "      <th>DTR4</th>\n",
       "      <th>DTR5</th>\n",
       "      <th>DTR6</th>\n",
       "    </tr>\n",
       "  </thead>\n",
       "  <tbody>\n",
       "    <tr>\n",
       "      <th>0</th>\n",
       "      <td>0.01</td>\n",
       "      <td>0</td>\n",
       "      <td>121.76</td>\n",
       "      <td>NaN</td>\n",
       "      <td>0.013</td>\n",
       "      <td>0.044</td>\n",
       "      <td>0.069</td>\n",
       "      <td>0.083</td>\n",
       "      <td>0.111</td>\n",
       "      <td>0.206</td>\n",
       "      <td>...</td>\n",
       "      <td>0.010</td>\n",
       "      <td>0.010</td>\n",
       "      <td>0.010</td>\n",
       "      <td>0.010</td>\n",
       "      <td>-0.003</td>\n",
       "      <td>-0.034</td>\n",
       "      <td>-0.059</td>\n",
       "      <td>-0.073</td>\n",
       "      <td>-0.101</td>\n",
       "      <td>-0.196</td>\n",
       "    </tr>\n",
       "    <tr>\n",
       "      <th>1</th>\n",
       "      <td>0.01</td>\n",
       "      <td>5</td>\n",
       "      <td>114.03</td>\n",
       "      <td>NaN</td>\n",
       "      <td>0.013</td>\n",
       "      <td>0.044</td>\n",
       "      <td>0.069</td>\n",
       "      <td>0.083</td>\n",
       "      <td>0.111</td>\n",
       "      <td>0.206</td>\n",
       "      <td>...</td>\n",
       "      <td>0.009</td>\n",
       "      <td>0.009</td>\n",
       "      <td>0.010</td>\n",
       "      <td>0.010</td>\n",
       "      <td>-0.007</td>\n",
       "      <td>-0.036</td>\n",
       "      <td>-0.059</td>\n",
       "      <td>-0.073</td>\n",
       "      <td>-0.101</td>\n",
       "      <td>-0.196</td>\n",
       "    </tr>\n",
       "    <tr>\n",
       "      <th>2</th>\n",
       "      <td>0.01</td>\n",
       "      <td>10</td>\n",
       "      <td>106.30</td>\n",
       "      <td>NaN</td>\n",
       "      <td>0.013</td>\n",
       "      <td>0.044</td>\n",
       "      <td>0.069</td>\n",
       "      <td>0.083</td>\n",
       "      <td>0.111</td>\n",
       "      <td>0.206</td>\n",
       "      <td>...</td>\n",
       "      <td>0.008</td>\n",
       "      <td>0.009</td>\n",
       "      <td>0.009</td>\n",
       "      <td>0.010</td>\n",
       "      <td>-0.011</td>\n",
       "      <td>-0.037</td>\n",
       "      <td>-0.060</td>\n",
       "      <td>-0.074</td>\n",
       "      <td>-0.102</td>\n",
       "      <td>-0.196</td>\n",
       "    </tr>\n",
       "    <tr>\n",
       "      <th>3</th>\n",
       "      <td>0.01</td>\n",
       "      <td>15</td>\n",
       "      <td>99.71</td>\n",
       "      <td>NaN</td>\n",
       "      <td>0.013</td>\n",
       "      <td>0.044</td>\n",
       "      <td>0.069</td>\n",
       "      <td>0.083</td>\n",
       "      <td>0.111</td>\n",
       "      <td>0.206</td>\n",
       "      <td>...</td>\n",
       "      <td>0.008</td>\n",
       "      <td>0.008</td>\n",
       "      <td>0.009</td>\n",
       "      <td>0.010</td>\n",
       "      <td>-0.013</td>\n",
       "      <td>-0.038</td>\n",
       "      <td>-0.061</td>\n",
       "      <td>-0.075</td>\n",
       "      <td>-0.102</td>\n",
       "      <td>-0.197</td>\n",
       "    </tr>\n",
       "    <tr>\n",
       "      <th>4</th>\n",
       "      <td>0.01</td>\n",
       "      <td>20</td>\n",
       "      <td>94.48</td>\n",
       "      <td>NaN</td>\n",
       "      <td>0.013</td>\n",
       "      <td>0.044</td>\n",
       "      <td>0.069</td>\n",
       "      <td>0.083</td>\n",
       "      <td>0.111</td>\n",
       "      <td>0.206</td>\n",
       "      <td>...</td>\n",
       "      <td>0.007</td>\n",
       "      <td>0.008</td>\n",
       "      <td>0.009</td>\n",
       "      <td>0.010</td>\n",
       "      <td>-0.013</td>\n",
       "      <td>-0.040</td>\n",
       "      <td>-0.062</td>\n",
       "      <td>-0.075</td>\n",
       "      <td>-0.103</td>\n",
       "      <td>-0.197</td>\n",
       "    </tr>\n",
       "    <tr>\n",
       "      <th>...</th>\n",
       "      <td>...</td>\n",
       "      <td>...</td>\n",
       "      <td>...</td>\n",
       "      <td>...</td>\n",
       "      <td>...</td>\n",
       "      <td>...</td>\n",
       "      <td>...</td>\n",
       "      <td>...</td>\n",
       "      <td>...</td>\n",
       "      <td>...</td>\n",
       "      <td>...</td>\n",
       "      <td>...</td>\n",
       "      <td>...</td>\n",
       "      <td>...</td>\n",
       "      <td>...</td>\n",
       "      <td>...</td>\n",
       "      <td>...</td>\n",
       "      <td>...</td>\n",
       "      <td>...</td>\n",
       "      <td>...</td>\n",
       "      <td>...</td>\n",
       "    </tr>\n",
       "    <tr>\n",
       "      <th>595</th>\n",
       "      <td>0.30</td>\n",
       "      <td>75</td>\n",
       "      <td>1625.84</td>\n",
       "      <td>NaN</td>\n",
       "      <td>0.013</td>\n",
       "      <td>0.044</td>\n",
       "      <td>0.069</td>\n",
       "      <td>0.083</td>\n",
       "      <td>0.111</td>\n",
       "      <td>0.206</td>\n",
       "      <td>...</td>\n",
       "      <td>0.000</td>\n",
       "      <td>0.043</td>\n",
       "      <td>0.137</td>\n",
       "      <td>0.256</td>\n",
       "      <td>-0.013</td>\n",
       "      <td>-0.044</td>\n",
       "      <td>-0.069</td>\n",
       "      <td>-0.040</td>\n",
       "      <td>0.026</td>\n",
       "      <td>0.050</td>\n",
       "    </tr>\n",
       "    <tr>\n",
       "      <th>596</th>\n",
       "      <td>0.30</td>\n",
       "      <td>80</td>\n",
       "      <td>1558.45</td>\n",
       "      <td>NaN</td>\n",
       "      <td>0.013</td>\n",
       "      <td>0.044</td>\n",
       "      <td>0.069</td>\n",
       "      <td>0.083</td>\n",
       "      <td>0.111</td>\n",
       "      <td>0.206</td>\n",
       "      <td>...</td>\n",
       "      <td>0.000</td>\n",
       "      <td>0.026</td>\n",
       "      <td>0.127</td>\n",
       "      <td>0.253</td>\n",
       "      <td>-0.013</td>\n",
       "      <td>-0.044</td>\n",
       "      <td>-0.069</td>\n",
       "      <td>-0.057</td>\n",
       "      <td>0.015</td>\n",
       "      <td>0.047</td>\n",
       "    </tr>\n",
       "    <tr>\n",
       "      <th>597</th>\n",
       "      <td>0.30</td>\n",
       "      <td>85</td>\n",
       "      <td>1491.06</td>\n",
       "      <td>NaN</td>\n",
       "      <td>0.013</td>\n",
       "      <td>0.044</td>\n",
       "      <td>0.069</td>\n",
       "      <td>0.083</td>\n",
       "      <td>0.111</td>\n",
       "      <td>0.206</td>\n",
       "      <td>...</td>\n",
       "      <td>0.000</td>\n",
       "      <td>0.009</td>\n",
       "      <td>0.116</td>\n",
       "      <td>0.250</td>\n",
       "      <td>-0.013</td>\n",
       "      <td>-0.044</td>\n",
       "      <td>-0.069</td>\n",
       "      <td>-0.074</td>\n",
       "      <td>0.005</td>\n",
       "      <td>0.044</td>\n",
       "    </tr>\n",
       "    <tr>\n",
       "      <th>598</th>\n",
       "      <td>0.30</td>\n",
       "      <td>90</td>\n",
       "      <td>1434.21</td>\n",
       "      <td>NaN</td>\n",
       "      <td>0.013</td>\n",
       "      <td>0.044</td>\n",
       "      <td>0.069</td>\n",
       "      <td>0.083</td>\n",
       "      <td>0.111</td>\n",
       "      <td>0.206</td>\n",
       "      <td>...</td>\n",
       "      <td>0.000</td>\n",
       "      <td>0.000</td>\n",
       "      <td>0.105</td>\n",
       "      <td>0.247</td>\n",
       "      <td>-0.013</td>\n",
       "      <td>-0.044</td>\n",
       "      <td>-0.069</td>\n",
       "      <td>-0.083</td>\n",
       "      <td>-0.006</td>\n",
       "      <td>0.041</td>\n",
       "    </tr>\n",
       "    <tr>\n",
       "      <th>599</th>\n",
       "      <td>0.30</td>\n",
       "      <td>95</td>\n",
       "      <td>1387.98</td>\n",
       "      <td>NaN</td>\n",
       "      <td>0.013</td>\n",
       "      <td>0.044</td>\n",
       "      <td>0.069</td>\n",
       "      <td>0.083</td>\n",
       "      <td>0.111</td>\n",
       "      <td>0.206</td>\n",
       "      <td>...</td>\n",
       "      <td>0.000</td>\n",
       "      <td>0.000</td>\n",
       "      <td>0.094</td>\n",
       "      <td>0.244</td>\n",
       "      <td>-0.013</td>\n",
       "      <td>-0.044</td>\n",
       "      <td>-0.069</td>\n",
       "      <td>-0.083</td>\n",
       "      <td>-0.017</td>\n",
       "      <td>0.038</td>\n",
       "    </tr>\n",
       "  </tbody>\n",
       "</table>\n",
       "<p>600 rows × 22 columns</p>\n",
       "</div>"
      ],
      "text/plain": [
       "     Tax Rate Taxable Min  Revenue  Score   OTR1   OTR2   OTR3   OTR4   OTR5  \\\n",
       "0        0.01           0   121.76    NaN  0.013  0.044  0.069  0.083  0.111   \n",
       "1        0.01           5   114.03    NaN  0.013  0.044  0.069  0.083  0.111   \n",
       "2        0.01          10   106.30    NaN  0.013  0.044  0.069  0.083  0.111   \n",
       "3        0.01          15    99.71    NaN  0.013  0.044  0.069  0.083  0.111   \n",
       "4        0.01          20    94.48    NaN  0.013  0.044  0.069  0.083  0.111   \n",
       "..        ...         ...      ...    ...    ...    ...    ...    ...    ...   \n",
       "595      0.30          75  1625.84    NaN  0.013  0.044  0.069  0.083  0.111   \n",
       "596      0.30          80  1558.45    NaN  0.013  0.044  0.069  0.083  0.111   \n",
       "597      0.30          85  1491.06    NaN  0.013  0.044  0.069  0.083  0.111   \n",
       "598      0.30          90  1434.21    NaN  0.013  0.044  0.069  0.083  0.111   \n",
       "599      0.30          95  1387.98    NaN  0.013  0.044  0.069  0.083  0.111   \n",
       "\n",
       "      OTR6  ...   NTR3   NTR4   NTR5   NTR6   DTR1   DTR2   DTR3   DTR4  \\\n",
       "0    0.206  ...  0.010  0.010  0.010  0.010 -0.003 -0.034 -0.059 -0.073   \n",
       "1    0.206  ...  0.009  0.009  0.010  0.010 -0.007 -0.036 -0.059 -0.073   \n",
       "2    0.206  ...  0.008  0.009  0.009  0.010 -0.011 -0.037 -0.060 -0.074   \n",
       "3    0.206  ...  0.008  0.008  0.009  0.010 -0.013 -0.038 -0.061 -0.075   \n",
       "4    0.206  ...  0.007  0.008  0.009  0.010 -0.013 -0.040 -0.062 -0.075   \n",
       "..     ...  ...    ...    ...    ...    ...    ...    ...    ...    ...   \n",
       "595  0.206  ...  0.000  0.043  0.137  0.256 -0.013 -0.044 -0.069 -0.040   \n",
       "596  0.206  ...  0.000  0.026  0.127  0.253 -0.013 -0.044 -0.069 -0.057   \n",
       "597  0.206  ...  0.000  0.009  0.116  0.250 -0.013 -0.044 -0.069 -0.074   \n",
       "598  0.206  ...  0.000  0.000  0.105  0.247 -0.013 -0.044 -0.069 -0.083   \n",
       "599  0.206  ...  0.000  0.000  0.094  0.244 -0.013 -0.044 -0.069 -0.083   \n",
       "\n",
       "      DTR5   DTR6  \n",
       "0   -0.101 -0.196  \n",
       "1   -0.101 -0.196  \n",
       "2   -0.102 -0.196  \n",
       "3   -0.102 -0.197  \n",
       "4   -0.103 -0.197  \n",
       "..     ...    ...  \n",
       "595  0.026  0.050  \n",
       "596  0.015  0.047  \n",
       "597  0.005  0.044  \n",
       "598 -0.006  0.041  \n",
       "599 -0.017  0.038  \n",
       "\n",
       "[600 rows x 22 columns]"
      ]
     },
     "execution_count": 20,
     "metadata": {},
     "output_type": "execute_result"
    }
   ],
   "source": [
    "grid"
   ]
  },
  {
   "cell_type": "code",
   "execution_count": 21,
   "id": "dffd407e-7c4e-4cf9-b4e3-5eab58ed7e26",
   "metadata": {},
   "outputs": [
    {
     "name": "stderr",
     "output_type": "stream",
     "text": [
      "/tmp/ipykernel_677568/509815075.py:2: FutureWarning: In a future version, the Index constructor will not infer numeric dtypes when passed object-dtype sequences (matching Series behavior)\n",
      "  sns.heatmap(grid.pivot(index=\"Tax Rate\", columns=\"Taxable Min\", values=\"Score\"))\n"
     ]
    },
    {
     "data": {
      "text/plain": [
       "<AxesSubplot: xlabel='Taxable Min', ylabel='Tax Rate'>"
      ]
     },
     "execution_count": 21,
     "metadata": {},
     "output_type": "execute_result"
    },
    {
     "data": {
      "image/png": "[encoded data removed]",
      "text/plain": [
       "<Figure size 640x480 with 2 Axes>"
      ]
     },
     "metadata": {},
     "output_type": "display_data"
    }
   ],
   "source": [
    "grid[\"Score\"] = grid[\"Score\"].astype(float)\n",
    "sns.heatmap(grid.pivot(index=\"Tax Rate\", columns=\"Taxable Min\", values=\"Score\"))"
   ]
  },
  {
   "cell_type": "code",
   "execution_count": 22,
   "id": "9bea32be-5116-40a3-940f-ce16f7a2b7ae",
   "metadata": {},
   "outputs": [
    {
     "data": {
      "text/plain": [
       "Tax Rate          0.23\n",
       "Taxable Min         40\n",
       "Revenue        1720.22\n",
       "Score             0.17\n",
       "OTR1             0.013\n",
       "OTR2             0.044\n",
       "OTR3             0.069\n",
       "OTR4             0.083\n",
       "OTR5             0.111\n",
       "OTR6             0.206\n",
       "NTR1               0.0\n",
       "NTR2               0.0\n",
       "NTR3             0.082\n",
       "NTR4             0.125\n",
       "NTR5             0.163\n",
       "NTR6             0.212\n",
       "DTR1            -0.013\n",
       "DTR2            -0.044\n",
       "DTR3             0.013\n",
       "DTR4             0.042\n",
       "DTR5             0.052\n",
       "DTR6             0.006\n",
       "Name: 448, dtype: object"
      ]
     },
     "execution_count": 22,
     "metadata": {},
     "output_type": "execute_result"
    }
   ],
   "source": [
    "grid.iloc[grid[\"Score\"].idxmin()]"
   ]
  },
  {
   "cell_type": "markdown",
   "id": "30156f44-7489-4f41-a322-d81d2f0bbb42",
   "metadata": {},
   "source": [
    "This means the best tax system we found is at a `23%` flat tax rate, with the first `$45k` not being taxed. This flat tax has the least affect on the change in cost of income taxes."
   ]
  },
  {
   "cell_type": "markdown",
   "id": "af5b3439-6209-4108-b482-49183b90f8bd",
   "metadata": {},
   "source": [
    "## Verify Income Tax System (2020)\n",
    "According to the congress report we have to account for `$1,609 Billion` in revenue for income taxes. \\\n",
    "[Revenues in Fiscal Year 2020](https://www.cbo.gov/system/files/2020-11/56746-MBR.pdf)"
   ]
  },
  {
   "cell_type": "code",
   "execution_count": 23,
   "id": "73d23805-1625-4457-98a0-ee99a6a54f08",
   "metadata": {},
   "outputs": [],
   "source": [
    "df = pd.read_csv(\"./data/tax_data_2020.csv\")\n",
    "df = df[df.zipcode != 0]"
   ]
  },
  {
   "cell_type": "code",
   "execution_count": 24,
   "id": "ddd0ddba-7880-4594-9d4c-30e68ef1ef5b",
   "metadata": {},
   "outputs": [],
   "source": [
    "columns = [\"Tax Rate\", \"Taxable Min\", \"Revenue\", \"Score\", \"OTR1\", \"OTR2\", \"OTR3\", \"OTR4\", \"OTR5\", \"OTR6\", \"NTR1\", \"NTR2\", \"NTR3\", \"NTR4\", \"NTR5\", \"NTR6\", \"DTR1\", \"DTR2\", \"DTR3\", \"DTR4\", \"DTR5\", \"DTR6\" ]\n",
    "oldTax, newTax, dltTax, revenue = simTaxSystem(df, 45, 0.23)\n",
    "score = scoreTaxSystem(dltTax, revenue, 1609)\n",
    "row = [0.23, 45, revenue, score] + oldTax.values.tolist() + newTax.values.tolist() + dltTax.values.tolist()\n",
    "results = pd.DataFrame([row], columns=columns).iloc[0]"
   ]
  },
  {
   "cell_type": "code",
   "execution_count": 25,
   "id": "2f234864-dfe4-4ee5-b617-46f07c48c76c",
   "metadata": {},
   "outputs": [
    {
     "data": {
      "text/plain": [
       "Tax Rate          0.230\n",
       "Taxable Min      45.000\n",
       "Revenue        1762.030\n",
       "Score             0.135\n",
       "OTR1              0.013\n",
       "OTR2              0.044\n",
       "OTR3              0.068\n",
       "OTR4              0.083\n",
       "OTR5              0.111\n",
       "OTR6              0.211\n",
       "NTR1              0.000\n",
       "NTR2              0.000\n",
       "NTR3              0.063\n",
       "NTR4              0.112\n",
       "NTR5              0.155\n",
       "NTR6              0.211\n",
       "DTR1             -0.013\n",
       "DTR2             -0.044\n",
       "DTR3             -0.005\n",
       "DTR4              0.029\n",
       "DTR5              0.044\n",
       "DTR6              0.000\n",
       "Name: 0, dtype: float64"
      ]
     },
     "execution_count": 25,
     "metadata": {},
     "output_type": "execute_result"
    }
   ],
   "source": [
    "results"
   ]
  },
  {
   "cell_type": "markdown",
   "id": "1213b5a4-b922-4a5b-8575-b63a43d600d1",
   "metadata": {},
   "source": [
    "We have validated the results with 2020's data and it still works out."
   ]
  },
  {
   "cell_type": "markdown",
   "id": "c145043e-0982-4bf1-83f9-8fe397f7dc26",
   "metadata": {},
   "source": [
    "## Conclusion\n"
   ]
  },
  {
   "cell_type": "markdown",
   "id": "4c6a8c83-1d8f-4656-9154-b97522abdb33",
   "metadata": {},
   "source": [
    "We have determined that the best flat tax system to minimize the change on peoples taxes would to be a `23%` flat tax with the first `$45K` not being taxed. This system would be implemented with not credits or returns."
   ]
  },
  {
   "cell_type": "code",
   "execution_count": null,
   "id": "6807ebd0-f49c-4084-929b-8e438c2b22ca",
   "metadata": {},
   "outputs": [],
   "source": []
  }
 ],
 "metadata": {
  "kernelspec": {
   "display_name": "Python 3 (ipykernel)",
   "language": "python",
   "name": "python3"
  },
  "language_info": {
   "codemirror_mode": {
    "name": "ipython",
    "version": 3
   },
   "file_extension": ".py",
   "mimetype": "text/x-python",
   "name": "python",
   "nbconvert_exporter": "python",
   "pygments_lexer": "ipython3",
   "version": "3.9.15"
  }
 },
 "nbformat": 4,
 "nbformat_minor": 5
}
