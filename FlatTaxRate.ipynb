{
 "cells": [
  {
   "cell_type": "markdown",
   "id": "2fbc92fa-4fcf-4da2-8043-5e0ad6a279f9",
   "metadata": {},
   "source": [
    "# Implementing Flat Tax Rate\n",
    "We will be looking at what people actually pay, what they should pay, and how to decrease to a flat tax rate. \\\n",
    "Evan Sellers + Michael Yager"
   ]
  },
  {
   "cell_type": "code",
   "execution_count": 129,
   "id": "d71475cc-47eb-47eb-a516-c9d67652e15d",
   "metadata": {},
   "outputs": [],
   "source": [
    "import pandas as pd"
   ]
  },
  {
   "cell_type": "code",
   "execution_count": 355,
   "id": "c5afdb28-3b7c-4ed7-bbb8-e3815d8b0fbf",
   "metadata": {},
   "outputs": [],
   "source": [
    "df = pd.read_csv(\"./data/tax_data_2020.csv\")\n",
    "df = df[df.zipcode != 0]"
   ]
  },
  {
   "cell_type": "code",
   "execution_count": 131,
   "id": "f6d8a286-a904-466a-8ca0-9ae4a4f2abdd",
   "metadata": {},
   "outputs": [],
   "source": [
    "def toMillion(amount):\n",
    "    return round(amount / 1000000, 2)\n",
    "\n",
    "def toBillion(amount):\n",
    "    return round(amount / 1000000000, 2)\n",
    "\n",
    "def toTrillion(amount):\n",
    "    return round(amount / 1000000000000, 10)"
   ]
  },
  {
   "cell_type": "markdown",
   "id": "6bbb1e5f-cfe7-4d42-9408-da77a915ac87",
   "metadata": {},
   "source": [
    "## Percentage of Income Tax - Paided"
   ]
  },
  {
   "cell_type": "code",
   "execution_count": 149,
   "id": "9362a604-095c-44d8-85fc-dbb6c7478bca",
   "metadata": {},
   "outputs": [],
   "source": [
    "# Remove Rows w/ Zero Income\n",
    "df = df[df[\"A02650\"] != 0]"
   ]
  },
  {
   "cell_type": "code",
   "execution_count": 184,
   "id": "25e885ac-31ff-452d-bb96-d5102b320046",
   "metadata": {},
   "outputs": [],
   "source": [
    "df[\"taxPercentagePaid\"] = df.apply(lambda row: row[\"A06500\"] / row[\"A00100\"], axis=1)"
   ]
  },
  {
   "cell_type": "code",
   "execution_count": 195,
   "id": "219eb80a-b412-4193-aab6-c8402efc2733",
   "metadata": {},
   "outputs": [
    {
     "data": {
      "text/plain": [
       "agi_stub\n",
       "1    0.012746\n",
       "2    0.044214\n",
       "3    0.065613\n",
       "4    0.078532\n",
       "5    0.110051\n",
       "6    0.188869\n",
       "Name: taxPercentagePaid, dtype: float64"
      ]
     },
     "execution_count": 195,
     "metadata": {},
     "output_type": "execute_result"
    }
   ],
   "source": [
    "paid = df.groupby([\"agi_stub\"])[\"taxPercentagePaid\"].mean()\n",
    "paid"
   ]
  },
  {
   "cell_type": "markdown",
   "id": "bd41a15e-2520-46b6-af96-13d8d5c2529c",
   "metadata": {},
   "source": [
    "## Percentage of Income Tax - Expected"
   ]
  },
  {
   "cell_type": "markdown",
   "id": "d21c7964-a0b3-4755-bfa1-ce2650f6767b",
   "metadata": {},
   "source": [
    "### Returns"
   ]
  },
  {
   "cell_type": "code",
   "execution_count": 188,
   "id": "494d178c-8147-42cc-b0d1-5b671bc3284b",
   "metadata": {},
   "outputs": [],
   "source": [
    "df[\"taxPercentageReturn\"] = df.apply(lambda row: 1 - (row[\"A00100\"] / row[\"A02650\"]), axis=1)"
   ]
  },
  {
   "cell_type": "code",
   "execution_count": 196,
   "id": "46075852-5d3f-430a-ba53-070923afb56a",
   "metadata": {},
   "outputs": [
    {
     "data": {
      "text/plain": [
       "agi_stub\n",
       "1    0.019301\n",
       "2    0.012092\n",
       "3    0.011414\n",
       "4    0.009370\n",
       "5    0.010816\n",
       "6    0.010638\n",
       "Name: taxPercentageReturn, dtype: float64"
      ]
     },
     "execution_count": 196,
     "metadata": {},
     "output_type": "execute_result"
    }
   ],
   "source": [
    "returns = df.groupby([\"agi_stub\"])[\"taxPercentageReturn\"].mean()\n",
    "returns"
   ]
  },
  {
   "cell_type": "markdown",
   "id": "9550f946-9fe0-4bf3-b88c-e3f942797d01",
   "metadata": {},
   "source": [
    "### Credits"
   ]
  },
  {
   "cell_type": "code",
   "execution_count": 191,
   "id": "85bf0f00-677c-469f-8c7f-d8c59c8cb3a5",
   "metadata": {},
   "outputs": [],
   "source": [
    "TAX_CREDIT_AMT_1040  = [ \"A07225\", \"A11070\", \"A10960\", \"A10970\" ]\n",
    "TAX_CREDIT_AMT_SCH3  = [ \"A07230\", \"A07240\", \"A07180\", \"A07300\", \"A07260\", \"A09400\", \"A11450\", \"A11560\" ]"
   ]
  },
  {
   "cell_type": "code",
   "execution_count": 192,
   "id": "54e01888-49a9-4fcc-8a13-6063f41419c9",
   "metadata": {},
   "outputs": [],
   "source": [
    "def sumColumns(dataframe, columns):\n",
    "    total = 0\n",
    "    for col in columns:\n",
    "        total += abs(dataframe[col])\n",
    "    return total"
   ]
  },
  {
   "cell_type": "code",
   "execution_count": 202,
   "id": "afee84d8-4c41-4464-b2c8-4d8c24717a94",
   "metadata": {},
   "outputs": [],
   "source": [
    "df[\"credits\"] = df.apply(lambda row: (sumColumns(row, TAX_CREDIT_AMT_SCH3) + sumColumns(row, TAX_CREDIT_AMT_1040)), axis=1)"
   ]
  },
  {
   "cell_type": "code",
   "execution_count": 203,
   "id": "71f3cff1-af2e-4b71-858a-ae97c1f2627f",
   "metadata": {},
   "outputs": [],
   "source": [
    "df[\"taxPercentageCredit\"] = df.apply(lambda row: row[\"credits\"] / row[\"A02650\"], axis=1)"
   ]
  },
  {
   "cell_type": "code",
   "execution_count": 206,
   "id": "fd41b317-0dd5-4836-a44c-b6a6731092f6",
   "metadata": {},
   "outputs": [
    {
     "data": {
      "text/plain": [
       "agi_stub\n",
       "1    46161900.0\n",
       "2    54919370.0\n",
       "3    34827480.0\n",
       "4    25014840.0\n",
       "5    52657448.0\n",
       "6    41222786.0\n",
       "Name: credits, dtype: float64"
      ]
     },
     "execution_count": 206,
     "metadata": {},
     "output_type": "execute_result"
    }
   ],
   "source": [
    "df.groupby([\"agi_stub\"])[\"credits\"].sum()"
   ]
  },
  {
   "cell_type": "code",
   "execution_count": 204,
   "id": "bfc4ef7f-f264-4fab-affa-9152c7f6ec61",
   "metadata": {},
   "outputs": [
    {
     "data": {
      "text/plain": [
       "agi_stub\n",
       "1    0.065316\n",
       "2    0.036898\n",
       "3    0.025105\n",
       "4    0.019558\n",
       "5    0.014639\n",
       "6    0.005525\n",
       "Name: taxPercentageCredit, dtype: float64"
      ]
     },
     "execution_count": 204,
     "metadata": {},
     "output_type": "execute_result"
    }
   ],
   "source": [
    "credits = df.groupby([\"agi_stub\"])[\"taxPercentageCredit\"].mean()\n",
    "credits"
   ]
  },
  {
   "cell_type": "markdown",
   "id": "30fe7c8a-f5e7-4b74-a629-977e000ea22c",
   "metadata": {},
   "source": [
    "This is intresting. This means lower income brackets take advantage of tax credits, and they are a larger impact to their overall taxes."
   ]
  },
  {
   "cell_type": "markdown",
   "id": "809f2d71-1555-4267-9c93-a67b73839df8",
   "metadata": {},
   "source": [
    "### Total"
   ]
  },
  {
   "cell_type": "code",
   "execution_count": 212,
   "id": "a8a3e2b9-d47c-4002-bd4f-8787c3f8d296",
   "metadata": {},
   "outputs": [
    {
     "data": {
      "text/plain": [
       "agi_stub\n",
       "1    0.097362\n",
       "2    0.093203\n",
       "3    0.102132\n",
       "4    0.107461\n",
       "5    0.135507\n",
       "6    0.205032\n",
       "dtype: float64"
      ]
     },
     "execution_count": 212,
     "metadata": {},
     "output_type": "execute_result"
    }
   ],
   "source": [
    "expected = paid + returns + credits\n",
    "expected"
   ]
  },
  {
   "cell_type": "markdown",
   "id": "a1481296-8052-48c9-ab58-3a8d980cc269",
   "metadata": {},
   "source": [
    "## Flat Tax Rate Basic\n",
    "According to the congress report we have to account for `$1,609 Billion` in revenue for income taxes. \\\n",
    "[Revenues in Fiscal Year 2020](https://www.cbo.gov/system/files/2020-11/56746-MBR.pdf)"
   ]
  },
  {
   "cell_type": "code",
   "execution_count": 208,
   "id": "d45eed33-1278-4e61-aa4f-8a297455ba9c",
   "metadata": {},
   "outputs": [
    {
     "name": "stdout",
     "output_type": "stream",
     "text": [
      "$ 10743.66 Billion\n"
     ]
    }
   ],
   "source": [
    "# Amount to acheive - reported by congress\n",
    "print(\"$\", toBillion(df2[\"A02650\"].sum()*1000), \"Billion\")"
   ]
  },
  {
   "cell_type": "code",
   "execution_count": 209,
   "id": "729aeb25-2835-49a3-9b01-a14463732d54",
   "metadata": {},
   "outputs": [
    {
     "data": {
      "text/plain": [
       "0.1497627437949451"
      ]
     },
     "execution_count": 209,
     "metadata": {},
     "output_type": "execute_result"
    }
   ],
   "source": [
    "# Percent each citizen must pay\n",
    "1609/toBillion(df2[\"A02650\"].sum()*1000)"
   ]
  },
  {
   "cell_type": "markdown",
   "id": "11b06eb2-c71e-4615-976a-7733ad2f0e4b",
   "metadata": {},
   "source": [
    "This number mean that most citizens must pay around `15%`, this is an issue though because this means most citizens are pay more than they currently are paying."
   ]
  },
  {
   "cell_type": "code",
   "execution_count": 213,
   "id": "22dd50a4-01d6-403b-aa17-3975a6de3a78",
   "metadata": {},
   "outputs": [
    {
     "data": {
      "text/plain": [
       "agi_stub\n",
       "1    0.084617\n",
       "2    0.048989\n",
       "3    0.036520\n",
       "4    0.028928\n",
       "5    0.025455\n",
       "6    0.016163\n",
       "dtype: float64"
      ]
     },
     "execution_count": 213,
     "metadata": {},
     "output_type": "execute_result"
    }
   ],
   "source": [
    "expected - paid"
   ]
  },
  {
   "cell_type": "markdown",
   "id": "222b8613-2b00-4d96-aaf5-2abb8836cbbb",
   "metadata": {},
   "source": [
    "This means according to the tax bracket that poorer individules are not paying their fair share according to the tax bracket."
   ]
  },
  {
   "cell_type": "markdown",
   "id": "ce5c56b3-df1d-48c8-97c9-468467af919d",
   "metadata": {},
   "source": [
    "## Flat Tax Rate Complexity\n",
    "The issue is tax rate is not this simple. Because the tax brackets are progressive. So we must set a minimum that is taxed and a rate. "
   ]
  },
  {
   "cell_type": "code",
   "execution_count": 237,
   "id": "701e8c31-1116-44d0-ab53-7c58d829fd95",
   "metadata": {},
   "outputs": [],
   "source": [
    "df[\"rate\"] = df.apply(lambda row: row[\"A06500\"] / row[\"A00100\"], axis=1)\n",
    "PAID_RATE  = df.groupby(\"agi_stub\")[\"rate\"].mean()"
   ]
  },
  {
   "cell_type": "code",
   "execution_count": 253,
   "id": "8019a31b-8902-4944-8b3a-106a94db8d7c",
   "metadata": {},
   "outputs": [],
   "source": [
    "def taxSystemRevenue(dataframe, minTaxable, rate):\n",
    "    df[\"taxed\"] = df.apply(lambda row: max((row[\"A02650\"] - (row[\"N1\"] * minTaxable)), 0) * rate, axis=1)\n",
    "    taxed       = df.groupby(\"agi_stub\")[\"taxed\"].sum()\n",
    "    income      = df.groupby(\"agi_stub\")[\"A02650\"].sum()\n",
    "    rate        = (taxed/income).round(4)\n",
    "    return rate, taxed.sum()"
   ]
  },
  {
   "cell_type": "code",
   "execution_count": 292,
   "id": "53e1315a-3197-4849-b482-236d5a008a9d",
   "metadata": {},
   "outputs": [],
   "source": [
    "WEIGHTS = [2**6, 2**5, 2**4, 2**3, 2**2, 2]\n",
    "\n",
    "def scoreTaxSystemRevenue(rate, revenue):\n",
    "    if toBillion(revenue * 1000) < 1609:\n",
    "        return 0\n",
    "    diff  = rate - PAID_RATE\n",
    "    wdiff = diff * WEIGHTS\n",
    "    return wdiff.sum()"
   ]
  },
  {
   "cell_type": "code",
   "execution_count": 250,
   "id": "d53b5dbb-b6bf-4907-a49d-f1b85dbfcf3a",
   "metadata": {},
   "outputs": [],
   "source": [
    "def simulateTaxSystemRevenue(dataframe, minTaxable, rate):\n",
    "    rate, revenue = taxSystemRevenue(dataframe, minTaxable, rate)\n",
    "    return scoreTaxSystemRevenue(rate, revenue)"
   ]
  },
  {
   "cell_type": "markdown",
   "id": "49976de9-dec4-4b9c-b680-67814f1207ce",
   "metadata": {},
   "source": [
    "### Search Grid"
   ]
  },
  {
   "cell_type": "code",
   "execution_count": 339,
   "id": "6bdba759-46a1-4a6c-bce2-ef856e750582",
   "metadata": {},
   "outputs": [],
   "source": [
    "MIN_TAXABLE = list(range(0,100, 5))                                 # $0 - $100,000 by 1000s\n",
    "TAX_RATE    = list(map(lambda x: round(x * 0.01, 2), range(1, 31))) # 0.01% - 0.30% by 0.01"
   ]
  },
  {
   "cell_type": "markdown",
   "id": "e04921d3-d311-4e6c-af02-fe68f7f7eb46",
   "metadata": {},
   "source": [
    "### Perform Search"
   ]
  },
  {
   "cell_type": "code",
   "execution_count": 352,
   "id": "f217cc18-c289-41b9-a862-26e642d900dc",
   "metadata": {},
   "outputs": [],
   "source": [
    "cols = list(map(lambda x: str(x) + \"%\", TAX_RATE))\n",
    "rows = list(map(lambda x: \"$\" + \"{:,}\".format(x * 1000), MIN_TAXABLE))\n",
    "grid = pd.DataFrame(columns=cols, index=rows)"
   ]
  },
  {
   "cell_type": "code",
   "execution_count": null,
   "id": "156288d2-9981-4c12-a108-9b91b4b99aba",
   "metadata": {},
   "outputs": [
    {
     "name": "stdout",
     "output_type": "stream",
     "text": [
      "117 of 600\r"
     ]
    }
   ],
   "source": [
    "total = len(TAX_RATE) * len(MIN_TAXABLE)\n",
    "done  = 0\n",
    "\n",
    "for indexTaxRate in range(len(TAX_RATE)):\n",
    "    results = []\n",
    "    for indexMinTax in range(len(MIN_TAXABLE)):\n",
    "        taxRate = TAX_RATE[indexTaxRate]\n",
    "        minTax  = MIN_TAXABLE[indexMinTax]\n",
    "        results.append(simulateTaxSystemRevenue(df, minTax, taxRate))\n",
    "        done += 1\n",
    "        print('\\r' + str(done) + \" of \" + str(total), end=\"\\r\")\n",
    "    grid[grid.columns[indexTaxRate]] = results"
   ]
  },
  {
   "cell_type": "code",
   "execution_count": null,
   "id": "856d9d6d-b667-481e-be33-409a0b20f249",
   "metadata": {},
   "outputs": [],
   "source": []
  }
 ],
 "metadata": {
  "kernelspec": {
   "display_name": "Python 3 (ipykernel)",
   "language": "python",
   "name": "python3"
  },
  "language_info": {
   "codemirror_mode": {
    "name": "ipython",
    "version": 3
   },
   "file_extension": ".py",
   "mimetype": "text/x-python",
   "name": "python",
   "nbconvert_exporter": "python",
   "pygments_lexer": "ipython3",
   "version": "3.9.15"
  }
 },
 "nbformat": 4,
 "nbformat_minor": 5
}
