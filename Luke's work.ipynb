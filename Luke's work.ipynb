{
 "cells": [
  {
   "cell_type": "code",
   "execution_count": 2,
   "id": "5c5daee6-5d9a-41c3-9960-82e254114043",
   "metadata": {},
   "outputs": [],
   "source": [
    "import pandas as pd"
   ]
  },
  {
   "cell_type": "code",
   "execution_count": 3,
   "id": "650efdf8-0fff-408b-9492-3af2ce901263",
   "metadata": {},
   "outputs": [
    {
     "name": "stdout",
     "output_type": "stream",
     "text": [
      "(166452, 165)\n"
     ]
    },
    {
     "data": {
      "text/html": [
       "<div>\n",
       "<style scoped>\n",
       "    .dataframe tbody tr th:only-of-type {\n",
       "        vertical-align: middle;\n",
       "    }\n",
       "\n",
       "    .dataframe tbody tr th {\n",
       "        vertical-align: top;\n",
       "    }\n",
       "\n",
       "    .dataframe thead th {\n",
       "        text-align: right;\n",
       "    }\n",
       "</style>\n",
       "<table border=\"1\" class=\"dataframe\">\n",
       "  <thead>\n",
       "    <tr style=\"text-align: right;\">\n",
       "      <th></th>\n",
       "      <th>STATEFIPS</th>\n",
       "      <th>STATE</th>\n",
       "      <th>zipcode</th>\n",
       "      <th>agi_stub</th>\n",
       "      <th>N1</th>\n",
       "      <th>mars1</th>\n",
       "      <th>MARS2</th>\n",
       "      <th>MARS4</th>\n",
       "      <th>ELF</th>\n",
       "      <th>CPREP</th>\n",
       "      <th>...</th>\n",
       "      <th>N85300</th>\n",
       "      <th>A85300</th>\n",
       "      <th>N11901</th>\n",
       "      <th>A11901</th>\n",
       "      <th>N11900</th>\n",
       "      <th>A11900</th>\n",
       "      <th>N11902</th>\n",
       "      <th>A11902</th>\n",
       "      <th>N12000</th>\n",
       "      <th>A12000</th>\n",
       "    </tr>\n",
       "  </thead>\n",
       "  <tbody>\n",
       "    <tr>\n",
       "      <th>0</th>\n",
       "      <td>1</td>\n",
       "      <td>AL</td>\n",
       "      <td>0</td>\n",
       "      <td>1</td>\n",
       "      <td>785000.0</td>\n",
       "      <td>519980.0</td>\n",
       "      <td>85690.0</td>\n",
       "      <td>165290.0</td>\n",
       "      <td>724170.0</td>\n",
       "      <td>22560.0</td>\n",
       "      <td>...</td>\n",
       "      <td>0.0</td>\n",
       "      <td>0.0</td>\n",
       "      <td>57720.0</td>\n",
       "      <td>46577.0</td>\n",
       "      <td>674840.0</td>\n",
       "      <td>1827202.0</td>\n",
       "      <td>672200.0</td>\n",
       "      <td>1818867.0</td>\n",
       "      <td>2900.0</td>\n",
       "      <td>6089.0</td>\n",
       "    </tr>\n",
       "    <tr>\n",
       "      <th>1</th>\n",
       "      <td>1</td>\n",
       "      <td>AL</td>\n",
       "      <td>0</td>\n",
       "      <td>2</td>\n",
       "      <td>554310.0</td>\n",
       "      <td>270870.0</td>\n",
       "      <td>121420.0</td>\n",
       "      <td>146470.0</td>\n",
       "      <td>515150.0</td>\n",
       "      <td>13260.0</td>\n",
       "      <td>...</td>\n",
       "      <td>0.0</td>\n",
       "      <td>0.0</td>\n",
       "      <td>81770.0</td>\n",
       "      <td>112540.0</td>\n",
       "      <td>470410.0</td>\n",
       "      <td>1445383.0</td>\n",
       "      <td>466960.0</td>\n",
       "      <td>1432458.0</td>\n",
       "      <td>4660.0</td>\n",
       "      <td>11648.0</td>\n",
       "    </tr>\n",
       "    <tr>\n",
       "      <th>2</th>\n",
       "      <td>1</td>\n",
       "      <td>AL</td>\n",
       "      <td>0</td>\n",
       "      <td>3</td>\n",
       "      <td>290630.0</td>\n",
       "      <td>113280.0</td>\n",
       "      <td>124770.0</td>\n",
       "      <td>44570.0</td>\n",
       "      <td>269700.0</td>\n",
       "      <td>6420.0</td>\n",
       "      <td>...</td>\n",
       "      <td>0.0</td>\n",
       "      <td>0.0</td>\n",
       "      <td>70360.0</td>\n",
       "      <td>144380.0</td>\n",
       "      <td>220710.0</td>\n",
       "      <td>626662.0</td>\n",
       "      <td>216530.0</td>\n",
       "      <td>610170.0</td>\n",
       "      <td>5760.0</td>\n",
       "      <td>16235.0</td>\n",
       "    </tr>\n",
       "    <tr>\n",
       "      <th>3</th>\n",
       "      <td>1</td>\n",
       "      <td>AL</td>\n",
       "      <td>0</td>\n",
       "      <td>4</td>\n",
       "      <td>181010.0</td>\n",
       "      <td>42010.0</td>\n",
       "      <td>120820.0</td>\n",
       "      <td>14410.0</td>\n",
       "      <td>168830.0</td>\n",
       "      <td>2570.0</td>\n",
       "      <td>...</td>\n",
       "      <td>0.0</td>\n",
       "      <td>0.0</td>\n",
       "      <td>49500.0</td>\n",
       "      <td>135429.0</td>\n",
       "      <td>130670.0</td>\n",
       "      <td>437179.0</td>\n",
       "      <td>126790.0</td>\n",
       "      <td>419324.0</td>\n",
       "      <td>3730.0</td>\n",
       "      <td>14903.0</td>\n",
       "    </tr>\n",
       "    <tr>\n",
       "      <th>4</th>\n",
       "      <td>1</td>\n",
       "      <td>AL</td>\n",
       "      <td>0</td>\n",
       "      <td>5</td>\n",
       "      <td>269080.0</td>\n",
       "      <td>31310.0</td>\n",
       "      <td>224330.0</td>\n",
       "      <td>8270.0</td>\n",
       "      <td>252360.0</td>\n",
       "      <td>3250.0</td>\n",
       "      <td>...</td>\n",
       "      <td>100.0</td>\n",
       "      <td>20.0</td>\n",
       "      <td>103250.0</td>\n",
       "      <td>470206.0</td>\n",
       "      <td>165650.0</td>\n",
       "      <td>724529.0</td>\n",
       "      <td>156910.0</td>\n",
       "      <td>642895.0</td>\n",
       "      <td>11280.0</td>\n",
       "      <td>80064.0</td>\n",
       "    </tr>\n",
       "    <tr>\n",
       "      <th>5</th>\n",
       "      <td>1</td>\n",
       "      <td>AL</td>\n",
       "      <td>0</td>\n",
       "      <td>6</td>\n",
       "      <td>81340.0</td>\n",
       "      <td>5000.0</td>\n",
       "      <td>72270.0</td>\n",
       "      <td>630.0</td>\n",
       "      <td>76810.0</td>\n",
       "      <td>230.0</td>\n",
       "      <td>...</td>\n",
       "      <td>41750.0</td>\n",
       "      <td>164094.0</td>\n",
       "      <td>43960.0</td>\n",
       "      <td>1216690.0</td>\n",
       "      <td>34560.0</td>\n",
       "      <td>735671.0</td>\n",
       "      <td>24770.0</td>\n",
       "      <td>285560.0</td>\n",
       "      <td>9630.0</td>\n",
       "      <td>391783.0</td>\n",
       "    </tr>\n",
       "    <tr>\n",
       "      <th>6</th>\n",
       "      <td>1</td>\n",
       "      <td>AL</td>\n",
       "      <td>35004</td>\n",
       "      <td>1</td>\n",
       "      <td>1460.0</td>\n",
       "      <td>1010.0</td>\n",
       "      <td>200.0</td>\n",
       "      <td>210.0</td>\n",
       "      <td>1340.0</td>\n",
       "      <td>40.0</td>\n",
       "      <td>...</td>\n",
       "      <td>0.0</td>\n",
       "      <td>0.0</td>\n",
       "      <td>110.0</td>\n",
       "      <td>80.0</td>\n",
       "      <td>1210.0</td>\n",
       "      <td>2807.0</td>\n",
       "      <td>1210.0</td>\n",
       "      <td>2795.0</td>\n",
       "      <td>0.0</td>\n",
       "      <td>0.0</td>\n",
       "    </tr>\n",
       "    <tr>\n",
       "      <th>7</th>\n",
       "      <td>1</td>\n",
       "      <td>AL</td>\n",
       "      <td>35004</td>\n",
       "      <td>2</td>\n",
       "      <td>1400.0</td>\n",
       "      <td>760.0</td>\n",
       "      <td>280.0</td>\n",
       "      <td>310.0</td>\n",
       "      <td>1310.0</td>\n",
       "      <td>40.0</td>\n",
       "      <td>...</td>\n",
       "      <td>0.0</td>\n",
       "      <td>0.0</td>\n",
       "      <td>190.0</td>\n",
       "      <td>194.0</td>\n",
       "      <td>1210.0</td>\n",
       "      <td>3378.0</td>\n",
       "      <td>1200.0</td>\n",
       "      <td>3335.0</td>\n",
       "      <td>30.0</td>\n",
       "      <td>62.0</td>\n",
       "    </tr>\n",
       "    <tr>\n",
       "      <th>8</th>\n",
       "      <td>1</td>\n",
       "      <td>AL</td>\n",
       "      <td>35004</td>\n",
       "      <td>3</td>\n",
       "      <td>1020.0</td>\n",
       "      <td>460.0</td>\n",
       "      <td>350.0</td>\n",
       "      <td>190.0</td>\n",
       "      <td>970.0</td>\n",
       "      <td>30.0</td>\n",
       "      <td>...</td>\n",
       "      <td>0.0</td>\n",
       "      <td>0.0</td>\n",
       "      <td>230.0</td>\n",
       "      <td>357.0</td>\n",
       "      <td>800.0</td>\n",
       "      <td>2131.0</td>\n",
       "      <td>790.0</td>\n",
       "      <td>2119.0</td>\n",
       "      <td>0.0</td>\n",
       "      <td>0.0</td>\n",
       "    </tr>\n",
       "    <tr>\n",
       "      <th>9</th>\n",
       "      <td>1</td>\n",
       "      <td>AL</td>\n",
       "      <td>35004</td>\n",
       "      <td>4</td>\n",
       "      <td>630.0</td>\n",
       "      <td>140.0</td>\n",
       "      <td>420.0</td>\n",
       "      <td>60.0</td>\n",
       "      <td>590.0</td>\n",
       "      <td>0.0</td>\n",
       "      <td>...</td>\n",
       "      <td>0.0</td>\n",
       "      <td>0.0</td>\n",
       "      <td>180.0</td>\n",
       "      <td>386.0</td>\n",
       "      <td>450.0</td>\n",
       "      <td>1282.0</td>\n",
       "      <td>440.0</td>\n",
       "      <td>1276.0</td>\n",
       "      <td>0.0</td>\n",
       "      <td>0.0</td>\n",
       "    </tr>\n",
       "  </tbody>\n",
       "</table>\n",
       "<p>10 rows × 165 columns</p>\n",
       "</div>"
      ],
      "text/plain": [
       "   STATEFIPS STATE  zipcode  agi_stub        N1     mars1     MARS2     MARS4  \\\n",
       "0          1    AL        0         1  785000.0  519980.0   85690.0  165290.0   \n",
       "1          1    AL        0         2  554310.0  270870.0  121420.0  146470.0   \n",
       "2          1    AL        0         3  290630.0  113280.0  124770.0   44570.0   \n",
       "3          1    AL        0         4  181010.0   42010.0  120820.0   14410.0   \n",
       "4          1    AL        0         5  269080.0   31310.0  224330.0    8270.0   \n",
       "5          1    AL        0         6   81340.0    5000.0   72270.0     630.0   \n",
       "6          1    AL    35004         1    1460.0    1010.0     200.0     210.0   \n",
       "7          1    AL    35004         2    1400.0     760.0     280.0     310.0   \n",
       "8          1    AL    35004         3    1020.0     460.0     350.0     190.0   \n",
       "9          1    AL    35004         4     630.0     140.0     420.0      60.0   \n",
       "\n",
       "        ELF    CPREP  ...   N85300    A85300    N11901     A11901    N11900  \\\n",
       "0  724170.0  22560.0  ...      0.0       0.0   57720.0    46577.0  674840.0   \n",
       "1  515150.0  13260.0  ...      0.0       0.0   81770.0   112540.0  470410.0   \n",
       "2  269700.0   6420.0  ...      0.0       0.0   70360.0   144380.0  220710.0   \n",
       "3  168830.0   2570.0  ...      0.0       0.0   49500.0   135429.0  130670.0   \n",
       "4  252360.0   3250.0  ...    100.0      20.0  103250.0   470206.0  165650.0   \n",
       "5   76810.0    230.0  ...  41750.0  164094.0   43960.0  1216690.0   34560.0   \n",
       "6    1340.0     40.0  ...      0.0       0.0     110.0       80.0    1210.0   \n",
       "7    1310.0     40.0  ...      0.0       0.0     190.0      194.0    1210.0   \n",
       "8     970.0     30.0  ...      0.0       0.0     230.0      357.0     800.0   \n",
       "9     590.0      0.0  ...      0.0       0.0     180.0      386.0     450.0   \n",
       "\n",
       "      A11900    N11902     A11902   N12000    A12000  \n",
       "0  1827202.0  672200.0  1818867.0   2900.0    6089.0  \n",
       "1  1445383.0  466960.0  1432458.0   4660.0   11648.0  \n",
       "2   626662.0  216530.0   610170.0   5760.0   16235.0  \n",
       "3   437179.0  126790.0   419324.0   3730.0   14903.0  \n",
       "4   724529.0  156910.0   642895.0  11280.0   80064.0  \n",
       "5   735671.0   24770.0   285560.0   9630.0  391783.0  \n",
       "6     2807.0    1210.0     2795.0      0.0       0.0  \n",
       "7     3378.0    1200.0     3335.0     30.0      62.0  \n",
       "8     2131.0     790.0     2119.0      0.0       0.0  \n",
       "9     1282.0     440.0     1276.0      0.0       0.0  \n",
       "\n",
       "[10 rows x 165 columns]"
      ]
     },
     "execution_count": 3,
     "metadata": {},
     "output_type": "execute_result"
    }
   ],
   "source": [
    "df = pd.read_csv('tax_data.csv')\n",
    "print(df.shape)\n",
    "df.head(10)"
   ]
  },
  {
   "cell_type": "code",
   "execution_count": 4,
   "id": "11abaced-99e6-481d-af56-fbfe0c7998cd",
   "metadata": {},
   "outputs": [],
   "source": [
    "groups = df.groupby('agi_stub')"
   ]
  },
  {
   "cell_type": "code",
   "execution_count": 5,
   "id": "dad031e3-75e3-4f66-931d-e9098a11a6f0",
   "metadata": {},
   "outputs": [
    {
     "data": {
      "text/plain": [
       "agi_stub\n",
       "1    100855450.0\n",
       "2     77961780.0\n",
       "3     45155720.0\n",
       "4     28527170.0\n",
       "5     44745930.0\n",
       "6     18532630.0\n",
       "Name: N1, dtype: float64"
      ]
     },
     "execution_count": 5,
     "metadata": {},
     "output_type": "execute_result"
    }
   ],
   "source": [
    "income_groups = groups['N1'].agg('sum')\n",
    "income_groups"
   ]
  },
  {
   "cell_type": "code",
   "execution_count": 11,
   "id": "841f52f2-0b1b-4579-a806-11fb95090d19",
   "metadata": {},
   "outputs": [
    {
     "data": {
      "text/plain": [
       "315778680.0"
      ]
     },
     "execution_count": 11,
     "metadata": {},
     "output_type": "execute_result"
    }
   ],
   "source": [
    "number_taxed_people = income_groups.sum()\n",
    "number_taxed_people"
   ]
  },
  {
   "cell_type": "markdown",
   "id": "3cc143c3-1a50-47d1-aa1a-680981e7fdc4",
   "metadata": {},
   "source": [
    "This is a lot higher than the amount of taxpaying adults, which leads me to believe there were other factors leading to more returns"
   ]
  },
  {
   "cell_type": "code",
   "execution_count": 6,
   "id": "0e5ced40-8cb9-40ce-abef-68f2b1308326",
   "metadata": {},
   "outputs": [
    {
     "data": {
      "text/plain": [
       "agi_stub\n",
       "1    1.268413e+09\n",
       "2    2.866435e+09\n",
       "3    2.804837e+09\n",
       "4    2.496825e+09\n",
       "5    6.193792e+09\n",
       "6    9.991891e+09\n",
       "Name: A02650, dtype: float64"
      ]
     },
     "execution_count": 6,
     "metadata": {},
     "output_type": "execute_result"
    }
   ],
   "source": [
    "total_income_groups = groups['A02650'].agg('sum')\n",
    "total_income_groups"
   ]
  },
  {
   "cell_type": "code",
   "execution_count": 13,
   "id": "3f67d596-4f39-4ec9-b893-3d6513042d7e",
   "metadata": {},
   "outputs": [
    {
     "data": {
      "text/plain": [
       "25622193370.0601"
      ]
     },
     "execution_count": 13,
     "metadata": {},
     "output_type": "execute_result"
    }
   ],
   "source": [
    "total_income = total_income_groups.sum()\n",
    "total_income"
   ]
  },
  {
   "cell_type": "code",
   "execution_count": 7,
   "id": "e0e37d9c-5fa7-414d-bfc3-13cdb7790fc3",
   "metadata": {},
   "outputs": [
    {
     "data": {
      "text/plain": [
       "agi_stub\n",
       "1    2.161236e+08\n",
       "2    1.519782e+09\n",
       "3    1.905507e+09\n",
       "4    1.835696e+09\n",
       "5    4.963837e+09\n",
       "6    8.860408e+09\n",
       "Name: A04800, dtype: float64"
      ]
     },
     "execution_count": 7,
     "metadata": {},
     "output_type": "execute_result"
    }
   ],
   "source": [
    "taxable_income_groups = groups['A04800'].agg('sum')\n",
    "taxable_income_groups"
   ]
  },
  {
   "cell_type": "markdown",
   "id": "8f73fb9c-fe44-467e-a1a3-468934c797ac",
   "metadata": {},
   "source": [
    "There is little income that is not subject to taxes, except for in the lower income brackets"
   ]
  },
  {
   "cell_type": "code",
   "execution_count": 9,
   "id": "756ab614-7c1c-42b1-ad6e-fd242b0af47e",
   "metadata": {},
   "outputs": [
    {
     "data": {
      "text/plain": [
       "19301352694.0"
      ]
     },
     "execution_count": 9,
     "metadata": {},
     "output_type": "execute_result"
    }
   ],
   "source": [
    "total_taxable_income = taxable_income_groups.sum()\n",
    "total_taxable_income"
   ]
  },
  {
   "cell_type": "code",
   "execution_count": 10,
   "id": "68d7f8d6-4271-4a57-8c5f-6265ecc882df",
   "metadata": {},
   "outputs": [
    {
     "data": {
      "text/plain": [
       "agi_stub\n",
       "1     5971650.0\n",
       "2    15262302.0\n",
       "3    27338010.0\n",
       "4    30849162.0\n",
       "5    86063684.0\n",
       "6    83268162.0\n",
       "Name: A18300, dtype: float64"
      ]
     },
     "execution_count": 10,
     "metadata": {},
     "output_type": "execute_result"
    }
   ],
   "source": [
    "paid_tax_income_groups = groups['A18300'].agg('sum')\n",
    "paid_tax_income_groups"
   ]
  },
  {
   "cell_type": "code",
   "execution_count": 14,
   "id": "e6b6915f-eed8-4927-bfba-658a400b7455",
   "metadata": {},
   "outputs": [
    {
     "data": {
      "text/plain": [
       "248752970.0"
      ]
     },
     "execution_count": 14,
     "metadata": {},
     "output_type": "execute_result"
    }
   ],
   "source": [
    "paid_taxes = paid_tax_income_groups.sum()\n",
    "paid_taxes"
   ]
  },
  {
   "cell_type": "markdown",
   "id": "1fadc21f-817b-40dd-b44f-611304bd46df",
   "metadata": {},
   "source": [
    "248.75 billion seems a bit low for the total taxes payed, especially when they claim there was 1.6 trillion payed in taxes"
   ]
  },
  {
   "cell_type": "code",
   "execution_count": 15,
   "id": "565a3fee-5486-4a65-938e-5d82492b9387",
   "metadata": {},
   "outputs": [
    {
     "data": {
      "text/plain": [
       "agi_stub\n",
       "1       728956.0\n",
       "2      3579902.0\n",
       "3      9888918.0\n",
       "4     14354986.0\n",
       "5     60722624.0\n",
       "6    313293954.0\n",
       "Name: A18425, dtype: float64"
      ]
     },
     "execution_count": 15,
     "metadata": {},
     "output_type": "execute_result"
    }
   ],
   "source": [
    "SandL_tax_income_groups = groups['A18425'].agg('sum')\n",
    "SandL_tax_income_groups  "
   ]
  },
  {
   "cell_type": "markdown",
   "id": "bd5b4f9d-0b3c-464a-8578-794ebddb28bb",
   "metadata": {},
   "source": [
    "State and local taxes seem to be a lot more progressive than federal taxes"
   ]
  },
  {
   "cell_type": "code",
   "execution_count": 17,
   "id": "aef698df-6e7f-44fa-8070-43310cce4c95",
   "metadata": {},
   "outputs": [
    {
     "data": {
      "text/plain": [
       "agi_stub\n",
       "1    2.190053e+08\n",
       "2    3.156289e+08\n",
       "3    2.849537e+08\n",
       "4    2.692231e+08\n",
       "5    7.723393e+08\n",
       "6    2.167675e+09\n",
       "Name: A10600, dtype: float64"
      ]
     },
     "execution_count": 17,
     "metadata": {},
     "output_type": "execute_result"
    }
   ],
   "source": [
    "tax_payments_groups = groups['A10600'].agg('sum')\n",
    "tax_payments_groups"
   ]
  },
  {
   "cell_type": "code",
   "execution_count": 18,
   "id": "6d53f06b-b565-4a24-948b-775c33824d33",
   "metadata": {},
   "outputs": [
    {
     "data": {
      "text/plain": [
       "4028825394.0"
      ]
     },
     "execution_count": 18,
     "metadata": {},
     "output_type": "execute_result"
    }
   ],
   "source": [
    "total_tax_payments = tax_payments_groups.sum()\n",
    "total_tax_payments"
   ]
  },
  {
   "cell_type": "markdown",
   "id": "e8d51cf2-9aaa-47eb-b9af-716b2df99282",
   "metadata": {},
   "source": [
    "4 trillion in taxes paid is more than expected, there must be money gotten back"
   ]
  },
  {
   "cell_type": "code",
   "execution_count": 19,
   "id": "a378b4f3-7100-4c1b-bcb3-3708d91fb920",
   "metadata": {},
   "outputs": [
    {
     "data": {
      "text/plain": [
       "agi_stub\n",
       "1    1.704920e+07\n",
       "2    1.253508e+08\n",
       "3    1.914280e+08\n",
       "4    2.075768e+08\n",
       "5    6.879915e+08\n",
       "6    2.106143e+09\n",
       "Name: A06500, dtype: float64"
      ]
     },
     "execution_count": 19,
     "metadata": {},
     "output_type": "execute_result"
    }
   ],
   "source": [
    "total_tax_after_credits = groups['A06500'].agg('sum')\n",
    "total_tax_after_credits"
   ]
  },
  {
   "cell_type": "markdown",
   "id": "c92af1d6-fc7f-4dfe-9c8e-4abdb707b50a",
   "metadata": {},
   "source": [
    "Credits seem to have a much larger affect on the lower tax brackets"
   ]
  },
  {
   "cell_type": "code",
   "execution_count": null,
   "id": "4a00fb43-8ee9-440c-a98f-45aa1dd13d21",
   "metadata": {},
   "outputs": [],
   "source": []
  }
 ],
 "metadata": {
  "kernelspec": {
   "display_name": "Python 3 (ipykernel)",
   "language": "python",
   "name": "python3"
  },
  "language_info": {
   "codemirror_mode": {
    "name": "ipython",
    "version": 3
   },
   "file_extension": ".py",
   "mimetype": "text/x-python",
   "name": "python",
   "nbconvert_exporter": "python",
   "pygments_lexer": "ipython3",
   "version": "3.9.15"
  }
 },
 "nbformat": 4,
 "nbformat_minor": 5
}
