{
 "cells": [
  {
   "cell_type": "code",
   "execution_count": 27,
   "id": "5c5daee6-5d9a-41c3-9960-82e254114043",
   "metadata": {},
   "outputs": [],
   "source": [
    "import pandas as pd"
   ]
  },
  {
   "cell_type": "code",
   "execution_count": 43,
   "id": "650efdf8-0fff-408b-9492-3af2ce901263",
   "metadata": {},
   "outputs": [
    {
     "name": "stdout",
     "output_type": "stream",
     "text": [
      "(166452, 165)\n"
     ]
    },
    {
     "data": {
      "text/html": [
       "<div>\n",
       "<style scoped>\n",
       "    .dataframe tbody tr th:only-of-type {\n",
       "        vertical-align: middle;\n",
       "    }\n",
       "\n",
       "    .dataframe tbody tr th {\n",
       "        vertical-align: top;\n",
       "    }\n",
       "\n",
       "    .dataframe thead th {\n",
       "        text-align: right;\n",
       "    }\n",
       "</style>\n",
       "<table border=\"1\" class=\"dataframe\">\n",
       "  <thead>\n",
       "    <tr style=\"text-align: right;\">\n",
       "      <th></th>\n",
       "      <th>STATEFIPS</th>\n",
       "      <th>STATE</th>\n",
       "      <th>zipcode</th>\n",
       "      <th>agi_stub</th>\n",
       "      <th>N1</th>\n",
       "      <th>mars1</th>\n",
       "      <th>MARS2</th>\n",
       "      <th>MARS4</th>\n",
       "      <th>ELF</th>\n",
       "      <th>CPREP</th>\n",
       "      <th>...</th>\n",
       "      <th>N85300</th>\n",
       "      <th>A85300</th>\n",
       "      <th>N11901</th>\n",
       "      <th>A11901</th>\n",
       "      <th>N11900</th>\n",
       "      <th>A11900</th>\n",
       "      <th>N11902</th>\n",
       "      <th>A11902</th>\n",
       "      <th>N12000</th>\n",
       "      <th>A12000</th>\n",
       "    </tr>\n",
       "  </thead>\n",
       "  <tbody>\n",
       "    <tr>\n",
       "      <th>6</th>\n",
       "      <td>1</td>\n",
       "      <td>AL</td>\n",
       "      <td>35004</td>\n",
       "      <td>1</td>\n",
       "      <td>1460.0</td>\n",
       "      <td>1010.0</td>\n",
       "      <td>200.0</td>\n",
       "      <td>210.0</td>\n",
       "      <td>1340.0</td>\n",
       "      <td>40.0</td>\n",
       "      <td>...</td>\n",
       "      <td>0.0</td>\n",
       "      <td>0.0</td>\n",
       "      <td>110.0</td>\n",
       "      <td>80.0</td>\n",
       "      <td>1210.0</td>\n",
       "      <td>2807.0</td>\n",
       "      <td>1210.0</td>\n",
       "      <td>2795.0</td>\n",
       "      <td>0.0</td>\n",
       "      <td>0.0</td>\n",
       "    </tr>\n",
       "    <tr>\n",
       "      <th>7</th>\n",
       "      <td>1</td>\n",
       "      <td>AL</td>\n",
       "      <td>35004</td>\n",
       "      <td>2</td>\n",
       "      <td>1400.0</td>\n",
       "      <td>760.0</td>\n",
       "      <td>280.0</td>\n",
       "      <td>310.0</td>\n",
       "      <td>1310.0</td>\n",
       "      <td>40.0</td>\n",
       "      <td>...</td>\n",
       "      <td>0.0</td>\n",
       "      <td>0.0</td>\n",
       "      <td>190.0</td>\n",
       "      <td>194.0</td>\n",
       "      <td>1210.0</td>\n",
       "      <td>3378.0</td>\n",
       "      <td>1200.0</td>\n",
       "      <td>3335.0</td>\n",
       "      <td>30.0</td>\n",
       "      <td>62.0</td>\n",
       "    </tr>\n",
       "    <tr>\n",
       "      <th>8</th>\n",
       "      <td>1</td>\n",
       "      <td>AL</td>\n",
       "      <td>35004</td>\n",
       "      <td>3</td>\n",
       "      <td>1020.0</td>\n",
       "      <td>460.0</td>\n",
       "      <td>350.0</td>\n",
       "      <td>190.0</td>\n",
       "      <td>970.0</td>\n",
       "      <td>30.0</td>\n",
       "      <td>...</td>\n",
       "      <td>0.0</td>\n",
       "      <td>0.0</td>\n",
       "      <td>230.0</td>\n",
       "      <td>357.0</td>\n",
       "      <td>800.0</td>\n",
       "      <td>2131.0</td>\n",
       "      <td>790.0</td>\n",
       "      <td>2119.0</td>\n",
       "      <td>0.0</td>\n",
       "      <td>0.0</td>\n",
       "    </tr>\n",
       "    <tr>\n",
       "      <th>9</th>\n",
       "      <td>1</td>\n",
       "      <td>AL</td>\n",
       "      <td>35004</td>\n",
       "      <td>4</td>\n",
       "      <td>630.0</td>\n",
       "      <td>140.0</td>\n",
       "      <td>420.0</td>\n",
       "      <td>60.0</td>\n",
       "      <td>590.0</td>\n",
       "      <td>0.0</td>\n",
       "      <td>...</td>\n",
       "      <td>0.0</td>\n",
       "      <td>0.0</td>\n",
       "      <td>180.0</td>\n",
       "      <td>386.0</td>\n",
       "      <td>450.0</td>\n",
       "      <td>1282.0</td>\n",
       "      <td>440.0</td>\n",
       "      <td>1276.0</td>\n",
       "      <td>0.0</td>\n",
       "      <td>0.0</td>\n",
       "    </tr>\n",
       "    <tr>\n",
       "      <th>10</th>\n",
       "      <td>1</td>\n",
       "      <td>AL</td>\n",
       "      <td>35004</td>\n",
       "      <td>5</td>\n",
       "      <td>810.0</td>\n",
       "      <td>80.0</td>\n",
       "      <td>710.0</td>\n",
       "      <td>20.0</td>\n",
       "      <td>760.0</td>\n",
       "      <td>20.0</td>\n",
       "      <td>...</td>\n",
       "      <td>0.0</td>\n",
       "      <td>0.0</td>\n",
       "      <td>290.0</td>\n",
       "      <td>1124.0</td>\n",
       "      <td>530.0</td>\n",
       "      <td>1967.0</td>\n",
       "      <td>510.0</td>\n",
       "      <td>1925.0</td>\n",
       "      <td>20.0</td>\n",
       "      <td>139.0</td>\n",
       "    </tr>\n",
       "    <tr>\n",
       "      <th>11</th>\n",
       "      <td>1</td>\n",
       "      <td>AL</td>\n",
       "      <td>35004</td>\n",
       "      <td>6</td>\n",
       "      <td>100.0</td>\n",
       "      <td>0.0</td>\n",
       "      <td>100.0</td>\n",
       "      <td>0.0</td>\n",
       "      <td>90.0</td>\n",
       "      <td>0.0</td>\n",
       "      <td>...</td>\n",
       "      <td>30.0</td>\n",
       "      <td>68.0</td>\n",
       "      <td>50.0</td>\n",
       "      <td>1189.0</td>\n",
       "      <td>50.0</td>\n",
       "      <td>857.0</td>\n",
       "      <td>40.0</td>\n",
       "      <td>426.0</td>\n",
       "      <td>0.0</td>\n",
       "      <td>0.0</td>\n",
       "    </tr>\n",
       "    <tr>\n",
       "      <th>12</th>\n",
       "      <td>1</td>\n",
       "      <td>AL</td>\n",
       "      <td>35005</td>\n",
       "      <td>1</td>\n",
       "      <td>1380.0</td>\n",
       "      <td>860.0</td>\n",
       "      <td>140.0</td>\n",
       "      <td>350.0</td>\n",
       "      <td>1260.0</td>\n",
       "      <td>60.0</td>\n",
       "      <td>...</td>\n",
       "      <td>0.0</td>\n",
       "      <td>0.0</td>\n",
       "      <td>100.0</td>\n",
       "      <td>82.0</td>\n",
       "      <td>1200.0</td>\n",
       "      <td>3598.0</td>\n",
       "      <td>1200.0</td>\n",
       "      <td>3594.0</td>\n",
       "      <td>0.0</td>\n",
       "      <td>0.0</td>\n",
       "    </tr>\n",
       "    <tr>\n",
       "      <th>13</th>\n",
       "      <td>1</td>\n",
       "      <td>AL</td>\n",
       "      <td>35005</td>\n",
       "      <td>2</td>\n",
       "      <td>1120.0</td>\n",
       "      <td>520.0</td>\n",
       "      <td>190.0</td>\n",
       "      <td>370.0</td>\n",
       "      <td>1040.0</td>\n",
       "      <td>0.0</td>\n",
       "      <td>...</td>\n",
       "      <td>0.0</td>\n",
       "      <td>0.0</td>\n",
       "      <td>160.0</td>\n",
       "      <td>197.0</td>\n",
       "      <td>950.0</td>\n",
       "      <td>3106.0</td>\n",
       "      <td>950.0</td>\n",
       "      <td>3106.0</td>\n",
       "      <td>0.0</td>\n",
       "      <td>0.0</td>\n",
       "    </tr>\n",
       "    <tr>\n",
       "      <th>14</th>\n",
       "      <td>1</td>\n",
       "      <td>AL</td>\n",
       "      <td>35005</td>\n",
       "      <td>3</td>\n",
       "      <td>510.0</td>\n",
       "      <td>190.0</td>\n",
       "      <td>170.0</td>\n",
       "      <td>130.0</td>\n",
       "      <td>460.0</td>\n",
       "      <td>30.0</td>\n",
       "      <td>...</td>\n",
       "      <td>0.0</td>\n",
       "      <td>0.0</td>\n",
       "      <td>120.0</td>\n",
       "      <td>236.0</td>\n",
       "      <td>390.0</td>\n",
       "      <td>1030.0</td>\n",
       "      <td>380.0</td>\n",
       "      <td>1029.0</td>\n",
       "      <td>0.0</td>\n",
       "      <td>0.0</td>\n",
       "    </tr>\n",
       "    <tr>\n",
       "      <th>15</th>\n",
       "      <td>1</td>\n",
       "      <td>AL</td>\n",
       "      <td>35005</td>\n",
       "      <td>4</td>\n",
       "      <td>220.0</td>\n",
       "      <td>50.0</td>\n",
       "      <td>130.0</td>\n",
       "      <td>50.0</td>\n",
       "      <td>190.0</td>\n",
       "      <td>0.0</td>\n",
       "      <td>...</td>\n",
       "      <td>0.0</td>\n",
       "      <td>0.0</td>\n",
       "      <td>60.0</td>\n",
       "      <td>174.0</td>\n",
       "      <td>160.0</td>\n",
       "      <td>502.0</td>\n",
       "      <td>160.0</td>\n",
       "      <td>500.0</td>\n",
       "      <td>0.0</td>\n",
       "      <td>0.0</td>\n",
       "    </tr>\n",
       "  </tbody>\n",
       "</table>\n",
       "<p>10 rows × 165 columns</p>\n",
       "</div>"
      ],
      "text/plain": [
       "    STATEFIPS STATE  zipcode  agi_stub      N1   mars1  MARS2  MARS4     ELF  \\\n",
       "6           1    AL    35004         1  1460.0  1010.0  200.0  210.0  1340.0   \n",
       "7           1    AL    35004         2  1400.0   760.0  280.0  310.0  1310.0   \n",
       "8           1    AL    35004         3  1020.0   460.0  350.0  190.0   970.0   \n",
       "9           1    AL    35004         4   630.0   140.0  420.0   60.0   590.0   \n",
       "10          1    AL    35004         5   810.0    80.0  710.0   20.0   760.0   \n",
       "11          1    AL    35004         6   100.0     0.0  100.0    0.0    90.0   \n",
       "12          1    AL    35005         1  1380.0   860.0  140.0  350.0  1260.0   \n",
       "13          1    AL    35005         2  1120.0   520.0  190.0  370.0  1040.0   \n",
       "14          1    AL    35005         3   510.0   190.0  170.0  130.0   460.0   \n",
       "15          1    AL    35005         4   220.0    50.0  130.0   50.0   190.0   \n",
       "\n",
       "    CPREP  ...  N85300  A85300  N11901  A11901  N11900  A11900  N11902  \\\n",
       "6    40.0  ...     0.0     0.0   110.0    80.0  1210.0  2807.0  1210.0   \n",
       "7    40.0  ...     0.0     0.0   190.0   194.0  1210.0  3378.0  1200.0   \n",
       "8    30.0  ...     0.0     0.0   230.0   357.0   800.0  2131.0   790.0   \n",
       "9     0.0  ...     0.0     0.0   180.0   386.0   450.0  1282.0   440.0   \n",
       "10   20.0  ...     0.0     0.0   290.0  1124.0   530.0  1967.0   510.0   \n",
       "11    0.0  ...    30.0    68.0    50.0  1189.0    50.0   857.0    40.0   \n",
       "12   60.0  ...     0.0     0.0   100.0    82.0  1200.0  3598.0  1200.0   \n",
       "13    0.0  ...     0.0     0.0   160.0   197.0   950.0  3106.0   950.0   \n",
       "14   30.0  ...     0.0     0.0   120.0   236.0   390.0  1030.0   380.0   \n",
       "15    0.0  ...     0.0     0.0    60.0   174.0   160.0   502.0   160.0   \n",
       "\n",
       "    A11902  N12000  A12000  \n",
       "6   2795.0     0.0     0.0  \n",
       "7   3335.0    30.0    62.0  \n",
       "8   2119.0     0.0     0.0  \n",
       "9   1276.0     0.0     0.0  \n",
       "10  1925.0    20.0   139.0  \n",
       "11   426.0     0.0     0.0  \n",
       "12  3594.0     0.0     0.0  \n",
       "13  3106.0     0.0     0.0  \n",
       "14  1029.0     0.0     0.0  \n",
       "15   500.0     0.0     0.0  \n",
       "\n",
       "[10 rows x 165 columns]"
      ]
     },
     "execution_count": 43,
     "metadata": {},
     "output_type": "execute_result"
    }
   ],
   "source": [
    "df = pd.read_csv('tax_data.csv')\n",
    "print(df.shape)\n",
    "df = df[df.zipcode!=0]\n",
    "df.head(10)"
   ]
  },
  {
   "cell_type": "code",
   "execution_count": 44,
   "id": "11abaced-99e6-481d-af56-fbfe0c7998cd",
   "metadata": {},
   "outputs": [],
   "source": [
    "groups = df.groupby('agi_stub')"
   ]
  },
  {
   "cell_type": "code",
   "execution_count": 45,
   "id": "dad031e3-75e3-4f66-931d-e9098a11a6f0",
   "metadata": {},
   "outputs": [
    {
     "data": {
      "text/plain": [
       "agi_stub\n",
       "1    50434370.0\n",
       "2    38987940.0\n",
       "3    22584830.0\n",
       "4    14269770.0\n",
       "5    22379400.0\n",
       "6     9270090.0\n",
       "Name: N1, dtype: float64"
      ]
     },
     "execution_count": 45,
     "metadata": {},
     "output_type": "execute_result"
    }
   ],
   "source": [
    "income_groups = groups['N1'].agg('sum')\n",
    "income_groups"
   ]
  },
  {
   "cell_type": "code",
   "execution_count": 46,
   "id": "841f52f2-0b1b-4579-a806-11fb95090d19",
   "metadata": {},
   "outputs": [
    {
     "data": {
      "text/plain": [
       "157926400.0"
      ]
     },
     "execution_count": 46,
     "metadata": {},
     "output_type": "execute_result"
    }
   ],
   "source": [
    "number_taxed_people = income_groups.sum()\n",
    "number_taxed_people"
   ]
  },
  {
   "cell_type": "markdown",
   "id": "3cc143c3-1a50-47d1-aa1a-680981e7fdc4",
   "metadata": {},
   "source": [
    "This is a lot higher than the amount of taxpaying adults, which leads me to believe there were other factors leading to more returns"
   ]
  },
  {
   "cell_type": "code",
   "execution_count": 47,
   "id": "0e5ced40-8cb9-40ce-abef-68f2b1308326",
   "metadata": {},
   "outputs": [
    {
     "data": {
      "text/plain": [
       "agi_stub\n",
       "1    6.342067e+08\n",
       "2    1.433218e+09\n",
       "3    1.402418e+09\n",
       "4    1.248412e+09\n",
       "5    3.096893e+09\n",
       "6    4.995941e+09\n",
       "Name: A02650, dtype: float64"
      ]
     },
     "execution_count": 47,
     "metadata": {},
     "output_type": "execute_result"
    }
   ],
   "source": [
    "total_income_groups = groups['A02650'].agg('sum')\n",
    "total_income_groups"
   ]
  },
  {
   "cell_type": "code",
   "execution_count": 48,
   "id": "3f67d596-4f39-4ec9-b893-3d6513042d7e",
   "metadata": {},
   "outputs": [
    {
     "data": {
      "text/plain": [
       "12811088898.0601"
      ]
     },
     "execution_count": 48,
     "metadata": {},
     "output_type": "execute_result"
    }
   ],
   "source": [
    "total_income = total_income_groups.sum()\n",
    "total_income"
   ]
  },
  {
   "cell_type": "code",
   "execution_count": 49,
   "id": "e0e37d9c-5fa7-414d-bfc3-13cdb7790fc3",
   "metadata": {},
   "outputs": [
    {
     "data": {
      "text/plain": [
       "agi_stub\n",
       "1    1.080618e+08\n",
       "2    7.598908e+08\n",
       "3    9.527534e+08\n",
       "4    9.178478e+08\n",
       "5    2.481919e+09\n",
       "6    4.430204e+09\n",
       "Name: A04800, dtype: float64"
      ]
     },
     "execution_count": 49,
     "metadata": {},
     "output_type": "execute_result"
    }
   ],
   "source": [
    "taxable_income_groups = groups['A04800'].agg('sum')\n",
    "taxable_income_groups"
   ]
  },
  {
   "cell_type": "markdown",
   "id": "8f73fb9c-fe44-467e-a1a3-468934c797ac",
   "metadata": {},
   "source": [
    "There is little income that is not subject to taxes, except for in the lower income brackets"
   ]
  },
  {
   "cell_type": "code",
   "execution_count": 50,
   "id": "756ab614-7c1c-42b1-ad6e-fd242b0af47e",
   "metadata": {},
   "outputs": [
    {
     "data": {
      "text/plain": [
       "9650676347.0"
      ]
     },
     "execution_count": 50,
     "metadata": {},
     "output_type": "execute_result"
    }
   ],
   "source": [
    "total_taxable_income = taxable_income_groups.sum()\n",
    "total_taxable_income"
   ]
  },
  {
   "cell_type": "code",
   "execution_count": 51,
   "id": "68d7f8d6-4271-4a57-8c5f-6265ecc882df",
   "metadata": {},
   "outputs": [
    {
     "data": {
      "text/plain": [
       "agi_stub\n",
       "1     2985825.0\n",
       "2     7631151.0\n",
       "3    13669005.0\n",
       "4    15424581.0\n",
       "5    43031842.0\n",
       "6    41634081.0\n",
       "Name: A18300, dtype: float64"
      ]
     },
     "execution_count": 51,
     "metadata": {},
     "output_type": "execute_result"
    }
   ],
   "source": [
    "paid_tax_income_groups = groups['A18300'].agg('sum')\n",
    "paid_tax_income_groups"
   ]
  },
  {
   "cell_type": "code",
   "execution_count": 52,
   "id": "e6b6915f-eed8-4927-bfba-658a400b7455",
   "metadata": {},
   "outputs": [
    {
     "data": {
      "text/plain": [
       "124376485.0"
      ]
     },
     "execution_count": 52,
     "metadata": {},
     "output_type": "execute_result"
    }
   ],
   "source": [
    "paid_taxes = paid_tax_income_groups.sum()\n",
    "paid_taxes"
   ]
  },
  {
   "cell_type": "markdown",
   "id": "1fadc21f-817b-40dd-b44f-611304bd46df",
   "metadata": {},
   "source": [
    "248.75 billion seems a bit low for the total taxes payed, especially when they claim there was 1.6 trillion payed in taxes"
   ]
  },
  {
   "cell_type": "code",
   "execution_count": 53,
   "id": "565a3fee-5486-4a65-938e-5d82492b9387",
   "metadata": {},
   "outputs": [
    {
     "data": {
      "text/plain": [
       "agi_stub\n",
       "1       364478.0\n",
       "2      1789951.0\n",
       "3      4944459.0\n",
       "4      7177493.0\n",
       "5     30361312.0\n",
       "6    156646977.0\n",
       "Name: A18425, dtype: float64"
      ]
     },
     "execution_count": 53,
     "metadata": {},
     "output_type": "execute_result"
    }
   ],
   "source": [
    "SandL_tax_income_groups = groups['A18425'].agg('sum')\n",
    "SandL_tax_income_groups  "
   ]
  },
  {
   "cell_type": "markdown",
   "id": "bd5b4f9d-0b3c-464a-8578-794ebddb28bb",
   "metadata": {},
   "source": [
    "State and local taxes seem to be a lot more progressive than federal taxes"
   ]
  },
  {
   "cell_type": "code",
   "execution_count": 54,
   "id": "aef698df-6e7f-44fa-8070-43310cce4c95",
   "metadata": {},
   "outputs": [
    {
     "data": {
      "text/plain": [
       "agi_stub\n",
       "1    1.095026e+08\n",
       "2    1.578145e+08\n",
       "3    1.424768e+08\n",
       "4    1.346116e+08\n",
       "5    3.861697e+08\n",
       "6    1.083838e+09\n",
       "Name: A10600, dtype: float64"
      ]
     },
     "execution_count": 54,
     "metadata": {},
     "output_type": "execute_result"
    }
   ],
   "source": [
    "tax_payments_groups = groups['A10600'].agg('sum')\n",
    "tax_payments_groups"
   ]
  },
  {
   "cell_type": "code",
   "execution_count": 55,
   "id": "6d53f06b-b565-4a24-948b-775c33824d33",
   "metadata": {},
   "outputs": [
    {
     "data": {
      "text/plain": [
       "2014412697.0"
      ]
     },
     "execution_count": 55,
     "metadata": {},
     "output_type": "execute_result"
    }
   ],
   "source": [
    "total_tax_payments = tax_payments_groups.sum()\n",
    "total_tax_payments"
   ]
  },
  {
   "cell_type": "markdown",
   "id": "e8d51cf2-9aaa-47eb-b9af-716b2df99282",
   "metadata": {},
   "source": [
    "4 trillion in taxes paid is more than expected, there must be money gotten back"
   ]
  },
  {
   "cell_type": "code",
   "execution_count": 56,
   "id": "a378b4f3-7100-4c1b-bcb3-3708d91fb920",
   "metadata": {},
   "outputs": [
    {
     "data": {
      "text/plain": [
       "agi_stub\n",
       "1    8.524598e+06\n",
       "2    6.267540e+07\n",
       "3    9.571398e+07\n",
       "4    1.037884e+08\n",
       "5    3.439958e+08\n",
       "6    1.053071e+09\n",
       "Name: A06500, dtype: float64"
      ]
     },
     "execution_count": 56,
     "metadata": {},
     "output_type": "execute_result"
    }
   ],
   "source": [
    "total_tax_after_credits = groups['A06500'].agg('sum')\n",
    "total_tax_after_credits"
   ]
  },
  {
   "cell_type": "markdown",
   "id": "c92af1d6-fc7f-4dfe-9c8e-4abdb707b50a",
   "metadata": {},
   "source": [
    "Credits seem to have a much larger affect on the lower tax brackets"
   ]
  },
  {
   "cell_type": "markdown",
   "id": "a29fde40-73bc-4a9c-a0c1-782f60951015",
   "metadata": {},
   "source": [
    "Note: I was using the attribute 'N02650' and found it to be extremely similar to N1 and it means the number of returns with total income (in the lower brackets it is a tiny bit less than N1), so likely not to be too useful"
   ]
  },
  {
   "cell_type": "code",
   "execution_count": 62,
   "id": "851f4ea2-1c17-4faa-8e51-eb6f30da14c7",
   "metadata": {},
   "outputs": [
    {
     "data": {
      "text/plain": [
       "agi_stub\n",
       "1    0.536283\n",
       "2    0.496396\n",
       "3    0.448528\n",
       "4    0.387315\n",
       "5    0.345566\n",
       "6    0.317654\n",
       "dtype: float64"
      ]
     },
     "execution_count": 62,
     "metadata": {},
     "output_type": "execute_result"
    }
   ],
   "source": [
    "gp = groups[['N2','N00200']].agg('sum')\n",
    "proportion_showing_salary_and_wages = gp['N00200'] / gp['N2']\n",
    "proportion_showing_salary_and_wages.head(10)"
   ]
  },
  {
   "cell_type": "markdown",
   "id": "fc95e40d-8d3e-4a0c-8efe-143c82226519",
   "metadata": {},
   "source": [
    "FLAT INCOME TAX ANALYSIS"
   ]
  },
  {
   "cell_type": "code",
   "execution_count": 72,
   "id": "55e1427f-3b5a-4e00-9629-581a5b878fbc",
   "metadata": {},
   "outputs": [
    {
     "data": {
      "text/html": [
       "<div>\n",
       "<style scoped>\n",
       "    .dataframe tbody tr th:only-of-type {\n",
       "        vertical-align: middle;\n",
       "    }\n",
       "\n",
       "    .dataframe tbody tr th {\n",
       "        vertical-align: top;\n",
       "    }\n",
       "\n",
       "    .dataframe thead th {\n",
       "        text-align: right;\n",
       "    }\n",
       "</style>\n",
       "<table border=\"1\" class=\"dataframe\">\n",
       "  <thead>\n",
       "    <tr style=\"text-align: right;\">\n",
       "      <th></th>\n",
       "      <th>A00100</th>\n",
       "      <th>A04800</th>\n",
       "      <th>A06500</th>\n",
       "      <th>flat_income_tax_rate</th>\n",
       "    </tr>\n",
       "    <tr>\n",
       "      <th>STATE</th>\n",
       "      <th></th>\n",
       "      <th></th>\n",
       "      <th></th>\n",
       "      <th></th>\n",
       "    </tr>\n",
       "  </thead>\n",
       "  <tbody>\n",
       "    <tr>\n",
       "      <th>AK</th>\n",
       "      <td>2.647353e+07</td>\n",
       "      <td>2.019262e+07</td>\n",
       "      <td>3143668.0</td>\n",
       "      <td>15.568398</td>\n",
       "    </tr>\n",
       "    <tr>\n",
       "      <th>AL</th>\n",
       "      <td>1.382928e+08</td>\n",
       "      <td>9.800401e+07</td>\n",
       "      <td>14795968.0</td>\n",
       "      <td>15.097309</td>\n",
       "    </tr>\n",
       "    <tr>\n",
       "      <th>AR</th>\n",
       "      <td>8.395220e+07</td>\n",
       "      <td>5.790446e+07</td>\n",
       "      <td>8616338.0</td>\n",
       "      <td>14.880267</td>\n",
       "    </tr>\n",
       "    <tr>\n",
       "      <th>AZ</th>\n",
       "      <td>2.441997e+08</td>\n",
       "      <td>1.811153e+08</td>\n",
       "      <td>29445653.0</td>\n",
       "      <td>16.257961</td>\n",
       "    </tr>\n",
       "    <tr>\n",
       "      <th>CA</th>\n",
       "      <td>1.810625e+09</td>\n",
       "      <td>1.422985e+09</td>\n",
       "      <td>270182147.0</td>\n",
       "      <td>18.987004</td>\n",
       "    </tr>\n",
       "    <tr>\n",
       "      <th>CO</th>\n",
       "      <td>2.544586e+08</td>\n",
       "      <td>1.980143e+08</td>\n",
       "      <td>34017780.0</td>\n",
       "      <td>17.179453</td>\n",
       "    </tr>\n",
       "    <tr>\n",
       "      <th>CT</th>\n",
       "      <td>1.913297e+08</td>\n",
       "      <td>1.547611e+08</td>\n",
       "      <td>30652187.0</td>\n",
       "      <td>19.806131</td>\n",
       "    </tr>\n",
       "    <tr>\n",
       "      <th>DC</th>\n",
       "      <td>3.941942e+07</td>\n",
       "      <td>3.280500e+07</td>\n",
       "      <td>6854117.0</td>\n",
       "      <td>20.893516</td>\n",
       "    </tr>\n",
       "    <tr>\n",
       "      <th>DE</th>\n",
       "      <td>3.689880e+07</td>\n",
       "      <td>2.770686e+07</td>\n",
       "      <td>4376717.0</td>\n",
       "      <td>15.796509</td>\n",
       "    </tr>\n",
       "    <tr>\n",
       "      <th>FL</th>\n",
       "      <td>8.877611e+08</td>\n",
       "      <td>6.784877e+08</td>\n",
       "      <td>125133692.0</td>\n",
       "      <td>18.443029</td>\n",
       "    </tr>\n",
       "  </tbody>\n",
       "</table>\n",
       "</div>"
      ],
      "text/plain": [
       "             A00100        A04800       A06500  flat_income_tax_rate\n",
       "STATE                                                               \n",
       "AK     2.647353e+07  2.019262e+07    3143668.0             15.568398\n",
       "AL     1.382928e+08  9.800401e+07   14795968.0             15.097309\n",
       "AR     8.395220e+07  5.790446e+07    8616338.0             14.880267\n",
       "AZ     2.441997e+08  1.811153e+08   29445653.0             16.257961\n",
       "CA     1.810625e+09  1.422985e+09  270182147.0             18.987004\n",
       "CO     2.544586e+08  1.980143e+08   34017780.0             17.179453\n",
       "CT     1.913297e+08  1.547611e+08   30652187.0             19.806131\n",
       "DC     3.941942e+07  3.280500e+07    6854117.0             20.893516\n",
       "DE     3.689880e+07  2.770686e+07    4376717.0             15.796509\n",
       "FL     8.877611e+08  6.784877e+08  125133692.0             18.443029"
      ]
     },
     "execution_count": 72,
     "metadata": {},
     "output_type": "execute_result"
    }
   ],
   "source": [
    "gp = df.groupby(['STATE'])[['A00100','A04800','A06500']].sum()\n",
    "gp.A04800\n",
    "gp.A06500\n",
    "gp['flat_income_tax_rate'] = gp.A06500/gp.A04800 * 100\n",
    "gp.head(10)"
   ]
  },
  {
   "cell_type": "code",
   "execution_count": 65,
   "id": "e2c5067d-2fb6-43c6-8c90-b613973e6c22",
   "metadata": {},
   "outputs": [
    {
     "data": {
      "text/plain": [
       "<AxesSubplot: xlabel='STATE', ylabel='Calculated Flat Income Tax Rate'>"
      ]
     },
     "execution_count": 65,
     "metadata": {},
     "output_type": "execute_result"
    },
    {
     "data": {
      "image/png": "[encoded data removed]",
      "text/plain": [
       "<Figure size 1000x1000 with 1 Axes>"
      ]
     },
     "metadata": {},
     "output_type": "display_data"
    }
   ],
   "source": [
    "import matplotlib.pyplot as plt\n",
    "plt.figure(figsize=(10, 10))\n",
    "plt.xlabel('State')\n",
    "plt.ylabel('Calculated Flat Income Tax Rate')\n",
    "gp.flat_income_tax_rate.plot.bar()"
   ]
  },
  {
   "cell_type": "code",
   "execution_count": 73,
   "id": "296274d9-f0a8-4225-b88e-9047221161a7",
   "metadata": {},
   "outputs": [
    {
     "data": {
      "text/html": [
       "<div>\n",
       "<style scoped>\n",
       "    .dataframe tbody tr th:only-of-type {\n",
       "        vertical-align: middle;\n",
       "    }\n",
       "\n",
       "    .dataframe tbody tr th {\n",
       "        vertical-align: top;\n",
       "    }\n",
       "\n",
       "    .dataframe thead th {\n",
       "        text-align: right;\n",
       "    }\n",
       "</style>\n",
       "<table border=\"1\" class=\"dataframe\">\n",
       "  <thead>\n",
       "    <tr style=\"text-align: right;\">\n",
       "      <th></th>\n",
       "      <th>A00100</th>\n",
       "      <th>A04800</th>\n",
       "      <th>A06500</th>\n",
       "      <th>N2</th>\n",
       "      <th>amountMade</th>\n",
       "    </tr>\n",
       "    <tr>\n",
       "      <th>STATE</th>\n",
       "      <th></th>\n",
       "      <th></th>\n",
       "      <th></th>\n",
       "      <th></th>\n",
       "      <th></th>\n",
       "    </tr>\n",
       "  </thead>\n",
       "  <tbody>\n",
       "    <tr>\n",
       "      <th>AK</th>\n",
       "      <td>2.647353e+07</td>\n",
       "      <td>2.019262e+07</td>\n",
       "      <td>3143668.0</td>\n",
       "      <td>645530.0</td>\n",
       "      <td>4101.052933</td>\n",
       "    </tr>\n",
       "    <tr>\n",
       "      <th>AL</th>\n",
       "      <td>1.382928e+08</td>\n",
       "      <td>9.800401e+07</td>\n",
       "      <td>14795968.0</td>\n",
       "      <td>4125190.0</td>\n",
       "      <td>3352.399041</td>\n",
       "    </tr>\n",
       "    <tr>\n",
       "      <th>AR</th>\n",
       "      <td>8.395220e+07</td>\n",
       "      <td>5.790446e+07</td>\n",
       "      <td>8616338.0</td>\n",
       "      <td>2523030.0</td>\n",
       "      <td>3327.435702</td>\n",
       "    </tr>\n",
       "    <tr>\n",
       "      <th>AZ</th>\n",
       "      <td>2.441997e+08</td>\n",
       "      <td>1.811153e+08</td>\n",
       "      <td>29445653.0</td>\n",
       "      <td>6232970.0</td>\n",
       "      <td>3917.871047</td>\n",
       "    </tr>\n",
       "    <tr>\n",
       "      <th>CA</th>\n",
       "      <td>1.810625e+09</td>\n",
       "      <td>1.422985e+09</td>\n",
       "      <td>270182147.0</td>\n",
       "      <td>35166150.0</td>\n",
       "      <td>5148.773047</td>\n",
       "    </tr>\n",
       "    <tr>\n",
       "      <th>CO</th>\n",
       "      <td>2.544586e+08</td>\n",
       "      <td>1.980143e+08</td>\n",
       "      <td>34017780.0</td>\n",
       "      <td>5135500.0</td>\n",
       "      <td>4954.893525</td>\n",
       "    </tr>\n",
       "    <tr>\n",
       "      <th>CT</th>\n",
       "      <td>1.913297e+08</td>\n",
       "      <td>1.547611e+08</td>\n",
       "      <td>30652187.0</td>\n",
       "      <td>3184500.0</td>\n",
       "      <td>6008.154310</td>\n",
       "    </tr>\n",
       "    <tr>\n",
       "      <th>DC</th>\n",
       "      <td>3.941942e+07</td>\n",
       "      <td>3.280500e+07</td>\n",
       "      <td>6854117.0</td>\n",
       "      <td>525330.0</td>\n",
       "      <td>7503.745075</td>\n",
       "    </tr>\n",
       "    <tr>\n",
       "      <th>DE</th>\n",
       "      <td>3.689880e+07</td>\n",
       "      <td>2.770686e+07</td>\n",
       "      <td>4376717.0</td>\n",
       "      <td>893610.0</td>\n",
       "      <td>4129.183313</td>\n",
       "    </tr>\n",
       "    <tr>\n",
       "      <th>FL</th>\n",
       "      <td>8.877611e+08</td>\n",
       "      <td>6.784877e+08</td>\n",
       "      <td>125133692.0</td>\n",
       "      <td>19135850.0</td>\n",
       "      <td>4639.256323</td>\n",
       "    </tr>\n",
       "  </tbody>\n",
       "</table>\n",
       "</div>"
      ],
      "text/plain": [
       "             A00100        A04800       A06500          N2   amountMade\n",
       "STATE                                                                  \n",
       "AK     2.647353e+07  2.019262e+07    3143668.0    645530.0  4101.052933\n",
       "AL     1.382928e+08  9.800401e+07   14795968.0   4125190.0  3352.399041\n",
       "AR     8.395220e+07  5.790446e+07    8616338.0   2523030.0  3327.435702\n",
       "AZ     2.441997e+08  1.811153e+08   29445653.0   6232970.0  3917.871047\n",
       "CA     1.810625e+09  1.422985e+09  270182147.0  35166150.0  5148.773047\n",
       "CO     2.544586e+08  1.980143e+08   34017780.0   5135500.0  4954.893525\n",
       "CT     1.913297e+08  1.547611e+08   30652187.0   3184500.0  6008.154310\n",
       "DC     3.941942e+07  3.280500e+07    6854117.0    525330.0  7503.745075\n",
       "DE     3.689880e+07  2.770686e+07    4376717.0    893610.0  4129.183313\n",
       "FL     8.877611e+08  6.784877e+08  125133692.0  19135850.0  4639.256323"
      ]
     },
     "execution_count": 73,
     "metadata": {},
     "output_type": "execute_result"
    }
   ],
   "source": [
    "gp2 = df.groupby(['STATE'])[['A00100','A04800','A06500','N2']].sum()\n",
    "gp2['amountMade'] = gp2.A00100/gp2.N2 * 100\n",
    "gp2.head(10)"
   ]
  },
  {
   "cell_type": "markdown",
   "id": "8380210a-ed01-4bb4-b4cd-d40455213a6d",
   "metadata": {},
   "source": [
    "This means that the average amount made is around 4 million (since it is times 1000) in most places, which is not surprising due to the rich people greatly increasing the values"
   ]
  },
  {
   "cell_type": "code",
   "execution_count": 83,
   "id": "c00a9bd1-69a7-4792-9d3b-fcf240047036",
   "metadata": {},
   "outputs": [
    {
     "data": {
      "text/plain": [
       "<AxesSubplot: xlabel='STATE', ylabel='Thousands of Dollars Made'>"
      ]
     },
     "execution_count": 83,
     "metadata": {},
     "output_type": "execute_result"
    },
    {
     "data": {
      "image/png": "[encoded data removed]",
      "text/plain": [
       "<Figure size 1000x1000 with 1 Axes>"
      ]
     },
     "metadata": {},
     "output_type": "display_data"
    }
   ],
   "source": [
    "plt.figure(figsize=(10, 10))\n",
    "plt.xlabel('State')\n",
    "plt.ylabel('Thousands of Dollars Made')\n",
    "gp2.amountMade.plot.bar()"
   ]
  },
  {
   "cell_type": "code",
   "execution_count": 85,
   "id": "888da71b-dfc8-4a23-9461-bade9f72a70a",
   "metadata": {},
   "outputs": [
    {
     "data": {
      "text/html": [
       "<div>\n",
       "<style scoped>\n",
       "    .dataframe tbody tr th:only-of-type {\n",
       "        vertical-align: middle;\n",
       "    }\n",
       "\n",
       "    .dataframe tbody tr th {\n",
       "        vertical-align: top;\n",
       "    }\n",
       "\n",
       "    .dataframe thead th {\n",
       "        text-align: right;\n",
       "    }\n",
       "</style>\n",
       "<table border=\"1\" class=\"dataframe\">\n",
       "  <thead>\n",
       "    <tr style=\"text-align: right;\">\n",
       "      <th></th>\n",
       "      <th>A00100</th>\n",
       "      <th>A04800</th>\n",
       "      <th>A06500</th>\n",
       "      <th>N2</th>\n",
       "      <th>amountMade</th>\n",
       "      <th>normalized_amount_made</th>\n",
       "      <th>normalize_flat_income_tax</th>\n",
       "      <th>flat_income_tax</th>\n",
       "      <th>normalized_flat_income_tax</th>\n",
       "    </tr>\n",
       "    <tr>\n",
       "      <th>STATE</th>\n",
       "      <th></th>\n",
       "      <th></th>\n",
       "      <th></th>\n",
       "      <th></th>\n",
       "      <th></th>\n",
       "      <th></th>\n",
       "      <th></th>\n",
       "      <th></th>\n",
       "      <th></th>\n",
       "    </tr>\n",
       "  </thead>\n",
       "  <tbody>\n",
       "    <tr>\n",
       "      <th>AK</th>\n",
       "      <td>2.647353e+07</td>\n",
       "      <td>2.019262e+07</td>\n",
       "      <td>3143668.0</td>\n",
       "      <td>645530.0</td>\n",
       "      <td>4101.052933</td>\n",
       "      <td>0.019159</td>\n",
       "      <td>15.568398</td>\n",
       "      <td>15.568398</td>\n",
       "      <td>0.018845</td>\n",
       "    </tr>\n",
       "    <tr>\n",
       "      <th>AL</th>\n",
       "      <td>1.382928e+08</td>\n",
       "      <td>9.800401e+07</td>\n",
       "      <td>14795968.0</td>\n",
       "      <td>4125190.0</td>\n",
       "      <td>3352.399041</td>\n",
       "      <td>0.015661</td>\n",
       "      <td>15.097309</td>\n",
       "      <td>15.097309</td>\n",
       "      <td>0.018275</td>\n",
       "    </tr>\n",
       "    <tr>\n",
       "      <th>AR</th>\n",
       "      <td>8.395220e+07</td>\n",
       "      <td>5.790446e+07</td>\n",
       "      <td>8616338.0</td>\n",
       "      <td>2523030.0</td>\n",
       "      <td>3327.435702</td>\n",
       "      <td>0.015545</td>\n",
       "      <td>14.880267</td>\n",
       "      <td>14.880267</td>\n",
       "      <td>0.018012</td>\n",
       "    </tr>\n",
       "    <tr>\n",
       "      <th>AZ</th>\n",
       "      <td>2.441997e+08</td>\n",
       "      <td>1.811153e+08</td>\n",
       "      <td>29445653.0</td>\n",
       "      <td>6232970.0</td>\n",
       "      <td>3917.871047</td>\n",
       "      <td>0.018303</td>\n",
       "      <td>16.257961</td>\n",
       "      <td>16.257961</td>\n",
       "      <td>0.019680</td>\n",
       "    </tr>\n",
       "    <tr>\n",
       "      <th>CA</th>\n",
       "      <td>1.810625e+09</td>\n",
       "      <td>1.422985e+09</td>\n",
       "      <td>270182147.0</td>\n",
       "      <td>35166150.0</td>\n",
       "      <td>5148.773047</td>\n",
       "      <td>0.024053</td>\n",
       "      <td>18.987004</td>\n",
       "      <td>18.987004</td>\n",
       "      <td>0.022983</td>\n",
       "    </tr>\n",
       "    <tr>\n",
       "      <th>CO</th>\n",
       "      <td>2.544586e+08</td>\n",
       "      <td>1.980143e+08</td>\n",
       "      <td>34017780.0</td>\n",
       "      <td>5135500.0</td>\n",
       "      <td>4954.893525</td>\n",
       "      <td>0.023148</td>\n",
       "      <td>17.179453</td>\n",
       "      <td>17.179453</td>\n",
       "      <td>0.020795</td>\n",
       "    </tr>\n",
       "    <tr>\n",
       "      <th>CT</th>\n",
       "      <td>1.913297e+08</td>\n",
       "      <td>1.547611e+08</td>\n",
       "      <td>30652187.0</td>\n",
       "      <td>3184500.0</td>\n",
       "      <td>6008.154310</td>\n",
       "      <td>0.028068</td>\n",
       "      <td>19.806131</td>\n",
       "      <td>19.806131</td>\n",
       "      <td>0.023974</td>\n",
       "    </tr>\n",
       "    <tr>\n",
       "      <th>DC</th>\n",
       "      <td>3.941942e+07</td>\n",
       "      <td>3.280500e+07</td>\n",
       "      <td>6854117.0</td>\n",
       "      <td>525330.0</td>\n",
       "      <td>7503.745075</td>\n",
       "      <td>0.035055</td>\n",
       "      <td>20.893516</td>\n",
       "      <td>20.893516</td>\n",
       "      <td>0.025291</td>\n",
       "    </tr>\n",
       "    <tr>\n",
       "      <th>DE</th>\n",
       "      <td>3.689880e+07</td>\n",
       "      <td>2.770686e+07</td>\n",
       "      <td>4376717.0</td>\n",
       "      <td>893610.0</td>\n",
       "      <td>4129.183313</td>\n",
       "      <td>0.019290</td>\n",
       "      <td>15.796509</td>\n",
       "      <td>15.796509</td>\n",
       "      <td>0.019121</td>\n",
       "    </tr>\n",
       "    <tr>\n",
       "      <th>FL</th>\n",
       "      <td>8.877611e+08</td>\n",
       "      <td>6.784877e+08</td>\n",
       "      <td>125133692.0</td>\n",
       "      <td>19135850.0</td>\n",
       "      <td>4639.256323</td>\n",
       "      <td>0.021673</td>\n",
       "      <td>18.443029</td>\n",
       "      <td>18.443029</td>\n",
       "      <td>0.022324</td>\n",
       "    </tr>\n",
       "  </tbody>\n",
       "</table>\n",
       "</div>"
      ],
      "text/plain": [
       "             A00100        A04800       A06500          N2   amountMade  \\\n",
       "STATE                                                                     \n",
       "AK     2.647353e+07  2.019262e+07    3143668.0    645530.0  4101.052933   \n",
       "AL     1.382928e+08  9.800401e+07   14795968.0   4125190.0  3352.399041   \n",
       "AR     8.395220e+07  5.790446e+07    8616338.0   2523030.0  3327.435702   \n",
       "AZ     2.441997e+08  1.811153e+08   29445653.0   6232970.0  3917.871047   \n",
       "CA     1.810625e+09  1.422985e+09  270182147.0  35166150.0  5148.773047   \n",
       "CO     2.544586e+08  1.980143e+08   34017780.0   5135500.0  4954.893525   \n",
       "CT     1.913297e+08  1.547611e+08   30652187.0   3184500.0  6008.154310   \n",
       "DC     3.941942e+07  3.280500e+07    6854117.0    525330.0  7503.745075   \n",
       "DE     3.689880e+07  2.770686e+07    4376717.0    893610.0  4129.183313   \n",
       "FL     8.877611e+08  6.784877e+08  125133692.0  19135850.0  4639.256323   \n",
       "\n",
       "       normalized_amount_made  normalize_flat_income_tax  flat_income_tax  \\\n",
       "STATE                                                                       \n",
       "AK                   0.019159                  15.568398        15.568398   \n",
       "AL                   0.015661                  15.097309        15.097309   \n",
       "AR                   0.015545                  14.880267        14.880267   \n",
       "AZ                   0.018303                  16.257961        16.257961   \n",
       "CA                   0.024053                  18.987004        18.987004   \n",
       "CO                   0.023148                  17.179453        17.179453   \n",
       "CT                   0.028068                  19.806131        19.806131   \n",
       "DC                   0.035055                  20.893516        20.893516   \n",
       "DE                   0.019290                  15.796509        15.796509   \n",
       "FL                   0.021673                  18.443029        18.443029   \n",
       "\n",
       "       normalized_flat_income_tax  \n",
       "STATE                              \n",
       "AK                       0.018845  \n",
       "AL                       0.018275  \n",
       "AR                       0.018012  \n",
       "AZ                       0.019680  \n",
       "CA                       0.022983  \n",
       "CO                       0.020795  \n",
       "CT                       0.023974  \n",
       "DC                       0.025291  \n",
       "DE                       0.019121  \n",
       "FL                       0.022324  "
      ]
     },
     "execution_count": 85,
     "metadata": {},
     "output_type": "execute_result"
    }
   ],
   "source": [
    "gp2['normalized_amount_made'] = gp2.amountMade / gp2.amountMade.sum()\n",
    "gp2['flat_income_tax'] = gp2.A06500/gp2.A04800 * 100\n",
    "gp2['normalized_flat_income_tax'] = gp2['flat_income_tax'] / gp2['flat_income_tax'].sum()\n",
    "gp2.head(10)"
   ]
  },
  {
   "cell_type": "code",
   "execution_count": 97,
   "id": "34fbb7e2-d280-4d9c-a644-66a17c86a772",
   "metadata": {},
   "outputs": [
    {
     "data": {
      "text/plain": [
       "Text(0, 0.5, 'Proportion')"
      ]
     },
     "execution_count": 97,
     "metadata": {},
     "output_type": "execute_result"
    },
    {
     "data": {
      "text/plain": [
       "<Figure size 1000x1000 with 0 Axes>"
      ]
     },
     "metadata": {},
     "output_type": "display_data"
    },
    {
     "data": {
      "image/png": "[encoded data removed]",
      "text/plain": [
       "<Figure size 640x480 with 1 Axes>"
      ]
     },
     "metadata": {},
     "output_type": "display_data"
    }
   ],
   "source": [
    "plt.figure(figsize=(10, 10))\n",
    "gp2[['normalized_amount_made','normalized_flat_income_tax']].plot.bar()\n",
    "plt.xlabel('State')\n",
    "plt.ylabel('Proportion')"
   ]
  },
  {
   "cell_type": "markdown",
   "id": "2ef324b5-2cb9-4204-8f8b-dbbce739363f",
   "metadata": {},
   "source": [
    "As we can see in this chart there is a rather obvious correlation between the amount made on average and the income tax (though the extremes differ with income tax remaining more steady compared to the wages which fluctuate greatly). This appears to unsurprisingly show that greater income leads to greater tax paid, which with the current progressive tax system makes sense, however what this also shows is that flat income taxes have little reason to vary as the only reason the taxes are already different are due to higher income coming with higher taxes."
   ]
  },
  {
   "cell_type": "markdown",
   "id": "15cb6d71-0abc-4886-89a0-313d989e4dbf",
   "metadata": {},
   "source": [
    "Since we know that a flat tax should be roughly uniform, we have to remember the data surrounding people who pay the taxes. One issue is that the lower classes do not pay taxes as much, which could lead to less income requiring a higher tax, especially considering there is a deficit requiring more income on the federal level"
   ]
  },
  {
   "cell_type": "code",
   "execution_count": 108,
   "id": "0b02c54a-6488-41b9-afe6-7679edf8ae6d",
   "metadata": {},
   "outputs": [
    {
     "data": {
      "text/html": [
       "<div>\n",
       "<style scoped>\n",
       "    .dataframe tbody tr th:only-of-type {\n",
       "        vertical-align: middle;\n",
       "    }\n",
       "\n",
       "    .dataframe tbody tr th {\n",
       "        vertical-align: top;\n",
       "    }\n",
       "\n",
       "    .dataframe thead th {\n",
       "        text-align: right;\n",
       "    }\n",
       "</style>\n",
       "<table border=\"1\" class=\"dataframe\">\n",
       "  <thead>\n",
       "    <tr style=\"text-align: right;\">\n",
       "      <th></th>\n",
       "      <th>AverageIncome</th>\n",
       "    </tr>\n",
       "    <tr>\n",
       "      <th>STATE</th>\n",
       "      <th></th>\n",
       "    </tr>\n",
       "  </thead>\n",
       "  <tbody>\n",
       "    <tr>\n",
       "      <th>AK</th>\n",
       "      <td>34.585714</td>\n",
       "    </tr>\n",
       "    <tr>\n",
       "      <th>AL</th>\n",
       "      <td>31.021622</td>\n",
       "    </tr>\n",
       "    <tr>\n",
       "      <th>AR</th>\n",
       "      <td>27.452083</td>\n",
       "    </tr>\n",
       "    <tr>\n",
       "      <th>AZ</th>\n",
       "      <td>33.116776</td>\n",
       "    </tr>\n",
       "    <tr>\n",
       "      <th>CA</th>\n",
       "      <td>35.212625</td>\n",
       "    </tr>\n",
       "    <tr>\n",
       "      <th>CO</th>\n",
       "      <td>33.852459</td>\n",
       "    </tr>\n",
       "    <tr>\n",
       "      <th>CT</th>\n",
       "      <td>40.315730</td>\n",
       "    </tr>\n",
       "    <tr>\n",
       "      <th>DC</th>\n",
       "      <td>56.006115</td>\n",
       "    </tr>\n",
       "    <tr>\n",
       "      <th>DE</th>\n",
       "      <td>37.269077</td>\n",
       "    </tr>\n",
       "    <tr>\n",
       "      <th>FL</th>\n",
       "      <td>35.734295</td>\n",
       "    </tr>\n",
       "  </tbody>\n",
       "</table>\n",
       "</div>"
      ],
      "text/plain": [
       "       AverageIncome\n",
       "STATE               \n",
       "AK         34.585714\n",
       "AL         31.021622\n",
       "AR         27.452083\n",
       "AZ         33.116776\n",
       "CA         35.212625\n",
       "CO         33.852459\n",
       "CT         40.315730\n",
       "DC         56.006115\n",
       "DE         37.269077\n",
       "FL         35.734295"
      ]
     },
     "execution_count": 108,
     "metadata": {},
     "output_type": "execute_result"
    }
   ],
   "source": [
    "temp = df\n",
    "temp['MedianIncome'] = temp['A00100'] / temp['N2']\n",
    "gp3 = temp.groupby(['STATE'])[['AverageIncome']].agg('median')\n",
    "gp3.head(10)"
   ]
  },
  {
   "cell_type": "markdown",
   "id": "5ae619a8-d2af-4f75-949d-c76fe2364892",
   "metadata": {},
   "source": [
    "This isn't great since it still technically is not a median of anything since the data does not have individual values, but even so, it is better than the mean income as that was greatly skewed by larger values."
   ]
  },
  {
   "cell_type": "code",
   "execution_count": 100,
   "id": "d55efc6b-0c78-43ad-a45c-d8c1a27c5b6e",
   "metadata": {},
   "outputs": [
    {
     "data": {
      "text/plain": [
       "Text(0, 0.5, 'Proportion')"
      ]
     },
     "execution_count": 100,
     "metadata": {},
     "output_type": "execute_result"
    },
    {
     "data": {
      "text/plain": [
       "<Figure size 1000x1000 with 0 Axes>"
      ]
     },
     "metadata": {},
     "output_type": "display_data"
    },
    {
     "data": {
      "image/png": "[encoded data removed]",
      "text/plain": [
       "<Figure size 640x480 with 1 Axes>"
      ]
     },
     "metadata": {},
     "output_type": "display_data"
    }
   ],
   "source": [
    "# plt.figure(figsize=(10, 10))\n",
    "# gp2[['median_amount_made','normalized_flat_income_tax']].plot.bar()\n",
    "# plt.xlabel('State')\n",
    "# plt.ylabel('Proportion')"
   ]
  },
  {
   "cell_type": "code",
   "execution_count": null,
   "id": "250c6e85-748c-4aa8-ada5-2b85a39c9e43",
   "metadata": {},
   "outputs": [],
   "source": []
  }
 ],
 "metadata": {
  "kernelspec": {
   "display_name": "Python 3 (ipykernel)",
   "language": "python",
   "name": "python3"
  },
  "language_info": {
   "codemirror_mode": {
    "name": "ipython",
    "version": 3
   },
   "file_extension": ".py",
   "mimetype": "text/x-python",
   "name": "python",
   "nbconvert_exporter": "python",
   "pygments_lexer": "ipython3",
   "version": "3.9.15"
  }
 },
 "nbformat": 4,
 "nbformat_minor": 5
}
